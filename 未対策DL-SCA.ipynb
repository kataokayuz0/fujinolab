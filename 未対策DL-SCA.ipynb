{
 "cells": [
  {
   "cell_type": "code",
   "execution_count": 1,
   "id": "917e9b9a-722a-408b-924b-11ef5a6d166f",
   "metadata": {},
   "outputs": [
    {
     "name": "stderr",
     "output_type": "stream",
     "text": [
      "2022-12-20 05:32:21.806743: I tensorflow/core/platform/cpu_feature_guard.cc:193] This TensorFlow binary is optimized with oneAPI Deep Neural Network Library (oneDNN) to use the following CPU instructions in performance-critical operations:  AVX2 AVX_VNNI FMA\n",
      "To enable them in other operations, rebuild TensorFlow with the appropriate compiler flags.\n",
      "2022-12-20 05:32:21.869724: I tensorflow/core/util/port.cc:104] oneDNN custom operations are on. You may see slightly different numerical results due to floating-point round-off errors from different computation orders. To turn them off, set the environment variable `TF_ENABLE_ONEDNN_OPTS=0`.\n"
     ]
    }
   ],
   "source": [
    "from tensorflow import keras\n",
    "import tensorflow.keras.layers as L\n",
    "import matplotlib.pyplot as plt\n",
    "import sklearn.metrics\n",
    "import h5py\n",
    "import pandas as pd\n",
    "import os\n",
    "import os.path\n",
    "import sys\n",
    "import h5py\n",
    "import numpy as np\n",
    "\n",
    "import tensorflow as tf\n",
    "from tensorflow.keras.models import Model, Sequential\n",
    "from tensorflow.keras.layers import Flatten, Dense, Input, Conv1D, MaxPooling1D, GlobalAveragePooling1D, GlobalMaxPooling1D, AveragePooling1D, BatchNormalization, Activation, Add, add\n",
    "from tensorflow.keras import backend as K\n",
    "from tensorflow.keras.applications.imagenet_utils import decode_predictions\n",
    "from tensorflow.keras.applications.imagenet_utils import preprocess_input\n",
    "from tensorflow.keras.optimizers import RMSprop, Adam\n",
    "from tensorflow.keras.callbacks import ModelCheckpoint, EarlyStopping\n",
    "from tensorflow.keras.utils import to_categorical\n",
    "from tensorflow.keras.models import load_model\n"
   ]
  },
  {
   "cell_type": "code",
   "execution_count": 2,
   "id": "c525bcfe-37d1-475d-921d-08924fc6d251",
   "metadata": {},
   "outputs": [],
   "source": [
    "TARGET_BYTE = 0 #何バイト目を攻撃するか決める"
   ]
  },
  {
   "cell_type": "code",
   "execution_count": 3,
   "id": "426fdfa4-9869-4e0a-b48f-549295283f2e",
   "metadata": {},
   "outputs": [],
   "source": [
    "AES_Sbox = np.array([\n",
    "\t\t\t0x63, 0x7C, 0x77, 0x7B, 0xF2, 0x6B, 0x6F, 0xC5, 0x30, 0x01, 0x67, 0x2B, 0xFE, 0xD7, 0xAB, 0x76,\n",
    "\t\t\t0xCA, 0x82, 0xC9, 0x7D, 0xFA, 0x59, 0x47, 0xF0, 0xAD, 0xD4, 0xA2, 0xAF, 0x9C, 0xA4, 0x72, 0xC0,\n",
    "\t\t\t0xB7, 0xFD, 0x93, 0x26, 0x36, 0x3F, 0xF7, 0xCC, 0x34, 0xA5, 0xE5, 0xF1, 0x71, 0xD8, 0x31, 0x15,\n",
    "\t\t\t0x04, 0xC7, 0x23, 0xC3, 0x18, 0x96, 0x05, 0x9A, 0x07, 0x12, 0x80, 0xE2, 0xEB, 0x27, 0xB2, 0x75,\n",
    "\t\t\t0x09, 0x83, 0x2C, 0x1A, 0x1B, 0x6E, 0x5A, 0xA0, 0x52, 0x3B, 0xD6, 0xB3, 0x29, 0xE3, 0x2F, 0x84,\n",
    "\t\t\t0x53, 0xD1, 0x00, 0xED, 0x20, 0xFC, 0xB1, 0x5B, 0x6A, 0xCB, 0xBE, 0x39, 0x4A, 0x4C, 0x58, 0xCF,\n",
    "\t\t\t0xD0, 0xEF, 0xAA, 0xFB, 0x43, 0x4D, 0x33, 0x85, 0x45, 0xF9, 0x02, 0x7F, 0x50, 0x3C, 0x9F, 0xA8,\n",
    "\t\t\t0x51, 0xA3, 0x40, 0x8F, 0x92, 0x9D, 0x38, 0xF5, 0xBC, 0xB6, 0xDA, 0x21, 0x10, 0xFF, 0xF3, 0xD2,\n",
    "\t\t\t0xCD, 0x0C, 0x13, 0xEC, 0x5F, 0x97, 0x44, 0x17, 0xC4, 0xA7, 0x7E, 0x3D, 0x64, 0x5D, 0x19, 0x73,\n",
    "\t\t\t0x60, 0x81, 0x4F, 0xDC, 0x22, 0x2A, 0x90, 0x88, 0x46, 0xEE, 0xB8, 0x14, 0xDE, 0x5E, 0x0B, 0xDB,\n",
    "\t\t\t0xE0, 0x32, 0x3A, 0x0A, 0x49, 0x06, 0x24, 0x5C, 0xC2, 0xD3, 0xAC, 0x62, 0x91, 0x95, 0xE4, 0x79,\n",
    "\t\t\t0xE7, 0xC8, 0x37, 0x6D, 0x8D, 0xD5, 0x4E, 0xA9, 0x6C, 0x56, 0xF4, 0xEA, 0x65, 0x7A, 0xAE, 0x08,\n",
    "\t\t\t0xBA, 0x78, 0x25, 0x2E, 0x1C, 0xA6, 0xB4, 0xC6, 0xE8, 0xDD, 0x74, 0x1F, 0x4B, 0xBD, 0x8B, 0x8A,\n",
    "\t\t\t0x70, 0x3E, 0xB5, 0x66, 0x48, 0x03, 0xF6, 0x0E, 0x61, 0x35, 0x57, 0xB9, 0x86, 0xC1, 0x1D, 0x9E,\n",
    "\t\t\t0xE1, 0xF8, 0x98, 0x11, 0x69, 0xD9, 0x8E, 0x94, 0x9B, 0x1E, 0x87, 0xE9, 0xCE, 0x55, 0x28, 0xDF,\n",
    "\t\t\t0x8C, 0xA1, 0x89, 0x0D, 0xBF, 0xE6, 0x42, 0x68, 0x41, 0x99, 0x2D, 0x0F, 0xB0, 0x54, 0xBB, 0x16\n",
    "\t\t\t])"
   ]
  },
  {
   "cell_type": "code",
   "execution_count": 4,
   "id": "2e593fa6-59c8-479e-a4e3-11abf1a3ff55",
   "metadata": {},
   "outputs": [],
   "source": [
    "#HW表の導出\n",
    "hw = []\n",
    "for i in range(256): #HW表は256通りの入力\n",
    "    v = 0\n",
    "    for b in range(8): v += (i >> b) & 0x01 #最下位ビットの値を足して、1bitシフト ← これを8回繰り返して、HWを求める\n",
    "    hw.append(v)\n",
    "hw = np.array(hw)"
   ]
  },
  {
   "cell_type": "code",
   "execution_count": 5,
   "id": "8a02fa6b-58de-4453-bfc9-1531684a15ba",
   "metadata": {},
   "outputs": [],
   "source": [
    "data_train = np.load('./datadlsca/8bit_AES_data2.npz')\n",
    "data_test = np.load('./datadlsca/8bit_AES_data2.npz')\n",
    "data_attack = np.load('./data/8bit_AES_data.npz')"
   ]
  },
  {
   "cell_type": "code",
   "execution_count": 6,
   "id": "9363e1bf-9940-402b-94f5-438eae2db7ad",
   "metadata": {},
   "outputs": [
    {
     "data": {
      "text/plain": [
       "(16,)"
      ]
     },
     "execution_count": 6,
     "metadata": {},
     "output_type": "execute_result"
    }
   ],
   "source": [
    "train_plain = data_train['plain']\n",
    "train_cipher = data_train['cipher']\n",
    "train_key = data_train['key']\n",
    "train_trace = data_train['trace']\n",
    "\n",
    "test_plain = data_test['plain']\n",
    "test_cipher = data_test['cipher']\n",
    "test_key = data_test['key']\n",
    "test_trace = data_test['trace']\n",
    "\n",
    "attack_plain = data_attack['plain']\n",
    "attack_cipher = data_attack['cipher']\n",
    "attack_key = data_attack['key']\n",
    "attack_trace = data_attack['trace']\n",
    "train_key.shape"
   ]
  },
  {
   "cell_type": "code",
   "execution_count": 7,
   "id": "89cf3b96-b2ed-4cc0-b6f4-4156bd25c561",
   "metadata": {},
   "outputs": [
    {
     "data": {
      "text/plain": [
       "(80000, 1100)"
      ]
     },
     "execution_count": 7,
     "metadata": {},
     "output_type": "execute_result"
    }
   ],
   "source": [
    "train_trace = train_trace[0:80000, 1700:2800]\n",
    "test_trace = test_trace[80000:100000,1700:2800]\n",
    "attack_trace = attack_trace[:,1700:2800]\n",
    "train_plain = train_plain[0:80000, :]\n",
    "test_plain = test_plain[80000:100000, :]\n",
    "train_trace2 = train_trace[:,170:220]\n",
    "test_trace2 = test_trace[:,170:220]\n",
    "attack_trace2 = attack_trace[:,170:220]\n",
    "train_trace.shape"
   ]
  },
  {
   "cell_type": "code",
   "execution_count": 8,
   "id": "ec795578-e72b-453c-8fb9-67188d0d58f8",
   "metadata": {},
   "outputs": [
    {
     "data": {
      "text/plain": [
       "(80000, 16)"
      ]
     },
     "execution_count": 8,
     "metadata": {},
     "output_type": "execute_result"
    }
   ],
   "source": [
    "train_sbox_in = []\n",
    "train_sbox_in = np.array(train_plain^train_key) #平文と鍵のXORがSbox(SubBytes)入力\n",
    "train_sbox_out = np.array([AES_Sbox[i] for i in train_sbox_in])\n",
    "train_sbox_out_hw = np.array([hw[i] for i in train_sbox_out])\n",
    "train_sbox_out_hw.shape"
   ]
  },
  {
   "cell_type": "code",
   "execution_count": 9,
   "id": "d01db613-0c49-414c-a147-86a631be51f9",
   "metadata": {},
   "outputs": [
    {
     "data": {
      "text/plain": [
       "(20000, 16)"
      ]
     },
     "execution_count": 9,
     "metadata": {},
     "output_type": "execute_result"
    }
   ],
   "source": [
    "test_sbox_in = []\n",
    "test_sbox_in = np.array(test_plain^np.array(test_key)) #平文と鍵のXORがSbox(SubBytes)入力\n",
    "test_sbox_out = np.array([AES_Sbox[i] for i in test_sbox_in])\n",
    "test_sbox_out_hw = np.array([hw[i] for i in test_sbox_out])\n",
    "test_sbox_out_hw.shape"
   ]
  },
  {
   "cell_type": "code",
   "execution_count": 10,
   "id": "79d0263a-4234-4ca9-93ec-932a09fcda4b",
   "metadata": {},
   "outputs": [],
   "source": [
    "train_sbox_out_hw = train_sbox_out_hw[:,TARGET_BYTE]\n",
    "test_sbox_out_hw = test_sbox_out_hw[:,TARGET_BYTE]"
   ]
  },
  {
   "cell_type": "code",
   "execution_count": 11,
   "id": "5c4b4fb1-c2b6-4952-8df6-63aad0cbb954",
   "metadata": {},
   "outputs": [],
   "source": [
    "#波形データの標準化(データを平均で引いて標準偏差で割る)\n",
    "train_trace2 = (train_trace2 -np.mean(train_trace2, axis = 0))/np.std(train_trace2, axis = 0)\n",
    "\n",
    "test_trace2 = (test_trace2 - np.mean(test_trace2, axis = 0))/np.std(test_trace2, axis = 0)\n",
    "\n",
    "attack_trace2 = (attack_trace2 - np.mean(attack_trace2, axis = 0))/np.std(attack_trace2, axis = 0)\n",
    "\n",
    "#DeepLearningできるshapeに変更\n",
    "train_trace2 = train_trace2.reshape(80000,50,1)\n",
    "\n",
    "test_trace2 = test_trace2.reshape(20000,50,1)\n",
    "\n",
    "attack_trace2 = attack_trace2.reshape(1000,50,1)"
   ]
  },
  {
   "cell_type": "code",
   "execution_count": 12,
   "id": "2a87f0af-42dc-4cc4-a8bf-31a3bef7636b",
   "metadata": {},
   "outputs": [
    {
     "name": "stdout",
     "output_type": "stream",
     "text": [
      "train_trace shape:(80000, 1100)\n",
      "train_sbox_out_hw shape:(80000,)\n",
      "test_trace shape:(20000, 1100)\n",
      "test_sbox_out_hw shape:(20000,)\n",
      "attack_trace shape:(1000, 1100)\n",
      "train_trace type:<class 'numpy.ndarray'>\n",
      "train_sbox_out_hw type:<class 'numpy.ndarray'>\n",
      "test_trace type:<class 'numpy.ndarray'>\n",
      "test_sbox_out_hw type:<class 'numpy.ndarray'>\n",
      "attack_trace type:<class 'numpy.ndarray'>\n"
     ]
    }
   ],
   "source": [
    "print('train_trace shape:{}'.format(train_trace.shape))\n",
    "print('train_sbox_out_hw shape:{}'.format(train_sbox_out_hw.shape))\n",
    "print('test_trace shape:{}'.format(test_trace.shape))\n",
    "print('test_sbox_out_hw shape:{}'.format(test_sbox_out_hw.shape))\n",
    "print('attack_trace shape:{}'.format(attack_trace.shape))\n",
    "\n",
    "print('train_trace type:{}'.format(type(train_trace)))\n",
    "print('train_sbox_out_hw type:{}'.format(type(train_sbox_out_hw)))\n",
    "print('test_trace type:{}'.format(type(test_trace)))\n",
    "print('test_sbox_out_hw type:{}'.format(type(test_sbox_out_hw)))\n",
    "print('attack_trace type:{}'.format(type(attack_trace)))"
   ]
  },
  {
   "cell_type": "code",
   "execution_count": 13,
   "id": "89fe4559-46ad-4d12-b9c9-0c4996420d0e",
   "metadata": {},
   "outputs": [],
   "source": [
    "class DLSCA(keras.Model):\n",
    "    def __init__(self):\n",
    "        super(DLSCA, self).__init__()\n",
    "        self.conv = L.Conv1D(filters=10, kernel_size=3,strides=3, activation='relu',input_shape=(1000,1)) \n",
    "        self.flatten = L.Flatten()\n",
    "        self.d1 = L.Dense(64, activation='tanh')\n",
    "        self.d2 = L.Dense(64, activation='tanh')\n",
    "        self.d3 = L.Dense(9, activation='softmax')\n",
    "    def call(self, x):\n",
    "        x = self.conv(x)\n",
    "        x = self.flatten(x)\n",
    "        x = self.d1(x)\n",
    "        x = self.d2(x)\n",
    "        return self.d3(x)"
   ]
  },
  {
   "cell_type": "code",
   "execution_count": 14,
   "id": "dbf7caeb-a9f9-456b-b616-3fb6edfb7fa4",
   "metadata": {},
   "outputs": [
    {
     "name": "stderr",
     "output_type": "stream",
     "text": [
      "2022-12-20 05:33:11.643209: I tensorflow/compiler/xla/stream_executor/cuda/cuda_gpu_executor.cc:981] successful NUMA node read from SysFS had negative value (-1), but there must be at least one NUMA node, so returning NUMA node zero\n",
      "2022-12-20 05:33:11.644590: I tensorflow/compiler/xla/stream_executor/cuda/cuda_gpu_executor.cc:981] successful NUMA node read from SysFS had negative value (-1), but there must be at least one NUMA node, so returning NUMA node zero\n",
      "2022-12-20 05:33:11.644659: I tensorflow/compiler/xla/stream_executor/cuda/cuda_gpu_executor.cc:981] successful NUMA node read from SysFS had negative value (-1), but there must be at least one NUMA node, so returning NUMA node zero\n",
      "2022-12-20 05:33:11.645433: I tensorflow/core/platform/cpu_feature_guard.cc:193] This TensorFlow binary is optimized with oneAPI Deep Neural Network Library (oneDNN) to use the following CPU instructions in performance-critical operations:  AVX2 AVX_VNNI FMA\n",
      "To enable them in other operations, rebuild TensorFlow with the appropriate compiler flags.\n",
      "2022-12-20 05:33:11.646118: I tensorflow/compiler/xla/stream_executor/cuda/cuda_gpu_executor.cc:981] successful NUMA node read from SysFS had negative value (-1), but there must be at least one NUMA node, so returning NUMA node zero\n",
      "2022-12-20 05:33:11.646192: I tensorflow/compiler/xla/stream_executor/cuda/cuda_gpu_executor.cc:981] successful NUMA node read from SysFS had negative value (-1), but there must be at least one NUMA node, so returning NUMA node zero\n",
      "2022-12-20 05:33:11.646237: I tensorflow/compiler/xla/stream_executor/cuda/cuda_gpu_executor.cc:981] successful NUMA node read from SysFS had negative value (-1), but there must be at least one NUMA node, so returning NUMA node zero\n",
      "2022-12-20 05:33:11.928661: I tensorflow/compiler/xla/stream_executor/cuda/cuda_gpu_executor.cc:981] successful NUMA node read from SysFS had negative value (-1), but there must be at least one NUMA node, so returning NUMA node zero\n",
      "2022-12-20 05:33:11.928807: I tensorflow/compiler/xla/stream_executor/cuda/cuda_gpu_executor.cc:981] successful NUMA node read from SysFS had negative value (-1), but there must be at least one NUMA node, so returning NUMA node zero\n",
      "2022-12-20 05:33:11.928856: I tensorflow/compiler/xla/stream_executor/cuda/cuda_gpu_executor.cc:981] successful NUMA node read from SysFS had negative value (-1), but there must be at least one NUMA node, so returning NUMA node zero\n",
      "2022-12-20 05:33:11.928906: I tensorflow/core/common_runtime/gpu/gpu_device.cc:1613] Created device /job:localhost/replica:0/task:0/device:GPU:0 with 10216 MB memory:  -> device: 0, name: NVIDIA GeForce RTX 3060, pci bus id: 0000:01:00.0, compute capability: 8.6\n"
     ]
    }
   ],
   "source": [
    "model=DLSCA()\n",
    "model.compile(optimizer=\"adam\",\n",
    "                loss=\"sparse_categorical_crossentropy\",\n",
    "                metrics=[\"accuracy\"])"
   ]
  },
  {
   "cell_type": "code",
   "execution_count": null,
   "id": "07b50909-25a5-47ec-90bb-c8bfa0a23af4",
   "metadata": {},
   "outputs": [
    {
     "name": "stdout",
     "output_type": "stream",
     "text": [
      "Epoch 1/50\n"
     ]
    },
    {
     "name": "stderr",
     "output_type": "stream",
     "text": [
      "2022-12-20 05:33:13.714643: I tensorflow/compiler/xla/stream_executor/cuda/cuda_dnn.cc:428] Loaded cuDNN version 8100\n",
      "2022-12-20 05:33:14.926765: I tensorflow/compiler/xla/stream_executor/cuda/cuda_blas.cc:630] TensorFloat-32 will be used for the matrix multiplication. This will only be logged once.\n",
      "2022-12-20 05:33:15.007958: I tensorflow/compiler/xla/service/service.cc:173] XLA service 0x7fefddbf67b0 initialized for platform CUDA (this does not guarantee that XLA will be used). Devices:\n",
      "2022-12-20 05:33:15.007980: I tensorflow/compiler/xla/service/service.cc:181]   StreamExecutor device (0): NVIDIA GeForce RTX 3060, Compute Capability 8.6\n",
      "2022-12-20 05:33:15.011174: I tensorflow/compiler/mlir/tensorflow/utils/dump_mlir_util.cc:268] disabling MLIR crash reproducer, set env var `MLIR_CRASH_REPRODUCER_DIRECTORY` to enable.\n",
      "2022-12-20 05:33:15.084945: I tensorflow/compiler/jit/xla_compilation_cache.cc:477] Compiled cluster using XLA!  This line is logged at most once for the lifetime of the process.\n"
     ]
    },
    {
     "name": "stdout",
     "output_type": "stream",
     "text": [
      "625/625 [==============================] - 7s 7ms/step - loss: 1.1753 - accuracy: 0.5010 - val_loss: 1.0206 - val_accuracy: 0.5617\n",
      "Epoch 2/50\n",
      "625/625 [==============================] - 4s 7ms/step - loss: 0.9797 - accuracy: 0.5789 - val_loss: 0.9285 - val_accuracy: 0.5929\n",
      "Epoch 3/50\n",
      "625/625 [==============================] - 4s 7ms/step - loss: 0.8896 - accuracy: 0.6205 - val_loss: 0.8339 - val_accuracy: 0.6466\n",
      "Epoch 4/50\n",
      "625/625 [==============================] - 4s 6ms/step - loss: 0.8129 - accuracy: 0.6583 - val_loss: 0.7782 - val_accuracy: 0.6736\n",
      "Epoch 5/50\n",
      "625/625 [==============================] - 5s 7ms/step - loss: 0.7511 - accuracy: 0.6888 - val_loss: 0.7141 - val_accuracy: 0.7056\n",
      "Epoch 6/50\n",
      "625/625 [==============================] - 4s 7ms/step - loss: 0.6960 - accuracy: 0.7164 - val_loss: 0.6734 - val_accuracy: 0.7266\n",
      "Epoch 7/50\n",
      "625/625 [==============================] - 4s 7ms/step - loss: 0.6503 - accuracy: 0.7384 - val_loss: 0.6295 - val_accuracy: 0.7468\n",
      "Epoch 8/50\n",
      "625/625 [==============================] - 4s 7ms/step - loss: 0.6100 - accuracy: 0.7573 - val_loss: 0.5927 - val_accuracy: 0.7663\n",
      "Epoch 9/50\n",
      "625/625 [==============================] - 4s 6ms/step - loss: 0.5772 - accuracy: 0.7727 - val_loss: 0.5628 - val_accuracy: 0.7827\n",
      "Epoch 10/50\n",
      "625/625 [==============================] - 4s 6ms/step - loss: 0.5461 - accuracy: 0.7856 - val_loss: 0.5330 - val_accuracy: 0.7951\n",
      "Epoch 11/50\n",
      "625/625 [==============================] - 4s 7ms/step - loss: 0.5193 - accuracy: 0.7982 - val_loss: 0.5183 - val_accuracy: 0.8026\n",
      "Epoch 12/50\n",
      "625/625 [==============================] - 4s 6ms/step - loss: 0.4947 - accuracy: 0.8094 - val_loss: 0.4988 - val_accuracy: 0.8101\n",
      "Epoch 13/50\n",
      "625/625 [==============================] - 4s 7ms/step - loss: 0.4732 - accuracy: 0.8189 - val_loss: 0.4757 - val_accuracy: 0.8227\n",
      "Epoch 14/50\n",
      "625/625 [==============================] - 4s 6ms/step - loss: 0.4570 - accuracy: 0.8254 - val_loss: 0.4721 - val_accuracy: 0.8206\n",
      "Epoch 15/50\n",
      "625/625 [==============================] - 4s 7ms/step - loss: 0.4399 - accuracy: 0.8333 - val_loss: 0.4538 - val_accuracy: 0.8293\n",
      "Epoch 16/50\n",
      "625/625 [==============================] - 3s 5ms/step - loss: 0.4267 - accuracy: 0.8378 - val_loss: 0.4394 - val_accuracy: 0.8356\n",
      "Epoch 17/50\n",
      "625/625 [==============================] - 4s 7ms/step - loss: 0.4116 - accuracy: 0.8455 - val_loss: 0.4338 - val_accuracy: 0.8344\n",
      "Epoch 18/50\n",
      "625/625 [==============================] - 4s 6ms/step - loss: 0.4005 - accuracy: 0.8487 - val_loss: 0.4256 - val_accuracy: 0.8385\n",
      "Epoch 19/50\n",
      "625/625 [==============================] - 4s 6ms/step - loss: 0.3901 - accuracy: 0.8530 - val_loss: 0.4208 - val_accuracy: 0.8421\n",
      "Epoch 20/50\n",
      "625/625 [==============================] - 4s 7ms/step - loss: 0.3793 - accuracy: 0.8576 - val_loss: 0.4117 - val_accuracy: 0.8473\n",
      "Epoch 21/50\n",
      "625/625 [==============================] - 4s 6ms/step - loss: 0.3699 - accuracy: 0.8618 - val_loss: 0.4168 - val_accuracy: 0.8429\n",
      "Epoch 22/50\n",
      "625/625 [==============================] - 4s 6ms/step - loss: 0.3643 - accuracy: 0.8624 - val_loss: 0.3951 - val_accuracy: 0.8497\n",
      "Epoch 23/50\n",
      "625/625 [==============================] - 4s 6ms/step - loss: 0.3556 - accuracy: 0.8664 - val_loss: 0.3875 - val_accuracy: 0.8540\n",
      "Epoch 24/50\n",
      "625/625 [==============================] - 4s 6ms/step - loss: 0.3485 - accuracy: 0.8694 - val_loss: 0.3899 - val_accuracy: 0.8532\n",
      "Epoch 25/50\n",
      "625/625 [==============================] - 4s 7ms/step - loss: 0.3416 - accuracy: 0.8721 - val_loss: 0.3909 - val_accuracy: 0.8529\n",
      "Epoch 26/50\n",
      "625/625 [==============================] - 4s 6ms/step - loss: 0.3354 - accuracy: 0.8737 - val_loss: 0.3840 - val_accuracy: 0.8536\n",
      "Epoch 27/50\n",
      "625/625 [==============================] - 4s 7ms/step - loss: 0.3299 - accuracy: 0.8753 - val_loss: 0.3843 - val_accuracy: 0.8526\n",
      "Epoch 28/50\n",
      "625/625 [==============================] - 4s 7ms/step - loss: 0.3242 - accuracy: 0.8789 - val_loss: 0.3753 - val_accuracy: 0.8603\n",
      "Epoch 29/50\n",
      "625/625 [==============================] - 4s 6ms/step - loss: 0.3206 - accuracy: 0.8799 - val_loss: 0.3809 - val_accuracy: 0.8579\n",
      "Epoch 30/50\n",
      "625/625 [==============================] - 4s 6ms/step - loss: 0.3156 - accuracy: 0.8810 - val_loss: 0.3780 - val_accuracy: 0.8583\n",
      "Epoch 31/50\n",
      "625/625 [==============================] - 4s 6ms/step - loss: 0.3104 - accuracy: 0.8835 - val_loss: 0.3722 - val_accuracy: 0.8632\n",
      "Epoch 32/50\n",
      "625/625 [==============================] - 3s 5ms/step - loss: 0.3067 - accuracy: 0.8858 - val_loss: 0.3695 - val_accuracy: 0.8611\n",
      "Epoch 33/50\n",
      "625/625 [==============================] - 4s 6ms/step - loss: 0.3024 - accuracy: 0.8868 - val_loss: 0.3680 - val_accuracy: 0.8617\n",
      "Epoch 34/50\n",
      "625/625 [==============================] - 4s 6ms/step - loss: 0.2977 - accuracy: 0.8878 - val_loss: 0.3691 - val_accuracy: 0.8622\n",
      "Epoch 35/50\n",
      "625/625 [==============================] - 4s 6ms/step - loss: 0.2940 - accuracy: 0.8906 - val_loss: 0.3666 - val_accuracy: 0.8627\n",
      "Epoch 36/50\n",
      "625/625 [==============================] - 4s 7ms/step - loss: 0.2905 - accuracy: 0.8916 - val_loss: 0.3564 - val_accuracy: 0.8687\n",
      "Epoch 37/50\n",
      "625/625 [==============================] - 4s 6ms/step - loss: 0.2872 - accuracy: 0.8937 - val_loss: 0.3727 - val_accuracy: 0.8620\n",
      "Epoch 38/50\n",
      "625/625 [==============================] - 4s 6ms/step - loss: 0.2839 - accuracy: 0.8941 - val_loss: 0.3651 - val_accuracy: 0.8662\n",
      "Epoch 39/50\n",
      "625/625 [==============================] - 4s 6ms/step - loss: 0.2805 - accuracy: 0.8955 - val_loss: 0.3632 - val_accuracy: 0.8660\n",
      "Epoch 40/50\n",
      "625/625 [==============================] - 4s 7ms/step - loss: 0.2789 - accuracy: 0.8971 - val_loss: 0.3560 - val_accuracy: 0.8685\n",
      "Epoch 41/50\n",
      "625/625 [==============================] - 4s 6ms/step - loss: 0.2735 - accuracy: 0.8984 - val_loss: 0.3523 - val_accuracy: 0.8702\n",
      "Epoch 42/50\n",
      "625/625 [==============================] - 4s 7ms/step - loss: 0.2716 - accuracy: 0.8983 - val_loss: 0.3558 - val_accuracy: 0.8713\n",
      "Epoch 43/50\n",
      "128/625 [=====>........................] - ETA: 2s - loss: 0.2645 - accuracy: 0.9032"
     ]
    }
   ],
   "source": [
    "epochs=50\n",
    "learning_data = model.fit(train_trace2,train_sbox_out_hw,epochs=epochs,batch_size=128,validation_data=(test_trace2,test_sbox_out_hw))"
   ]
  },
  {
   "cell_type": "code",
   "execution_count": null,
   "id": "578936dc-4ab3-49ae-9579-576f1cef9634",
   "metadata": {},
   "outputs": [],
   "source": [
    "out = 'result'\n",
    "os.makedirs(os.path.join('./', out), exist_ok=True)\n",
    "model.save_weights(os.path.join('./',out,'compare_attack_{}byte.h5').format(TARGET_BYTE))"
   ]
  },
  {
   "cell_type": "code",
   "execution_count": null,
   "id": "00dad6a7-f884-46e8-97f5-161fd6bc9c7e",
   "metadata": {},
   "outputs": [],
   "source": [
    "plt.figure()\n",
    "plt.subplot(1,1,1)\n",
    "plt.plot(range(1,epochs+1), learning_data.history['accuracy'], label = 'train_accuracy')\n",
    "plt.plot(range(1,epochs+1), learning_data.history['val_accuracy'], label = 'test_accuracy')\n",
    "plt.xlabel('epochs')\n",
    "plt.ylabel('accuracy')\n",
    "plt.title('accuracy_{}byte'.format(TARGET_BYTE))\n",
    "plt.legend()\n",
    "plt.savefig('./'+out+'/compare_accuracy_{}byte.png'.format(TARGET_BYTE))"
   ]
  },
  {
   "cell_type": "code",
   "execution_count": null,
   "id": "648d2e05-31aa-4322-aa08-18fb0f16fc81",
   "metadata": {},
   "outputs": [],
   "source": [
    "predicts = model.predict(attack_trace2)\n",
    "predicts.shape"
   ]
  },
  {
   "cell_type": "code",
   "execution_count": null,
   "id": "0e2d596c-9c12-4b9f-837b-d3e71d19c47c",
   "metadata": {},
   "outputs": [],
   "source": [
    "attack_plain=data_attack['plain']"
   ]
  },
  {
   "cell_type": "code",
   "execution_count": null,
   "id": "ecd250c5-308d-4de3-8d4a-02a6c700391a",
   "metadata": {},
   "outputs": [],
   "source": [
    "attack_sbox_in = []\n",
    "for estimated_key in range(256): #256通りの推定鍵だけ繰り返す。\n",
    "    attack_sbox_in.append(attack_plain^np.array([estimated_key]*16)) #平文と推定鍵のXORがSbox(SubBytes)入力\n",
    "attack_sbox_in = np.array(attack_sbox_in)\n",
    "attack_sbox_out = np.array([AES_Sbox[i] for i in attack_sbox_in])\n",
    "attack_sbox_out_hw = np.array([hw[i] for i in attack_sbox_out])\n",
    "attack_sbox_out_hw = attack_sbox_out_hw[:,:,TARGET_BYTE]"
   ]
  },
  {
   "cell_type": "code",
   "execution_count": null,
   "id": "e5deeb26-0e2a-4394-bcd2-5989c97be966",
   "metadata": {},
   "outputs": [],
   "source": [
    "attack_sbox_out_hw.shape"
   ]
  },
  {
   "cell_type": "code",
   "execution_count": null,
   "id": "37f95b25-9e2b-4202-81dc-3b88cc9c5a56",
   "metadata": {},
   "outputs": [],
   "source": [
    "result=[]\n",
    "rank=[]\n",
    "\n",
    "for i in range(len(predicts)):\n",
    "    rank_num = 0\n",
    "    yuudo = []\n",
    "    for estimated_key in range(256):\n",
    "        yuudo.append(predicts[i,attack_sbox_out_hw[estimated_key,i]])\n",
    "    yuudo = np.array(yuudo)\n",
    "    \n",
    "    if i==0:\n",
    "        result = (1/256) * yuudo\n",
    "        result = result/np.sum(result)\n",
    "\n",
    "    else:\n",
    "        result = result * yuudo\n",
    "        result = result/np.sum(result)\n",
    "    \n",
    "    for estimated_key in range(256):\n",
    "        if result[attack_key[TARGET_BYTE]]<=result[estimated_key]:\n",
    "            rank_num = rank_num + 1\n",
    "    rank.append(rank_num)\n",
    "    print(rank[i])\n",
    "\n",
    "rank=np.array(rank)"
   ]
  },
  {
   "cell_type": "code",
   "execution_count": null,
   "id": "fe0b7db1-f142-445f-b60b-27219f8b1215",
   "metadata": {},
   "outputs": [],
   "source": [
    "rank_lim = rank[0:1000]\n",
    "plt.plot(rank_lim)"
   ]
  },
  {
   "cell_type": "code",
   "execution_count": null,
   "id": "d0347620-4fd9-4bcd-bdbf-59af7bb3f354",
   "metadata": {},
   "outputs": [],
   "source": [
    "rank_lim = rank[0:50]\n",
    "plt.plot(rank_lim)"
   ]
  },
  {
   "cell_type": "code",
   "execution_count": null,
   "id": "3be4909c-1909-4dbf-91e4-b3f0de683384",
   "metadata": {},
   "outputs": [],
   "source": [
    "recovered_key0=[]\n",
    "\n",
    "for i in range(10000):\n",
    "        if rank_lim[i] == 1: #推定した鍵と正解鍵が一致しているかを確認\n",
    "            count0 = 1\n",
    "        else:\n",
    "            count0 = 0\n",
    "        \n",
    "        recovered_key0.append(count0) #攻撃成功バイト数の保存\n",
    "\n",
    "recovered_key0 = np.array(recovered_key0)\n",
    "np.save('./'+out+'/test0.npy', recovered_key0)"
   ]
  },
  {
   "cell_type": "code",
   "execution_count": null,
   "id": "462f9574-d70e-4c9d-8655-5363f4ec8d0f",
   "metadata": {},
   "outputs": [],
   "source": [
    "TARGET_BYTE = 1 #何バイト目を攻撃するか決める"
   ]
  },
  {
   "cell_type": "code",
   "execution_count": null,
   "id": "ecc4eafa-2a5d-41a2-9655-c727e57de730",
   "metadata": {},
   "outputs": [],
   "source": [
    "AES_Sbox = np.array([\n",
    "\t\t\t0x63, 0x7C, 0x77, 0x7B, 0xF2, 0x6B, 0x6F, 0xC5, 0x30, 0x01, 0x67, 0x2B, 0xFE, 0xD7, 0xAB, 0x76,\n",
    "\t\t\t0xCA, 0x82, 0xC9, 0x7D, 0xFA, 0x59, 0x47, 0xF0, 0xAD, 0xD4, 0xA2, 0xAF, 0x9C, 0xA4, 0x72, 0xC0,\n",
    "\t\t\t0xB7, 0xFD, 0x93, 0x26, 0x36, 0x3F, 0xF7, 0xCC, 0x34, 0xA5, 0xE5, 0xF1, 0x71, 0xD8, 0x31, 0x15,\n",
    "\t\t\t0x04, 0xC7, 0x23, 0xC3, 0x18, 0x96, 0x05, 0x9A, 0x07, 0x12, 0x80, 0xE2, 0xEB, 0x27, 0xB2, 0x75,\n",
    "\t\t\t0x09, 0x83, 0x2C, 0x1A, 0x1B, 0x6E, 0x5A, 0xA0, 0x52, 0x3B, 0xD6, 0xB3, 0x29, 0xE3, 0x2F, 0x84,\n",
    "\t\t\t0x53, 0xD1, 0x00, 0xED, 0x20, 0xFC, 0xB1, 0x5B, 0x6A, 0xCB, 0xBE, 0x39, 0x4A, 0x4C, 0x58, 0xCF,\n",
    "\t\t\t0xD0, 0xEF, 0xAA, 0xFB, 0x43, 0x4D, 0x33, 0x85, 0x45, 0xF9, 0x02, 0x7F, 0x50, 0x3C, 0x9F, 0xA8,\n",
    "\t\t\t0x51, 0xA3, 0x40, 0x8F, 0x92, 0x9D, 0x38, 0xF5, 0xBC, 0xB6, 0xDA, 0x21, 0x10, 0xFF, 0xF3, 0xD2,\n",
    "\t\t\t0xCD, 0x0C, 0x13, 0xEC, 0x5F, 0x97, 0x44, 0x17, 0xC4, 0xA7, 0x7E, 0x3D, 0x64, 0x5D, 0x19, 0x73,\n",
    "\t\t\t0x60, 0x81, 0x4F, 0xDC, 0x22, 0x2A, 0x90, 0x88, 0x46, 0xEE, 0xB8, 0x14, 0xDE, 0x5E, 0x0B, 0xDB,\n",
    "\t\t\t0xE0, 0x32, 0x3A, 0x0A, 0x49, 0x06, 0x24, 0x5C, 0xC2, 0xD3, 0xAC, 0x62, 0x91, 0x95, 0xE4, 0x79,\n",
    "\t\t\t0xE7, 0xC8, 0x37, 0x6D, 0x8D, 0xD5, 0x4E, 0xA9, 0x6C, 0x56, 0xF4, 0xEA, 0x65, 0x7A, 0xAE, 0x08,\n",
    "\t\t\t0xBA, 0x78, 0x25, 0x2E, 0x1C, 0xA6, 0xB4, 0xC6, 0xE8, 0xDD, 0x74, 0x1F, 0x4B, 0xBD, 0x8B, 0x8A,\n",
    "\t\t\t0x70, 0x3E, 0xB5, 0x66, 0x48, 0x03, 0xF6, 0x0E, 0x61, 0x35, 0x57, 0xB9, 0x86, 0xC1, 0x1D, 0x9E,\n",
    "\t\t\t0xE1, 0xF8, 0x98, 0x11, 0x69, 0xD9, 0x8E, 0x94, 0x9B, 0x1E, 0x87, 0xE9, 0xCE, 0x55, 0x28, 0xDF,\n",
    "\t\t\t0x8C, 0xA1, 0x89, 0x0D, 0xBF, 0xE6, 0x42, 0x68, 0x41, 0x99, 0x2D, 0x0F, 0xB0, 0x54, 0xBB, 0x16\n",
    "\t\t\t])"
   ]
  },
  {
   "cell_type": "code",
   "execution_count": null,
   "id": "4be9bc60-7a64-4253-9648-9d392083a61c",
   "metadata": {},
   "outputs": [],
   "source": [
    "data_train = h5py.File('ATMega8515_raw_traces.h5', 'r')\n",
    "data_test = h5py.File('ATMega8515_raw_traces.h5', 'r')\n",
    "data_attack = h5py.File('ATMega8515_raw_traces.h5', 'r')"
   ]
  },
  {
   "cell_type": "code",
   "execution_count": null,
   "id": "fe9f3e9e-59af-4669-9b55-46d8909f3be2",
   "metadata": {},
   "outputs": [],
   "source": [
    "train_metadata=data_train['metadata']\n",
    "train_plain = train_metadata['plaintext']\n",
    "train_cipher = train_metadata['ciphertext']\n",
    "train_key = train_metadata['key']\n",
    "train_mask = train_metadata['masks']\n",
    "train_trace = data_train['traces']\n",
    "\n",
    "test_metadata=data_test['metadata']\n",
    "test_plain = test_metadata['plaintext']\n",
    "test_cipher = test_metadata['ciphertext']\n",
    "test_key = test_metadata['key']\n",
    "test_mask = test_metadata['masks']\n",
    "test_trace = data_train['traces']\n",
    "\n",
    "attack_metadata=data_attack['metadata']\n",
    "attack_plain = attack_metadata['plaintext']\n",
    "attack_cipher = attack_metadata['ciphertext']\n",
    "attack_key = attack_metadata['key']\n",
    "attack_mask = attack_metadata['masks']\n",
    "attack_trace = data_train['traces']"
   ]
  },
  {
   "cell_type": "code",
   "execution_count": null,
   "id": "e70ff761-9385-4089-b0d1-824a9693ffac",
   "metadata": {},
   "outputs": [],
   "source": [
    "train_trace = train_trace[0:45000, 24577:25277]\n",
    "test_trace = test_trace[45000:50000, 24577:25277]\n",
    "attack_trace = attack_trace[50000:60000, 24577:25277]\n",
    "train_plain = train_plain[0:45000, :]\n",
    "test_plain = test_plain[45000:50000, :]\n",
    "train_trace2 = train_trace\n",
    "test_trace2 = test_trace\n",
    "attack_trace2 = attack_trace\n",
    "train_trace.shape"
   ]
  },
  {
   "cell_type": "code",
   "execution_count": null,
   "id": "587a442e-97e5-4312-b787-9648439c3bb6",
   "metadata": {},
   "outputs": [],
   "source": [
    "train_key = train_key[0:45000,:]\n",
    "train_sbox_in = []\n",
    "train_sbox_in = np.array(train_plain^train_key) #平文と鍵のXORがSbox(SubBytes)入力\n",
    "train_sbox_out = np.array([AES_Sbox[i] for i in train_sbox_in])"
   ]
  },
  {
   "cell_type": "code",
   "execution_count": null,
   "id": "6f3aeca7-d9ae-4039-a2fc-05fc3dc08aae",
   "metadata": {},
   "outputs": [],
   "source": [
    "test_key = test_key[0:5000,:]\n",
    "test_sbox_in = []\n",
    "test_sbox_in = np.array(test_plain^np.array(test_key)) #平文と鍵のXORがSbox(SubBytes)入力\n",
    "test_sbox_out = np.array([AES_Sbox[i] for i in test_sbox_in])"
   ]
  },
  {
   "cell_type": "code",
   "execution_count": null,
   "id": "6493538e-6d4e-4778-9292-160f466c47e5",
   "metadata": {},
   "outputs": [],
   "source": [
    "train_sbox_out = train_sbox_out[:,TARGET_BYTE]\n",
    "test_sbox_out = test_sbox_out[:,TARGET_BYTE]"
   ]
  },
  {
   "cell_type": "code",
   "execution_count": null,
   "id": "3e4ba4d6-9f53-494a-ba1d-68f7995aba66",
   "metadata": {},
   "outputs": [],
   "source": [
    "#波形データの標準化(データを平均で引いて標準偏差で割る)\n",
    "train_trace2 = (train_trace2 -np.mean(train_trace2, axis = 0))/np.std(train_trace2, axis = 0)\n",
    "\n",
    "test_trace2 = (test_trace2 - np.mean(test_trace2, axis = 0))/np.std(test_trace2, axis = 0)\n",
    "\n",
    "attack_trace2 = (attack_trace2 - np.mean(attack_trace2, axis = 0))/np.std(attack_trace2, axis = 0)\n",
    "\n",
    "#DeepLearningできるshapeに変更\n",
    "train_trace2 = train_trace2.reshape(45000,700,1)\n",
    "\n",
    "test_trace2 = test_trace2.reshape(5000,700,1)\n",
    "\n",
    "attack_trace2 = attack_trace2.reshape(10000,700,1)"
   ]
  },
  {
   "cell_type": "code",
   "execution_count": null,
   "id": "7d4c4447-00fa-4867-b834-93dade33f8e5",
   "metadata": {},
   "outputs": [],
   "source": [
    "def cnn_best(classes=256,input_dim=700):\n",
    "\t# From VGG16 design\n",
    "\tinput_shape = (input_dim,1)\n",
    "\timg_input = Input(shape=input_shape)\n",
    "\t# Block 1\n",
    "\tx = Conv1D(64, 11, activation='relu', padding='same', name='block1_conv1')(img_input)\n",
    "\tx = AveragePooling1D(2, strides=2, name='block1_pool')(x)\n",
    "\t# Block 2\n",
    "\tx = Conv1D(128, 11, activation='relu', padding='same', name='block2_conv1')(x)\n",
    "\tx = AveragePooling1D(2, strides=2, name='block2_pool')(x)\n",
    "\t# Block 3\n",
    "\tx = Conv1D(256, 11, activation='relu', padding='same', name='block3_conv1')(x)\n",
    "\tx = AveragePooling1D(2, strides=2, name='block3_pool')(x)\n",
    "\t# Block 4\n",
    "\tx = Conv1D(512, 11, activation='relu', padding='same', name='block4_conv1')(x)\n",
    "\tx = AveragePooling1D(2, strides=2, name='block4_pool')(x)\n",
    "\t# Block 5\n",
    "\tx = Conv1D(512, 11, activation='relu', padding='same', name='block5_conv1')(x)\n",
    "\tx = AveragePooling1D(2, strides=2, name='block5_pool')(x)\n",
    "\t# Classification block\n",
    "\tx = Flatten(name='flatten')(x)\n",
    "\tx = Dense(4096, activation='relu', name='fc1')(x)\n",
    "\tx = Dense(4096, activation='relu', name='fc2')(x)\n",
    "\t# x = Dense(classes, activation='softmax', name='predictions')(x)\n",
    "\tx = Dense(classes, name='predictions')(x)\n",
    "\n",
    "\tinputs = img_input\n",
    "\t# Create model.\n",
    "\tmodel = Model(inputs, x, name='cnn_best')\n",
    "\toptimizer = RMSprop(learning_rate=0.00001)\n",
    "\tloss_fn = tf.keras.losses.SparseCategoricalCrossentropy(from_logits=True)\n",
    "\t# model.compile(loss='categorical_crossentropy', optimizer=optimizer, metrics=['accuracy'])\n",
    "\tmodel.compile(loss=loss_fn, optimizer=optimizer, metrics=['accuracy'])\n",
    "\treturn model"
   ]
  },
  {
   "cell_type": "code",
   "execution_count": null,
   "id": "6feb5cb3-bbeb-421d-b2c4-1a230570b510",
   "metadata": {},
   "outputs": [],
   "source": [
    "cnn_best()"
   ]
  },
  {
   "cell_type": "code",
   "execution_count": null,
   "id": "1d406822-54c1-4dc8-bf4d-861083bd4098",
   "metadata": {},
   "outputs": [],
   "source": [
    "model=cnn_best(classes=256,input_dim=700)\n",
    "epochs=117\n",
    "learning_data = model.fit(train_trace2,train_sbox_out,epochs=epochs,batch_size=200,validation_data=(test_trace2,test_sbox_out))"
   ]
  },
  {
   "cell_type": "code",
   "execution_count": null,
   "id": "e22ddf06-802e-4ba8-88ef-e136af9e9e13",
   "metadata": {},
   "outputs": [],
   "source": [
    "out = 'result'\n",
    "\n",
    "os.makedirs(os.path.join('./', out), exist_ok=True)\n",
    "model.save_weights(os.path.join('./',out,'compare_attack_{}byte.h5').format(TARGET_BYTE))"
   ]
  },
  {
   "cell_type": "code",
   "execution_count": null,
   "id": "aa5ee53a-cbe9-4988-b3c0-76c9a3918fce",
   "metadata": {},
   "outputs": [],
   "source": [
    "plt.figure()\n",
    "plt.subplot(1,1,1)\n",
    "plt.plot(range(1,epochs+1), learning_data.history['accuracy'], label = 'train_accuracy')\n",
    "plt.plot(range(1,epochs+1), learning_data.history['val_accuracy'], label = 'test_accuracy')\n",
    "plt.xlabel('epochs')\n",
    "plt.ylabel('accuracy')\n",
    "plt.title('accuracy_{}byte'.format(TARGET_BYTE))\n",
    "plt.legend()\n",
    "plt.savefig('./'+out+'/compare_accuracy_{}byte.png'.format(TARGET_BYTE))"
   ]
  },
  {
   "cell_type": "code",
   "execution_count": null,
   "id": "ae4afe57-2aec-44f9-9bb1-77c1d9cebae2",
   "metadata": {},
   "outputs": [],
   "source": [
    "predicts = model.predict(attack_trace2)\n",
    "predicts = tf.nn.softmax(predicts)\n",
    "predicts.shape"
   ]
  },
  {
   "cell_type": "code",
   "execution_count": null,
   "id": "07750afd-2773-429a-bdbd-6f2e9986b438",
   "metadata": {},
   "outputs": [],
   "source": [
    "attack_plain=attack_metadata['plaintext']"
   ]
  },
  {
   "cell_type": "code",
   "execution_count": null,
   "id": "a9b7d5ab-7a29-48d7-a8f4-629cdc587b71",
   "metadata": {},
   "outputs": [],
   "source": [
    "attack_sbox_in = []\n",
    "for estimated_key in range(256): #256通りの推定鍵だけ繰り返す。\n",
    "    attack_sbox_in.append(attack_plain^np.array([estimated_key]*16)) #平文と推定鍵のXORがSbox(SubBytes)入力\n",
    "attack_sbox_in = np.array(attack_sbox_in)\n",
    "attack_sbox_out = np.array([AES_Sbox[i] for i in attack_sbox_in])\n",
    "attack_sbox_out = attack_sbox_out[:,:,TARGET_BYTE]"
   ]
  },
  {
   "cell_type": "code",
   "execution_count": null,
   "id": "34c4dfe6-e03e-4d01-9e6e-4882508401ea",
   "metadata": {},
   "outputs": [],
   "source": [
    "attack_sbox_out = attack_sbox_out[:,50000:] #全体の内, 最後の1000を攻撃に使用"
   ]
  },
  {
   "cell_type": "code",
   "execution_count": null,
   "id": "7130b0b5-fa42-45a1-ac48-41bbf7f9c81b",
   "metadata": {},
   "outputs": [],
   "source": [
    "result = np.ones(256) /256\n",
    "rank = []\n",
    "attack_sbox_out = np.array(attack_sbox_out)\n",
    "pred = predicts.numpy()\n",
    "\n",
    "for i in range(len(predicts)):\n",
    "    result *= pred[i, attack_sbox_out[:, i]]\n",
    "    result = result /np.sum(result)\n",
    "    rank.append(list(np.argsort(result)[::-1]).index(attack_key[0][TARGET_BYTE])+1)\n",
    "    "
   ]
  },
  {
   "cell_type": "code",
   "execution_count": null,
   "id": "added704-2299-47b2-8d39-b38b0642a265",
   "metadata": {},
   "outputs": [],
   "source": [
    "rank_lim = rank[0:10000]\n",
    "plt.figure()\n",
    "plt.plot(rank_lim)\n",
    "plt.xlabel('wave')\n",
    "plt.ylabel('rank')\n",
    "plt.title('target_{}byte'.format(TARGET_BYTE))\n",
    "plt.savefig('./'+out+'/compare_rank_{}byte.png'.format(TARGET_BYTE))"
   ]
  },
  {
   "cell_type": "code",
   "execution_count": null,
   "id": "4cca28d4-60d2-4a61-93f6-bab5c33c51ef",
   "metadata": {},
   "outputs": [],
   "source": [
    "recovered_key1=[]\n",
    "\n",
    "for i in range(10000):\n",
    "        if rank[i] == 1: #推定した鍵と正解鍵が一致しているかを確認\n",
    "            count1 = 1\n",
    "        else:\n",
    "            count1 = 0\n",
    "        \n",
    "        recovered_key1.append(count1) #攻撃成功バイト数の保存\n",
    "\n",
    "recovered_key1 = np.array(recovered_key1)\n",
    "np.save('./'+out+'/test1.npy', recovered_key1)"
   ]
  },
  {
   "cell_type": "code",
   "execution_count": null,
   "id": "cf3cb896-01e2-486d-abd4-91a9b161ce92",
   "metadata": {},
   "outputs": [],
   "source": [
    "from tensorflow import keras\n",
    "import tensorflow.keras.layers as L\n",
    "import matplotlib.pyplot as plt\n",
    "import sklearn.metrics\n",
    "import h5py\n",
    "import pandas as pd\n",
    "import os\n",
    "import os.path\n",
    "import sys\n",
    "import h5py\n",
    "import numpy as np\n",
    "\n",
    "import tensorflow as tf\n",
    "from tensorflow.keras.models import Model, Sequential\n",
    "from tensorflow.keras.layers import Flatten, Dense, Input, Conv1D, MaxPooling1D, GlobalAveragePooling1D, GlobalMaxPooling1D, AveragePooling1D, BatchNormalization, Activation, Add, add\n",
    "from tensorflow.keras import backend as K\n",
    "from tensorflow.keras.applications.imagenet_utils import decode_predictions\n",
    "from tensorflow.keras.applications.imagenet_utils import preprocess_input\n",
    "from tensorflow.keras.optimizers import RMSprop, Adam\n",
    "from tensorflow.keras.callbacks import ModelCheckpoint, EarlyStopping\n",
    "from tensorflow.keras.utils import to_categorical\n",
    "from tensorflow.keras.models import load_model\n"
   ]
  },
  {
   "cell_type": "code",
   "execution_count": null,
   "id": "e487d467-dd5f-4a6a-b752-88c8ede09b23",
   "metadata": {},
   "outputs": [],
   "source": [
    "TARGET_BYTE = 2 #何バイト目を攻撃するか決める"
   ]
  },
  {
   "cell_type": "code",
   "execution_count": null,
   "id": "919cf276-36fb-49e2-a659-63891159aff3",
   "metadata": {},
   "outputs": [],
   "source": [
    "AES_Sbox = np.array([\n",
    "\t\t\t0x63, 0x7C, 0x77, 0x7B, 0xF2, 0x6B, 0x6F, 0xC5, 0x30, 0x01, 0x67, 0x2B, 0xFE, 0xD7, 0xAB, 0x76,\n",
    "\t\t\t0xCA, 0x82, 0xC9, 0x7D, 0xFA, 0x59, 0x47, 0xF0, 0xAD, 0xD4, 0xA2, 0xAF, 0x9C, 0xA4, 0x72, 0xC0,\n",
    "\t\t\t0xB7, 0xFD, 0x93, 0x26, 0x36, 0x3F, 0xF7, 0xCC, 0x34, 0xA5, 0xE5, 0xF1, 0x71, 0xD8, 0x31, 0x15,\n",
    "\t\t\t0x04, 0xC7, 0x23, 0xC3, 0x18, 0x96, 0x05, 0x9A, 0x07, 0x12, 0x80, 0xE2, 0xEB, 0x27, 0xB2, 0x75,\n",
    "\t\t\t0x09, 0x83, 0x2C, 0x1A, 0x1B, 0x6E, 0x5A, 0xA0, 0x52, 0x3B, 0xD6, 0xB3, 0x29, 0xE3, 0x2F, 0x84,\n",
    "\t\t\t0x53, 0xD1, 0x00, 0xED, 0x20, 0xFC, 0xB1, 0x5B, 0x6A, 0xCB, 0xBE, 0x39, 0x4A, 0x4C, 0x58, 0xCF,\n",
    "\t\t\t0xD0, 0xEF, 0xAA, 0xFB, 0x43, 0x4D, 0x33, 0x85, 0x45, 0xF9, 0x02, 0x7F, 0x50, 0x3C, 0x9F, 0xA8,\n",
    "\t\t\t0x51, 0xA3, 0x40, 0x8F, 0x92, 0x9D, 0x38, 0xF5, 0xBC, 0xB6, 0xDA, 0x21, 0x10, 0xFF, 0xF3, 0xD2,\n",
    "\t\t\t0xCD, 0x0C, 0x13, 0xEC, 0x5F, 0x97, 0x44, 0x17, 0xC4, 0xA7, 0x7E, 0x3D, 0x64, 0x5D, 0x19, 0x73,\n",
    "\t\t\t0x60, 0x81, 0x4F, 0xDC, 0x22, 0x2A, 0x90, 0x88, 0x46, 0xEE, 0xB8, 0x14, 0xDE, 0x5E, 0x0B, 0xDB,\n",
    "\t\t\t0xE0, 0x32, 0x3A, 0x0A, 0x49, 0x06, 0x24, 0x5C, 0xC2, 0xD3, 0xAC, 0x62, 0x91, 0x95, 0xE4, 0x79,\n",
    "\t\t\t0xE7, 0xC8, 0x37, 0x6D, 0x8D, 0xD5, 0x4E, 0xA9, 0x6C, 0x56, 0xF4, 0xEA, 0x65, 0x7A, 0xAE, 0x08,\n",
    "\t\t\t0xBA, 0x78, 0x25, 0x2E, 0x1C, 0xA6, 0xB4, 0xC6, 0xE8, 0xDD, 0x74, 0x1F, 0x4B, 0xBD, 0x8B, 0x8A,\n",
    "\t\t\t0x70, 0x3E, 0xB5, 0x66, 0x48, 0x03, 0xF6, 0x0E, 0x61, 0x35, 0x57, 0xB9, 0x86, 0xC1, 0x1D, 0x9E,\n",
    "\t\t\t0xE1, 0xF8, 0x98, 0x11, 0x69, 0xD9, 0x8E, 0x94, 0x9B, 0x1E, 0x87, 0xE9, 0xCE, 0x55, 0x28, 0xDF,\n",
    "\t\t\t0x8C, 0xA1, 0x89, 0x0D, 0xBF, 0xE6, 0x42, 0x68, 0x41, 0x99, 0x2D, 0x0F, 0xB0, 0x54, 0xBB, 0x16\n",
    "\t\t\t])"
   ]
  },
  {
   "cell_type": "code",
   "execution_count": null,
   "id": "c17fdac3-c8b3-4371-856e-9a86385bf92f",
   "metadata": {},
   "outputs": [],
   "source": [
    "data_train = h5py.File('ATMega8515_raw_traces.h5', 'r')\n",
    "data_test = h5py.File('ATMega8515_raw_traces.h5', 'r')\n",
    "data_attack = h5py.File('ATMega8515_raw_traces.h5', 'r')"
   ]
  },
  {
   "cell_type": "code",
   "execution_count": null,
   "id": "53b56295-faf2-46c8-bd73-a04e02918021",
   "metadata": {},
   "outputs": [],
   "source": [
    "train_metadata=data_train['metadata']\n",
    "train_plain = train_metadata['plaintext']\n",
    "train_cipher = train_metadata['ciphertext']\n",
    "train_key = train_metadata['key']\n",
    "train_mask = train_metadata['masks']\n",
    "train_trace = data_train['traces']\n",
    "\n",
    "test_metadata=data_test['metadata']\n",
    "test_plain = test_metadata['plaintext']\n",
    "test_cipher = test_metadata['ciphertext']\n",
    "test_key = test_metadata['key']\n",
    "test_mask = test_metadata['masks']\n",
    "test_trace = data_train['traces']\n",
    "\n",
    "attack_metadata=data_attack['metadata']\n",
    "attack_plain = attack_metadata['plaintext']\n",
    "attack_cipher = attack_metadata['ciphertext']\n",
    "attack_key = attack_metadata['key']\n",
    "attack_mask = attack_metadata['masks']\n",
    "attack_trace = data_train['traces']"
   ]
  },
  {
   "cell_type": "code",
   "execution_count": null,
   "id": "7677af0a-3ebe-4114-8013-218fa0baf9cb",
   "metadata": {},
   "outputs": [],
   "source": [
    "train_trace = train_trace[0:45000, 45400:46100]\n",
    "test_trace = test_trace[45000:50000, 45400:46100]\n",
    "attack_trace = attack_trace[50000:60000, 45400:46100]\n",
    "train_plain = train_plain[0:45000, :]\n",
    "test_plain = test_plain[45000:50000, :]\n",
    "train_trace2 = train_trace\n",
    "test_trace2 = test_trace\n",
    "attack_trace2 = attack_trace\n",
    "train_trace.shape"
   ]
  },
  {
   "cell_type": "code",
   "execution_count": null,
   "id": "f1a059fe-9098-42a2-a10c-4971dddaefa1",
   "metadata": {},
   "outputs": [],
   "source": [
    "train_key = train_key[0:45000,:]\n",
    "train_sbox_in = []\n",
    "train_sbox_in = np.array(train_plain^train_key) #平文と鍵のXORがSbox(SubBytes)入力\n",
    "train_sbox_out = np.array([AES_Sbox[i] for i in train_sbox_in])"
   ]
  },
  {
   "cell_type": "code",
   "execution_count": null,
   "id": "dbc7e76b-0615-4cdd-87b2-42372efd6141",
   "metadata": {},
   "outputs": [],
   "source": [
    "test_key = test_key[0:5000,:]\n",
    "test_sbox_in = []\n",
    "test_sbox_in = np.array(test_plain^np.array(test_key)) #平文と鍵のXORがSbox(SubBytes)入力\n",
    "test_sbox_out = np.array([AES_Sbox[i] for i in test_sbox_in])"
   ]
  },
  {
   "cell_type": "code",
   "execution_count": null,
   "id": "e4b85b6d-d138-498f-8a86-02bca98cb464",
   "metadata": {},
   "outputs": [],
   "source": [
    "train_sbox_out = train_sbox_out[:,TARGET_BYTE]\n",
    "test_sbox_out = test_sbox_out[:,TARGET_BYTE]"
   ]
  },
  {
   "cell_type": "code",
   "execution_count": null,
   "id": "583c4ab8-f550-4031-87e2-d380be95e31c",
   "metadata": {},
   "outputs": [],
   "source": [
    "#波形データの標準化(データを平均で引いて標準偏差で割る)\n",
    "train_trace2 = (train_trace2 -np.mean(train_trace2, axis = 0))/np.std(train_trace2, axis = 0)\n",
    "\n",
    "test_trace2 = (test_trace2 - np.mean(test_trace2, axis = 0))/np.std(test_trace2, axis = 0)\n",
    "\n",
    "attack_trace2 = (attack_trace2 - np.mean(attack_trace2, axis = 0))/np.std(attack_trace2, axis = 0)\n",
    "\n",
    "#DeepLearningできるshapeに変更\n",
    "train_trace2 = train_trace2.reshape(45000,700,1)\n",
    "\n",
    "test_trace2 = test_trace2.reshape(5000,700,1)\n",
    "\n",
    "attack_trace2 = attack_trace2.reshape(10000,700,1)"
   ]
  },
  {
   "cell_type": "code",
   "execution_count": null,
   "id": "9690f65a-a0b3-47b3-acff-a7093689fd1c",
   "metadata": {},
   "outputs": [],
   "source": [
    "def cnn_best(classes=256,input_dim=700):\n",
    "\t# From VGG16 design\n",
    "\tinput_shape = (input_dim,1)\n",
    "\timg_input = Input(shape=input_shape)\n",
    "\t# Block 1\n",
    "\tx = Conv1D(64, 11, activation='relu', padding='same', name='block1_conv1')(img_input)\n",
    "\tx = AveragePooling1D(2, strides=2, name='block1_pool')(x)\n",
    "\t# Block 2\n",
    "\tx = Conv1D(128, 11, activation='relu', padding='same', name='block2_conv1')(x)\n",
    "\tx = AveragePooling1D(2, strides=2, name='block2_pool')(x)\n",
    "\t# Block 3\n",
    "\tx = Conv1D(256, 11, activation='relu', padding='same', name='block3_conv1')(x)\n",
    "\tx = AveragePooling1D(2, strides=2, name='block3_pool')(x)\n",
    "\t# Block 4\n",
    "\tx = Conv1D(512, 11, activation='relu', padding='same', name='block4_conv1')(x)\n",
    "\tx = AveragePooling1D(2, strides=2, name='block4_pool')(x)\n",
    "\t# Block 5\n",
    "\tx = Conv1D(512, 11, activation='relu', padding='same', name='block5_conv1')(x)\n",
    "\tx = AveragePooling1D(2, strides=2, name='block5_pool')(x)\n",
    "\t# Classification block\n",
    "\tx = Flatten(name='flatten')(x)\n",
    "\tx = Dense(4096, activation='relu', name='fc1')(x)\n",
    "\tx = Dense(4096, activation='relu', name='fc2')(x)\n",
    "\t# x = Dense(classes, activation='softmax', name='predictions')(x)\n",
    "\tx = Dense(classes, name='predictions')(x)\n",
    "\n",
    "\tinputs = img_input\n",
    "\t# Create model.\n",
    "\tmodel = Model(inputs, x, name='cnn_best')\n",
    "\toptimizer = RMSprop(learning_rate=0.00001)\n",
    "\tloss_fn = tf.keras.losses.SparseCategoricalCrossentropy(from_logits=True)\n",
    "\t# model.compile(loss='categorical_crossentropy', optimizer=optimizer, metrics=['accuracy'])\n",
    "\tmodel.compile(loss=loss_fn, optimizer=optimizer, metrics=['accuracy'])\n",
    "\treturn model"
   ]
  },
  {
   "cell_type": "code",
   "execution_count": null,
   "id": "ef5ad88d-36ff-48be-93c1-6180519832ce",
   "metadata": {},
   "outputs": [],
   "source": [
    "cnn_best()"
   ]
  },
  {
   "cell_type": "code",
   "execution_count": null,
   "id": "20a5df1c-75d4-4bd7-8a45-1264d965bba0",
   "metadata": {},
   "outputs": [],
   "source": [
    "model=cnn_best(classes=256,input_dim=700)\n",
    "epochs=117\n",
    "learning_data = model.fit(train_trace2,train_sbox_out,epochs=epochs,batch_size=200,validation_data=(test_trace2,test_sbox_out))"
   ]
  },
  {
   "cell_type": "code",
   "execution_count": null,
   "id": "0952def0-8503-4dc4-8362-14deb411821a",
   "metadata": {},
   "outputs": [],
   "source": [
    "out = 'result'\n",
    "\n",
    "os.makedirs(os.path.join('./', out), exist_ok=True)\n",
    "model.save_weights(os.path.join('./',out,'compare_attack_{}byte.h5').format(TARGET_BYTE))"
   ]
  },
  {
   "cell_type": "code",
   "execution_count": null,
   "id": "9515e90f-d90b-4b6f-9afa-b42873d35e33",
   "metadata": {},
   "outputs": [],
   "source": [
    "plt.figure()\n",
    "plt.subplot(1,1,1)\n",
    "plt.plot(range(1,epochs+1), learning_data.history['accuracy'], label = 'train_accuracy')\n",
    "plt.plot(range(1,epochs+1), learning_data.history['val_accuracy'], label = 'test_accuracy')\n",
    "plt.xlabel('epochs')\n",
    "plt.ylabel('accuracy')\n",
    "plt.title('accuracy_{}byte'.format(TARGET_BYTE))\n",
    "plt.legend()\n",
    "plt.savefig('./'+out+'/compare_accuracy_{}byte.png'.format(TARGET_BYTE))"
   ]
  },
  {
   "cell_type": "code",
   "execution_count": null,
   "id": "7093ddb7-f5e8-4cb2-987b-986577850b1a",
   "metadata": {},
   "outputs": [],
   "source": [
    "predicts = model.predict(attack_trace2)\n",
    "predicts = tf.nn.softmax(predicts)\n",
    "predicts.shape"
   ]
  },
  {
   "cell_type": "code",
   "execution_count": null,
   "id": "238d443b-c84f-442a-92b4-f954dd6fd425",
   "metadata": {},
   "outputs": [],
   "source": [
    "attack_plain=attack_metadata['plaintext']"
   ]
  },
  {
   "cell_type": "code",
   "execution_count": null,
   "id": "b6915519-1152-4feb-bf53-08b003daedcd",
   "metadata": {},
   "outputs": [],
   "source": [
    "attack_sbox_in = []\n",
    "for estimated_key in range(256): #256通りの推定鍵だけ繰り返す。\n",
    "    attack_sbox_in.append(attack_plain^np.array([estimated_key]*16)) #平文と推定鍵のXORがSbox(SubBytes)入力\n",
    "attack_sbox_in = np.array(attack_sbox_in)\n",
    "attack_sbox_out = np.array([AES_Sbox[i] for i in attack_sbox_in])\n",
    "attack_sbox_out = attack_sbox_out[:,:,TARGET_BYTE]"
   ]
  },
  {
   "cell_type": "code",
   "execution_count": null,
   "id": "ec44a5ed-e049-4981-a8de-f8a3b9afb19a",
   "metadata": {},
   "outputs": [],
   "source": [
    "attack_sbox_out = attack_sbox_out[:,50000:] #全体の内, 最後の10000を攻撃に使用"
   ]
  },
  {
   "cell_type": "code",
   "execution_count": null,
   "id": "8f623f99-30bc-41b0-ae01-8f9be293d4d8",
   "metadata": {},
   "outputs": [],
   "source": [
    "result = np.ones(256) /256\n",
    "rank = []\n",
    "attack_sbox_out = np.array(attack_sbox_out)\n",
    "pred = predicts.numpy()\n",
    "\n",
    "for i in range(len(predicts)):\n",
    "    result *= pred[i, attack_sbox_out[:, i]]\n",
    "    result = result /np.sum(result)\n",
    "    rank.append(list(np.argsort(result)[::-1]).index(attack_key[0][TARGET_BYTE])+1)\n",
    "    "
   ]
  },
  {
   "cell_type": "code",
   "execution_count": null,
   "id": "441a73c5-23da-45d5-90b6-e961e51038a3",
   "metadata": {},
   "outputs": [],
   "source": [
    "rank_lim = rank[0:10000]\n",
    "plt.figure()\n",
    "plt.plot(rank_lim)\n",
    "plt.xlabel('wave')\n",
    "plt.ylabel('rank')\n",
    "plt.title('target_{}byte'.format(TARGET_BYTE))\n",
    "plt.savefig('./'+out+'/compare_rank_{}byte.png'.format(TARGET_BYTE))"
   ]
  },
  {
   "cell_type": "code",
   "execution_count": null,
   "id": "7125c415-03b5-4564-a484-3283d5d53933",
   "metadata": {},
   "outputs": [],
   "source": [
    "recovered_key2=[]\n",
    "\n",
    "for i in range(10000):\n",
    "        if rank[i] == 1: #推定した鍵と正解鍵が一致しているかを確認\n",
    "            count2 = 1\n",
    "        else:\n",
    "            count2 = 0\n",
    "        \n",
    "        recovered_key2.append(count2) #攻撃成功バイト数の保存\n",
    "\n",
    "recovered_key2 = np.array(recovered_key2)\n",
    "np.save('./'+out+'/test2.npy', recovered_key2)"
   ]
  },
  {
   "cell_type": "code",
   "execution_count": null,
   "id": "b8a8719b-a51d-433f-9b93-e34a1e2900d0",
   "metadata": {},
   "outputs": [],
   "source": [
    "TARGET_BYTE = 3 #何バイト目を攻撃するか決める"
   ]
  },
  {
   "cell_type": "code",
   "execution_count": null,
   "id": "92e3487f-88c3-4fb6-97e6-e469e0b9f111",
   "metadata": {},
   "outputs": [],
   "source": [
    "AES_Sbox = np.array([\n",
    "\t\t\t0x63, 0x7C, 0x77, 0x7B, 0xF2, 0x6B, 0x6F, 0xC5, 0x30, 0x01, 0x67, 0x2B, 0xFE, 0xD7, 0xAB, 0x76,\n",
    "\t\t\t0xCA, 0x82, 0xC9, 0x7D, 0xFA, 0x59, 0x47, 0xF0, 0xAD, 0xD4, 0xA2, 0xAF, 0x9C, 0xA4, 0x72, 0xC0,\n",
    "\t\t\t0xB7, 0xFD, 0x93, 0x26, 0x36, 0x3F, 0xF7, 0xCC, 0x34, 0xA5, 0xE5, 0xF1, 0x71, 0xD8, 0x31, 0x15,\n",
    "\t\t\t0x04, 0xC7, 0x23, 0xC3, 0x18, 0x96, 0x05, 0x9A, 0x07, 0x12, 0x80, 0xE2, 0xEB, 0x27, 0xB2, 0x75,\n",
    "\t\t\t0x09, 0x83, 0x2C, 0x1A, 0x1B, 0x6E, 0x5A, 0xA0, 0x52, 0x3B, 0xD6, 0xB3, 0x29, 0xE3, 0x2F, 0x84,\n",
    "\t\t\t0x53, 0xD1, 0x00, 0xED, 0x20, 0xFC, 0xB1, 0x5B, 0x6A, 0xCB, 0xBE, 0x39, 0x4A, 0x4C, 0x58, 0xCF,\n",
    "\t\t\t0xD0, 0xEF, 0xAA, 0xFB, 0x43, 0x4D, 0x33, 0x85, 0x45, 0xF9, 0x02, 0x7F, 0x50, 0x3C, 0x9F, 0xA8,\n",
    "\t\t\t0x51, 0xA3, 0x40, 0x8F, 0x92, 0x9D, 0x38, 0xF5, 0xBC, 0xB6, 0xDA, 0x21, 0x10, 0xFF, 0xF3, 0xD2,\n",
    "\t\t\t0xCD, 0x0C, 0x13, 0xEC, 0x5F, 0x97, 0x44, 0x17, 0xC4, 0xA7, 0x7E, 0x3D, 0x64, 0x5D, 0x19, 0x73,\n",
    "\t\t\t0x60, 0x81, 0x4F, 0xDC, 0x22, 0x2A, 0x90, 0x88, 0x46, 0xEE, 0xB8, 0x14, 0xDE, 0x5E, 0x0B, 0xDB,\n",
    "\t\t\t0xE0, 0x32, 0x3A, 0x0A, 0x49, 0x06, 0x24, 0x5C, 0xC2, 0xD3, 0xAC, 0x62, 0x91, 0x95, 0xE4, 0x79,\n",
    "\t\t\t0xE7, 0xC8, 0x37, 0x6D, 0x8D, 0xD5, 0x4E, 0xA9, 0x6C, 0x56, 0xF4, 0xEA, 0x65, 0x7A, 0xAE, 0x08,\n",
    "\t\t\t0xBA, 0x78, 0x25, 0x2E, 0x1C, 0xA6, 0xB4, 0xC6, 0xE8, 0xDD, 0x74, 0x1F, 0x4B, 0xBD, 0x8B, 0x8A,\n",
    "\t\t\t0x70, 0x3E, 0xB5, 0x66, 0x48, 0x03, 0xF6, 0x0E, 0x61, 0x35, 0x57, 0xB9, 0x86, 0xC1, 0x1D, 0x9E,\n",
    "\t\t\t0xE1, 0xF8, 0x98, 0x11, 0x69, 0xD9, 0x8E, 0x94, 0x9B, 0x1E, 0x87, 0xE9, 0xCE, 0x55, 0x28, 0xDF,\n",
    "\t\t\t0x8C, 0xA1, 0x89, 0x0D, 0xBF, 0xE6, 0x42, 0x68, 0x41, 0x99, 0x2D, 0x0F, 0xB0, 0x54, 0xBB, 0x16\n",
    "\t\t\t])"
   ]
  },
  {
   "cell_type": "code",
   "execution_count": null,
   "id": "0b7bcf82-7f39-4ce4-ad27-883fb58c6a7e",
   "metadata": {},
   "outputs": [],
   "source": [
    "data_train = h5py.File('ATMega8515_raw_traces.h5', 'r')\n",
    "data_test = h5py.File('ATMega8515_raw_traces.h5', 'r')\n",
    "data_attack = h5py.File('ATMega8515_raw_traces.h5', 'r')"
   ]
  },
  {
   "cell_type": "code",
   "execution_count": null,
   "id": "aca4d97b-4dbb-4e2d-9fdf-1b64f24e083a",
   "metadata": {},
   "outputs": [],
   "source": [
    "train_metadata=data_train['metadata']\n",
    "train_plain = train_metadata['plaintext']\n",
    "train_cipher = train_metadata['ciphertext']\n",
    "train_key = train_metadata['key']\n",
    "train_mask = train_metadata['masks']\n",
    "train_trace = data_train['traces']\n",
    "\n",
    "test_metadata=data_test['metadata']\n",
    "test_plain = test_metadata['plaintext']\n",
    "test_cipher = test_metadata['ciphertext']\n",
    "test_key = test_metadata['key']\n",
    "test_mask = test_metadata['masks']\n",
    "test_trace = data_train['traces']\n",
    "\n",
    "attack_metadata=data_attack['metadata']\n",
    "attack_plain = attack_metadata['plaintext']\n",
    "attack_cipher = attack_metadata['ciphertext']\n",
    "attack_key = attack_metadata['key']\n",
    "attack_mask = attack_metadata['masks']\n",
    "attack_trace = data_train['traces']"
   ]
  },
  {
   "cell_type": "code",
   "execution_count": null,
   "id": "368a40b4-faac-4aa4-b24b-4dbfe70d6127",
   "metadata": {},
   "outputs": [],
   "source": [
    "train_trace.shape"
   ]
  },
  {
   "cell_type": "code",
   "execution_count": null,
   "id": "877fae3a-26c9-47f4-bc8c-f95a550c0663",
   "metadata": {},
   "outputs": [],
   "source": [
    "print(train_metadata.shape, train_trace.shape, train_plain.shape, train_cipher.shape, train_key.shape, train_mask.shape)"
   ]
  },
  {
   "cell_type": "code",
   "execution_count": null,
   "id": "dbab9687-0d90-4c97-b927-4fdf8f7b872e",
   "metadata": {},
   "outputs": [],
   "source": [
    "train_trace = train_trace[0:45000, 32906:33606]\n",
    "test_trace = test_trace[45000:50000, 32906:33606]\n",
    "attack_trace = attack_trace[50000:60000, 32906:33606]\n",
    "train_plain = train_plain[0:45000, :]\n",
    "test_plain = test_plain[45000:50000, :]\n",
    "train_trace2 = train_trace\n",
    "test_trace2 = test_trace\n",
    "attack_trace2 = attack_trace\n",
    "train_trace.shape"
   ]
  },
  {
   "cell_type": "code",
   "execution_count": null,
   "id": "4f99008d-54f3-4c81-9896-96819040be03",
   "metadata": {},
   "outputs": [],
   "source": [
    "train_key = train_key[0:45000,:]\n",
    "train_sbox_in = []\n",
    "train_sbox_in = np.array(train_plain^train_key) #平文と鍵のXORがSbox(SubBytes)入力\n",
    "train_sbox_out = np.array([AES_Sbox[i] for i in train_sbox_in])"
   ]
  },
  {
   "cell_type": "code",
   "execution_count": null,
   "id": "2e4c5624-a858-463c-af2b-bdedb343fae4",
   "metadata": {},
   "outputs": [],
   "source": [
    "test_key = test_key[0:5000,:]\n",
    "test_sbox_in = []\n",
    "test_sbox_in = np.array(test_plain^np.array(test_key)) #平文と鍵のXORがSbox(SubBytes)入力\n",
    "test_sbox_out = np.array([AES_Sbox[i] for i in test_sbox_in])"
   ]
  },
  {
   "cell_type": "code",
   "execution_count": null,
   "id": "ab6e42a9-a736-4c5b-b525-90645a3c78f5",
   "metadata": {},
   "outputs": [],
   "source": [
    "train_sbox_out = train_sbox_out[:,TARGET_BYTE]\n",
    "test_sbox_out = test_sbox_out[:,TARGET_BYTE]"
   ]
  },
  {
   "cell_type": "code",
   "execution_count": null,
   "id": "d316a2d4-97e4-4fea-a85c-62a024b75ce9",
   "metadata": {},
   "outputs": [],
   "source": [
    "#波形データの標準化(データを平均で引いて標準偏差で割る)\n",
    "train_trace2 = (train_trace2 -np.mean(train_trace2, axis = 0))/np.std(train_trace2, axis = 0)\n",
    "\n",
    "test_trace2 = (test_trace2 - np.mean(test_trace2, axis = 0))/np.std(test_trace2, axis = 0)\n",
    "\n",
    "attack_trace2 = (attack_trace2 - np.mean(attack_trace2, axis = 0))/np.std(attack_trace2, axis = 0)\n",
    "\n",
    "#DeepLearningできるshapeに変更\n",
    "train_trace2 = train_trace2.reshape(45000,700,1)\n",
    "\n",
    "test_trace2 = test_trace2.reshape(5000,700,1)\n",
    "\n",
    "attack_trace2 = attack_trace2.reshape(10000,700,1)"
   ]
  },
  {
   "cell_type": "code",
   "execution_count": null,
   "id": "c19ac363-bd29-4b4d-b64c-571182c412df",
   "metadata": {},
   "outputs": [],
   "source": [
    "def cnn_best(classes=256,input_dim=700):\n",
    "\t# From VGG16 design\n",
    "\tinput_shape = (input_dim,1)\n",
    "\timg_input = Input(shape=input_shape)\n",
    "\t# Block 1\n",
    "\tx = Conv1D(64, 11, activation='relu', padding='same', name='block1_conv1')(img_input)\n",
    "\tx = AveragePooling1D(2, strides=2, name='block1_pool')(x)\n",
    "\t# Block 2\n",
    "\tx = Conv1D(128, 11, activation='relu', padding='same', name='block2_conv1')(x)\n",
    "\tx = AveragePooling1D(2, strides=2, name='block2_pool')(x)\n",
    "\t# Block 3\n",
    "\tx = Conv1D(256, 11, activation='relu', padding='same', name='block3_conv1')(x)\n",
    "\tx = AveragePooling1D(2, strides=2, name='block3_pool')(x)\n",
    "\t# Block 4\n",
    "\tx = Conv1D(512, 11, activation='relu', padding='same', name='block4_conv1')(x)\n",
    "\tx = AveragePooling1D(2, strides=2, name='block4_pool')(x)\n",
    "\t# Block 5\n",
    "\tx = Conv1D(512, 11, activation='relu', padding='same', name='block5_conv1')(x)\n",
    "\tx = AveragePooling1D(2, strides=2, name='block5_pool')(x)\n",
    "\t# Classification block\n",
    "\tx = Flatten(name='flatten')(x)\n",
    "\tx = Dense(4096, activation='relu', name='fc1')(x)\n",
    "\tx = Dense(4096, activation='relu', name='fc2')(x)\n",
    "\t# x = Dense(classes, activation='softmax', name='predictions')(x)\n",
    "\tx = Dense(classes, name='predictions')(x)\n",
    "\n",
    "\tinputs = img_input\n",
    "\t# Create model.\n",
    "\tmodel = Model(inputs, x, name='cnn_best')\n",
    "\toptimizer = RMSprop(learning_rate=0.00001)\n",
    "\tloss_fn = tf.keras.losses.SparseCategoricalCrossentropy(from_logits=True)\n",
    "\t# model.compile(loss='categorical_crossentropy', optimizer=optimizer, metrics=['accuracy'])\n",
    "\tmodel.compile(loss=loss_fn, optimizer=optimizer, metrics=['accuracy'])\n",
    "\treturn model"
   ]
  },
  {
   "cell_type": "code",
   "execution_count": null,
   "id": "41a9a5ab-3388-4b8e-80fe-b4ab80c27e5b",
   "metadata": {},
   "outputs": [],
   "source": [
    "cnn_best()"
   ]
  },
  {
   "cell_type": "code",
   "execution_count": null,
   "id": "ce142d48-8ed2-4b04-8a44-01dc36d8fee0",
   "metadata": {},
   "outputs": [],
   "source": [
    "model=cnn_best(classes=256,input_dim=700)\n",
    "epochs=117\n",
    "learning_data = model.fit(train_trace2,train_sbox_out,epochs=epochs,batch_size=200,validation_data=(test_trace2,test_sbox_out))"
   ]
  },
  {
   "cell_type": "code",
   "execution_count": null,
   "id": "b3a29a7a-9fbb-441a-b2cd-afa2860871ab",
   "metadata": {},
   "outputs": [],
   "source": [
    "out = 'result'\n",
    "\n",
    "os.makedirs(os.path.join('./', out), exist_ok=True)\n",
    "model.save_weights(os.path.join('./',out,'compare_attack_{}byte.h5').format(TARGET_BYTE))"
   ]
  },
  {
   "cell_type": "code",
   "execution_count": null,
   "id": "96ca35fc-5ce1-4aad-9233-c56e16686544",
   "metadata": {},
   "outputs": [],
   "source": [
    "plt.figure()\n",
    "plt.subplot(1,1,1)\n",
    "plt.plot(range(1,epochs+1), learning_data.history['accuracy'], label = 'train_accuracy')\n",
    "plt.plot(range(1,epochs+1), learning_data.history['val_accuracy'], label = 'test_accuracy')\n",
    "plt.xlabel('epochs')\n",
    "plt.ylabel('accuracy')\n",
    "plt.title('accuracy_{}byte'.format(TARGET_BYTE))\n",
    "plt.legend()\n",
    "plt.savefig('./'+out+'/compare_accuracy_{}byte.png'.format(TARGET_BYTE))"
   ]
  },
  {
   "cell_type": "code",
   "execution_count": null,
   "id": "bc908bdc-e3d7-496d-82a4-80f9ab632809",
   "metadata": {},
   "outputs": [],
   "source": [
    "predicts = model.predict(attack_trace2)\n",
    "predicts = tf.nn.softmax(predicts)\n",
    "predicts.shape"
   ]
  },
  {
   "cell_type": "code",
   "execution_count": null,
   "id": "eb01e4c4-0cd6-4da0-9f37-ffdad4b4c144",
   "metadata": {},
   "outputs": [],
   "source": [
    "attack_plain=attack_metadata['plaintext']"
   ]
  },
  {
   "cell_type": "code",
   "execution_count": null,
   "id": "bc8bf2d3-20f7-4bf5-b3b0-961b65560ead",
   "metadata": {},
   "outputs": [],
   "source": [
    "attack_sbox_in = []\n",
    "for estimated_key in range(256): #256通りの推定鍵だけ繰り返す。\n",
    "    attack_sbox_in.append(attack_plain^np.array([estimated_key]*16)) #平文と推定鍵のXORがSbox(SubBytes)入力\n",
    "attack_sbox_in = np.array(attack_sbox_in)\n",
    "attack_sbox_out = np.array([AES_Sbox[i] for i in attack_sbox_in])\n",
    "attack_sbox_out = attack_sbox_out[:,:,TARGET_BYTE]"
   ]
  },
  {
   "cell_type": "code",
   "execution_count": null,
   "id": "8e1c16b5-041f-4ad5-8c9f-82ddc9f96c4a",
   "metadata": {},
   "outputs": [],
   "source": [
    "attack_sbox_out = attack_sbox_out[:,50000:] #全体の内, 最後の10000を攻撃に使用"
   ]
  },
  {
   "cell_type": "code",
   "execution_count": null,
   "id": "26d74c63-e5ea-444d-bfd7-b6586cc119f0",
   "metadata": {},
   "outputs": [],
   "source": [
    "result = np.ones(256) /256\n",
    "rank = []\n",
    "attack_sbox_out = np.array(attack_sbox_out)\n",
    "pred = predicts.numpy()\n",
    "\n",
    "for i in range(len(predicts)):\n",
    "    result *= pred[i, attack_sbox_out[:, i]]\n",
    "    result = result /np.sum(result)\n",
    "    rank.append(list(np.argsort(result)[::-1]).index(attack_key[0][TARGET_BYTE])+1)\n",
    "    "
   ]
  },
  {
   "cell_type": "code",
   "execution_count": null,
   "id": "8ed27e2d-5b5a-45f6-87da-910808a82d92",
   "metadata": {},
   "outputs": [],
   "source": [
    "rank_lim = rank[0:10000]\n",
    "plt.figure()\n",
    "plt.plot(rank_lim)\n",
    "plt.xlabel('wave')\n",
    "plt.ylabel('rank')\n",
    "plt.title('target_{}byte'.format(TARGET_BYTE))\n",
    "plt.savefig('./'+out+'/compare_rank_{}byte.png'.format(TARGET_BYTE))"
   ]
  },
  {
   "cell_type": "code",
   "execution_count": null,
   "id": "c426508b-0792-40d7-ae06-ed818f30d463",
   "metadata": {},
   "outputs": [],
   "source": [
    "recovered_key3=[]\n",
    "\n",
    "for i in range(10000):\n",
    "        if rank[i] == 1: #推定した鍵と正解鍵が一致しているかを確認\n",
    "            count3 = 1\n",
    "        else:\n",
    "            count3 = 0\n",
    "        \n",
    "        recovered_key3.append(count3) #攻撃成功バイト数の保存\n",
    "\n",
    "recovered_key3 = np.array(recovered_key3)\n",
    "np.save('./'+out+'/test3.npy', recovered_key3)"
   ]
  },
  {
   "cell_type": "code",
   "execution_count": null,
   "id": "39c7b868-e1c3-4fe3-9cac-a0d939f3a081",
   "metadata": {},
   "outputs": [],
   "source": [
    "TARGET_BYTE = 4 #何バイト目を攻撃するか決める"
   ]
  },
  {
   "cell_type": "code",
   "execution_count": null,
   "id": "f6cac93c-226a-4809-af2a-b9e3d63a51fa",
   "metadata": {},
   "outputs": [],
   "source": [
    "AES_Sbox = np.array([\n",
    "\t\t\t0x63, 0x7C, 0x77, 0x7B, 0xF2, 0x6B, 0x6F, 0xC5, 0x30, 0x01, 0x67, 0x2B, 0xFE, 0xD7, 0xAB, 0x76,\n",
    "\t\t\t0xCA, 0x82, 0xC9, 0x7D, 0xFA, 0x59, 0x47, 0xF0, 0xAD, 0xD4, 0xA2, 0xAF, 0x9C, 0xA4, 0x72, 0xC0,\n",
    "\t\t\t0xB7, 0xFD, 0x93, 0x26, 0x36, 0x3F, 0xF7, 0xCC, 0x34, 0xA5, 0xE5, 0xF1, 0x71, 0xD8, 0x31, 0x15,\n",
    "\t\t\t0x04, 0xC7, 0x23, 0xC3, 0x18, 0x96, 0x05, 0x9A, 0x07, 0x12, 0x80, 0xE2, 0xEB, 0x27, 0xB2, 0x75,\n",
    "\t\t\t0x09, 0x83, 0x2C, 0x1A, 0x1B, 0x6E, 0x5A, 0xA0, 0x52, 0x3B, 0xD6, 0xB3, 0x29, 0xE3, 0x2F, 0x84,\n",
    "\t\t\t0x53, 0xD1, 0x00, 0xED, 0x20, 0xFC, 0xB1, 0x5B, 0x6A, 0xCB, 0xBE, 0x39, 0x4A, 0x4C, 0x58, 0xCF,\n",
    "\t\t\t0xD0, 0xEF, 0xAA, 0xFB, 0x43, 0x4D, 0x33, 0x85, 0x45, 0xF9, 0x02, 0x7F, 0x50, 0x3C, 0x9F, 0xA8,\n",
    "\t\t\t0x51, 0xA3, 0x40, 0x8F, 0x92, 0x9D, 0x38, 0xF5, 0xBC, 0xB6, 0xDA, 0x21, 0x10, 0xFF, 0xF3, 0xD2,\n",
    "\t\t\t0xCD, 0x0C, 0x13, 0xEC, 0x5F, 0x97, 0x44, 0x17, 0xC4, 0xA7, 0x7E, 0x3D, 0x64, 0x5D, 0x19, 0x73,\n",
    "\t\t\t0x60, 0x81, 0x4F, 0xDC, 0x22, 0x2A, 0x90, 0x88, 0x46, 0xEE, 0xB8, 0x14, 0xDE, 0x5E, 0x0B, 0xDB,\n",
    "\t\t\t0xE0, 0x32, 0x3A, 0x0A, 0x49, 0x06, 0x24, 0x5C, 0xC2, 0xD3, 0xAC, 0x62, 0x91, 0x95, 0xE4, 0x79,\n",
    "\t\t\t0xE7, 0xC8, 0x37, 0x6D, 0x8D, 0xD5, 0x4E, 0xA9, 0x6C, 0x56, 0xF4, 0xEA, 0x65, 0x7A, 0xAE, 0x08,\n",
    "\t\t\t0xBA, 0x78, 0x25, 0x2E, 0x1C, 0xA6, 0xB4, 0xC6, 0xE8, 0xDD, 0x74, 0x1F, 0x4B, 0xBD, 0x8B, 0x8A,\n",
    "\t\t\t0x70, 0x3E, 0xB5, 0x66, 0x48, 0x03, 0xF6, 0x0E, 0x61, 0x35, 0x57, 0xB9, 0x86, 0xC1, 0x1D, 0x9E,\n",
    "\t\t\t0xE1, 0xF8, 0x98, 0x11, 0x69, 0xD9, 0x8E, 0x94, 0x9B, 0x1E, 0x87, 0xE9, 0xCE, 0x55, 0x28, 0xDF,\n",
    "\t\t\t0x8C, 0xA1, 0x89, 0x0D, 0xBF, 0xE6, 0x42, 0x68, 0x41, 0x99, 0x2D, 0x0F, 0xB0, 0x54, 0xBB, 0x16\n",
    "\t\t\t])"
   ]
  },
  {
   "cell_type": "code",
   "execution_count": null,
   "id": "1ec6cc98-ec04-44e7-9c0e-8a1c567e67d8",
   "metadata": {},
   "outputs": [],
   "source": [
    "data_train = h5py.File('ATMega8515_raw_traces.h5', 'r')\n",
    "data_test = h5py.File('ATMega8515_raw_traces.h5', 'r')\n",
    "data_attack = h5py.File('ATMega8515_raw_traces.h5', 'r')"
   ]
  },
  {
   "cell_type": "code",
   "execution_count": null,
   "id": "07f1a86a-0a05-4b6f-bdc3-6ad839a66e3d",
   "metadata": {},
   "outputs": [],
   "source": [
    "train_metadata=data_train['metadata']\n",
    "train_plain = train_metadata['plaintext']\n",
    "train_cipher = train_metadata['ciphertext']\n",
    "train_key = train_metadata['key']\n",
    "train_mask = train_metadata['masks']\n",
    "train_trace = data_train['traces']\n",
    "\n",
    "test_metadata=data_test['metadata']\n",
    "test_plain = test_metadata['plaintext']\n",
    "test_cipher = test_metadata['ciphertext']\n",
    "test_key = test_metadata['key']\n",
    "test_mask = test_metadata['masks']\n",
    "test_trace = data_train['traces']\n",
    "\n",
    "attack_metadata=data_attack['metadata']\n",
    "attack_plain = attack_metadata['plaintext']\n",
    "attack_cipher = attack_metadata['ciphertext']\n",
    "attack_key = attack_metadata['key']\n",
    "attack_mask = attack_metadata['masks']\n",
    "attack_trace = data_train['traces']"
   ]
  },
  {
   "cell_type": "code",
   "execution_count": null,
   "id": "319bb44e-a725-4104-aaae-ece74f639f3c",
   "metadata": {},
   "outputs": [],
   "source": [
    "train_trace.shape"
   ]
  },
  {
   "cell_type": "code",
   "execution_count": null,
   "id": "1ea2983c-390c-4dac-b36b-bee9412107b1",
   "metadata": {},
   "outputs": [],
   "source": [
    "print(train_metadata.shape, train_trace.shape, train_plain.shape, train_cipher.shape, train_key.shape, train_mask.shape)"
   ]
  },
  {
   "cell_type": "code",
   "execution_count": null,
   "id": "e8a31aa1-0fe1-4272-bcd7-8854755d1c74",
   "metadata": {},
   "outputs": [],
   "source": [
    "train_trace = train_trace[0:45000, 47482:48182]\n",
    "test_trace = test_trace[45000:50000, 47482:48182]\n",
    "attack_trace = attack_trace[50000:60000, 47482:48182]\n",
    "train_plain = train_plain[0:45000, :]\n",
    "test_plain = test_plain[45000:50000, :]\n",
    "train_trace2 = train_trace\n",
    "test_trace2 = test_trace\n",
    "attack_trace2 = attack_trace\n",
    "train_trace.shape"
   ]
  },
  {
   "cell_type": "code",
   "execution_count": null,
   "id": "78233aa9-c683-4ae4-8c20-e26e6ea6303f",
   "metadata": {},
   "outputs": [],
   "source": [
    "train_key = train_key[0:45000,:]\n",
    "train_sbox_in = []\n",
    "train_sbox_in = np.array(train_plain^train_key) #平文と鍵のXORがSbox(SubBytes)入力\n",
    "train_sbox_out = np.array([AES_Sbox[i] for i in train_sbox_in])"
   ]
  },
  {
   "cell_type": "code",
   "execution_count": null,
   "id": "413382f7-7af0-44ae-af20-98ea92d1b32c",
   "metadata": {},
   "outputs": [],
   "source": [
    "test_key = test_key[0:5000,:]\n",
    "test_sbox_in = []\n",
    "test_sbox_in = np.array(test_plain^np.array(test_key)) #平文と鍵のXORがSbox(SubBytes)入力\n",
    "test_sbox_out = np.array([AES_Sbox[i] for i in test_sbox_in])"
   ]
  },
  {
   "cell_type": "code",
   "execution_count": null,
   "id": "56cf1287-fed2-426c-862f-b57f9e01f9e3",
   "metadata": {},
   "outputs": [],
   "source": [
    "train_sbox_out = train_sbox_out[:,TARGET_BYTE]\n",
    "test_sbox_out = test_sbox_out[:,TARGET_BYTE]"
   ]
  },
  {
   "cell_type": "code",
   "execution_count": null,
   "id": "df97c2e0-fd57-4ecf-b785-f9fee1e659a6",
   "metadata": {},
   "outputs": [],
   "source": [
    "#波形データの標準化(データを平均で引いて標準偏差で割る)\n",
    "train_trace2 = (train_trace2 -np.mean(train_trace2, axis = 0))/np.std(train_trace2, axis = 0)\n",
    "\n",
    "test_trace2 = (test_trace2 - np.mean(test_trace2, axis = 0))/np.std(test_trace2, axis = 0)\n",
    "\n",
    "attack_trace2 = (attack_trace2 - np.mean(attack_trace2, axis = 0))/np.std(attack_trace2, axis = 0)\n",
    "\n",
    "#DeepLearningできるshapeに変更\n",
    "train_trace2 = train_trace2.reshape(45000,700,1)\n",
    "\n",
    "test_trace2 = test_trace2.reshape(5000,700,1)\n",
    "\n",
    "attack_trace2 = attack_trace2.reshape(10000,700,1)"
   ]
  },
  {
   "cell_type": "code",
   "execution_count": null,
   "id": "7cf42a58-4ba4-43da-890b-01da1dcc8bb1",
   "metadata": {},
   "outputs": [],
   "source": [
    "cnn_best()"
   ]
  },
  {
   "cell_type": "code",
   "execution_count": null,
   "id": "afb8e697-c329-436b-88f4-14d617f3b454",
   "metadata": {},
   "outputs": [],
   "source": [
    "def cnn_best(classes=256,input_dim=700):\n",
    "\t# From VGG16 design\n",
    "\tinput_shape = (input_dim,1)\n",
    "\timg_input = Input(shape=input_shape)\n",
    "\t# Block 1\n",
    "\tx = Conv1D(64, 11, activation='relu', padding='same', name='block1_conv1')(img_input)\n",
    "\tx = AveragePooling1D(2, strides=2, name='block1_pool')(x)\n",
    "\t# Block 2\n",
    "\tx = Conv1D(128, 11, activation='relu', padding='same', name='block2_conv1')(x)\n",
    "\tx = AveragePooling1D(2, strides=2, name='block2_pool')(x)\n",
    "\t# Block 3\n",
    "\tx = Conv1D(256, 11, activation='relu', padding='same', name='block3_conv1')(x)\n",
    "\tx = AveragePooling1D(2, strides=2, name='block3_pool')(x)\n",
    "\t# Block 4\n",
    "\tx = Conv1D(512, 11, activation='relu', padding='same', name='block4_conv1')(x)\n",
    "\tx = AveragePooling1D(2, strides=2, name='block4_pool')(x)\n",
    "\t# Block 5\n",
    "\tx = Conv1D(512, 11, activation='relu', padding='same', name='block5_conv1')(x)\n",
    "\tx = AveragePooling1D(2, strides=2, name='block5_pool')(x)\n",
    "\t# Classification block\n",
    "\tx = Flatten(name='flatten')(x)\n",
    "\tx = Dense(4096, activation='relu', name='fc1')(x)\n",
    "\tx = Dense(4096, activation='relu', name='fc2')(x)\n",
    "\t# x = Dense(classes, activation='softmax', name='predictions')(x)\n",
    "\tx = Dense(classes, name='predictions')(x)\n",
    "\n",
    "\tinputs = img_input\n",
    "\t# Create model.\n",
    "\tmodel = Model(inputs, x, name='cnn_best')\n",
    "\toptimizer = RMSprop(learning_rate=0.00001)\n",
    "\tloss_fn = tf.keras.losses.SparseCategoricalCrossentropy(from_logits=True)\n",
    "\t# model.compile(loss='categorical_crossentropy', optimizer=optimizer, metrics=['accuracy'])\n",
    "\tmodel.compile(loss=loss_fn, optimizer=optimizer, metrics=['accuracy'])\n",
    "\treturn model"
   ]
  },
  {
   "cell_type": "code",
   "execution_count": null,
   "id": "f5fa4d50-0fad-4c9c-a282-30d5db449e6f",
   "metadata": {},
   "outputs": [],
   "source": [
    "cnn_best()"
   ]
  },
  {
   "cell_type": "code",
   "execution_count": null,
   "id": "776bc3e8-b2ff-4403-8518-11fd30889cd3",
   "metadata": {},
   "outputs": [],
   "source": [
    "model=cnn_best(classes=256,input_dim=700)\n",
    "epochs=117\n",
    "learning_data = model.fit(train_trace2,train_sbox_out,epochs=epochs,batch_size=200,validation_data=(test_trace2,test_sbox_out))"
   ]
  },
  {
   "cell_type": "code",
   "execution_count": null,
   "id": "57ff2563-1ec3-4599-8250-563411cec935",
   "metadata": {},
   "outputs": [],
   "source": [
    "out = 'result'\n",
    "\n",
    "os.makedirs(os.path.join('./', out), exist_ok=True)\n",
    "model.save_weights(os.path.join('./',out,'compare_attack_{}byte.h5').format(TARGET_BYTE))"
   ]
  },
  {
   "cell_type": "code",
   "execution_count": null,
   "id": "35a37e65-066d-4588-b6c4-fb08f53bd25a",
   "metadata": {},
   "outputs": [],
   "source": [
    "plt.figure()\n",
    "plt.subplot(1,1,1)\n",
    "plt.plot(range(1,epochs+1), learning_data.history['accuracy'], label = 'train_accuracy')\n",
    "plt.plot(range(1,epochs+1), learning_data.history['val_accuracy'], label = 'test_accuracy')\n",
    "plt.xlabel('epochs')\n",
    "plt.ylabel('accuracy')\n",
    "plt.title('accuracy_{}byte'.format(TARGET_BYTE))\n",
    "plt.legend()\n",
    "plt.savefig('./'+out+'/compare_accuracy_{}byte.png'.format(TARGET_BYTE))"
   ]
  },
  {
   "cell_type": "code",
   "execution_count": null,
   "id": "1884209d-cf65-4ad0-a9b4-b979c84a59a4",
   "metadata": {},
   "outputs": [],
   "source": [
    "predicts = model.predict(attack_trace2)\n",
    "predicts = tf.nn.softmax(predicts)\n",
    "predicts.shape"
   ]
  },
  {
   "cell_type": "code",
   "execution_count": null,
   "id": "225d66b3-2bf9-4ee1-b331-b020520ec798",
   "metadata": {},
   "outputs": [],
   "source": [
    "attack_plain=attack_metadata['plaintext']"
   ]
  },
  {
   "cell_type": "code",
   "execution_count": null,
   "id": "c2627808-a0c8-48d9-8a56-d4ed2094d744",
   "metadata": {},
   "outputs": [],
   "source": [
    "attack_sbox_in = []\n",
    "for estimated_key in range(256): #256通りの推定鍵だけ繰り返す。\n",
    "    attack_sbox_in.append(attack_plain^np.array([estimated_key]*16)) #平文と推定鍵のXORがSbox(SubBytes)入力\n",
    "attack_sbox_in = np.array(attack_sbox_in)\n",
    "attack_sbox_out = np.array([AES_Sbox[i] for i in attack_sbox_in])\n",
    "attack_sbox_out = attack_sbox_out[:,:,TARGET_BYTE]"
   ]
  },
  {
   "cell_type": "code",
   "execution_count": null,
   "id": "3dbf92d9-5751-4dee-888f-96a574ae7e5d",
   "metadata": {},
   "outputs": [],
   "source": [
    "attack_sbox_out = attack_sbox_out[:,50000:] #全体の内, 最後の1000を攻撃に使用"
   ]
  },
  {
   "cell_type": "code",
   "execution_count": null,
   "id": "5e639d5a-8d16-4a3e-ab00-ef5cf31da63a",
   "metadata": {},
   "outputs": [],
   "source": [
    "result = np.ones(256) /256\n",
    "rank = []\n",
    "attack_sbox_out = np.array(attack_sbox_out)\n",
    "pred = predicts.numpy()\n",
    "\n",
    "for i in range(len(predicts)):\n",
    "    result *= pred[i, attack_sbox_out[:, i]]\n",
    "    result = result /np.sum(result)\n",
    "    rank.append(list(np.argsort(result)[::-1]).index(attack_key[0][TARGET_BYTE])+1)\n",
    "    "
   ]
  },
  {
   "cell_type": "code",
   "execution_count": null,
   "id": "c63ac7bd-7d7a-4354-bbd4-6eb3328fe47a",
   "metadata": {},
   "outputs": [],
   "source": [
    "rank_lim = rank[0:10000]\n",
    "plt.figure()\n",
    "plt.plot(rank_lim)\n",
    "plt.xlabel('wave')\n",
    "plt.ylabel('rank')\n",
    "plt.title('target_{}byte'.format(TARGET_BYTE))\n",
    "plt.savefig('./'+out+'/compare_rank_{}byte.png'.format(TARGET_BYTE))"
   ]
  },
  {
   "cell_type": "code",
   "execution_count": null,
   "id": "afb39555-0637-4a38-8d46-84e77b3fac18",
   "metadata": {},
   "outputs": [],
   "source": [
    "recovered_key4=[]\n",
    "\n",
    "for i in range(10000):\n",
    "        if rank[i] == 1: #推定した鍵と正解鍵が一致しているかを確認\n",
    "            count4 = 1\n",
    "        else:\n",
    "            count4 = 0\n",
    "        \n",
    "        recovered_key4.append(count4) #攻撃成功バイト数の保存\n",
    "\n",
    "recovered_key4 = np.array(recovered_key4)\n",
    "np.save('./'+out+'/test4.npy', recovered_key4)"
   ]
  },
  {
   "cell_type": "code",
   "execution_count": null,
   "id": "e6f3652c-412d-4f5d-ad9c-65e9b7809aeb",
   "metadata": {},
   "outputs": [],
   "source": [
    "TARGET_BYTE = 5 #何バイト目を攻撃するか決める"
   ]
  },
  {
   "cell_type": "code",
   "execution_count": null,
   "id": "99192eab-733c-48a8-b0be-6dd0d4ee1583",
   "metadata": {},
   "outputs": [],
   "source": [
    "AES_Sbox = np.array([\n",
    "\t\t\t0x63, 0x7C, 0x77, 0x7B, 0xF2, 0x6B, 0x6F, 0xC5, 0x30, 0x01, 0x67, 0x2B, 0xFE, 0xD7, 0xAB, 0x76,\n",
    "\t\t\t0xCA, 0x82, 0xC9, 0x7D, 0xFA, 0x59, 0x47, 0xF0, 0xAD, 0xD4, 0xA2, 0xAF, 0x9C, 0xA4, 0x72, 0xC0,\n",
    "\t\t\t0xB7, 0xFD, 0x93, 0x26, 0x36, 0x3F, 0xF7, 0xCC, 0x34, 0xA5, 0xE5, 0xF1, 0x71, 0xD8, 0x31, 0x15,\n",
    "\t\t\t0x04, 0xC7, 0x23, 0xC3, 0x18, 0x96, 0x05, 0x9A, 0x07, 0x12, 0x80, 0xE2, 0xEB, 0x27, 0xB2, 0x75,\n",
    "\t\t\t0x09, 0x83, 0x2C, 0x1A, 0x1B, 0x6E, 0x5A, 0xA0, 0x52, 0x3B, 0xD6, 0xB3, 0x29, 0xE3, 0x2F, 0x84,\n",
    "\t\t\t0x53, 0xD1, 0x00, 0xED, 0x20, 0xFC, 0xB1, 0x5B, 0x6A, 0xCB, 0xBE, 0x39, 0x4A, 0x4C, 0x58, 0xCF,\n",
    "\t\t\t0xD0, 0xEF, 0xAA, 0xFB, 0x43, 0x4D, 0x33, 0x85, 0x45, 0xF9, 0x02, 0x7F, 0x50, 0x3C, 0x9F, 0xA8,\n",
    "\t\t\t0x51, 0xA3, 0x40, 0x8F, 0x92, 0x9D, 0x38, 0xF5, 0xBC, 0xB6, 0xDA, 0x21, 0x10, 0xFF, 0xF3, 0xD2,\n",
    "\t\t\t0xCD, 0x0C, 0x13, 0xEC, 0x5F, 0x97, 0x44, 0x17, 0xC4, 0xA7, 0x7E, 0x3D, 0x64, 0x5D, 0x19, 0x73,\n",
    "\t\t\t0x60, 0x81, 0x4F, 0xDC, 0x22, 0x2A, 0x90, 0x88, 0x46, 0xEE, 0xB8, 0x14, 0xDE, 0x5E, 0x0B, 0xDB,\n",
    "\t\t\t0xE0, 0x32, 0x3A, 0x0A, 0x49, 0x06, 0x24, 0x5C, 0xC2, 0xD3, 0xAC, 0x62, 0x91, 0x95, 0xE4, 0x79,\n",
    "\t\t\t0xE7, 0xC8, 0x37, 0x6D, 0x8D, 0xD5, 0x4E, 0xA9, 0x6C, 0x56, 0xF4, 0xEA, 0x65, 0x7A, 0xAE, 0x08,\n",
    "\t\t\t0xBA, 0x78, 0x25, 0x2E, 0x1C, 0xA6, 0xB4, 0xC6, 0xE8, 0xDD, 0x74, 0x1F, 0x4B, 0xBD, 0x8B, 0x8A,\n",
    "\t\t\t0x70, 0x3E, 0xB5, 0x66, 0x48, 0x03, 0xF6, 0x0E, 0x61, 0x35, 0x57, 0xB9, 0x86, 0xC1, 0x1D, 0x9E,\n",
    "\t\t\t0xE1, 0xF8, 0x98, 0x11, 0x69, 0xD9, 0x8E, 0x94, 0x9B, 0x1E, 0x87, 0xE9, 0xCE, 0x55, 0x28, 0xDF,\n",
    "\t\t\t0x8C, 0xA1, 0x89, 0x0D, 0xBF, 0xE6, 0x42, 0x68, 0x41, 0x99, 0x2D, 0x0F, 0xB0, 0x54, 0xBB, 0x16\n",
    "\t\t\t])"
   ]
  },
  {
   "cell_type": "code",
   "execution_count": null,
   "id": "27ca5238-ccf2-4820-82d3-5e8c40b9a0ed",
   "metadata": {},
   "outputs": [],
   "source": [
    "data_train = h5py.File('ATMega8515_raw_traces.h5', 'r')\n",
    "data_test = h5py.File('ATMega8515_raw_traces.h5', 'r')\n",
    "data_attack = h5py.File('ATMega8515_raw_traces.h5', 'r')"
   ]
  },
  {
   "cell_type": "code",
   "execution_count": null,
   "id": "c8449a2e-1a83-46c7-aaec-e16943738765",
   "metadata": {},
   "outputs": [],
   "source": [
    "train_metadata=data_train['metadata']\n",
    "train_plain = train_metadata['plaintext']\n",
    "train_cipher = train_metadata['ciphertext']\n",
    "train_key = train_metadata['key']\n",
    "train_mask = train_metadata['masks']\n",
    "train_trace = data_train['traces']\n",
    "\n",
    "test_metadata=data_test['metadata']\n",
    "test_plain = test_metadata['plaintext']\n",
    "test_cipher = test_metadata['ciphertext']\n",
    "test_key = test_metadata['key']\n",
    "test_mask = test_metadata['masks']\n",
    "test_trace = data_train['traces']\n",
    "\n",
    "attack_metadata=data_attack['metadata']\n",
    "attack_plain = attack_metadata['plaintext']\n",
    "attack_cipher = attack_metadata['ciphertext']\n",
    "attack_key = attack_metadata['key']\n",
    "attack_mask = attack_metadata['masks']\n",
    "attack_trace = data_train['traces']"
   ]
  },
  {
   "cell_type": "code",
   "execution_count": null,
   "id": "f09a8e1b-b208-4611-b0fb-28d727494f62",
   "metadata": {},
   "outputs": [],
   "source": [
    "train_trace = train_trace[0:45000, 41235:41935]\n",
    "test_trace = test_trace[45000:50000, 41235:41935]\n",
    "attack_trace = attack_trace[50000:60000, 41235:41935]\n",
    "train_plain = train_plain[0:45000, :]\n",
    "test_plain = test_plain[45000:50000, :]\n",
    "train_trace2 = train_trace\n",
    "test_trace2 = test_trace\n",
    "attack_trace2 = attack_trace\n",
    "train_trace.shape"
   ]
  },
  {
   "cell_type": "code",
   "execution_count": null,
   "id": "4474d1f2-18f0-453d-82b6-d0dd73244495",
   "metadata": {},
   "outputs": [],
   "source": [
    "train_key = train_key[0:45000,:]\n",
    "train_sbox_in = []\n",
    "train_sbox_in = np.array(train_plain^train_key) #平文と鍵のXORがSbox(SubBytes)入力\n",
    "train_sbox_out = np.array([AES_Sbox[i] for i in train_sbox_in])"
   ]
  },
  {
   "cell_type": "code",
   "execution_count": null,
   "id": "a002b8bf-241e-421a-862a-f54dc83ac678",
   "metadata": {},
   "outputs": [],
   "source": [
    "test_key = test_key[0:5000,:]\n",
    "test_sbox_in = []\n",
    "test_sbox_in = np.array(test_plain^np.array(test_key)) #平文と鍵のXORがSbox(SubBytes)入力\n",
    "test_sbox_out = np.array([AES_Sbox[i] for i in test_sbox_in])"
   ]
  },
  {
   "cell_type": "code",
   "execution_count": null,
   "id": "b5c8c4df-7ca9-46d2-8f37-8b4e6253169e",
   "metadata": {},
   "outputs": [],
   "source": [
    "train_sbox_out = train_sbox_out[:,TARGET_BYTE]\n",
    "test_sbox_out = test_sbox_out[:,TARGET_BYTE]"
   ]
  },
  {
   "cell_type": "code",
   "execution_count": null,
   "id": "4354d4e9-5508-4012-9a14-7163d387ce62",
   "metadata": {},
   "outputs": [],
   "source": [
    "#波形データの標準化(データを平均で引いて標準偏差で割る)\n",
    "train_trace2 = (train_trace2 -np.mean(train_trace2, axis = 0))/np.std(train_trace2, axis = 0)\n",
    "\n",
    "test_trace2 = (test_trace2 - np.mean(test_trace2, axis = 0))/np.std(test_trace2, axis = 0)\n",
    "\n",
    "attack_trace2 = (attack_trace2 - np.mean(attack_trace2, axis = 0))/np.std(attack_trace2, axis = 0)\n",
    "\n",
    "#DeepLearningできるshapeに変更\n",
    "train_trace2 = train_trace2.reshape(45000,700,1)\n",
    "\n",
    "test_trace2 = test_trace2.reshape(5000,700,1)\n",
    "\n",
    "attack_trace2 = attack_trace2.reshape(10000,700,1)"
   ]
  },
  {
   "cell_type": "code",
   "execution_count": null,
   "id": "0a055a54-c176-43fc-9ff8-8cea0276665a",
   "metadata": {},
   "outputs": [],
   "source": [
    "def cnn_best(classes=256,input_dim=700):\n",
    "\t# From VGG16 design\n",
    "\tinput_shape = (input_dim,1)\n",
    "\timg_input = Input(shape=input_shape)\n",
    "\t# Block 1\n",
    "\tx = Conv1D(64, 11, activation='relu', padding='same', name='block1_conv1')(img_input)\n",
    "\tx = AveragePooling1D(2, strides=2, name='block1_pool')(x)\n",
    "\t# Block 2\n",
    "\tx = Conv1D(128, 11, activation='relu', padding='same', name='block2_conv1')(x)\n",
    "\tx = AveragePooling1D(2, strides=2, name='block2_pool')(x)\n",
    "\t# Block 3\n",
    "\tx = Conv1D(256, 11, activation='relu', padding='same', name='block3_conv1')(x)\n",
    "\tx = AveragePooling1D(2, strides=2, name='block3_pool')(x)\n",
    "\t# Block 4\n",
    "\tx = Conv1D(512, 11, activation='relu', padding='same', name='block4_conv1')(x)\n",
    "\tx = AveragePooling1D(2, strides=2, name='block4_pool')(x)\n",
    "\t# Block 5\n",
    "\tx = Conv1D(512, 11, activation='relu', padding='same', name='block5_conv1')(x)\n",
    "\tx = AveragePooling1D(2, strides=2, name='block5_pool')(x)\n",
    "\t# Classification block\n",
    "\tx = Flatten(name='flatten')(x)\n",
    "\tx = Dense(4096, activation='relu', name='fc1')(x)\n",
    "\tx = Dense(4096, activation='relu', name='fc2')(x)\n",
    "\t# x = Dense(classes, activation='softmax', name='predictions')(x)\n",
    "\tx = Dense(classes, name='predictions')(x)\n",
    "\n",
    "\tinputs = img_input\n",
    "\t# Create model.\n",
    "\tmodel = Model(inputs, x, name='cnn_best')\n",
    "\toptimizer = RMSprop(learning_rate=0.00001)\n",
    "\tloss_fn = tf.keras.losses.SparseCategoricalCrossentropy(from_logits=True)\n",
    "\t# model.compile(loss='categorical_crossentropy', optimizer=optimizer, metrics=['accuracy'])\n",
    "\tmodel.compile(loss=loss_fn, optimizer=optimizer, metrics=['accuracy'])\n",
    "\treturn model"
   ]
  },
  {
   "cell_type": "code",
   "execution_count": null,
   "id": "21134118-4c3c-432a-8c95-c2882d398863",
   "metadata": {},
   "outputs": [],
   "source": [
    "cnn_best()"
   ]
  },
  {
   "cell_type": "code",
   "execution_count": null,
   "id": "c4e5894c-6e5a-4bae-88c4-1fce5ac3c2a3",
   "metadata": {},
   "outputs": [],
   "source": [
    "model=cnn_best(classes=256,input_dim=700)\n",
    "epochs=117\n",
    "learning_data = model.fit(train_trace2,train_sbox_out,epochs=epochs,batch_size=200,validation_data=(test_trace2,test_sbox_out))"
   ]
  },
  {
   "cell_type": "code",
   "execution_count": null,
   "id": "bde3aef3-2c9c-40b5-a5c1-eaa71febba37",
   "metadata": {},
   "outputs": [],
   "source": [
    "out = 'result'\n",
    "\n",
    "os.makedirs(os.path.join('./', out), exist_ok=True)\n",
    "model.save_weights(os.path.join('./',out,'compare_attack_{}byte.h5').format(TARGET_BYTE))"
   ]
  },
  {
   "cell_type": "code",
   "execution_count": null,
   "id": "b91e809d-6c89-4ddc-a43e-f52114519cac",
   "metadata": {},
   "outputs": [],
   "source": [
    "plt.figure()\n",
    "plt.subplot(1,1,1)\n",
    "plt.plot(range(1,epochs+1), learning_data.history['accuracy'], label = 'train_accuracy')\n",
    "plt.plot(range(1,epochs+1), learning_data.history['val_accuracy'], label = 'test_accuracy')\n",
    "plt.xlabel('epochs')\n",
    "plt.ylabel('accuracy')\n",
    "plt.title('accuracy_{}byte'.format(TARGET_BYTE))\n",
    "plt.legend()\n",
    "plt.savefig('./'+out+'/compare_accuracy_{}byte.png'.format(TARGET_BYTE))"
   ]
  },
  {
   "cell_type": "code",
   "execution_count": null,
   "id": "472c47f6-0cd9-4957-a1fa-8ca49e4a523a",
   "metadata": {},
   "outputs": [],
   "source": [
    "predicts = model.predict(attack_trace2)\n",
    "predicts = tf.nn.softmax(predicts)\n",
    "predicts.shape"
   ]
  },
  {
   "cell_type": "code",
   "execution_count": null,
   "id": "ae27fc83-ba90-48cc-943d-46f19776a638",
   "metadata": {},
   "outputs": [],
   "source": [
    "attack_plain=attack_metadata['plaintext']"
   ]
  },
  {
   "cell_type": "code",
   "execution_count": null,
   "id": "c0633409-28df-42b8-8716-b471f162cbed",
   "metadata": {},
   "outputs": [],
   "source": [
    "attack_sbox_in = []\n",
    "for estimated_key in range(256): #256通りの推定鍵だけ繰り返す。\n",
    "    attack_sbox_in.append(attack_plain^np.array([estimated_key]*16)) #平文と推定鍵のXORがSbox(SubBytes)入力\n",
    "attack_sbox_in = np.array(attack_sbox_in)\n",
    "attack_sbox_out = np.array([AES_Sbox[i] for i in attack_sbox_in])\n",
    "attack_sbox_out = attack_sbox_out[:,:,TARGET_BYTE]"
   ]
  },
  {
   "cell_type": "code",
   "execution_count": null,
   "id": "5ceb6a2d-a2dd-4cc5-a2f8-e49c17fa7238",
   "metadata": {},
   "outputs": [],
   "source": [
    "attack_sbox_out = attack_sbox_out[:,50000:] #全体の内, 最後の1000を攻撃に使用"
   ]
  },
  {
   "cell_type": "code",
   "execution_count": null,
   "id": "03c7d52e-76c3-4cb3-88f4-f07b70eaff35",
   "metadata": {},
   "outputs": [],
   "source": [
    "result = np.ones(256) /256\n",
    "rank = []\n",
    "attack_sbox_out = np.array(attack_sbox_out)\n",
    "pred = predicts.numpy()\n",
    "\n",
    "for i in range(len(predicts)):\n",
    "    result *= pred[i, attack_sbox_out[:, i]]\n",
    "    result = result /np.sum(result)\n",
    "    rank.append(list(np.argsort(result)[::-1]).index(attack_key[0][TARGET_BYTE])+1)\n",
    "    "
   ]
  },
  {
   "cell_type": "code",
   "execution_count": null,
   "id": "b5c3e225-2908-46e0-bdbc-87f11fdfbb23",
   "metadata": {},
   "outputs": [],
   "source": [
    "rank_lim = rank[0:10000]\n",
    "plt.figure()\n",
    "plt.plot(rank_lim)\n",
    "plt.xlabel('wave')\n",
    "plt.ylabel('rank')\n",
    "plt.title('target_{}byte'.format(TARGET_BYTE))\n",
    "plt.savefig('./'+out+'/compare_rank_{}byte.png'.format(TARGET_BYTE))"
   ]
  },
  {
   "cell_type": "code",
   "execution_count": null,
   "id": "77370213-d0a6-4d53-b874-95252beb668f",
   "metadata": {},
   "outputs": [],
   "source": [
    "recovered_key5=[]\n",
    "\n",
    "for i in range(10000):\n",
    "        if rank[i] == 1: #推定した鍵と正解鍵が一致しているかを確認\n",
    "            count5 = 1\n",
    "        else:\n",
    "            count5 = 0\n",
    "        \n",
    "        recovered_key5.append(count5) #攻撃成功バイト数の保存\n",
    "\n",
    "recovered_key5 = np.array(recovered_key5)\n",
    "np.save('./'+out+'/test5.npy', recovered_key5)"
   ]
  },
  {
   "cell_type": "code",
   "execution_count": null,
   "id": "5fc97fab-8b38-4a70-b3a8-6a923cc2f71f",
   "metadata": {},
   "outputs": [],
   "source": [
    "TARGET_BYTE = 6 #何バイト目を攻撃するか決める"
   ]
  },
  {
   "cell_type": "code",
   "execution_count": null,
   "id": "7eff0319-8563-4231-bc31-53d7853d20d8",
   "metadata": {},
   "outputs": [],
   "source": [
    "AES_Sbox = np.array([\n",
    "\t\t\t0x63, 0x7C, 0x77, 0x7B, 0xF2, 0x6B, 0x6F, 0xC5, 0x30, 0x01, 0x67, 0x2B, 0xFE, 0xD7, 0xAB, 0x76,\n",
    "\t\t\t0xCA, 0x82, 0xC9, 0x7D, 0xFA, 0x59, 0x47, 0xF0, 0xAD, 0xD4, 0xA2, 0xAF, 0x9C, 0xA4, 0x72, 0xC0,\n",
    "\t\t\t0xB7, 0xFD, 0x93, 0x26, 0x36, 0x3F, 0xF7, 0xCC, 0x34, 0xA5, 0xE5, 0xF1, 0x71, 0xD8, 0x31, 0x15,\n",
    "\t\t\t0x04, 0xC7, 0x23, 0xC3, 0x18, 0x96, 0x05, 0x9A, 0x07, 0x12, 0x80, 0xE2, 0xEB, 0x27, 0xB2, 0x75,\n",
    "\t\t\t0x09, 0x83, 0x2C, 0x1A, 0x1B, 0x6E, 0x5A, 0xA0, 0x52, 0x3B, 0xD6, 0xB3, 0x29, 0xE3, 0x2F, 0x84,\n",
    "\t\t\t0x53, 0xD1, 0x00, 0xED, 0x20, 0xFC, 0xB1, 0x5B, 0x6A, 0xCB, 0xBE, 0x39, 0x4A, 0x4C, 0x58, 0xCF,\n",
    "\t\t\t0xD0, 0xEF, 0xAA, 0xFB, 0x43, 0x4D, 0x33, 0x85, 0x45, 0xF9, 0x02, 0x7F, 0x50, 0x3C, 0x9F, 0xA8,\n",
    "\t\t\t0x51, 0xA3, 0x40, 0x8F, 0x92, 0x9D, 0x38, 0xF5, 0xBC, 0xB6, 0xDA, 0x21, 0x10, 0xFF, 0xF3, 0xD2,\n",
    "\t\t\t0xCD, 0x0C, 0x13, 0xEC, 0x5F, 0x97, 0x44, 0x17, 0xC4, 0xA7, 0x7E, 0x3D, 0x64, 0x5D, 0x19, 0x73,\n",
    "\t\t\t0x60, 0x81, 0x4F, 0xDC, 0x22, 0x2A, 0x90, 0x88, 0x46, 0xEE, 0xB8, 0x14, 0xDE, 0x5E, 0x0B, 0xDB,\n",
    "\t\t\t0xE0, 0x32, 0x3A, 0x0A, 0x49, 0x06, 0x24, 0x5C, 0xC2, 0xD3, 0xAC, 0x62, 0x91, 0x95, 0xE4, 0x79,\n",
    "\t\t\t0xE7, 0xC8, 0x37, 0x6D, 0x8D, 0xD5, 0x4E, 0xA9, 0x6C, 0x56, 0xF4, 0xEA, 0x65, 0x7A, 0xAE, 0x08,\n",
    "\t\t\t0xBA, 0x78, 0x25, 0x2E, 0x1C, 0xA6, 0xB4, 0xC6, 0xE8, 0xDD, 0x74, 0x1F, 0x4B, 0xBD, 0x8B, 0x8A,\n",
    "\t\t\t0x70, 0x3E, 0xB5, 0x66, 0x48, 0x03, 0xF6, 0x0E, 0x61, 0x35, 0x57, 0xB9, 0x86, 0xC1, 0x1D, 0x9E,\n",
    "\t\t\t0xE1, 0xF8, 0x98, 0x11, 0x69, 0xD9, 0x8E, 0x94, 0x9B, 0x1E, 0x87, 0xE9, 0xCE, 0x55, 0x28, 0xDF,\n",
    "\t\t\t0x8C, 0xA1, 0x89, 0x0D, 0xBF, 0xE6, 0x42, 0x68, 0x41, 0x99, 0x2D, 0x0F, 0xB0, 0x54, 0xBB, 0x16\n",
    "\t\t\t])"
   ]
  },
  {
   "cell_type": "code",
   "execution_count": null,
   "id": "decccc96-644c-4054-9fe0-c9e07c7ef106",
   "metadata": {},
   "outputs": [],
   "source": [
    "data_train = h5py.File('ATMega8515_raw_traces.h5', 'r')\n",
    "data_test = h5py.File('ATMega8515_raw_traces.h5', 'r')\n",
    "data_attack = h5py.File('ATMega8515_raw_traces.h5', 'r')"
   ]
  },
  {
   "cell_type": "code",
   "execution_count": null,
   "id": "e0a8b210-cef9-4337-94db-a9fbc30c4c79",
   "metadata": {},
   "outputs": [],
   "source": [
    "train_metadata=data_train['metadata']\n",
    "train_plain = train_metadata['plaintext']\n",
    "train_cipher = train_metadata['ciphertext']\n",
    "train_key = train_metadata['key']\n",
    "train_mask = train_metadata['masks']\n",
    "train_trace = data_train['traces']\n",
    "\n",
    "test_metadata=data_test['metadata']\n",
    "test_plain = test_metadata['plaintext']\n",
    "test_cipher = test_metadata['ciphertext']\n",
    "test_key = test_metadata['key']\n",
    "test_mask = test_metadata['masks']\n",
    "test_trace = data_train['traces']\n",
    "\n",
    "attack_metadata=data_attack['metadata']\n",
    "attack_plain = attack_metadata['plaintext']\n",
    "attack_cipher = attack_metadata['ciphertext']\n",
    "attack_key = attack_metadata['key']\n",
    "attack_mask = attack_metadata['masks']\n",
    "attack_trace = data_train['traces']"
   ]
  },
  {
   "cell_type": "code",
   "execution_count": null,
   "id": "7df5b112-b9b5-4bc3-90eb-ece65fd9771f",
   "metadata": {},
   "outputs": [],
   "source": [
    "train_trace = train_trace[0:45000, 37071:37771]\n",
    "test_trace = test_trace[45000:50000, 37071:37771]\n",
    "attack_trace = attack_trace[50000:60000, 37071:37771]\n",
    "train_plain = train_plain[0:45000, :]\n",
    "test_plain = test_plain[45000:50000, :]\n",
    "train_trace2 = train_trace\n",
    "test_trace2 = test_trace\n",
    "attack_trace2 = attack_trace\n",
    "train_trace.shape"
   ]
  },
  {
   "cell_type": "code",
   "execution_count": null,
   "id": "757082aa-fd01-488f-9b23-fcbcddba1f81",
   "metadata": {},
   "outputs": [],
   "source": [
    "train_key = train_key[0:45000,:]\n",
    "train_sbox_in = []\n",
    "train_sbox_in = np.array(train_plain^train_key) #平文と鍵のXORがSbox(SubBytes)入力\n",
    "train_sbox_out = np.array([AES_Sbox[i] for i in train_sbox_in])"
   ]
  },
  {
   "cell_type": "code",
   "execution_count": null,
   "id": "92cc1037-7e4c-46f9-af00-63707701e50a",
   "metadata": {},
   "outputs": [],
   "source": [
    "test_key = test_key[0:5000,:]\n",
    "test_sbox_in = []\n",
    "test_sbox_in = np.array(test_plain^np.array(test_key)) #平文と鍵のXORがSbox(SubBytes)入力\n",
    "test_sbox_out = np.array([AES_Sbox[i] for i in test_sbox_in])"
   ]
  },
  {
   "cell_type": "code",
   "execution_count": null,
   "id": "7eb4b633-67ce-4488-b390-7048a6d97374",
   "metadata": {},
   "outputs": [],
   "source": [
    "train_sbox_out = train_sbox_out[:,TARGET_BYTE]\n",
    "test_sbox_out = test_sbox_out[:,TARGET_BYTE]"
   ]
  },
  {
   "cell_type": "code",
   "execution_count": null,
   "id": "fc0ea185-77ec-4543-9b98-6a88d2a5c503",
   "metadata": {},
   "outputs": [],
   "source": [
    "#波形データの標準化(データを平均で引いて標準偏差で割る)\n",
    "train_trace2 = (train_trace2 -np.mean(train_trace2, axis = 0))/np.std(train_trace2, axis = 0)\n",
    "\n",
    "test_trace2 = (test_trace2 - np.mean(test_trace2, axis = 0))/np.std(test_trace2, axis = 0)\n",
    "\n",
    "attack_trace2 = (attack_trace2 - np.mean(attack_trace2, axis = 0))/np.std(attack_trace2, axis = 0)\n",
    "\n",
    "#DeepLearningできるshapeに変更\n",
    "train_trace2 = train_trace2.reshape(45000,700,1)\n",
    "\n",
    "test_trace2 = test_trace2.reshape(5000,700,1)\n",
    "\n",
    "attack_trace2 = attack_trace2.reshape(10000,700,1)"
   ]
  },
  {
   "cell_type": "code",
   "execution_count": null,
   "id": "721b1e59-01eb-4a4b-886c-9de56666b345",
   "metadata": {},
   "outputs": [],
   "source": [
    "def cnn_best(classes=256,input_dim=700):\n",
    "\t# From VGG16 design\n",
    "\tinput_shape = (input_dim,1)\n",
    "\timg_input = Input(shape=input_shape)\n",
    "\t# Block 1\n",
    "\tx = Conv1D(64, 11, activation='relu', padding='same', name='block1_conv1')(img_input)\n",
    "\tx = AveragePooling1D(2, strides=2, name='block1_pool')(x)\n",
    "\t# Block 2\n",
    "\tx = Conv1D(128, 11, activation='relu', padding='same', name='block2_conv1')(x)\n",
    "\tx = AveragePooling1D(2, strides=2, name='block2_pool')(x)\n",
    "\t# Block 3\n",
    "\tx = Conv1D(256, 11, activation='relu', padding='same', name='block3_conv1')(x)\n",
    "\tx = AveragePooling1D(2, strides=2, name='block3_pool')(x)\n",
    "\t# Block 4\n",
    "\tx = Conv1D(512, 11, activation='relu', padding='same', name='block4_conv1')(x)\n",
    "\tx = AveragePooling1D(2, strides=2, name='block4_pool')(x)\n",
    "\t# Block 5\n",
    "\tx = Conv1D(512, 11, activation='relu', padding='same', name='block5_conv1')(x)\n",
    "\tx = AveragePooling1D(2, strides=2, name='block5_pool')(x)\n",
    "\t# Classification block\n",
    "\tx = Flatten(name='flatten')(x)\n",
    "\tx = Dense(4096, activation='relu', name='fc1')(x)\n",
    "\tx = Dense(4096, activation='relu', name='fc2')(x)\n",
    "\t# x = Dense(classes, activation='softmax', name='predictions')(x)\n",
    "\tx = Dense(classes, name='predictions')(x)\n",
    "\n",
    "\tinputs = img_input\n",
    "\t# Create model.\n",
    "\tmodel = Model(inputs, x, name='cnn_best')\n",
    "\toptimizer = RMSprop(learning_rate=0.00001)\n",
    "\tloss_fn = tf.keras.losses.SparseCategoricalCrossentropy(from_logits=True)\n",
    "\t# model.compile(loss='categorical_crossentropy', optimizer=optimizer, metrics=['accuracy'])\n",
    "\tmodel.compile(loss=loss_fn, optimizer=optimizer, metrics=['accuracy'])\n",
    "\treturn model"
   ]
  },
  {
   "cell_type": "code",
   "execution_count": null,
   "id": "8d087bb2-b58d-4c6d-a614-49171a5befa5",
   "metadata": {},
   "outputs": [],
   "source": [
    "cnn_best()"
   ]
  },
  {
   "cell_type": "code",
   "execution_count": null,
   "id": "007432cf-ad62-47f8-b746-607c137e0bdf",
   "metadata": {},
   "outputs": [],
   "source": [
    "model=cnn_best(classes=256,input_dim=700)\n",
    "epochs=117\n",
    "learning_data = model.fit(train_trace2,train_sbox_out,epochs=epochs,batch_size=200,validation_data=(test_trace2,test_sbox_out))"
   ]
  },
  {
   "cell_type": "code",
   "execution_count": null,
   "id": "59a643be-cca5-46f4-a1b0-3d545ca88d42",
   "metadata": {},
   "outputs": [],
   "source": [
    "out = 'result'\n",
    "\n",
    "os.makedirs(os.path.join('./', out), exist_ok=True)\n",
    "model.save_weights(os.path.join('./',out,'compare_attack_{}byte.h5').format(TARGET_BYTE))"
   ]
  },
  {
   "cell_type": "code",
   "execution_count": null,
   "id": "957fc903-0537-4264-be7b-2d7f21559dec",
   "metadata": {},
   "outputs": [],
   "source": [
    "plt.figure()\n",
    "plt.subplot(1,1,1)\n",
    "plt.plot(range(1,epochs+1), learning_data.history['accuracy'], label = 'train_accuracy')\n",
    "plt.plot(range(1,epochs+1), learning_data.history['val_accuracy'], label = 'test_accuracy')\n",
    "plt.xlabel('epochs')\n",
    "plt.ylabel('accuracy')\n",
    "plt.title('accuracy_{}byte'.format(TARGET_BYTE))\n",
    "plt.legend()\n",
    "plt.savefig('./'+out+'/compare_accuracy_{}byte.png'.format(TARGET_BYTE))"
   ]
  },
  {
   "cell_type": "code",
   "execution_count": null,
   "id": "53849fa0-6a67-450a-9d01-30f343094105",
   "metadata": {},
   "outputs": [],
   "source": [
    "predicts = model.predict(attack_trace2)\n",
    "predicts = tf.nn.softmax(predicts)\n",
    "predicts.shape"
   ]
  },
  {
   "cell_type": "code",
   "execution_count": null,
   "id": "23c3d83f-8cd1-46fe-992f-874d4b7c0678",
   "metadata": {},
   "outputs": [],
   "source": [
    "attack_plain=attack_metadata['plaintext']"
   ]
  },
  {
   "cell_type": "code",
   "execution_count": null,
   "id": "7777e0d5-7119-4570-ac52-3c97359a9395",
   "metadata": {},
   "outputs": [],
   "source": [
    "attack_sbox_in = []\n",
    "for estimated_key in range(256): #256通りの推定鍵だけ繰り返す。\n",
    "    attack_sbox_in.append(attack_plain^np.array([estimated_key]*16)) #平文と推定鍵のXORがSbox(SubBytes)入力\n",
    "attack_sbox_in = np.array(attack_sbox_in)\n",
    "attack_sbox_out = np.array([AES_Sbox[i] for i in attack_sbox_in])\n",
    "attack_sbox_out = attack_sbox_out[:,:,TARGET_BYTE]"
   ]
  },
  {
   "cell_type": "code",
   "execution_count": null,
   "id": "16055bc4-88a9-4217-9be6-aab7a0f7fe7b",
   "metadata": {},
   "outputs": [],
   "source": [
    "attack_sbox_out = attack_sbox_out[:,50000:] #全体の内, 最後の1000を攻撃に使用"
   ]
  },
  {
   "cell_type": "code",
   "execution_count": null,
   "id": "4cb6f120-438e-4122-85a8-15a2bbafbde5",
   "metadata": {},
   "outputs": [],
   "source": [
    "result = np.ones(256) /256\n",
    "rank = []\n",
    "attack_sbox_out = np.array(attack_sbox_out)\n",
    "pred = predicts.numpy()\n",
    "\n",
    "for i in range(len(predicts)):\n",
    "    result *= pred[i, attack_sbox_out[:, i]]\n",
    "    result = result /np.sum(result)\n",
    "    rank.append(list(np.argsort(result)[::-1]).index(attack_key[0][TARGET_BYTE])+1)\n",
    "    "
   ]
  },
  {
   "cell_type": "code",
   "execution_count": null,
   "id": "548baaad-6e6b-4725-a667-096825251a45",
   "metadata": {},
   "outputs": [],
   "source": [
    "rank_lim = rank[0:10000]\n",
    "plt.figure()\n",
    "plt.plot(rank_lim)\n",
    "plt.xlabel('wave')\n",
    "plt.ylabel('rank')\n",
    "plt.title('target_{}byte'.format(TARGET_BYTE))\n",
    "plt.savefig('./'+out+'/compare_rank_{}byte.png'.format(TARGET_BYTE))"
   ]
  },
  {
   "cell_type": "code",
   "execution_count": null,
   "id": "e09b8ad3-1c07-466d-bab0-dfbc811e76b3",
   "metadata": {},
   "outputs": [],
   "source": [
    "recovered_key6=[]\n",
    "\n",
    "for i in range(10000):\n",
    "        if rank[i] == 1: #推定した鍵と正解鍵が一致しているかを確認\n",
    "            count6 = 1\n",
    "        else:\n",
    "            count6 = 0\n",
    "        \n",
    "        recovered_key6.append(count6) #攻撃成功バイト数の保存\n",
    "\n",
    "recovered_key6 = np.array(recovered_key6)\n",
    "np.save('./'+out+'/test6.npy', recovered_key6)"
   ]
  },
  {
   "cell_type": "code",
   "execution_count": null,
   "id": "5d9b7ebb-97c8-42ae-ac6f-79ddff4dfe6e",
   "metadata": {},
   "outputs": [],
   "source": [
    "TARGET_BYTE = 7 #何バイト目を攻撃するか決める"
   ]
  },
  {
   "cell_type": "code",
   "execution_count": null,
   "id": "f40157c4-d40d-4e0c-a912-c8815cfb9901",
   "metadata": {},
   "outputs": [],
   "source": [
    "AES_Sbox = np.array([\n",
    "\t\t\t0x63, 0x7C, 0x77, 0x7B, 0xF2, 0x6B, 0x6F, 0xC5, 0x30, 0x01, 0x67, 0x2B, 0xFE, 0xD7, 0xAB, 0x76,\n",
    "\t\t\t0xCA, 0x82, 0xC9, 0x7D, 0xFA, 0x59, 0x47, 0xF0, 0xAD, 0xD4, 0xA2, 0xAF, 0x9C, 0xA4, 0x72, 0xC0,\n",
    "\t\t\t0xB7, 0xFD, 0x93, 0x26, 0x36, 0x3F, 0xF7, 0xCC, 0x34, 0xA5, 0xE5, 0xF1, 0x71, 0xD8, 0x31, 0x15,\n",
    "\t\t\t0x04, 0xC7, 0x23, 0xC3, 0x18, 0x96, 0x05, 0x9A, 0x07, 0x12, 0x80, 0xE2, 0xEB, 0x27, 0xB2, 0x75,\n",
    "\t\t\t0x09, 0x83, 0x2C, 0x1A, 0x1B, 0x6E, 0x5A, 0xA0, 0x52, 0x3B, 0xD6, 0xB3, 0x29, 0xE3, 0x2F, 0x84,\n",
    "\t\t\t0x53, 0xD1, 0x00, 0xED, 0x20, 0xFC, 0xB1, 0x5B, 0x6A, 0xCB, 0xBE, 0x39, 0x4A, 0x4C, 0x58, 0xCF,\n",
    "\t\t\t0xD0, 0xEF, 0xAA, 0xFB, 0x43, 0x4D, 0x33, 0x85, 0x45, 0xF9, 0x02, 0x7F, 0x50, 0x3C, 0x9F, 0xA8,\n",
    "\t\t\t0x51, 0xA3, 0x40, 0x8F, 0x92, 0x9D, 0x38, 0xF5, 0xBC, 0xB6, 0xDA, 0x21, 0x10, 0xFF, 0xF3, 0xD2,\n",
    "\t\t\t0xCD, 0x0C, 0x13, 0xEC, 0x5F, 0x97, 0x44, 0x17, 0xC4, 0xA7, 0x7E, 0x3D, 0x64, 0x5D, 0x19, 0x73,\n",
    "\t\t\t0x60, 0x81, 0x4F, 0xDC, 0x22, 0x2A, 0x90, 0x88, 0x46, 0xEE, 0xB8, 0x14, 0xDE, 0x5E, 0x0B, 0xDB,\n",
    "\t\t\t0xE0, 0x32, 0x3A, 0x0A, 0x49, 0x06, 0x24, 0x5C, 0xC2, 0xD3, 0xAC, 0x62, 0x91, 0x95, 0xE4, 0x79,\n",
    "\t\t\t0xE7, 0xC8, 0x37, 0x6D, 0x8D, 0xD5, 0x4E, 0xA9, 0x6C, 0x56, 0xF4, 0xEA, 0x65, 0x7A, 0xAE, 0x08,\n",
    "\t\t\t0xBA, 0x78, 0x25, 0x2E, 0x1C, 0xA6, 0xB4, 0xC6, 0xE8, 0xDD, 0x74, 0x1F, 0x4B, 0xBD, 0x8B, 0x8A,\n",
    "\t\t\t0x70, 0x3E, 0xB5, 0x66, 0x48, 0x03, 0xF6, 0x0E, 0x61, 0x35, 0x57, 0xB9, 0x86, 0xC1, 0x1D, 0x9E,\n",
    "\t\t\t0xE1, 0xF8, 0x98, 0x11, 0x69, 0xD9, 0x8E, 0x94, 0x9B, 0x1E, 0x87, 0xE9, 0xCE, 0x55, 0x28, 0xDF,\n",
    "\t\t\t0x8C, 0xA1, 0x89, 0x0D, 0xBF, 0xE6, 0x42, 0x68, 0x41, 0x99, 0x2D, 0x0F, 0xB0, 0x54, 0xBB, 0x16\n",
    "\t\t\t])"
   ]
  },
  {
   "cell_type": "code",
   "execution_count": null,
   "id": "d73a7a14-d6db-426a-83bd-777b32da7af6",
   "metadata": {},
   "outputs": [],
   "source": [
    "data_train = h5py.File('ATMega8515_raw_traces.h5', 'r')\n",
    "data_test = h5py.File('ATMega8515_raw_traces.h5', 'r')\n",
    "data_attack = h5py.File('ATMega8515_raw_traces.h5', 'r')"
   ]
  },
  {
   "cell_type": "code",
   "execution_count": null,
   "id": "1511b71e-70a9-466f-a06b-be4ff692ad9d",
   "metadata": {},
   "outputs": [],
   "source": [
    "train_metadata=data_train['metadata']\n",
    "train_plain = train_metadata['plaintext']\n",
    "train_cipher = train_metadata['ciphertext']\n",
    "train_key = train_metadata['key']\n",
    "train_mask = train_metadata['masks']\n",
    "train_trace = data_train['traces']\n",
    "\n",
    "test_metadata=data_test['metadata']\n",
    "test_plain = test_metadata['plaintext']\n",
    "test_cipher = test_metadata['ciphertext']\n",
    "test_key = test_metadata['key']\n",
    "test_mask = test_metadata['masks']\n",
    "test_trace = data_train['traces']\n",
    "\n",
    "attack_metadata=data_attack['metadata']\n",
    "attack_plain = attack_metadata['plaintext']\n",
    "attack_cipher = attack_metadata['ciphertext']\n",
    "attack_key = attack_metadata['key']\n",
    "attack_mask = attack_metadata['masks']\n",
    "attack_trace = data_train['traces']"
   ]
  },
  {
   "cell_type": "code",
   "execution_count": null,
   "id": "6a532ae1-6604-40cc-ae98-7f53adba93ea",
   "metadata": {},
   "outputs": [],
   "source": [
    "train_trace = train_trace[0:45000, 34989:35689]\n",
    "test_trace = test_trace[45000:50000, 34989:35689]\n",
    "attack_trace = attack_trace[50000:60000, 34989:35689]\n",
    "train_plain = train_plain[0:45000, :]\n",
    "test_plain = test_plain[45000:50000, :]\n",
    "train_trace2 = train_trace\n",
    "test_trace2 = test_trace\n",
    "attack_trace2 = attack_trace\n",
    "train_trace.shape"
   ]
  },
  {
   "cell_type": "code",
   "execution_count": null,
   "id": "b42703bd-7dbd-4ab8-9756-c60f62481dfd",
   "metadata": {},
   "outputs": [],
   "source": [
    "train_key = train_key[0:45000,:]\n",
    "train_sbox_in = []\n",
    "train_sbox_in = np.array(train_plain^train_key) #平文と鍵のXORがSbox(SubBytes)入力\n",
    "train_sbox_out = np.array([AES_Sbox[i] for i in train_sbox_in])"
   ]
  },
  {
   "cell_type": "code",
   "execution_count": null,
   "id": "4aeebc6a-1c13-449b-92b1-773e67547aab",
   "metadata": {},
   "outputs": [],
   "source": [
    "test_key = test_key[0:5000,:]\n",
    "test_sbox_in = []\n",
    "test_sbox_in = np.array(test_plain^np.array(test_key)) #平文と鍵のXORがSbox(SubBytes)入力\n",
    "test_sbox_out = np.array([AES_Sbox[i] for i in test_sbox_in])"
   ]
  },
  {
   "cell_type": "code",
   "execution_count": null,
   "id": "653e71b6-6d7a-49e4-a21f-c8c1c0740a24",
   "metadata": {},
   "outputs": [],
   "source": [
    "train_sbox_out = train_sbox_out[:,TARGET_BYTE]\n",
    "test_sbox_out = test_sbox_out[:,TARGET_BYTE]"
   ]
  },
  {
   "cell_type": "code",
   "execution_count": null,
   "id": "89a0d544-486e-4e21-8649-517075dc4ea2",
   "metadata": {},
   "outputs": [],
   "source": [
    "#波形データの標準化(データを平均で引いて標準偏差で割る)\n",
    "train_trace2 = (train_trace2 -np.mean(train_trace2, axis = 0))/np.std(train_trace2, axis = 0)\n",
    "\n",
    "test_trace2 = (test_trace2 - np.mean(test_trace2, axis = 0))/np.std(test_trace2, axis = 0)\n",
    "\n",
    "attack_trace2 = (attack_trace2 - np.mean(attack_trace2, axis = 0))/np.std(attack_trace2, axis = 0)\n",
    "\n",
    "#DeepLearningできるshapeに変更\n",
    "train_trace2 = train_trace2.reshape(45000,700,1)\n",
    "\n",
    "test_trace2 = test_trace2.reshape(5000,700,1)\n",
    "\n",
    "attack_trace2 = attack_trace2.reshape(10000,700,1)"
   ]
  },
  {
   "cell_type": "code",
   "execution_count": null,
   "id": "986dd86d-bc6a-4dd1-b0b9-d45caac6d986",
   "metadata": {},
   "outputs": [],
   "source": [
    "def cnn_best(classes=256,input_dim=700):\n",
    "\t# From VGG16 design\n",
    "\tinput_shape = (input_dim,1)\n",
    "\timg_input = Input(shape=input_shape)\n",
    "\t# Block 1\n",
    "\tx = Conv1D(64, 11, activation='relu', padding='same', name='block1_conv1')(img_input)\n",
    "\tx = AveragePooling1D(2, strides=2, name='block1_pool')(x)\n",
    "\t# Block 2\n",
    "\tx = Conv1D(128, 11, activation='relu', padding='same', name='block2_conv1')(x)\n",
    "\tx = AveragePooling1D(2, strides=2, name='block2_pool')(x)\n",
    "\t# Block 3\n",
    "\tx = Conv1D(256, 11, activation='relu', padding='same', name='block3_conv1')(x)\n",
    "\tx = AveragePooling1D(2, strides=2, name='block3_pool')(x)\n",
    "\t# Block 4\n",
    "\tx = Conv1D(512, 11, activation='relu', padding='same', name='block4_conv1')(x)\n",
    "\tx = AveragePooling1D(2, strides=2, name='block4_pool')(x)\n",
    "\t# Block 5\n",
    "\tx = Conv1D(512, 11, activation='relu', padding='same', name='block5_conv1')(x)\n",
    "\tx = AveragePooling1D(2, strides=2, name='block5_pool')(x)\n",
    "\t# Classification block\n",
    "\tx = Flatten(name='flatten')(x)\n",
    "\tx = Dense(4096, activation='relu', name='fc1')(x)\n",
    "\tx = Dense(4096, activation='relu', name='fc2')(x)\n",
    "\t# x = Dense(classes, activation='softmax', name='predictions')(x)\n",
    "\tx = Dense(classes, name='predictions')(x)\n",
    "\n",
    "\tinputs = img_input\n",
    "\t# Create model.\n",
    "\tmodel = Model(inputs, x, name='cnn_best')\n",
    "\toptimizer = RMSprop(learning_rate=0.00001)\n",
    "\tloss_fn = tf.keras.losses.SparseCategoricalCrossentropy(from_logits=True)\n",
    "\t# model.compile(loss='categorical_crossentropy', optimizer=optimizer, metrics=['accuracy'])\n",
    "\tmodel.compile(loss=loss_fn, optimizer=optimizer, metrics=['accuracy'])\n",
    "\treturn model"
   ]
  },
  {
   "cell_type": "code",
   "execution_count": null,
   "id": "d13373f0-4ecd-4101-a872-a36361194fd4",
   "metadata": {},
   "outputs": [],
   "source": [
    "cnn_best()"
   ]
  },
  {
   "cell_type": "code",
   "execution_count": null,
   "id": "914bbfd7-a10d-48b2-94b9-436a4012f993",
   "metadata": {},
   "outputs": [],
   "source": [
    "model=cnn_best(classes=256,input_dim=700)\n",
    "epochs=117\n",
    "learning_data = model.fit(train_trace2,train_sbox_out,epochs=epochs,batch_size=200,validation_data=(test_trace2,test_sbox_out))"
   ]
  },
  {
   "cell_type": "code",
   "execution_count": null,
   "id": "16e53ad4-8bac-4228-84e3-78d3cca5a0a0",
   "metadata": {},
   "outputs": [],
   "source": [
    "out = 'result'\n",
    "\n",
    "os.makedirs(os.path.join('./', out), exist_ok=True)\n",
    "model.save_weights(os.path.join('./',out,'compare_attack_{}byte.h5').format(TARGET_BYTE))"
   ]
  },
  {
   "cell_type": "code",
   "execution_count": null,
   "id": "a02b2de1-6e72-4f9b-aaaf-c322b781fe87",
   "metadata": {},
   "outputs": [],
   "source": [
    "plt.figure()\n",
    "plt.subplot(1,1,1)\n",
    "plt.plot(range(1,epochs+1), learning_data.history['accuracy'], label = 'train_accuracy')\n",
    "plt.plot(range(1,epochs+1), learning_data.history['val_accuracy'], label = 'test_accuracy')\n",
    "plt.xlabel('epochs')\n",
    "plt.ylabel('accuracy')\n",
    "plt.title('accuracy_{}byte'.format(TARGET_BYTE))\n",
    "plt.legend()\n",
    "plt.savefig('./'+out+'/compare_accuracy_{}byte.png'.format(TARGET_BYTE))"
   ]
  },
  {
   "cell_type": "code",
   "execution_count": null,
   "id": "d5fdb423-3a27-48df-a097-48412335a9ac",
   "metadata": {},
   "outputs": [],
   "source": [
    "predicts = model.predict(attack_trace2)\n",
    "predicts = tf.nn.softmax(predicts)\n",
    "predicts.shape"
   ]
  },
  {
   "cell_type": "code",
   "execution_count": null,
   "id": "8a3193fc-9c67-4bee-b2e5-df5c161eeb14",
   "metadata": {},
   "outputs": [],
   "source": [
    "attack_plain=attack_metadata['plaintext']"
   ]
  },
  {
   "cell_type": "code",
   "execution_count": null,
   "id": "918862cd-255e-4fbc-af28-0d23d26ee07f",
   "metadata": {},
   "outputs": [],
   "source": [
    "attack_sbox_in = []\n",
    "for estimated_key in range(256): #256通りの推定鍵だけ繰り返す。\n",
    "    attack_sbox_in.append(attack_plain^np.array([estimated_key]*16)) #平文と推定鍵のXORがSbox(SubBytes)入力\n",
    "attack_sbox_in = np.array(attack_sbox_in)\n",
    "attack_sbox_out = np.array([AES_Sbox[i] for i in attack_sbox_in])\n",
    "attack_sbox_out = attack_sbox_out[:,:,TARGET_BYTE]"
   ]
  },
  {
   "cell_type": "code",
   "execution_count": null,
   "id": "47d7b990-042c-4574-987d-f3d026346aea",
   "metadata": {},
   "outputs": [],
   "source": [
    "attack_sbox_out = attack_sbox_out[:,50000:] #全体の内, 最後の1000を攻撃に使用"
   ]
  },
  {
   "cell_type": "code",
   "execution_count": null,
   "id": "9ff2c848-6413-42a6-b17e-987c32324730",
   "metadata": {},
   "outputs": [],
   "source": [
    "result = np.ones(256) /256\n",
    "rank = []\n",
    "attack_sbox_out = np.array(attack_sbox_out)\n",
    "pred = predicts.numpy()\n",
    "\n",
    "for i in range(len(predicts)):\n",
    "    result *= pred[i, attack_sbox_out[:, i]]\n",
    "    result = result /np.sum(result)\n",
    "    rank.append(list(np.argsort(result)[::-1]).index(attack_key[0][TARGET_BYTE])+1)\n",
    "    "
   ]
  },
  {
   "cell_type": "code",
   "execution_count": null,
   "id": "aff69cf3-5365-499f-825e-018bc768ea4b",
   "metadata": {},
   "outputs": [],
   "source": [
    "rank_lim = rank[0:10000]\n",
    "plt.figure()\n",
    "plt.plot(rank_lim)\n",
    "plt.xlabel('wave')\n",
    "plt.ylabel('rank')\n",
    "plt.title('target_{}byte'.format(TARGET_BYTE))\n",
    "plt.savefig('./'+out+'/compare_rank_{}byte.png'.format(TARGET_BYTE))"
   ]
  },
  {
   "cell_type": "code",
   "execution_count": null,
   "id": "aaab7fe7-50ee-4d05-87d1-763c1e8b515c",
   "metadata": {},
   "outputs": [],
   "source": [
    "recovered_key7=[]\n",
    "\n",
    "for i in range(10000):\n",
    "        if rank[i] == 1: #推定した鍵と正解鍵が一致しているかを確認\n",
    "            count7 = 1\n",
    "        else:\n",
    "            count7 = 0\n",
    "        \n",
    "        recovered_key7.append(count7) #攻撃成功バイト数の保存\n",
    "\n",
    "recovered_key7 = np.array(recovered_key7)\n",
    "np.save('./'+out+'/test7.npy', recovered_key7)"
   ]
  },
  {
   "cell_type": "code",
   "execution_count": null,
   "id": "93f01e63-31ce-497b-b939-b953f23cde2d",
   "metadata": {},
   "outputs": [],
   "source": [
    "TARGET_BYTE = 8 #何バイト目を攻撃するか決める"
   ]
  },
  {
   "cell_type": "code",
   "execution_count": null,
   "id": "49780bd0-45b7-4aa6-a639-900c6d184f5d",
   "metadata": {},
   "outputs": [],
   "source": [
    "AES_Sbox = np.array([\n",
    "\t\t\t0x63, 0x7C, 0x77, 0x7B, 0xF2, 0x6B, 0x6F, 0xC5, 0x30, 0x01, 0x67, 0x2B, 0xFE, 0xD7, 0xAB, 0x76,\n",
    "\t\t\t0xCA, 0x82, 0xC9, 0x7D, 0xFA, 0x59, 0x47, 0xF0, 0xAD, 0xD4, 0xA2, 0xAF, 0x9C, 0xA4, 0x72, 0xC0,\n",
    "\t\t\t0xB7, 0xFD, 0x93, 0x26, 0x36, 0x3F, 0xF7, 0xCC, 0x34, 0xA5, 0xE5, 0xF1, 0x71, 0xD8, 0x31, 0x15,\n",
    "\t\t\t0x04, 0xC7, 0x23, 0xC3, 0x18, 0x96, 0x05, 0x9A, 0x07, 0x12, 0x80, 0xE2, 0xEB, 0x27, 0xB2, 0x75,\n",
    "\t\t\t0x09, 0x83, 0x2C, 0x1A, 0x1B, 0x6E, 0x5A, 0xA0, 0x52, 0x3B, 0xD6, 0xB3, 0x29, 0xE3, 0x2F, 0x84,\n",
    "\t\t\t0x53, 0xD1, 0x00, 0xED, 0x20, 0xFC, 0xB1, 0x5B, 0x6A, 0xCB, 0xBE, 0x39, 0x4A, 0x4C, 0x58, 0xCF,\n",
    "\t\t\t0xD0, 0xEF, 0xAA, 0xFB, 0x43, 0x4D, 0x33, 0x85, 0x45, 0xF9, 0x02, 0x7F, 0x50, 0x3C, 0x9F, 0xA8,\n",
    "\t\t\t0x51, 0xA3, 0x40, 0x8F, 0x92, 0x9D, 0x38, 0xF5, 0xBC, 0xB6, 0xDA, 0x21, 0x10, 0xFF, 0xF3, 0xD2,\n",
    "\t\t\t0xCD, 0x0C, 0x13, 0xEC, 0x5F, 0x97, 0x44, 0x17, 0xC4, 0xA7, 0x7E, 0x3D, 0x64, 0x5D, 0x19, 0x73,\n",
    "\t\t\t0x60, 0x81, 0x4F, 0xDC, 0x22, 0x2A, 0x90, 0x88, 0x46, 0xEE, 0xB8, 0x14, 0xDE, 0x5E, 0x0B, 0xDB,\n",
    "\t\t\t0xE0, 0x32, 0x3A, 0x0A, 0x49, 0x06, 0x24, 0x5C, 0xC2, 0xD3, 0xAC, 0x62, 0x91, 0x95, 0xE4, 0x79,\n",
    "\t\t\t0xE7, 0xC8, 0x37, 0x6D, 0x8D, 0xD5, 0x4E, 0xA9, 0x6C, 0x56, 0xF4, 0xEA, 0x65, 0x7A, 0xAE, 0x08,\n",
    "\t\t\t0xBA, 0x78, 0x25, 0x2E, 0x1C, 0xA6, 0xB4, 0xC6, 0xE8, 0xDD, 0x74, 0x1F, 0x4B, 0xBD, 0x8B, 0x8A,\n",
    "\t\t\t0x70, 0x3E, 0xB5, 0x66, 0x48, 0x03, 0xF6, 0x0E, 0x61, 0x35, 0x57, 0xB9, 0x86, 0xC1, 0x1D, 0x9E,\n",
    "\t\t\t0xE1, 0xF8, 0x98, 0x11, 0x69, 0xD9, 0x8E, 0x94, 0x9B, 0x1E, 0x87, 0xE9, 0xCE, 0x55, 0x28, 0xDF,\n",
    "\t\t\t0x8C, 0xA1, 0x89, 0x0D, 0xBF, 0xE6, 0x42, 0x68, 0x41, 0x99, 0x2D, 0x0F, 0xB0, 0x54, 0xBB, 0x16\n",
    "\t\t\t])"
   ]
  },
  {
   "cell_type": "code",
   "execution_count": null,
   "id": "826aebbd-d609-47e7-ad78-c01f83c5e8b0",
   "metadata": {},
   "outputs": [],
   "source": [
    "data_train = h5py.File('ATMega8515_raw_traces.h5', 'r')\n",
    "data_test = h5py.File('ATMega8515_raw_traces.h5', 'r')\n",
    "data_attack = h5py.File('ATMega8515_raw_traces.h5', 'r')"
   ]
  },
  {
   "cell_type": "code",
   "execution_count": null,
   "id": "c5099e90-1258-4f6e-846a-a0941a93b0a8",
   "metadata": {},
   "outputs": [],
   "source": [
    "train_metadata=data_train['metadata']\n",
    "train_plain = train_metadata['plaintext']\n",
    "train_cipher = train_metadata['ciphertext']\n",
    "train_key = train_metadata['key']\n",
    "train_mask = train_metadata['masks']\n",
    "train_trace = data_train['traces']\n",
    "\n",
    "test_metadata=data_test['metadata']\n",
    "test_plain = test_metadata['plaintext']\n",
    "test_cipher = test_metadata['ciphertext']\n",
    "test_key = test_metadata['key']\n",
    "test_mask = test_metadata['masks']\n",
    "test_trace = data_train['traces']\n",
    "\n",
    "attack_metadata=data_attack['metadata']\n",
    "attack_plain = attack_metadata['plaintext']\n",
    "attack_cipher = attack_metadata['ciphertext']\n",
    "attack_key = attack_metadata['key']\n",
    "attack_mask = attack_metadata['masks']\n",
    "attack_trace = data_train['traces']"
   ]
  },
  {
   "cell_type": "code",
   "execution_count": null,
   "id": "995a7965-186b-4598-a39e-9264beb7e4a9",
   "metadata": {},
   "outputs": [],
   "source": [
    "train_trace = train_trace[0:45000, 26660:27360]\n",
    "test_trace = test_trace[45000:50000, 26660:27360]\n",
    "attack_trace = attack_trace[50000:60000, 26660:27360]\n",
    "train_plain = train_plain[0:45000, :]\n",
    "test_plain = test_plain[45000:50000, :]\n",
    "train_trace2 = train_trace\n",
    "test_trace2 = test_trace\n",
    "attack_trace2 = attack_trace\n",
    "train_trace.shape"
   ]
  },
  {
   "cell_type": "code",
   "execution_count": null,
   "id": "a5c6b08a-0650-43bd-a109-f450b722d7eb",
   "metadata": {},
   "outputs": [],
   "source": [
    "train_key = train_key[0:45000,:]\n",
    "train_sbox_in = []\n",
    "train_sbox_in = np.array(train_plain^train_key) #平文と鍵のXORがSbox(SubBytes)入力\n",
    "train_sbox_out = np.array([AES_Sbox[i] for i in train_sbox_in])"
   ]
  },
  {
   "cell_type": "code",
   "execution_count": null,
   "id": "63f40a05-d6d7-4021-ac02-831a2303adaa",
   "metadata": {},
   "outputs": [],
   "source": [
    "test_key = test_key[0:5000,:]\n",
    "test_sbox_in = []\n",
    "test_sbox_in = np.array(test_plain^np.array(test_key)) #平文と鍵のXORがSbox(SubBytes)入力\n",
    "test_sbox_out = np.array([AES_Sbox[i] for i in test_sbox_in])"
   ]
  },
  {
   "cell_type": "code",
   "execution_count": null,
   "id": "44e67d1a-3e35-4a82-ac9a-8ccc5906ee58",
   "metadata": {},
   "outputs": [],
   "source": [
    "train_sbox_out = train_sbox_out[:,TARGET_BYTE]\n",
    "test_sbox_out = test_sbox_out[:,TARGET_BYTE]"
   ]
  },
  {
   "cell_type": "code",
   "execution_count": null,
   "id": "9c1f496a-9728-473f-8553-92863b688ddc",
   "metadata": {},
   "outputs": [],
   "source": [
    "#波形データの標準化(データを平均で引いて標準偏差で割る)\n",
    "train_trace2 = (train_trace2 -np.mean(train_trace2, axis = 0))/np.std(train_trace2, axis = 0)\n",
    "\n",
    "test_trace2 = (test_trace2 - np.mean(test_trace2, axis = 0))/np.std(test_trace2, axis = 0)\n",
    "\n",
    "attack_trace2 = (attack_trace2 - np.mean(attack_trace2, axis = 0))/np.std(attack_trace2, axis = 0)\n",
    "\n",
    "#DeepLearningできるshapeに変更\n",
    "train_trace2 = train_trace2.reshape(45000,700,1)\n",
    "\n",
    "test_trace2 = test_trace2.reshape(5000,700,1)\n",
    "\n",
    "attack_trace2 = attack_trace2.reshape(10000,700,1)"
   ]
  },
  {
   "cell_type": "code",
   "execution_count": null,
   "id": "436071de-08e1-4ca2-990e-16e55f9dc499",
   "metadata": {},
   "outputs": [],
   "source": [
    "def cnn_best(classes=256,input_dim=700):\n",
    "\t# From VGG16 design\n",
    "\tinput_shape = (input_dim,1)\n",
    "\timg_input = Input(shape=input_shape)\n",
    "\t# Block 1\n",
    "\tx = Conv1D(64, 11, activation='relu', padding='same', name='block1_conv1')(img_input)\n",
    "\tx = AveragePooling1D(2, strides=2, name='block1_pool')(x)\n",
    "\t# Block 2\n",
    "\tx = Conv1D(128, 11, activation='relu', padding='same', name='block2_conv1')(x)\n",
    "\tx = AveragePooling1D(2, strides=2, name='block2_pool')(x)\n",
    "\t# Block 3\n",
    "\tx = Conv1D(256, 11, activation='relu', padding='same', name='block3_conv1')(x)\n",
    "\tx = AveragePooling1D(2, strides=2, name='block3_pool')(x)\n",
    "\t# Block 4\n",
    "\tx = Conv1D(512, 11, activation='relu', padding='same', name='block4_conv1')(x)\n",
    "\tx = AveragePooling1D(2, strides=2, name='block4_pool')(x)\n",
    "\t# Block 5\n",
    "\tx = Conv1D(512, 11, activation='relu', padding='same', name='block5_conv1')(x)\n",
    "\tx = AveragePooling1D(2, strides=2, name='block5_pool')(x)\n",
    "\t# Classification block\n",
    "\tx = Flatten(name='flatten')(x)\n",
    "\tx = Dense(4096, activation='relu', name='fc1')(x)\n",
    "\tx = Dense(4096, activation='relu', name='fc2')(x)\n",
    "\t# x = Dense(classes, activation='softmax', name='predictions')(x)\n",
    "\tx = Dense(classes, name='predictions')(x)\n",
    "\n",
    "\tinputs = img_input\n",
    "\t# Create model.\n",
    "\tmodel = Model(inputs, x, name='cnn_best')\n",
    "\toptimizer = RMSprop(learning_rate=0.00001)\n",
    "\tloss_fn = tf.keras.losses.SparseCategoricalCrossentropy(from_logits=True)\n",
    "\t# model.compile(loss='categorical_crossentropy', optimizer=optimizer, metrics=['accuracy'])\n",
    "\tmodel.compile(loss=loss_fn, optimizer=optimizer, metrics=['accuracy'])\n",
    "\treturn model"
   ]
  },
  {
   "cell_type": "code",
   "execution_count": null,
   "id": "d6b75b84-bd79-4dc1-83a0-046ad303a946",
   "metadata": {},
   "outputs": [],
   "source": [
    "cnn_best()"
   ]
  },
  {
   "cell_type": "code",
   "execution_count": null,
   "id": "c9e5d33c-ac05-4296-98d0-24bc6baa7bd8",
   "metadata": {},
   "outputs": [],
   "source": [
    "model=cnn_best(classes=256,input_dim=700)\n",
    "epochs=117\n",
    "learning_data = model.fit(train_trace2,train_sbox_out,epochs=epochs,batch_size=200,validation_data=(test_trace2,test_sbox_out))"
   ]
  },
  {
   "cell_type": "code",
   "execution_count": null,
   "id": "2d1a8aec-5600-4418-881d-a9a128907a0b",
   "metadata": {},
   "outputs": [],
   "source": [
    "out = 'result'\n",
    "\n",
    "os.makedirs(os.path.join('./', out), exist_ok=True)\n",
    "model.save_weights(os.path.join('./',out,'compare_attack_{}byte.h5').format(TARGET_BYTE))"
   ]
  },
  {
   "cell_type": "code",
   "execution_count": null,
   "id": "a070b05e-39e1-4d47-ae56-98ed5a71d084",
   "metadata": {},
   "outputs": [],
   "source": [
    "plt.figure()\n",
    "plt.subplot(1,1,1)\n",
    "plt.plot(range(1,epochs+1), learning_data.history['accuracy'], label = 'train_accuracy')\n",
    "plt.plot(range(1,epochs+1), learning_data.history['val_accuracy'], label = 'test_accuracy')\n",
    "plt.xlabel('epochs')\n",
    "plt.ylabel('accuracy')\n",
    "plt.title('accuracy_{}byte'.format(TARGET_BYTE))\n",
    "plt.legend()\n",
    "plt.savefig('./'+out+'/compare_accuracy_{}byte.png'.format(TARGET_BYTE))"
   ]
  },
  {
   "cell_type": "code",
   "execution_count": null,
   "id": "1ba69733-4359-4f1a-b132-95c8c55166cb",
   "metadata": {},
   "outputs": [],
   "source": [
    "predicts = model.predict(attack_trace2)\n",
    "predicts = tf.nn.softmax(predicts)\n",
    "predicts.shape"
   ]
  },
  {
   "cell_type": "code",
   "execution_count": null,
   "id": "3b8612c8-d8e5-40e9-8ba1-de0fabc1faa0",
   "metadata": {},
   "outputs": [],
   "source": [
    "attack_plain=attack_metadata['plaintext']"
   ]
  },
  {
   "cell_type": "code",
   "execution_count": null,
   "id": "dd6e5b08-2ade-45d2-933f-035269a6e5d0",
   "metadata": {},
   "outputs": [],
   "source": [
    "attack_sbox_in = []\n",
    "for estimated_key in range(256): #256通りの推定鍵だけ繰り返す。\n",
    "    attack_sbox_in.append(attack_plain^np.array([estimated_key]*16)) #平文と推定鍵のXORがSbox(SubBytes)入力\n",
    "attack_sbox_in = np.array(attack_sbox_in)\n",
    "attack_sbox_out = np.array([AES_Sbox[i] for i in attack_sbox_in])\n",
    "attack_sbox_out = attack_sbox_out[:,:,TARGET_BYTE]"
   ]
  },
  {
   "cell_type": "code",
   "execution_count": null,
   "id": "1819eb42-86e7-4b73-b940-a4c6087a3dc6",
   "metadata": {},
   "outputs": [],
   "source": [
    "attack_sbox_out = attack_sbox_out[:,50000:] #全体の内, 最後の1000を攻撃に使用"
   ]
  },
  {
   "cell_type": "code",
   "execution_count": null,
   "id": "1e4da260-d487-46f9-b079-d696ced9c53d",
   "metadata": {},
   "outputs": [],
   "source": [
    "result = np.ones(256) /256\n",
    "rank = []\n",
    "attack_sbox_out = np.array(attack_sbox_out)\n",
    "pred = predicts.numpy()\n",
    "\n",
    "for i in range(len(predicts)):\n",
    "    result *= pred[i, attack_sbox_out[:, i]]\n",
    "    result = result /np.sum(result)\n",
    "    rank.append(list(np.argsort(result)[::-1]).index(attack_key[0][TARGET_BYTE])+1)\n",
    "    "
   ]
  },
  {
   "cell_type": "code",
   "execution_count": null,
   "id": "3e0b45a3-b988-41b8-9a55-ccd0a8f2a08b",
   "metadata": {},
   "outputs": [],
   "source": [
    "rank_lim = rank[0:10000]\n",
    "plt.figure()\n",
    "plt.plot(rank_lim)\n",
    "plt.xlabel('wave')\n",
    "plt.ylabel('rank')\n",
    "plt.title('target_{}byte'.format(TARGET_BYTE))\n",
    "plt.savefig('./'+out+'/compare_rank_{}byte.png'.format(TARGET_BYTE))"
   ]
  },
  {
   "cell_type": "code",
   "execution_count": null,
   "id": "5fbfcaf9-4440-49d6-925a-fca65f89c90e",
   "metadata": {},
   "outputs": [],
   "source": [
    "recovered_key8=[]\n",
    "\n",
    "for i in range(10000):\n",
    "        if rank[i] == 1: #推定した鍵と正解鍵が一致しているかを確認\n",
    "            count8 = 1\n",
    "        else:\n",
    "            count8 = 0\n",
    "        \n",
    "        recovered_key8.append(count8) #攻撃成功バイト数の保存\n",
    "\n",
    "recovered_key8 = np.array(recovered_key8)\n",
    "np.save('./'+out+'/test8.npy', recovered_key8)"
   ]
  },
  {
   "cell_type": "code",
   "execution_count": null,
   "id": "957c7fd4-ed26-444e-bced-e79afdbf39ce",
   "metadata": {},
   "outputs": [],
   "source": [
    "TARGET_BYTE = 9 #何バイト目を攻撃するか決める"
   ]
  },
  {
   "cell_type": "code",
   "execution_count": null,
   "id": "2dce524f-cbbd-4139-95ce-28176972dd0c",
   "metadata": {},
   "outputs": [],
   "source": [
    "AES_Sbox = np.array([\n",
    "\t\t\t0x63, 0x7C, 0x77, 0x7B, 0xF2, 0x6B, 0x6F, 0xC5, 0x30, 0x01, 0x67, 0x2B, 0xFE, 0xD7, 0xAB, 0x76,\n",
    "\t\t\t0xCA, 0x82, 0xC9, 0x7D, 0xFA, 0x59, 0x47, 0xF0, 0xAD, 0xD4, 0xA2, 0xAF, 0x9C, 0xA4, 0x72, 0xC0,\n",
    "\t\t\t0xB7, 0xFD, 0x93, 0x26, 0x36, 0x3F, 0xF7, 0xCC, 0x34, 0xA5, 0xE5, 0xF1, 0x71, 0xD8, 0x31, 0x15,\n",
    "\t\t\t0x04, 0xC7, 0x23, 0xC3, 0x18, 0x96, 0x05, 0x9A, 0x07, 0x12, 0x80, 0xE2, 0xEB, 0x27, 0xB2, 0x75,\n",
    "\t\t\t0x09, 0x83, 0x2C, 0x1A, 0x1B, 0x6E, 0x5A, 0xA0, 0x52, 0x3B, 0xD6, 0xB3, 0x29, 0xE3, 0x2F, 0x84,\n",
    "\t\t\t0x53, 0xD1, 0x00, 0xED, 0x20, 0xFC, 0xB1, 0x5B, 0x6A, 0xCB, 0xBE, 0x39, 0x4A, 0x4C, 0x58, 0xCF,\n",
    "\t\t\t0xD0, 0xEF, 0xAA, 0xFB, 0x43, 0x4D, 0x33, 0x85, 0x45, 0xF9, 0x02, 0x7F, 0x50, 0x3C, 0x9F, 0xA8,\n",
    "\t\t\t0x51, 0xA3, 0x40, 0x8F, 0x92, 0x9D, 0x38, 0xF5, 0xBC, 0xB6, 0xDA, 0x21, 0x10, 0xFF, 0xF3, 0xD2,\n",
    "\t\t\t0xCD, 0x0C, 0x13, 0xEC, 0x5F, 0x97, 0x44, 0x17, 0xC4, 0xA7, 0x7E, 0x3D, 0x64, 0x5D, 0x19, 0x73,\n",
    "\t\t\t0x60, 0x81, 0x4F, 0xDC, 0x22, 0x2A, 0x90, 0x88, 0x46, 0xEE, 0xB8, 0x14, 0xDE, 0x5E, 0x0B, 0xDB,\n",
    "\t\t\t0xE0, 0x32, 0x3A, 0x0A, 0x49, 0x06, 0x24, 0x5C, 0xC2, 0xD3, 0xAC, 0x62, 0x91, 0x95, 0xE4, 0x79,\n",
    "\t\t\t0xE7, 0xC8, 0x37, 0x6D, 0x8D, 0xD5, 0x4E, 0xA9, 0x6C, 0x56, 0xF4, 0xEA, 0x65, 0x7A, 0xAE, 0x08,\n",
    "\t\t\t0xBA, 0x78, 0x25, 0x2E, 0x1C, 0xA6, 0xB4, 0xC6, 0xE8, 0xDD, 0x74, 0x1F, 0x4B, 0xBD, 0x8B, 0x8A,\n",
    "\t\t\t0x70, 0x3E, 0xB5, 0x66, 0x48, 0x03, 0xF6, 0x0E, 0x61, 0x35, 0x57, 0xB9, 0x86, 0xC1, 0x1D, 0x9E,\n",
    "\t\t\t0xE1, 0xF8, 0x98, 0x11, 0x69, 0xD9, 0x8E, 0x94, 0x9B, 0x1E, 0x87, 0xE9, 0xCE, 0x55, 0x28, 0xDF,\n",
    "\t\t\t0x8C, 0xA1, 0x89, 0x0D, 0xBF, 0xE6, 0x42, 0x68, 0x41, 0x99, 0x2D, 0x0F, 0xB0, 0x54, 0xBB, 0x16\n",
    "\t\t\t])"
   ]
  },
  {
   "cell_type": "code",
   "execution_count": null,
   "id": "07adb909-9264-4ae9-ba47-28d76bbbbb99",
   "metadata": {},
   "outputs": [],
   "source": [
    "data_train = h5py.File('ATMega8515_raw_traces.h5', 'r')\n",
    "data_test = h5py.File('ATMega8515_raw_traces.h5', 'r')\n",
    "data_attack = h5py.File('ATMega8515_raw_traces.h5', 'r')"
   ]
  },
  {
   "cell_type": "code",
   "execution_count": null,
   "id": "d0012318-9f8c-451f-911f-0e4be86cbd98",
   "metadata": {},
   "outputs": [],
   "source": [
    "train_metadata=data_train['metadata']\n",
    "train_plain = train_metadata['plaintext']\n",
    "train_cipher = train_metadata['ciphertext']\n",
    "train_key = train_metadata['key']\n",
    "train_mask = train_metadata['masks']\n",
    "train_trace = data_train['traces']\n",
    "\n",
    "test_metadata=data_test['metadata']\n",
    "test_plain = test_metadata['plaintext']\n",
    "test_cipher = test_metadata['ciphertext']\n",
    "test_key = test_metadata['key']\n",
    "test_mask = test_metadata['masks']\n",
    "test_trace = data_train['traces']\n",
    "\n",
    "attack_metadata=data_attack['metadata']\n",
    "attack_plain = attack_metadata['plaintext']\n",
    "attack_cipher = attack_metadata['ciphertext']\n",
    "attack_key = attack_metadata['key']\n",
    "attack_mask = attack_metadata['masks']\n",
    "attack_trace = data_train['traces']"
   ]
  },
  {
   "cell_type": "code",
   "execution_count": null,
   "id": "9a80e2e0-2a8d-475c-b82b-4095aac09694",
   "metadata": {},
   "outputs": [],
   "source": [
    "train_trace = train_trace[0:45000, 39154:39854]\n",
    "test_trace = test_trace[45000:50000, 39154:39854]\n",
    "attack_trace = attack_trace[50000:60000, 39154:39854]\n",
    "train_plain = train_plain[0:45000, :]\n",
    "test_plain = test_plain[45000:50000, :]\n",
    "train_trace2 = train_trace\n",
    "test_trace2 = test_trace\n",
    "attack_trace2 = attack_trace\n",
    "train_trace.shape"
   ]
  },
  {
   "cell_type": "code",
   "execution_count": null,
   "id": "7a3b2547-e0c0-44a2-aa70-d28f0974d02f",
   "metadata": {},
   "outputs": [],
   "source": [
    "train_key = train_key[0:45000,:]\n",
    "train_sbox_in = []\n",
    "train_sbox_in = np.array(train_plain^train_key) #平文と鍵のXORがSbox(SubBytes)入力\n",
    "train_sbox_out = np.array([AES_Sbox[i] for i in train_sbox_in])"
   ]
  },
  {
   "cell_type": "code",
   "execution_count": null,
   "id": "b5aaf7d8-a8d7-462d-a27f-0f91844535fb",
   "metadata": {},
   "outputs": [],
   "source": [
    "test_key = test_key[0:5000,:]\n",
    "test_sbox_in = []\n",
    "test_sbox_in = np.array(test_plain^np.array(test_key)) #平文と鍵のXORがSbox(SubBytes)入力\n",
    "test_sbox_out = np.array([AES_Sbox[i] for i in test_sbox_in])"
   ]
  },
  {
   "cell_type": "code",
   "execution_count": null,
   "id": "0d0392de-fa78-4252-b95b-863c4eacffdb",
   "metadata": {},
   "outputs": [],
   "source": [
    "train_sbox_out = train_sbox_out[:,TARGET_BYTE]\n",
    "test_sbox_out = test_sbox_out[:,TARGET_BYTE]"
   ]
  },
  {
   "cell_type": "code",
   "execution_count": null,
   "id": "a124e11a-2270-4761-b179-35c7849ffb7c",
   "metadata": {},
   "outputs": [],
   "source": [
    "#波形データの標準化(データを平均で引いて標準偏差で割る)\n",
    "train_trace2 = (train_trace2 -np.mean(train_trace2, axis = 0))/np.std(train_trace2, axis = 0)\n",
    "\n",
    "test_trace2 = (test_trace2 - np.mean(test_trace2, axis = 0))/np.std(test_trace2, axis = 0)\n",
    "\n",
    "attack_trace2 = (attack_trace2 - np.mean(attack_trace2, axis = 0))/np.std(attack_trace2, axis = 0)\n",
    "\n",
    "#DeepLearningできるshapeに変更\n",
    "train_trace2 = train_trace2.reshape(45000,700,1)\n",
    "\n",
    "test_trace2 = test_trace2.reshape(5000,700,1)\n",
    "\n",
    "attack_trace2 = attack_trace2.reshape(10000,700,1)"
   ]
  },
  {
   "cell_type": "code",
   "execution_count": null,
   "id": "1f4c6e0c-d9af-4a62-b5c5-06d16e2385e6",
   "metadata": {},
   "outputs": [],
   "source": [
    "def cnn_best(classes=256,input_dim=700):\n",
    "\t# From VGG16 design\n",
    "\tinput_shape = (input_dim,1)\n",
    "\timg_input = Input(shape=input_shape)\n",
    "\t# Block 1\n",
    "\tx = Conv1D(64, 11, activation='relu', padding='same', name='block1_conv1')(img_input)\n",
    "\tx = AveragePooling1D(2, strides=2, name='block1_pool')(x)\n",
    "\t# Block 2\n",
    "\tx = Conv1D(128, 11, activation='relu', padding='same', name='block2_conv1')(x)\n",
    "\tx = AveragePooling1D(2, strides=2, name='block2_pool')(x)\n",
    "\t# Block 3\n",
    "\tx = Conv1D(256, 11, activation='relu', padding='same', name='block3_conv1')(x)\n",
    "\tx = AveragePooling1D(2, strides=2, name='block3_pool')(x)\n",
    "\t# Block 4\n",
    "\tx = Conv1D(512, 11, activation='relu', padding='same', name='block4_conv1')(x)\n",
    "\tx = AveragePooling1D(2, strides=2, name='block4_pool')(x)\n",
    "\t# Block 5\n",
    "\tx = Conv1D(512, 11, activation='relu', padding='same', name='block5_conv1')(x)\n",
    "\tx = AveragePooling1D(2, strides=2, name='block5_pool')(x)\n",
    "\t# Classification block\n",
    "\tx = Flatten(name='flatten')(x)\n",
    "\tx = Dense(4096, activation='relu', name='fc1')(x)\n",
    "\tx = Dense(4096, activation='relu', name='fc2')(x)\n",
    "\t# x = Dense(classes, activation='softmax', name='predictions')(x)\n",
    "\tx = Dense(classes, name='predictions')(x)\n",
    "\n",
    "\tinputs = img_input\n",
    "\t# Create model.\n",
    "\tmodel = Model(inputs, x, name='cnn_best')\n",
    "\toptimizer = RMSprop(learning_rate=0.00001)\n",
    "\tloss_fn = tf.keras.losses.SparseCategoricalCrossentropy(from_logits=True)\n",
    "\t# model.compile(loss='categorical_crossentropy', optimizer=optimizer, metrics=['accuracy'])\n",
    "\tmodel.compile(loss=loss_fn, optimizer=optimizer, metrics=['accuracy'])\n",
    "\treturn model"
   ]
  },
  {
   "cell_type": "code",
   "execution_count": null,
   "id": "b186be23-3589-42b3-b5d9-2aee0a2447b0",
   "metadata": {},
   "outputs": [],
   "source": [
    "cnn_best()"
   ]
  },
  {
   "cell_type": "code",
   "execution_count": null,
   "id": "415e3a75-4841-460b-8c72-03e8d25cffb6",
   "metadata": {},
   "outputs": [],
   "source": [
    "model=cnn_best(classes=256,input_dim=700)\n",
    "epochs=117\n",
    "learning_data = model.fit(train_trace2,train_sbox_out,epochs=epochs,batch_size=200,validation_data=(test_trace2,test_sbox_out))"
   ]
  },
  {
   "cell_type": "code",
   "execution_count": null,
   "id": "3358e3a3-7e70-4f94-a4d5-ee8be86a3f70",
   "metadata": {},
   "outputs": [],
   "source": [
    "out = 'result'\n",
    "\n",
    "os.makedirs(os.path.join('./', out), exist_ok=True)\n",
    "model.save_weights(os.path.join('./',out,'compare_attack_{}byte.h5').format(TARGET_BYTE))"
   ]
  },
  {
   "cell_type": "code",
   "execution_count": null,
   "id": "3f12434a-07b6-4653-9dbe-48cb2ad70305",
   "metadata": {},
   "outputs": [],
   "source": [
    "plt.figure()\n",
    "plt.subplot(1,1,1)\n",
    "plt.plot(range(1,epochs+1), learning_data.history['accuracy'], label = 'train_accuracy')\n",
    "plt.plot(range(1,epochs+1), learning_data.history['val_accuracy'], label = 'test_accuracy')\n",
    "plt.xlabel('epochs')\n",
    "plt.ylabel('accuracy')\n",
    "plt.title('accuracy_{}byte'.format(TARGET_BYTE))\n",
    "plt.legend()\n",
    "plt.savefig('./'+out+'/compare_accuracy_{}byte.png'.format(TARGET_BYTE))"
   ]
  },
  {
   "cell_type": "code",
   "execution_count": null,
   "id": "3db2b958-6413-4b2a-a4cf-4045e7929b6d",
   "metadata": {},
   "outputs": [],
   "source": [
    "predicts = model.predict(attack_trace2)\n",
    "predicts = tf.nn.softmax(predicts)\n",
    "predicts.shape"
   ]
  },
  {
   "cell_type": "code",
   "execution_count": null,
   "id": "ec273117-b1e9-4f7c-8a78-c090027edcb0",
   "metadata": {},
   "outputs": [],
   "source": [
    "attack_plain=attack_metadata['plaintext']"
   ]
  },
  {
   "cell_type": "code",
   "execution_count": null,
   "id": "e4cd38c5-8b18-427e-b8b2-81fd783baac6",
   "metadata": {},
   "outputs": [],
   "source": [
    "attack_sbox_in = []\n",
    "for estimated_key in range(256): #256通りの推定鍵だけ繰り返す。\n",
    "    attack_sbox_in.append(attack_plain^np.array([estimated_key]*16)) #平文と推定鍵のXORがSbox(SubBytes)入力\n",
    "attack_sbox_in = np.array(attack_sbox_in)\n",
    "attack_sbox_out = np.array([AES_Sbox[i] for i in attack_sbox_in])\n",
    "attack_sbox_out = attack_sbox_out[:,:,TARGET_BYTE]"
   ]
  },
  {
   "cell_type": "code",
   "execution_count": null,
   "id": "4c6ee1b9-0e82-47cf-a5ae-ac41625b5527",
   "metadata": {},
   "outputs": [],
   "source": [
    "attack_sbox_out = attack_sbox_out[:,50000:] #全体の内, 最後の1000を攻撃に使用"
   ]
  },
  {
   "cell_type": "code",
   "execution_count": null,
   "id": "6fbca136-7ef8-4417-9ec4-9de3b6c31e54",
   "metadata": {},
   "outputs": [],
   "source": [
    "result = np.ones(256) /256\n",
    "rank = []\n",
    "attack_sbox_out = np.array(attack_sbox_out)\n",
    "pred = predicts.numpy()\n",
    "\n",
    "for i in range(len(predicts)):\n",
    "    result *= pred[i, attack_sbox_out[:, i]]\n",
    "    result = result /np.sum(result)\n",
    "    rank.append(list(np.argsort(result)[::-1]).index(attack_key[0][TARGET_BYTE])+1)\n",
    "    "
   ]
  },
  {
   "cell_type": "code",
   "execution_count": null,
   "id": "b38f3162-95ae-4bc9-b3cf-fad823b5684b",
   "metadata": {},
   "outputs": [],
   "source": [
    "rank_lim = rank[0:10000]\n",
    "plt.figure()\n",
    "plt.plot(rank_lim)\n",
    "plt.xlabel('wave')\n",
    "plt.ylabel('rank')\n",
    "plt.title('target_{}byte'.format(TARGET_BYTE))\n",
    "plt.savefig('./'+out+'/compare_rank_{}byte.png'.format(TARGET_BYTE))"
   ]
  },
  {
   "cell_type": "code",
   "execution_count": null,
   "id": "afec2722-2af6-4061-b7db-d9a7bbd4f0b1",
   "metadata": {},
   "outputs": [],
   "source": [
    "recovered_key9=[]\n",
    "\n",
    "for i in range(10000):\n",
    "        if rank[i] == 1: #推定した鍵と正解鍵が一致しているかを確認\n",
    "            count9 = 1\n",
    "        else:\n",
    "            count9 = 0\n",
    "        \n",
    "        recovered_key9.append(count9) #攻撃成功バイト数の保存\n",
    "\n",
    "recovered_key9 = np.array(recovered_key9)\n",
    "np.save('./'+out+'/test9.npy', recovered_key9)"
   ]
  },
  {
   "cell_type": "code",
   "execution_count": null,
   "id": "90776b17-4bbf-4a59-8208-09fb3232d0f4",
   "metadata": {},
   "outputs": [],
   "source": [
    "TARGET_BYTE = 10 #何バイト目を攻撃するか決める"
   ]
  },
  {
   "cell_type": "code",
   "execution_count": null,
   "id": "d2b10368-5729-4e46-891b-69ece1936227",
   "metadata": {},
   "outputs": [],
   "source": [
    "AES_Sbox = np.array([\n",
    "\t\t\t0x63, 0x7C, 0x77, 0x7B, 0xF2, 0x6B, 0x6F, 0xC5, 0x30, 0x01, 0x67, 0x2B, 0xFE, 0xD7, 0xAB, 0x76,\n",
    "\t\t\t0xCA, 0x82, 0xC9, 0x7D, 0xFA, 0x59, 0x47, 0xF0, 0xAD, 0xD4, 0xA2, 0xAF, 0x9C, 0xA4, 0x72, 0xC0,\n",
    "\t\t\t0xB7, 0xFD, 0x93, 0x26, 0x36, 0x3F, 0xF7, 0xCC, 0x34, 0xA5, 0xE5, 0xF1, 0x71, 0xD8, 0x31, 0x15,\n",
    "\t\t\t0x04, 0xC7, 0x23, 0xC3, 0x18, 0x96, 0x05, 0x9A, 0x07, 0x12, 0x80, 0xE2, 0xEB, 0x27, 0xB2, 0x75,\n",
    "\t\t\t0x09, 0x83, 0x2C, 0x1A, 0x1B, 0x6E, 0x5A, 0xA0, 0x52, 0x3B, 0xD6, 0xB3, 0x29, 0xE3, 0x2F, 0x84,\n",
    "\t\t\t0x53, 0xD1, 0x00, 0xED, 0x20, 0xFC, 0xB1, 0x5B, 0x6A, 0xCB, 0xBE, 0x39, 0x4A, 0x4C, 0x58, 0xCF,\n",
    "\t\t\t0xD0, 0xEF, 0xAA, 0xFB, 0x43, 0x4D, 0x33, 0x85, 0x45, 0xF9, 0x02, 0x7F, 0x50, 0x3C, 0x9F, 0xA8,\n",
    "\t\t\t0x51, 0xA3, 0x40, 0x8F, 0x92, 0x9D, 0x38, 0xF5, 0xBC, 0xB6, 0xDA, 0x21, 0x10, 0xFF, 0xF3, 0xD2,\n",
    "\t\t\t0xCD, 0x0C, 0x13, 0xEC, 0x5F, 0x97, 0x44, 0x17, 0xC4, 0xA7, 0x7E, 0x3D, 0x64, 0x5D, 0x19, 0x73,\n",
    "\t\t\t0x60, 0x81, 0x4F, 0xDC, 0x22, 0x2A, 0x90, 0x88, 0x46, 0xEE, 0xB8, 0x14, 0xDE, 0x5E, 0x0B, 0xDB,\n",
    "\t\t\t0xE0, 0x32, 0x3A, 0x0A, 0x49, 0x06, 0x24, 0x5C, 0xC2, 0xD3, 0xAC, 0x62, 0x91, 0x95, 0xE4, 0x79,\n",
    "\t\t\t0xE7, 0xC8, 0x37, 0x6D, 0x8D, 0xD5, 0x4E, 0xA9, 0x6C, 0x56, 0xF4, 0xEA, 0x65, 0x7A, 0xAE, 0x08,\n",
    "\t\t\t0xBA, 0x78, 0x25, 0x2E, 0x1C, 0xA6, 0xB4, 0xC6, 0xE8, 0xDD, 0x74, 0x1F, 0x4B, 0xBD, 0x8B, 0x8A,\n",
    "\t\t\t0x70, 0x3E, 0xB5, 0x66, 0x48, 0x03, 0xF6, 0x0E, 0x61, 0x35, 0x57, 0xB9, 0x86, 0xC1, 0x1D, 0x9E,\n",
    "\t\t\t0xE1, 0xF8, 0x98, 0x11, 0x69, 0xD9, 0x8E, 0x94, 0x9B, 0x1E, 0x87, 0xE9, 0xCE, 0x55, 0x28, 0xDF,\n",
    "\t\t\t0x8C, 0xA1, 0x89, 0x0D, 0xBF, 0xE6, 0x42, 0x68, 0x41, 0x99, 0x2D, 0x0F, 0xB0, 0x54, 0xBB, 0x16\n",
    "\t\t\t])"
   ]
  },
  {
   "cell_type": "code",
   "execution_count": null,
   "id": "af245b97-ed4f-4960-a7d5-da69064c3946",
   "metadata": {},
   "outputs": [],
   "source": [
    "data_train = h5py.File('ATMega8515_raw_traces.h5', 'r')\n",
    "data_test = h5py.File('ATMega8515_raw_traces.h5', 'r')\n",
    "data_attack = h5py.File('ATMega8515_raw_traces.h5', 'r')"
   ]
  },
  {
   "cell_type": "code",
   "execution_count": null,
   "id": "b15da57a-e504-4d75-ae06-458fec85140f",
   "metadata": {},
   "outputs": [],
   "source": [
    "train_metadata=data_train['metadata']\n",
    "train_plain = train_metadata['plaintext']\n",
    "train_cipher = train_metadata['ciphertext']\n",
    "train_key = train_metadata['key']\n",
    "train_mask = train_metadata['masks']\n",
    "train_trace = data_train['traces']\n",
    "\n",
    "test_metadata=data_test['metadata']\n",
    "test_plain = test_metadata['plaintext']\n",
    "test_cipher = test_metadata['ciphertext']\n",
    "test_key = test_metadata['key']\n",
    "test_mask = test_metadata['masks']\n",
    "test_trace = data_train['traces']\n",
    "\n",
    "attack_metadata=data_attack['metadata']\n",
    "attack_plain = attack_metadata['plaintext']\n",
    "attack_cipher = attack_metadata['ciphertext']\n",
    "attack_key = attack_metadata['key']\n",
    "attack_mask = attack_metadata['masks']\n",
    "attack_trace = data_train['traces']"
   ]
  },
  {
   "cell_type": "code",
   "execution_count": null,
   "id": "3c4cfa87-c210-4982-9c93-1fe62cd43571",
   "metadata": {},
   "outputs": [],
   "source": [
    "train_trace = train_trace[0:45000, 28742:29442]\n",
    "test_trace = test_trace[45000:50000, 28742:29442]\n",
    "attack_trace = attack_trace[50000:60000, 28742:29442]\n",
    "train_plain = train_plain[0:45000, :]\n",
    "test_plain = test_plain[45000:50000, :]\n",
    "train_trace2 = train_trace\n",
    "test_trace2 = test_trace\n",
    "attack_trace2 = attack_trace\n",
    "train_trace.shape"
   ]
  },
  {
   "cell_type": "code",
   "execution_count": null,
   "id": "da91e8dc-319e-4c8c-997d-b248aed525b7",
   "metadata": {},
   "outputs": [],
   "source": [
    "train_key = train_key[0:45000,:]\n",
    "train_sbox_in = []\n",
    "train_sbox_in = np.array(train_plain^train_key) #平文と鍵のXORがSbox(SubBytes)入力\n",
    "train_sbox_out = np.array([AES_Sbox[i] for i in train_sbox_in])"
   ]
  },
  {
   "cell_type": "code",
   "execution_count": null,
   "id": "443c6be6-e50e-43e9-a1b5-f5c6ffd05542",
   "metadata": {},
   "outputs": [],
   "source": [
    "test_key = test_key[0:5000,:]\n",
    "test_sbox_in = []\n",
    "test_sbox_in = np.array(test_plain^np.array(test_key)) #平文と鍵のXORがSbox(SubBytes)入力\n",
    "test_sbox_out = np.array([AES_Sbox[i] for i in test_sbox_in])"
   ]
  },
  {
   "cell_type": "code",
   "execution_count": null,
   "id": "4f765d32-8e04-46b8-9ccc-c4abbeb3fba5",
   "metadata": {},
   "outputs": [],
   "source": [
    "train_sbox_out = train_sbox_out[:,TARGET_BYTE]\n",
    "test_sbox_out = test_sbox_out[:,TARGET_BYTE]"
   ]
  },
  {
   "cell_type": "code",
   "execution_count": null,
   "id": "73ecc90d-5fbd-4959-bcd1-77630357ae97",
   "metadata": {},
   "outputs": [],
   "source": [
    "#波形データの標準化(データを平均で引いて標準偏差で割る)\n",
    "train_trace2 = (train_trace2 -np.mean(train_trace2, axis = 0))/np.std(train_trace2, axis = 0)\n",
    "\n",
    "test_trace2 = (test_trace2 - np.mean(test_trace2, axis = 0))/np.std(test_trace2, axis = 0)\n",
    "\n",
    "attack_trace2 = (attack_trace2 - np.mean(attack_trace2, axis = 0))/np.std(attack_trace2, axis = 0)\n",
    "\n",
    "#DeepLearningできるshapeに変更\n",
    "train_trace2 = train_trace2.reshape(45000,700,1)\n",
    "\n",
    "test_trace2 = test_trace2.reshape(5000,700,1)\n",
    "\n",
    "attack_trace2 = attack_trace2.reshape(10000,700,1)"
   ]
  },
  {
   "cell_type": "code",
   "execution_count": null,
   "id": "47d9381f-b8ea-42a8-9374-438ca08174f2",
   "metadata": {},
   "outputs": [],
   "source": [
    "def cnn_best(classes=256,input_dim=700):\n",
    "\t# From VGG16 design\n",
    "\tinput_shape = (input_dim,1)\n",
    "\timg_input = Input(shape=input_shape)\n",
    "\t# Block 1\n",
    "\tx = Conv1D(64, 11, activation='relu', padding='same', name='block1_conv1')(img_input)\n",
    "\tx = AveragePooling1D(2, strides=2, name='block1_pool')(x)\n",
    "\t# Block 2\n",
    "\tx = Conv1D(128, 11, activation='relu', padding='same', name='block2_conv1')(x)\n",
    "\tx = AveragePooling1D(2, strides=2, name='block2_pool')(x)\n",
    "\t# Block 3\n",
    "\tx = Conv1D(256, 11, activation='relu', padding='same', name='block3_conv1')(x)\n",
    "\tx = AveragePooling1D(2, strides=2, name='block3_pool')(x)\n",
    "\t# Block 4\n",
    "\tx = Conv1D(512, 11, activation='relu', padding='same', name='block4_conv1')(x)\n",
    "\tx = AveragePooling1D(2, strides=2, name='block4_pool')(x)\n",
    "\t# Block 5\n",
    "\tx = Conv1D(512, 11, activation='relu', padding='same', name='block5_conv1')(x)\n",
    "\tx = AveragePooling1D(2, strides=2, name='block5_pool')(x)\n",
    "\t# Classification block\n",
    "\tx = Flatten(name='flatten')(x)\n",
    "\tx = Dense(4096, activation='relu', name='fc1')(x)\n",
    "\tx = Dense(4096, activation='relu', name='fc2')(x)\n",
    "\t# x = Dense(classes, activation='softmax', name='predictions')(x)\n",
    "\tx = Dense(classes, name='predictions')(x)\n",
    "\n",
    "\tinputs = img_input\n",
    "\t# Create model.\n",
    "\tmodel = Model(inputs, x, name='cnn_best')\n",
    "\toptimizer = RMSprop(learning_rate=0.00001)\n",
    "\tloss_fn = tf.keras.losses.SparseCategoricalCrossentropy(from_logits=True)\n",
    "\t# model.compile(loss='categorical_crossentropy', optimizer=optimizer, metrics=['accuracy'])\n",
    "\tmodel.compile(loss=loss_fn, optimizer=optimizer, metrics=['accuracy'])\n",
    "\treturn model"
   ]
  },
  {
   "cell_type": "code",
   "execution_count": null,
   "id": "1edfe324-6316-492d-b7a8-c9b5b71f54b6",
   "metadata": {},
   "outputs": [],
   "source": [
    "cnn_best()"
   ]
  },
  {
   "cell_type": "code",
   "execution_count": null,
   "id": "467aafc7-2e6a-4a5d-95b4-aa655fca0470",
   "metadata": {},
   "outputs": [],
   "source": [
    "model=cnn_best(classes=256,input_dim=700)\n",
    "epochs=117\n",
    "learning_data = model.fit(train_trace2,train_sbox_out,epochs=epochs,batch_size=200,validation_data=(test_trace2,test_sbox_out))"
   ]
  },
  {
   "cell_type": "code",
   "execution_count": null,
   "id": "6abde86a-2387-4017-a792-6e2f0f2c2e5a",
   "metadata": {},
   "outputs": [],
   "source": [
    "out = 'result'\n",
    "\n",
    "os.makedirs(os.path.join('./', out), exist_ok=True)\n",
    "model.save_weights(os.path.join('./',out,'compare_attack_{}byte.h5').format(TARGET_BYTE))"
   ]
  },
  {
   "cell_type": "code",
   "execution_count": null,
   "id": "96e6a176-ad77-4818-975c-f0b8048e663a",
   "metadata": {},
   "outputs": [],
   "source": [
    "plt.figure()\n",
    "plt.subplot(1,1,1)\n",
    "plt.plot(range(1,epochs+1), learning_data.history['accuracy'], label = 'train_accuracy')\n",
    "plt.plot(range(1,epochs+1), learning_data.history['val_accuracy'], label = 'test_accuracy')\n",
    "plt.xlabel('epochs')\n",
    "plt.ylabel('accuracy')\n",
    "plt.title('accuracy_{}byte'.format(TARGET_BYTE))\n",
    "plt.legend()\n",
    "plt.savefig('./'+out+'/compare_accuracy_{}byte.png'.format(TARGET_BYTE))"
   ]
  },
  {
   "cell_type": "code",
   "execution_count": null,
   "id": "67283867-ff9d-4f1a-b9c6-8096a225046a",
   "metadata": {},
   "outputs": [],
   "source": [
    "predicts = model.predict(attack_trace2)\n",
    "predicts = tf.nn.softmax(predicts)\n",
    "predicts.shape"
   ]
  },
  {
   "cell_type": "code",
   "execution_count": null,
   "id": "8db6ad11-01a4-421c-adc4-85f215dbcd30",
   "metadata": {},
   "outputs": [],
   "source": [
    "attack_plain=attack_metadata['plaintext']"
   ]
  },
  {
   "cell_type": "code",
   "execution_count": null,
   "id": "95c7703a-f6b0-4c74-915e-cbe43000861a",
   "metadata": {},
   "outputs": [],
   "source": [
    "attack_sbox_in = []\n",
    "for estimated_key in range(256): #256通りの推定鍵だけ繰り返す。\n",
    "    attack_sbox_in.append(attack_plain^np.array([estimated_key]*16)) #平文と推定鍵のXORがSbox(SubBytes)入力\n",
    "attack_sbox_in = np.array(attack_sbox_in)\n",
    "attack_sbox_out = np.array([AES_Sbox[i] for i in attack_sbox_in])\n",
    "attack_sbox_out = attack_sbox_out[:,:,TARGET_BYTE]"
   ]
  },
  {
   "cell_type": "code",
   "execution_count": null,
   "id": "e0db203e-ff9a-4127-a674-bba8db4642df",
   "metadata": {},
   "outputs": [],
   "source": [
    "attack_sbox_out = attack_sbox_out[:,50000:] #全体の内, 最後の1000を攻撃に使用"
   ]
  },
  {
   "cell_type": "code",
   "execution_count": null,
   "id": "e5188ff5-6036-4c35-82de-0b9b16f31265",
   "metadata": {},
   "outputs": [],
   "source": [
    "result = np.ones(256) /256\n",
    "rank = []\n",
    "attack_sbox_out = np.array(attack_sbox_out)\n",
    "pred = predicts.numpy()\n",
    "\n",
    "for i in range(len(predicts)):\n",
    "    result *= pred[i, attack_sbox_out[:, i]]\n",
    "    result = result /np.sum(result)\n",
    "    rank.append(list(np.argsort(result)[::-1]).index(attack_key[0][TARGET_BYTE])+1)\n",
    "    "
   ]
  },
  {
   "cell_type": "code",
   "execution_count": null,
   "id": "ef45d0fc-4df3-4060-a139-b20a6ad3cac5",
   "metadata": {},
   "outputs": [],
   "source": [
    "rank_lim = rank[0:10000]\n",
    "plt.figure()\n",
    "plt.plot(rank_lim)\n",
    "plt.xlabel('wave')\n",
    "plt.ylabel('rank')\n",
    "plt.title('target_{}byte'.format(TARGET_BYTE))\n",
    "plt.savefig('./'+out+'/compare_rank_{}byte.png'.format(TARGET_BYTE))"
   ]
  },
  {
   "cell_type": "code",
   "execution_count": null,
   "id": "df83047f-bcbb-49c8-9c16-05df03dff1bf",
   "metadata": {},
   "outputs": [],
   "source": [
    "recovered_key10=[]\n",
    "\n",
    "for i in range(10000):\n",
    "        if rank[i] == 1: #推定した鍵と正解鍵が一致しているかを確認\n",
    "            count10 = 1\n",
    "        else:\n",
    "            count10 = 0\n",
    "        \n",
    "        recovered_key10.append(count10) #攻撃成功バイト数の保存\n",
    "\n",
    "recovered_key10 = np.array(recovered_key10)\n",
    "np.save('./'+out+'/test10.npy', recovered_key10)"
   ]
  },
  {
   "cell_type": "code",
   "execution_count": null,
   "id": "b5ada456-c71f-43d6-b58b-3f3dc668575e",
   "metadata": {},
   "outputs": [],
   "source": [
    "TARGET_BYTE = 11 #何バイト目を攻撃するか決める"
   ]
  },
  {
   "cell_type": "code",
   "execution_count": null,
   "id": "adf100fd-1ed5-4095-b680-d9aa6d021342",
   "metadata": {},
   "outputs": [],
   "source": [
    "AES_Sbox = np.array([\n",
    "\t\t\t0x63, 0x7C, 0x77, 0x7B, 0xF2, 0x6B, 0x6F, 0xC5, 0x30, 0x01, 0x67, 0x2B, 0xFE, 0xD7, 0xAB, 0x76,\n",
    "\t\t\t0xCA, 0x82, 0xC9, 0x7D, 0xFA, 0x59, 0x47, 0xF0, 0xAD, 0xD4, 0xA2, 0xAF, 0x9C, 0xA4, 0x72, 0xC0,\n",
    "\t\t\t0xB7, 0xFD, 0x93, 0x26, 0x36, 0x3F, 0xF7, 0xCC, 0x34, 0xA5, 0xE5, 0xF1, 0x71, 0xD8, 0x31, 0x15,\n",
    "\t\t\t0x04, 0xC7, 0x23, 0xC3, 0x18, 0x96, 0x05, 0x9A, 0x07, 0x12, 0x80, 0xE2, 0xEB, 0x27, 0xB2, 0x75,\n",
    "\t\t\t0x09, 0x83, 0x2C, 0x1A, 0x1B, 0x6E, 0x5A, 0xA0, 0x52, 0x3B, 0xD6, 0xB3, 0x29, 0xE3, 0x2F, 0x84,\n",
    "\t\t\t0x53, 0xD1, 0x00, 0xED, 0x20, 0xFC, 0xB1, 0x5B, 0x6A, 0xCB, 0xBE, 0x39, 0x4A, 0x4C, 0x58, 0xCF,\n",
    "\t\t\t0xD0, 0xEF, 0xAA, 0xFB, 0x43, 0x4D, 0x33, 0x85, 0x45, 0xF9, 0x02, 0x7F, 0x50, 0x3C, 0x9F, 0xA8,\n",
    "\t\t\t0x51, 0xA3, 0x40, 0x8F, 0x92, 0x9D, 0x38, 0xF5, 0xBC, 0xB6, 0xDA, 0x21, 0x10, 0xFF, 0xF3, 0xD2,\n",
    "\t\t\t0xCD, 0x0C, 0x13, 0xEC, 0x5F, 0x97, 0x44, 0x17, 0xC4, 0xA7, 0x7E, 0x3D, 0x64, 0x5D, 0x19, 0x73,\n",
    "\t\t\t0x60, 0x81, 0x4F, 0xDC, 0x22, 0x2A, 0x90, 0x88, 0x46, 0xEE, 0xB8, 0x14, 0xDE, 0x5E, 0x0B, 0xDB,\n",
    "\t\t\t0xE0, 0x32, 0x3A, 0x0A, 0x49, 0x06, 0x24, 0x5C, 0xC2, 0xD3, 0xAC, 0x62, 0x91, 0x95, 0xE4, 0x79,\n",
    "\t\t\t0xE7, 0xC8, 0x37, 0x6D, 0x8D, 0xD5, 0x4E, 0xA9, 0x6C, 0x56, 0xF4, 0xEA, 0x65, 0x7A, 0xAE, 0x08,\n",
    "\t\t\t0xBA, 0x78, 0x25, 0x2E, 0x1C, 0xA6, 0xB4, 0xC6, 0xE8, 0xDD, 0x74, 0x1F, 0x4B, 0xBD, 0x8B, 0x8A,\n",
    "\t\t\t0x70, 0x3E, 0xB5, 0x66, 0x48, 0x03, 0xF6, 0x0E, 0x61, 0x35, 0x57, 0xB9, 0x86, 0xC1, 0x1D, 0x9E,\n",
    "\t\t\t0xE1, 0xF8, 0x98, 0x11, 0x69, 0xD9, 0x8E, 0x94, 0x9B, 0x1E, 0x87, 0xE9, 0xCE, 0x55, 0x28, 0xDF,\n",
    "\t\t\t0x8C, 0xA1, 0x89, 0x0D, 0xBF, 0xE6, 0x42, 0x68, 0x41, 0x99, 0x2D, 0x0F, 0xB0, 0x54, 0xBB, 0x16\n",
    "\t\t\t])"
   ]
  },
  {
   "cell_type": "code",
   "execution_count": null,
   "id": "e1867790-515c-413a-9353-7cce0a378c94",
   "metadata": {},
   "outputs": [],
   "source": [
    "data_train = h5py.File('ATMega8515_raw_traces.h5', 'r')\n",
    "data_test = h5py.File('ATMega8515_raw_traces.h5', 'r')\n",
    "data_attack = h5py.File('ATMega8515_raw_traces.h5', 'r')"
   ]
  },
  {
   "cell_type": "code",
   "execution_count": null,
   "id": "afea2bcc-8051-46e1-889e-d6abd83fdcd2",
   "metadata": {},
   "outputs": [],
   "source": [
    "train_metadata=data_train['metadata']\n",
    "train_plain = train_metadata['plaintext']\n",
    "train_cipher = train_metadata['ciphertext']\n",
    "train_key = train_metadata['key']\n",
    "train_mask = train_metadata['masks']\n",
    "train_trace = data_train['traces']\n",
    "\n",
    "test_metadata=data_test['metadata']\n",
    "test_plain = test_metadata['plaintext']\n",
    "test_cipher = test_metadata['ciphertext']\n",
    "test_key = test_metadata['key']\n",
    "test_mask = test_metadata['masks']\n",
    "test_trace = data_train['traces']\n",
    "\n",
    "attack_metadata=data_attack['metadata']\n",
    "attack_plain = attack_metadata['plaintext']\n",
    "attack_cipher = attack_metadata['ciphertext']\n",
    "attack_key = attack_metadata['key']\n",
    "attack_mask = attack_metadata['masks']\n",
    "attack_trace = data_train['traces']"
   ]
  },
  {
   "cell_type": "code",
   "execution_count": null,
   "id": "c918570f-91c5-4cfc-a91c-7a094971bbd9",
   "metadata": {},
   "outputs": [],
   "source": [
    "train_trace = train_trace[0:45000, 43318:44018]\n",
    "test_trace = test_trace[45000:50000, 43318:44018]\n",
    "attack_trace = attack_trace[50000:60000, 43318:44018]\n",
    "train_plain = train_plain[0:45000, :]\n",
    "test_plain = test_plain[45000:50000, :]\n",
    "train_trace2 = train_trace\n",
    "test_trace2 = test_trace\n",
    "attack_trace2 = attack_trace\n",
    "train_trace.shape"
   ]
  },
  {
   "cell_type": "code",
   "execution_count": null,
   "id": "8f7abdc8-3300-4eff-885d-11e7962b3fc0",
   "metadata": {},
   "outputs": [],
   "source": [
    "train_key = train_key[0:45000,:]\n",
    "train_sbox_in = []\n",
    "train_sbox_in = np.array(train_plain^train_key) #平文と鍵のXORがSbox(SubBytes)入力\n",
    "train_sbox_out = np.array([AES_Sbox[i] for i in train_sbox_in])"
   ]
  },
  {
   "cell_type": "code",
   "execution_count": null,
   "id": "dd0daee5-ec78-4220-8281-be160fa6fcaa",
   "metadata": {},
   "outputs": [],
   "source": [
    "test_key = test_key[0:5000,:]\n",
    "test_sbox_in = []\n",
    "test_sbox_in = np.array(test_plain^np.array(test_key)) #平文と鍵のXORがSbox(SubBytes)入力\n",
    "test_sbox_out = np.array([AES_Sbox[i] for i in test_sbox_in])"
   ]
  },
  {
   "cell_type": "code",
   "execution_count": null,
   "id": "92ac5aa6-56c1-4a91-88f6-343a8b2dd2d5",
   "metadata": {},
   "outputs": [],
   "source": [
    "train_sbox_out = train_sbox_out[:,TARGET_BYTE]\n",
    "test_sbox_out = test_sbox_out[:,TARGET_BYTE]"
   ]
  },
  {
   "cell_type": "code",
   "execution_count": null,
   "id": "2cf64563-2479-4157-917d-061f1ab8751f",
   "metadata": {},
   "outputs": [],
   "source": [
    "#波形データの標準化(データを平均で引いて標準偏差で割る)\n",
    "train_trace2 = (train_trace2 -np.mean(train_trace2, axis = 0))/np.std(train_trace2, axis = 0)\n",
    "\n",
    "test_trace2 = (test_trace2 - np.mean(test_trace2, axis = 0))/np.std(test_trace2, axis = 0)\n",
    "\n",
    "attack_trace2 = (attack_trace2 - np.mean(attack_trace2, axis = 0))/np.std(attack_trace2, axis = 0)\n",
    "\n",
    "#DeepLearningできるshapeに変更\n",
    "train_trace2 = train_trace2.reshape(45000,700,1)\n",
    "\n",
    "test_trace2 = test_trace2.reshape(5000,700,1)\n",
    "\n",
    "attack_trace2 = attack_trace2.reshape(10000,700,1)"
   ]
  },
  {
   "cell_type": "code",
   "execution_count": null,
   "id": "d87c60ff-73c1-483c-9c15-7ff6078f7838",
   "metadata": {},
   "outputs": [],
   "source": [
    "def cnn_best(classes=256,input_dim=700):\n",
    "\t# From VGG16 design\n",
    "\tinput_shape = (input_dim,1)\n",
    "\timg_input = Input(shape=input_shape)\n",
    "\t# Block 1\n",
    "\tx = Conv1D(64, 11, activation='relu', padding='same', name='block1_conv1')(img_input)\n",
    "\tx = AveragePooling1D(2, strides=2, name='block1_pool')(x)\n",
    "\t# Block 2\n",
    "\tx = Conv1D(128, 11, activation='relu', padding='same', name='block2_conv1')(x)\n",
    "\tx = AveragePooling1D(2, strides=2, name='block2_pool')(x)\n",
    "\t# Block 3\n",
    "\tx = Conv1D(256, 11, activation='relu', padding='same', name='block3_conv1')(x)\n",
    "\tx = AveragePooling1D(2, strides=2, name='block3_pool')(x)\n",
    "\t# Block 4\n",
    "\tx = Conv1D(512, 11, activation='relu', padding='same', name='block4_conv1')(x)\n",
    "\tx = AveragePooling1D(2, strides=2, name='block4_pool')(x)\n",
    "\t# Block 5\n",
    "\tx = Conv1D(512, 11, activation='relu', padding='same', name='block5_conv1')(x)\n",
    "\tx = AveragePooling1D(2, strides=2, name='block5_pool')(x)\n",
    "\t# Classification block\n",
    "\tx = Flatten(name='flatten')(x)\n",
    "\tx = Dense(4096, activation='relu', name='fc1')(x)\n",
    "\tx = Dense(4096, activation='relu', name='fc2')(x)\n",
    "\t# x = Dense(classes, activation='softmax', name='predictions')(x)\n",
    "\tx = Dense(classes, name='predictions')(x)\n",
    "\n",
    "\tinputs = img_input\n",
    "\t# Create model.\n",
    "\tmodel = Model(inputs, x, name='cnn_best')\n",
    "\toptimizer = RMSprop(learning_rate=0.00001)\n",
    "\tloss_fn = tf.keras.losses.SparseCategoricalCrossentropy(from_logits=True)\n",
    "\t# model.compile(loss='categorical_crossentropy', optimizer=optimizer, metrics=['accuracy'])\n",
    "\tmodel.compile(loss=loss_fn, optimizer=optimizer, metrics=['accuracy'])\n",
    "\treturn model"
   ]
  },
  {
   "cell_type": "code",
   "execution_count": null,
   "id": "55ca3663-512e-4403-bca2-7f107175bf3b",
   "metadata": {},
   "outputs": [],
   "source": [
    "cnn_best()"
   ]
  },
  {
   "cell_type": "code",
   "execution_count": null,
   "id": "5c51e5fa-a228-4846-b1f6-7e3d0810cafe",
   "metadata": {},
   "outputs": [],
   "source": [
    "model=cnn_best(classes=256,input_dim=700)\n",
    "epochs=117\n",
    "learning_data = model.fit(train_trace2,train_sbox_out,epochs=epochs,batch_size=200,validation_data=(test_trace2,test_sbox_out))"
   ]
  },
  {
   "cell_type": "code",
   "execution_count": null,
   "id": "af9de8a5-a761-4909-b85f-5f589e82de10",
   "metadata": {},
   "outputs": [],
   "source": [
    "out = 'result'\n",
    "\n",
    "os.makedirs(os.path.join('./', out), exist_ok=True)\n",
    "model.save_weights(os.path.join('./',out,'compare_attack_{}byte.h5').format(TARGET_BYTE))"
   ]
  },
  {
   "cell_type": "code",
   "execution_count": null,
   "id": "d857080a-cb4b-4364-bbc5-e56f356fd208",
   "metadata": {},
   "outputs": [],
   "source": [
    "plt.figure()\n",
    "plt.subplot(1,1,1)\n",
    "plt.plot(range(1,epochs+1), learning_data.history['accuracy'], label = 'train_accuracy')\n",
    "plt.plot(range(1,epochs+1), learning_data.history['val_accuracy'], label = 'test_accuracy')\n",
    "plt.xlabel('epochs')\n",
    "plt.ylabel('accuracy')\n",
    "plt.title('accuracy_{}byte'.format(TARGET_BYTE))\n",
    "plt.legend()\n",
    "plt.savefig('./'+out+'/compare_accuracy_{}byte.png'.format(TARGET_BYTE))"
   ]
  },
  {
   "cell_type": "code",
   "execution_count": null,
   "id": "388fa7f4-0f25-4369-983c-468137cdfe4f",
   "metadata": {},
   "outputs": [],
   "source": [
    "predicts = model.predict(attack_trace2)\n",
    "predicts = tf.nn.softmax(predicts)\n",
    "predicts.shape"
   ]
  },
  {
   "cell_type": "code",
   "execution_count": null,
   "id": "d11dca25-ca53-44ad-b70b-894c56425115",
   "metadata": {},
   "outputs": [],
   "source": [
    "attack_plain=attack_metadata['plaintext']"
   ]
  },
  {
   "cell_type": "code",
   "execution_count": null,
   "id": "90f9525d-e4a8-4a90-aff9-768e122b7c1a",
   "metadata": {},
   "outputs": [],
   "source": [
    "attack_sbox_in = []\n",
    "for estimated_key in range(256): #256通りの推定鍵だけ繰り返す。\n",
    "    attack_sbox_in.append(attack_plain^np.array([estimated_key]*16)) #平文と推定鍵のXORがSbox(SubBytes)入力\n",
    "attack_sbox_in = np.array(attack_sbox_in)\n",
    "attack_sbox_out = np.array([AES_Sbox[i] for i in attack_sbox_in])\n",
    "attack_sbox_out = attack_sbox_out[:,:,TARGET_BYTE]"
   ]
  },
  {
   "cell_type": "code",
   "execution_count": null,
   "id": "4fe4928d-d136-4576-a107-8f76d7a4c69e",
   "metadata": {},
   "outputs": [],
   "source": [
    "attack_sbox_out = attack_sbox_out[:,50000:] #全体の内, 最後の1000を攻撃に使用"
   ]
  },
  {
   "cell_type": "code",
   "execution_count": null,
   "id": "02346e10-1105-4154-8706-42c35d6a37aa",
   "metadata": {},
   "outputs": [],
   "source": [
    "result = np.ones(256) /256\n",
    "rank = []\n",
    "attack_sbox_out = np.array(attack_sbox_out)\n",
    "pred = predicts.numpy()\n",
    "\n",
    "for i in range(len(predicts)):\n",
    "    result *= pred[i, attack_sbox_out[:, i]]\n",
    "    result = result /np.sum(result)\n",
    "    rank.append(list(np.argsort(result)[::-1]).index(attack_key[0][TARGET_BYTE])+1)\n",
    "    "
   ]
  },
  {
   "cell_type": "code",
   "execution_count": null,
   "id": "8fc7d853-bce2-477a-ade4-1b328bb242bf",
   "metadata": {},
   "outputs": [],
   "source": [
    "rank_lim = rank[0:10000]\n",
    "plt.figure()\n",
    "plt.plot(rank_lim)\n",
    "plt.xlabel('wave')\n",
    "plt.ylabel('rank')\n",
    "plt.title('target_{}byte'.format(TARGET_BYTE))\n",
    "plt.savefig('./'+out+'/compare_rank_{}byte.png'.format(TARGET_BYTE))"
   ]
  },
  {
   "cell_type": "code",
   "execution_count": null,
   "id": "8c485407-20d0-4e1e-8f74-bf9697034373",
   "metadata": {},
   "outputs": [],
   "source": [
    "recovered_key11=[]\n",
    "\n",
    "for i in range(10000):\n",
    "        if rank[i] == 1: #推定した鍵と正解鍵が一致しているかを確認\n",
    "            count11 = 1\n",
    "        else:\n",
    "            count11 = 0\n",
    "        \n",
    "        recovered_key11.append(count11) #攻撃成功バイト数の保存\n",
    "\n",
    "recovered_key11 = np.array(recovered_key11)\n",
    "np.save('./'+out+'/test11.npy', recovered_key11)"
   ]
  },
  {
   "cell_type": "code",
   "execution_count": null,
   "id": "84896631-eb23-4b63-ad54-2530be55582f",
   "metadata": {},
   "outputs": [],
   "source": [
    "TARGET_BYTE = 12 #何バイト目を攻撃するか決める"
   ]
  },
  {
   "cell_type": "code",
   "execution_count": null,
   "id": "8c138046-91ca-47a6-b8fb-d23b3798afee",
   "metadata": {},
   "outputs": [],
   "source": [
    "AES_Sbox = np.array([\n",
    "\t\t\t0x63, 0x7C, 0x77, 0x7B, 0xF2, 0x6B, 0x6F, 0xC5, 0x30, 0x01, 0x67, 0x2B, 0xFE, 0xD7, 0xAB, 0x76,\n",
    "\t\t\t0xCA, 0x82, 0xC9, 0x7D, 0xFA, 0x59, 0x47, 0xF0, 0xAD, 0xD4, 0xA2, 0xAF, 0x9C, 0xA4, 0x72, 0xC0,\n",
    "\t\t\t0xB7, 0xFD, 0x93, 0x26, 0x36, 0x3F, 0xF7, 0xCC, 0x34, 0xA5, 0xE5, 0xF1, 0x71, 0xD8, 0x31, 0x15,\n",
    "\t\t\t0x04, 0xC7, 0x23, 0xC3, 0x18, 0x96, 0x05, 0x9A, 0x07, 0x12, 0x80, 0xE2, 0xEB, 0x27, 0xB2, 0x75,\n",
    "\t\t\t0x09, 0x83, 0x2C, 0x1A, 0x1B, 0x6E, 0x5A, 0xA0, 0x52, 0x3B, 0xD6, 0xB3, 0x29, 0xE3, 0x2F, 0x84,\n",
    "\t\t\t0x53, 0xD1, 0x00, 0xED, 0x20, 0xFC, 0xB1, 0x5B, 0x6A, 0xCB, 0xBE, 0x39, 0x4A, 0x4C, 0x58, 0xCF,\n",
    "\t\t\t0xD0, 0xEF, 0xAA, 0xFB, 0x43, 0x4D, 0x33, 0x85, 0x45, 0xF9, 0x02, 0x7F, 0x50, 0x3C, 0x9F, 0xA8,\n",
    "\t\t\t0x51, 0xA3, 0x40, 0x8F, 0x92, 0x9D, 0x38, 0xF5, 0xBC, 0xB6, 0xDA, 0x21, 0x10, 0xFF, 0xF3, 0xD2,\n",
    "\t\t\t0xCD, 0x0C, 0x13, 0xEC, 0x5F, 0x97, 0x44, 0x17, 0xC4, 0xA7, 0x7E, 0x3D, 0x64, 0x5D, 0x19, 0x73,\n",
    "\t\t\t0x60, 0x81, 0x4F, 0xDC, 0x22, 0x2A, 0x90, 0x88, 0x46, 0xEE, 0xB8, 0x14, 0xDE, 0x5E, 0x0B, 0xDB,\n",
    "\t\t\t0xE0, 0x32, 0x3A, 0x0A, 0x49, 0x06, 0x24, 0x5C, 0xC2, 0xD3, 0xAC, 0x62, 0x91, 0x95, 0xE4, 0x79,\n",
    "\t\t\t0xE7, 0xC8, 0x37, 0x6D, 0x8D, 0xD5, 0x4E, 0xA9, 0x6C, 0x56, 0xF4, 0xEA, 0x65, 0x7A, 0xAE, 0x08,\n",
    "\t\t\t0xBA, 0x78, 0x25, 0x2E, 0x1C, 0xA6, 0xB4, 0xC6, 0xE8, 0xDD, 0x74, 0x1F, 0x4B, 0xBD, 0x8B, 0x8A,\n",
    "\t\t\t0x70, 0x3E, 0xB5, 0x66, 0x48, 0x03, 0xF6, 0x0E, 0x61, 0x35, 0x57, 0xB9, 0x86, 0xC1, 0x1D, 0x9E,\n",
    "\t\t\t0xE1, 0xF8, 0x98, 0x11, 0x69, 0xD9, 0x8E, 0x94, 0x9B, 0x1E, 0x87, 0xE9, 0xCE, 0x55, 0x28, 0xDF,\n",
    "\t\t\t0x8C, 0xA1, 0x89, 0x0D, 0xBF, 0xE6, 0x42, 0x68, 0x41, 0x99, 0x2D, 0x0F, 0xB0, 0x54, 0xBB, 0x16\n",
    "\t\t\t])"
   ]
  },
  {
   "cell_type": "code",
   "execution_count": null,
   "id": "d367bffc-70eb-42b7-b539-cd9a25035c3c",
   "metadata": {},
   "outputs": [],
   "source": [
    "data_train = h5py.File('ATMega8515_raw_traces.h5', 'r')\n",
    "data_test = h5py.File('ATMega8515_raw_traces.h5', 'r')\n",
    "data_attack = h5py.File('ATMega8515_raw_traces.h5', 'r')"
   ]
  },
  {
   "cell_type": "code",
   "execution_count": null,
   "id": "60ff7c30-63dd-4747-b438-fd126298f8d3",
   "metadata": {},
   "outputs": [],
   "source": [
    "train_metadata=data_train['metadata']\n",
    "train_plain = train_metadata['plaintext']\n",
    "train_cipher = train_metadata['ciphertext']\n",
    "train_key = train_metadata['key']\n",
    "train_mask = train_metadata['masks']\n",
    "train_trace = data_train['traces']\n",
    "\n",
    "test_metadata=data_test['metadata']\n",
    "test_plain = test_metadata['plaintext']\n",
    "test_cipher = test_metadata['ciphertext']\n",
    "test_key = test_metadata['key']\n",
    "test_mask = test_metadata['masks']\n",
    "test_trace = data_train['traces']\n",
    "\n",
    "attack_metadata=data_attack['metadata']\n",
    "attack_plain = attack_metadata['plaintext']\n",
    "attack_cipher = attack_metadata['ciphertext']\n",
    "attack_key = attack_metadata['key']\n",
    "attack_mask = attack_metadata['masks']\n",
    "attack_trace = data_train['traces']"
   ]
  },
  {
   "cell_type": "code",
   "execution_count": null,
   "id": "fa543186-1f22-4ed5-8152-249a2c2d9edc",
   "metadata": {},
   "outputs": [],
   "source": [
    "train_trace = train_trace[0:45000, 20413:21113]\n",
    "test_trace = test_trace[45000:50000, 20413:21113]\n",
    "attack_trace = attack_trace[50000:60000, 20413:21113]\n",
    "train_plain = train_plain[0:45000, :]\n",
    "test_plain = test_plain[45000:50000, :]\n",
    "train_trace2 = train_trace\n",
    "test_trace2 = test_trace\n",
    "attack_trace2 = attack_trace\n",
    "train_trace.shape"
   ]
  },
  {
   "cell_type": "code",
   "execution_count": null,
   "id": "1b04e382-1e98-40a8-91ac-559c632b2bce",
   "metadata": {},
   "outputs": [],
   "source": [
    "train_key = train_key[0:45000,:]\n",
    "train_sbox_in = []\n",
    "train_sbox_in = np.array(train_plain^train_key) #平文と鍵のXORがSbox(SubBytes)入力\n",
    "train_sbox_out = np.array([AES_Sbox[i] for i in train_sbox_in])"
   ]
  },
  {
   "cell_type": "code",
   "execution_count": null,
   "id": "6b0fd4b6-6950-476e-9c91-25dd1227d9fd",
   "metadata": {},
   "outputs": [],
   "source": [
    "test_key = test_key[0:5000,:]\n",
    "test_sbox_in = []\n",
    "test_sbox_in = np.array(test_plain^np.array(test_key)) #平文と鍵のXORがSbox(SubBytes)入力\n",
    "test_sbox_out = np.array([AES_Sbox[i] for i in test_sbox_in])"
   ]
  },
  {
   "cell_type": "code",
   "execution_count": null,
   "id": "c96569f1-576f-4651-ad51-dc7a34bdb880",
   "metadata": {},
   "outputs": [],
   "source": [
    "train_sbox_out = train_sbox_out[:,TARGET_BYTE]\n",
    "test_sbox_out = test_sbox_out[:,TARGET_BYTE]"
   ]
  },
  {
   "cell_type": "code",
   "execution_count": null,
   "id": "d7259088-b509-48ab-9944-d11649d89f5c",
   "metadata": {},
   "outputs": [],
   "source": [
    "#波形データの標準化(データを平均で引いて標準偏差で割る)\n",
    "train_trace2 = (train_trace2 -np.mean(train_trace2, axis = 0))/np.std(train_trace2, axis = 0)\n",
    "\n",
    "test_trace2 = (test_trace2 - np.mean(test_trace2, axis = 0))/np.std(test_trace2, axis = 0)\n",
    "\n",
    "attack_trace2 = (attack_trace2 - np.mean(attack_trace2, axis = 0))/np.std(attack_trace2, axis = 0)\n",
    "\n",
    "#DeepLearningできるshapeに変更\n",
    "train_trace2 = train_trace2.reshape(45000,700,1)\n",
    "\n",
    "test_trace2 = test_trace2.reshape(5000,700,1)\n",
    "\n",
    "attack_trace2 = attack_trace2.reshape(10000,700,1)"
   ]
  },
  {
   "cell_type": "code",
   "execution_count": null,
   "id": "b84c1f29-298b-496d-b069-cd5386a46cef",
   "metadata": {},
   "outputs": [],
   "source": [
    "def cnn_best(classes=256,input_dim=700):\n",
    "\t# From VGG16 design\n",
    "\tinput_shape = (input_dim,1)\n",
    "\timg_input = Input(shape=input_shape)\n",
    "\t# Block 1\n",
    "\tx = Conv1D(64, 11, activation='relu', padding='same', name='block1_conv1')(img_input)\n",
    "\tx = AveragePooling1D(2, strides=2, name='block1_pool')(x)\n",
    "\t# Block 2\n",
    "\tx = Conv1D(128, 11, activation='relu', padding='same', name='block2_conv1')(x)\n",
    "\tx = AveragePooling1D(2, strides=2, name='block2_pool')(x)\n",
    "\t# Block 3\n",
    "\tx = Conv1D(256, 11, activation='relu', padding='same', name='block3_conv1')(x)\n",
    "\tx = AveragePooling1D(2, strides=2, name='block3_pool')(x)\n",
    "\t# Block 4\n",
    "\tx = Conv1D(512, 11, activation='relu', padding='same', name='block4_conv1')(x)\n",
    "\tx = AveragePooling1D(2, strides=2, name='block4_pool')(x)\n",
    "\t# Block 5\n",
    "\tx = Conv1D(512, 11, activation='relu', padding='same', name='block5_conv1')(x)\n",
    "\tx = AveragePooling1D(2, strides=2, name='block5_pool')(x)\n",
    "\t# Classification block\n",
    "\tx = Flatten(name='flatten')(x)\n",
    "\tx = Dense(4096, activation='relu', name='fc1')(x)\n",
    "\tx = Dense(4096, activation='relu', name='fc2')(x)\n",
    "\t# x = Dense(classes, activation='softmax', name='predictions')(x)\n",
    "\tx = Dense(classes, name='predictions')(x)\n",
    "\n",
    "\tinputs = img_input\n",
    "\t# Create model.\n",
    "\tmodel = Model(inputs, x, name='cnn_best')\n",
    "\toptimizer = RMSprop(learning_rate=0.00001)\n",
    "\tloss_fn = tf.keras.losses.SparseCategoricalCrossentropy(from_logits=True)\n",
    "\t# model.compile(loss='categorical_crossentropy', optimizer=optimizer, metrics=['accuracy'])\n",
    "\tmodel.compile(loss=loss_fn, optimizer=optimizer, metrics=['accuracy'])\n",
    "\treturn model"
   ]
  },
  {
   "cell_type": "code",
   "execution_count": null,
   "id": "912cefa9-358f-4b0e-98f3-db62db3a4eeb",
   "metadata": {},
   "outputs": [],
   "source": [
    "cnn_best()"
   ]
  },
  {
   "cell_type": "code",
   "execution_count": null,
   "id": "962ad261-38cd-4da1-92fe-3e304c1a1975",
   "metadata": {},
   "outputs": [],
   "source": [
    "model=cnn_best(classes=256,input_dim=700)\n",
    "epochs=117\n",
    "learning_data = model.fit(train_trace2,train_sbox_out,epochs=epochs,batch_size=200,validation_data=(test_trace2,test_sbox_out))"
   ]
  },
  {
   "cell_type": "code",
   "execution_count": null,
   "id": "74019499-ca72-4a97-9150-1b6a2082a83d",
   "metadata": {},
   "outputs": [],
   "source": [
    "out = 'result'\n",
    "\n",
    "os.makedirs(os.path.join('./', out), exist_ok=True)\n",
    "model.save_weights(os.path.join('./',out,'compare_attack_{}byte.h5').format(TARGET_BYTE))"
   ]
  },
  {
   "cell_type": "code",
   "execution_count": null,
   "id": "e9cb4077-ffe3-4631-a54e-10058c26ca73",
   "metadata": {},
   "outputs": [],
   "source": [
    "plt.figure()\n",
    "plt.subplot(1,1,1)\n",
    "plt.plot(range(1,epochs+1), learning_data.history['accuracy'], label = 'train_accuracy')\n",
    "plt.plot(range(1,epochs+1), learning_data.history['val_accuracy'], label = 'test_accuracy')\n",
    "plt.xlabel('epochs')\n",
    "plt.ylabel('accuracy')\n",
    "plt.title('accuracy_{}byte'.format(TARGET_BYTE))\n",
    "plt.legend()\n",
    "plt.savefig('./'+out+'/compare_accuracy_{}byte.png'.format(TARGET_BYTE))"
   ]
  },
  {
   "cell_type": "code",
   "execution_count": null,
   "id": "51e154db-9713-4abe-b1ec-c34df7e4cf50",
   "metadata": {},
   "outputs": [],
   "source": [
    "predicts = model.predict(attack_trace2)\n",
    "predicts = tf.nn.softmax(predicts)\n",
    "predicts.shape"
   ]
  },
  {
   "cell_type": "code",
   "execution_count": null,
   "id": "291d36e8-b561-40f1-9a23-f8a9e568feba",
   "metadata": {},
   "outputs": [],
   "source": [
    "attack_plain=attack_metadata['plaintext']"
   ]
  },
  {
   "cell_type": "code",
   "execution_count": null,
   "id": "b39b25e2-0bfd-44de-b3d0-c781a179d178",
   "metadata": {},
   "outputs": [],
   "source": [
    "attack_sbox_in = []\n",
    "for estimated_key in range(256): #256通りの推定鍵だけ繰り返す。\n",
    "    attack_sbox_in.append(attack_plain^np.array([estimated_key]*16)) #平文と推定鍵のXORがSbox(SubBytes)入力\n",
    "attack_sbox_in = np.array(attack_sbox_in)\n",
    "attack_sbox_out = np.array([AES_Sbox[i] for i in attack_sbox_in])\n",
    "attack_sbox_out = attack_sbox_out[:,:,TARGET_BYTE]"
   ]
  },
  {
   "cell_type": "code",
   "execution_count": null,
   "id": "89068046-bafe-4c5e-a1f6-09d67517aa03",
   "metadata": {},
   "outputs": [],
   "source": [
    "attack_sbox_out = attack_sbox_out[:,50000:] #全体の内, 最後の1000を攻撃に使用"
   ]
  },
  {
   "cell_type": "code",
   "execution_count": null,
   "id": "e1917093-1167-4ce6-8fc5-75430d542bce",
   "metadata": {},
   "outputs": [],
   "source": [
    "result = np.ones(256) /256\n",
    "rank = []\n",
    "attack_sbox_out = np.array(attack_sbox_out)\n",
    "pred = predicts.numpy()\n",
    "\n",
    "for i in range(len(predicts)):\n",
    "    result *= pred[i, attack_sbox_out[:, i]]\n",
    "    result = result /np.sum(result)\n",
    "    rank.append(list(np.argsort(result)[::-1]).index(attack_key[0][TARGET_BYTE])+1)\n",
    "    "
   ]
  },
  {
   "cell_type": "code",
   "execution_count": null,
   "id": "66a1b34e-576b-4ca5-a2c6-c6752603c1ce",
   "metadata": {},
   "outputs": [],
   "source": [
    "rank_lim = rank[0:10000]\n",
    "plt.figure()\n",
    "plt.plot(rank_lim)\n",
    "plt.xlabel('wave')\n",
    "plt.ylabel('rank')\n",
    "plt.title('target_{}byte'.format(TARGET_BYTE))\n",
    "plt.savefig('./'+out+'/compare_rank_{}byte.png'.format(TARGET_BYTE))"
   ]
  },
  {
   "cell_type": "code",
   "execution_count": null,
   "id": "666dcadc-79a6-4e30-8fc3-7dd39407d3a0",
   "metadata": {},
   "outputs": [],
   "source": [
    "recovered_key12=[]\n",
    "\n",
    "for i in range(10000):\n",
    "        if rank[i] == 1: #推定した鍵と正解鍵が一致しているかを確認\n",
    "            count12 = 1\n",
    "        else:\n",
    "            count12 = 0\n",
    "        \n",
    "        recovered_key12.append(count12) #攻撃成功バイト数の保存\n",
    "\n",
    "recovered_key12 = np.array(recovered_key12)\n",
    "np.save('./'+out+'/test12.npy', recovered_key12)"
   ]
  },
  {
   "cell_type": "code",
   "execution_count": null,
   "id": "2af86a67-69b5-43b0-917e-de26f55f737c",
   "metadata": {},
   "outputs": [],
   "source": [
    "TARGET_BYTE = 13 #何バイト目を攻撃するか決める"
   ]
  },
  {
   "cell_type": "code",
   "execution_count": null,
   "id": "71f04a50-9afe-4117-ae2d-cdb3db1602d1",
   "metadata": {},
   "outputs": [],
   "source": [
    "AES_Sbox = np.array([\n",
    "\t\t\t0x63, 0x7C, 0x77, 0x7B, 0xF2, 0x6B, 0x6F, 0xC5, 0x30, 0x01, 0x67, 0x2B, 0xFE, 0xD7, 0xAB, 0x76,\n",
    "\t\t\t0xCA, 0x82, 0xC9, 0x7D, 0xFA, 0x59, 0x47, 0xF0, 0xAD, 0xD4, 0xA2, 0xAF, 0x9C, 0xA4, 0x72, 0xC0,\n",
    "\t\t\t0xB7, 0xFD, 0x93, 0x26, 0x36, 0x3F, 0xF7, 0xCC, 0x34, 0xA5, 0xE5, 0xF1, 0x71, 0xD8, 0x31, 0x15,\n",
    "\t\t\t0x04, 0xC7, 0x23, 0xC3, 0x18, 0x96, 0x05, 0x9A, 0x07, 0x12, 0x80, 0xE2, 0xEB, 0x27, 0xB2, 0x75,\n",
    "\t\t\t0x09, 0x83, 0x2C, 0x1A, 0x1B, 0x6E, 0x5A, 0xA0, 0x52, 0x3B, 0xD6, 0xB3, 0x29, 0xE3, 0x2F, 0x84,\n",
    "\t\t\t0x53, 0xD1, 0x00, 0xED, 0x20, 0xFC, 0xB1, 0x5B, 0x6A, 0xCB, 0xBE, 0x39, 0x4A, 0x4C, 0x58, 0xCF,\n",
    "\t\t\t0xD0, 0xEF, 0xAA, 0xFB, 0x43, 0x4D, 0x33, 0x85, 0x45, 0xF9, 0x02, 0x7F, 0x50, 0x3C, 0x9F, 0xA8,\n",
    "\t\t\t0x51, 0xA3, 0x40, 0x8F, 0x92, 0x9D, 0x38, 0xF5, 0xBC, 0xB6, 0xDA, 0x21, 0x10, 0xFF, 0xF3, 0xD2,\n",
    "\t\t\t0xCD, 0x0C, 0x13, 0xEC, 0x5F, 0x97, 0x44, 0x17, 0xC4, 0xA7, 0x7E, 0x3D, 0x64, 0x5D, 0x19, 0x73,\n",
    "\t\t\t0x60, 0x81, 0x4F, 0xDC, 0x22, 0x2A, 0x90, 0x88, 0x46, 0xEE, 0xB8, 0x14, 0xDE, 0x5E, 0x0B, 0xDB,\n",
    "\t\t\t0xE0, 0x32, 0x3A, 0x0A, 0x49, 0x06, 0x24, 0x5C, 0xC2, 0xD3, 0xAC, 0x62, 0x91, 0x95, 0xE4, 0x79,\n",
    "\t\t\t0xE7, 0xC8, 0x37, 0x6D, 0x8D, 0xD5, 0x4E, 0xA9, 0x6C, 0x56, 0xF4, 0xEA, 0x65, 0x7A, 0xAE, 0x08,\n",
    "\t\t\t0xBA, 0x78, 0x25, 0x2E, 0x1C, 0xA6, 0xB4, 0xC6, 0xE8, 0xDD, 0x74, 0x1F, 0x4B, 0xBD, 0x8B, 0x8A,\n",
    "\t\t\t0x70, 0x3E, 0xB5, 0x66, 0x48, 0x03, 0xF6, 0x0E, 0x61, 0x35, 0x57, 0xB9, 0x86, 0xC1, 0x1D, 0x9E,\n",
    "\t\t\t0xE1, 0xF8, 0x98, 0x11, 0x69, 0xD9, 0x8E, 0x94, 0x9B, 0x1E, 0x87, 0xE9, 0xCE, 0x55, 0x28, 0xDF,\n",
    "\t\t\t0x8C, 0xA1, 0x89, 0x0D, 0xBF, 0xE6, 0x42, 0x68, 0x41, 0x99, 0x2D, 0x0F, 0xB0, 0x54, 0xBB, 0x16\n",
    "\t\t\t])"
   ]
  },
  {
   "cell_type": "code",
   "execution_count": null,
   "id": "1a38025a-7822-4396-902d-09b9b4130533",
   "metadata": {},
   "outputs": [],
   "source": [
    "data_train = h5py.File('ATMega8515_raw_traces.h5', 'r')\n",
    "data_test = h5py.File('ATMega8515_raw_traces.h5', 'r')\n",
    "data_attack = h5py.File('ATMega8515_raw_traces.h5', 'r')"
   ]
  },
  {
   "cell_type": "code",
   "execution_count": null,
   "id": "02e2f434-f383-47fc-91e8-013268f542f7",
   "metadata": {},
   "outputs": [],
   "source": [
    "train_metadata=data_train['metadata']\n",
    "train_plain = train_metadata['plaintext']\n",
    "train_cipher = train_metadata['ciphertext']\n",
    "train_key = train_metadata['key']\n",
    "train_mask = train_metadata['masks']\n",
    "train_trace = data_train['traces']\n",
    "\n",
    "test_metadata=data_test['metadata']\n",
    "test_plain = test_metadata['plaintext']\n",
    "test_cipher = test_metadata['ciphertext']\n",
    "test_key = test_metadata['key']\n",
    "test_mask = test_metadata['masks']\n",
    "test_trace = data_train['traces']\n",
    "\n",
    "attack_metadata=data_attack['metadata']\n",
    "attack_plain = attack_metadata['plaintext']\n",
    "attack_cipher = attack_metadata['ciphertext']\n",
    "attack_key = attack_metadata['key']\n",
    "attack_mask = attack_metadata['masks']\n",
    "attack_trace = data_train['traces']"
   ]
  },
  {
   "cell_type": "code",
   "execution_count": null,
   "id": "97934907-3474-45e0-8672-bcff76eea12c",
   "metadata": {},
   "outputs": [],
   "source": [
    "train_trace = train_trace[0:45000, 22495:23195]\n",
    "test_trace = test_trace[45000:50000, 22495:23195]\n",
    "attack_trace = attack_trace[50000:60000, 22495:23195]\n",
    "train_plain = train_plain[0:45000, :]\n",
    "test_plain = test_plain[45000:50000, :]\n",
    "train_trace2 = train_trace\n",
    "test_trace2 = test_trace\n",
    "attack_trace2 = attack_trace\n",
    "train_trace.shape"
   ]
  },
  {
   "cell_type": "code",
   "execution_count": null,
   "id": "086654ce-ca41-4877-b14c-f2b0b76e5348",
   "metadata": {},
   "outputs": [],
   "source": [
    "train_key = train_key[0:45000,:]\n",
    "train_sbox_in = []\n",
    "train_sbox_in = np.array(train_plain^train_key) #平文と鍵のXORがSbox(SubBytes)入力\n",
    "train_sbox_out = np.array([AES_Sbox[i] for i in train_sbox_in])"
   ]
  },
  {
   "cell_type": "code",
   "execution_count": null,
   "id": "c80d39d6-c90d-4891-98fd-354007c1afed",
   "metadata": {},
   "outputs": [],
   "source": [
    "test_key = test_key[0:5000,:]\n",
    "test_sbox_in = []\n",
    "test_sbox_in = np.array(test_plain^np.array(test_key)) #平文と鍵のXORがSbox(SubBytes)入力\n",
    "test_sbox_out = np.array([AES_Sbox[i] for i in test_sbox_in])"
   ]
  },
  {
   "cell_type": "code",
   "execution_count": null,
   "id": "e3686128-c898-4c47-a3aa-40e5c4e485cc",
   "metadata": {},
   "outputs": [],
   "source": [
    "train_sbox_out = train_sbox_out[:,TARGET_BYTE]\n",
    "test_sbox_out = test_sbox_out[:,TARGET_BYTE]"
   ]
  },
  {
   "cell_type": "code",
   "execution_count": null,
   "id": "63ab2ece-3a63-4598-9e7f-ed4f2c875cf9",
   "metadata": {},
   "outputs": [],
   "source": [
    "#波形データの標準化(データを平均で引いて標準偏差で割る)\n",
    "train_trace2 = (train_trace2 -np.mean(train_trace2, axis = 0))/np.std(train_trace2, axis = 0)\n",
    "\n",
    "test_trace2 = (test_trace2 - np.mean(test_trace2, axis = 0))/np.std(test_trace2, axis = 0)\n",
    "\n",
    "attack_trace2 = (attack_trace2 - np.mean(attack_trace2, axis = 0))/np.std(attack_trace2, axis = 0)\n",
    "\n",
    "#DeepLearningできるshapeに変更\n",
    "train_trace2 = train_trace2.reshape(45000,700,1)\n",
    "\n",
    "test_trace2 = test_trace2.reshape(5000,700,1)\n",
    "\n",
    "attack_trace2 = attack_trace2.reshape(10000,700,1)"
   ]
  },
  {
   "cell_type": "code",
   "execution_count": null,
   "id": "57721457-565b-4b06-8694-2682cd18d7c4",
   "metadata": {},
   "outputs": [],
   "source": [
    "def cnn_best(classes=256,input_dim=700):\n",
    "\t# From VGG16 design\n",
    "\tinput_shape = (input_dim,1)\n",
    "\timg_input = Input(shape=input_shape)\n",
    "\t# Block 1\n",
    "\tx = Conv1D(64, 11, activation='relu', padding='same', name='block1_conv1')(img_input)\n",
    "\tx = AveragePooling1D(2, strides=2, name='block1_pool')(x)\n",
    "\t# Block 2\n",
    "\tx = Conv1D(128, 11, activation='relu', padding='same', name='block2_conv1')(x)\n",
    "\tx = AveragePooling1D(2, strides=2, name='block2_pool')(x)\n",
    "\t# Block 3\n",
    "\tx = Conv1D(256, 11, activation='relu', padding='same', name='block3_conv1')(x)\n",
    "\tx = AveragePooling1D(2, strides=2, name='block3_pool')(x)\n",
    "\t# Block 4\n",
    "\tx = Conv1D(512, 11, activation='relu', padding='same', name='block4_conv1')(x)\n",
    "\tx = AveragePooling1D(2, strides=2, name='block4_pool')(x)\n",
    "\t# Block 5\n",
    "\tx = Conv1D(512, 11, activation='relu', padding='same', name='block5_conv1')(x)\n",
    "\tx = AveragePooling1D(2, strides=2, name='block5_pool')(x)\n",
    "\t# Classification block\n",
    "\tx = Flatten(name='flatten')(x)\n",
    "\tx = Dense(4096, activation='relu', name='fc1')(x)\n",
    "\tx = Dense(4096, activation='relu', name='fc2')(x)\n",
    "\t# x = Dense(classes, activation='softmax', name='predictions')(x)\n",
    "\tx = Dense(classes, name='predictions')(x)\n",
    "\n",
    "\tinputs = img_input\n",
    "\t# Create model.\n",
    "\tmodel = Model(inputs, x, name='cnn_best')\n",
    "\toptimizer = RMSprop(learning_rate=0.00001)\n",
    "\tloss_fn = tf.keras.losses.SparseCategoricalCrossentropy(from_logits=True)\n",
    "\t# model.compile(loss='categorical_crossentropy', optimizer=optimizer, metrics=['accuracy'])\n",
    "\tmodel.compile(loss=loss_fn, optimizer=optimizer, metrics=['accuracy'])\n",
    "\treturn model"
   ]
  },
  {
   "cell_type": "code",
   "execution_count": null,
   "id": "7a40d5e1-2dcd-45fe-bb39-e1af2142a0cb",
   "metadata": {},
   "outputs": [],
   "source": [
    "cnn_best()"
   ]
  },
  {
   "cell_type": "code",
   "execution_count": null,
   "id": "d8020ec7-6e39-47f9-a3f4-56c4ffab89b6",
   "metadata": {},
   "outputs": [],
   "source": [
    "model=cnn_best(classes=256,input_dim=700)\n",
    "epochs=117\n",
    "learning_data = model.fit(train_trace2,train_sbox_out,epochs=epochs,batch_size=200,validation_data=(test_trace2,test_sbox_out))"
   ]
  },
  {
   "cell_type": "code",
   "execution_count": null,
   "id": "97564103-8193-4575-8ded-e8e659ede24b",
   "metadata": {},
   "outputs": [],
   "source": [
    "out = 'result'\n",
    "\n",
    "os.makedirs(os.path.join('./', out), exist_ok=True)\n",
    "model.save_weights(os.path.join('./',out,'compare_attack_{}byte.h5').format(TARGET_BYTE))"
   ]
  },
  {
   "cell_type": "code",
   "execution_count": null,
   "id": "3161ef48-8c59-4f66-89e1-87881a328de7",
   "metadata": {},
   "outputs": [],
   "source": [
    "plt.figure()\n",
    "plt.subplot(1,1,1)\n",
    "plt.plot(range(1,epochs+1), learning_data.history['accuracy'], label = 'train_accuracy')\n",
    "plt.plot(range(1,epochs+1), learning_data.history['val_accuracy'], label = 'test_accuracy')\n",
    "plt.xlabel('epochs')\n",
    "plt.ylabel('accuracy')\n",
    "plt.title('accuracy_{}byte'.format(TARGET_BYTE))\n",
    "plt.legend()\n",
    "plt.savefig('./'+out+'/compare_accuracy_{}byte.png'.format(TARGET_BYTE))"
   ]
  },
  {
   "cell_type": "code",
   "execution_count": null,
   "id": "9c0df808-f5e0-4f8e-b0eb-2481b58e16ed",
   "metadata": {},
   "outputs": [],
   "source": [
    "predicts = model.predict(attack_trace2)\n",
    "predicts = tf.nn.softmax(predicts)\n",
    "predicts.shape"
   ]
  },
  {
   "cell_type": "code",
   "execution_count": null,
   "id": "6403a28a-cffb-4ee6-b681-d6151082af1f",
   "metadata": {},
   "outputs": [],
   "source": [
    "attack_plain=attack_metadata['plaintext']"
   ]
  },
  {
   "cell_type": "code",
   "execution_count": null,
   "id": "14142002-2e56-4a55-b16b-a1406386d4d3",
   "metadata": {},
   "outputs": [],
   "source": [
    "attack_sbox_in = []\n",
    "for estimated_key in range(256): #256通りの推定鍵だけ繰り返す。\n",
    "    attack_sbox_in.append(attack_plain^np.array([estimated_key]*16)) #平文と推定鍵のXORがSbox(SubBytes)入力\n",
    "attack_sbox_in = np.array(attack_sbox_in)\n",
    "attack_sbox_out = np.array([AES_Sbox[i] for i in attack_sbox_in])\n",
    "attack_sbox_out = attack_sbox_out[:,:,TARGET_BYTE]"
   ]
  },
  {
   "cell_type": "code",
   "execution_count": null,
   "id": "70a95935-9b64-4d72-bec9-cb850e6140c7",
   "metadata": {},
   "outputs": [],
   "source": [
    "attack_sbox_out = attack_sbox_out[:,50000:] #全体の内, 最後の1000を攻撃に使用"
   ]
  },
  {
   "cell_type": "code",
   "execution_count": null,
   "id": "ef073fca-0ba6-40b9-8a1c-bbcaf218b47e",
   "metadata": {},
   "outputs": [],
   "source": [
    "result = np.ones(256) /256\n",
    "rank = []\n",
    "attack_sbox_out = np.array(attack_sbox_out)\n",
    "pred = predicts.numpy()\n",
    "\n",
    "for i in range(len(predicts)):\n",
    "    result *= pred[i, attack_sbox_out[:, i]]\n",
    "    result = result /np.sum(result)\n",
    "    rank.append(list(np.argsort(result)[::-1]).index(attack_key[0][TARGET_BYTE])+1)\n",
    "    "
   ]
  },
  {
   "cell_type": "code",
   "execution_count": null,
   "id": "a45a0151-3d68-4ef0-8137-a3a857f35d65",
   "metadata": {},
   "outputs": [],
   "source": [
    "rank_lim = rank[0:10000]\n",
    "plt.figure()\n",
    "plt.plot(rank_lim)\n",
    "plt.xlabel('wave')\n",
    "plt.ylabel('rank')\n",
    "plt.title('target_{}byte'.format(TARGET_BYTE))\n",
    "plt.savefig('./'+out+'/compare_rank_{}byte.png'.format(TARGET_BYTE))"
   ]
  },
  {
   "cell_type": "code",
   "execution_count": null,
   "id": "adffbacd-a202-4990-b5e4-193ee11c590e",
   "metadata": {},
   "outputs": [],
   "source": [
    "recovered_key13=[]\n",
    "\n",
    "for i in range(10000):\n",
    "        if rank[i] == 1: #推定した鍵と正解鍵が一致しているかを確認\n",
    "            count13 = 1\n",
    "        else:\n",
    "            count13 = 0\n",
    "        \n",
    "        recovered_key13.append(count13) #攻撃成功バイト数の保存\n",
    "\n",
    "recovered_key13 = np.array(recovered_key13)\n",
    "np.save('./'+out+'/test13.npy', recovered_key13)"
   ]
  },
  {
   "cell_type": "code",
   "execution_count": null,
   "id": "c8d5172d-7f63-41c6-9638-8306b6ffd184",
   "metadata": {},
   "outputs": [],
   "source": [
    "TARGET_BYTE = 14 #何バイト目を攻撃するか決める"
   ]
  },
  {
   "cell_type": "code",
   "execution_count": null,
   "id": "9faea45a-78bf-4e3e-bb8f-ea0049d8f4de",
   "metadata": {},
   "outputs": [],
   "source": [
    "AES_Sbox = np.array([\n",
    "\t\t\t0x63, 0x7C, 0x77, 0x7B, 0xF2, 0x6B, 0x6F, 0xC5, 0x30, 0x01, 0x67, 0x2B, 0xFE, 0xD7, 0xAB, 0x76,\n",
    "\t\t\t0xCA, 0x82, 0xC9, 0x7D, 0xFA, 0x59, 0x47, 0xF0, 0xAD, 0xD4, 0xA2, 0xAF, 0x9C, 0xA4, 0x72, 0xC0,\n",
    "\t\t\t0xB7, 0xFD, 0x93, 0x26, 0x36, 0x3F, 0xF7, 0xCC, 0x34, 0xA5, 0xE5, 0xF1, 0x71, 0xD8, 0x31, 0x15,\n",
    "\t\t\t0x04, 0xC7, 0x23, 0xC3, 0x18, 0x96, 0x05, 0x9A, 0x07, 0x12, 0x80, 0xE2, 0xEB, 0x27, 0xB2, 0x75,\n",
    "\t\t\t0x09, 0x83, 0x2C, 0x1A, 0x1B, 0x6E, 0x5A, 0xA0, 0x52, 0x3B, 0xD6, 0xB3, 0x29, 0xE3, 0x2F, 0x84,\n",
    "\t\t\t0x53, 0xD1, 0x00, 0xED, 0x20, 0xFC, 0xB1, 0x5B, 0x6A, 0xCB, 0xBE, 0x39, 0x4A, 0x4C, 0x58, 0xCF,\n",
    "\t\t\t0xD0, 0xEF, 0xAA, 0xFB, 0x43, 0x4D, 0x33, 0x85, 0x45, 0xF9, 0x02, 0x7F, 0x50, 0x3C, 0x9F, 0xA8,\n",
    "\t\t\t0x51, 0xA3, 0x40, 0x8F, 0x92, 0x9D, 0x38, 0xF5, 0xBC, 0xB6, 0xDA, 0x21, 0x10, 0xFF, 0xF3, 0xD2,\n",
    "\t\t\t0xCD, 0x0C, 0x13, 0xEC, 0x5F, 0x97, 0x44, 0x17, 0xC4, 0xA7, 0x7E, 0x3D, 0x64, 0x5D, 0x19, 0x73,\n",
    "\t\t\t0x60, 0x81, 0x4F, 0xDC, 0x22, 0x2A, 0x90, 0x88, 0x46, 0xEE, 0xB8, 0x14, 0xDE, 0x5E, 0x0B, 0xDB,\n",
    "\t\t\t0xE0, 0x32, 0x3A, 0x0A, 0x49, 0x06, 0x24, 0x5C, 0xC2, 0xD3, 0xAC, 0x62, 0x91, 0x95, 0xE4, 0x79,\n",
    "\t\t\t0xE7, 0xC8, 0x37, 0x6D, 0x8D, 0xD5, 0x4E, 0xA9, 0x6C, 0x56, 0xF4, 0xEA, 0x65, 0x7A, 0xAE, 0x08,\n",
    "\t\t\t0xBA, 0x78, 0x25, 0x2E, 0x1C, 0xA6, 0xB4, 0xC6, 0xE8, 0xDD, 0x74, 0x1F, 0x4B, 0xBD, 0x8B, 0x8A,\n",
    "\t\t\t0x70, 0x3E, 0xB5, 0x66, 0x48, 0x03, 0xF6, 0x0E, 0x61, 0x35, 0x57, 0xB9, 0x86, 0xC1, 0x1D, 0x9E,\n",
    "\t\t\t0xE1, 0xF8, 0x98, 0x11, 0x69, 0xD9, 0x8E, 0x94, 0x9B, 0x1E, 0x87, 0xE9, 0xCE, 0x55, 0x28, 0xDF,\n",
    "\t\t\t0x8C, 0xA1, 0x89, 0x0D, 0xBF, 0xE6, 0x42, 0x68, 0x41, 0x99, 0x2D, 0x0F, 0xB0, 0x54, 0xBB, 0x16\n",
    "\t\t\t])"
   ]
  },
  {
   "cell_type": "code",
   "execution_count": null,
   "id": "e4e59bb6-f773-4d0f-8c5c-b69e8592e076",
   "metadata": {},
   "outputs": [],
   "source": [
    "data_train = h5py.File('ATMega8515_raw_traces.h5', 'r')\n",
    "data_test = h5py.File('ATMega8515_raw_traces.h5', 'r')\n",
    "data_attack = h5py.File('ATMega8515_raw_traces.h5', 'r')"
   ]
  },
  {
   "cell_type": "code",
   "execution_count": null,
   "id": "15e57368-e433-4f7b-9a69-8adf7a640daa",
   "metadata": {},
   "outputs": [],
   "source": [
    "train_metadata=data_train['metadata']\n",
    "train_plain = train_metadata['plaintext']\n",
    "train_cipher = train_metadata['ciphertext']\n",
    "train_key = train_metadata['key']\n",
    "train_mask = train_metadata['masks']\n",
    "train_trace = data_train['traces']\n",
    "\n",
    "test_metadata=data_test['metadata']\n",
    "test_plain = test_metadata['plaintext']\n",
    "test_cipher = test_metadata['ciphertext']\n",
    "test_key = test_metadata['key']\n",
    "test_mask = test_metadata['masks']\n",
    "test_trace = data_train['traces']\n",
    "\n",
    "attack_metadata=data_attack['metadata']\n",
    "attack_plain = attack_metadata['plaintext']\n",
    "attack_cipher = attack_metadata['ciphertext']\n",
    "attack_key = attack_metadata['key']\n",
    "attack_mask = attack_metadata['masks']\n",
    "attack_trace = data_train['traces']"
   ]
  },
  {
   "cell_type": "code",
   "execution_count": null,
   "id": "f7d90a66-4065-4a79-b4eb-1fe75c53ef24",
   "metadata": {},
   "outputs": [],
   "source": [
    "train_trace = train_trace[0:45000, 49565:50265]\n",
    "test_trace = test_trace[45000:50000, 49565:50265]\n",
    "attack_trace = attack_trace[50000:60000, 49565:50265]\n",
    "train_plain = train_plain[0:45000, :]\n",
    "test_plain = test_plain[45000:50000, :]\n",
    "train_trace2 = train_trace\n",
    "test_trace2 = test_trace\n",
    "attack_trace2 = attack_trace\n",
    "train_trace.shape"
   ]
  },
  {
   "cell_type": "code",
   "execution_count": null,
   "id": "fc22caa6-a300-4eaf-bd3f-2d2d61f32587",
   "metadata": {},
   "outputs": [],
   "source": [
    "train_key = train_key[0:45000,:]\n",
    "train_sbox_in = []\n",
    "train_sbox_in = np.array(train_plain^train_key) #平文と鍵のXORがSbox(SubBytes)入力\n",
    "train_sbox_out = np.array([AES_Sbox[i] for i in train_sbox_in])"
   ]
  },
  {
   "cell_type": "code",
   "execution_count": null,
   "id": "251635c0-1fa9-4451-bbb3-c7bb4d4bbefa",
   "metadata": {},
   "outputs": [],
   "source": [
    "test_key = test_key[0:5000,:]\n",
    "test_sbox_in = []\n",
    "test_sbox_in = np.array(test_plain^np.array(test_key)) #平文と鍵のXORがSbox(SubBytes)入力\n",
    "test_sbox_out = np.array([AES_Sbox[i] for i in test_sbox_in])"
   ]
  },
  {
   "cell_type": "code",
   "execution_count": null,
   "id": "0bd0823b-aafa-40e3-b95b-5833552a2df9",
   "metadata": {},
   "outputs": [],
   "source": [
    "train_sbox_out = train_sbox_out[:,TARGET_BYTE]\n",
    "test_sbox_out = test_sbox_out[:,TARGET_BYTE]"
   ]
  },
  {
   "cell_type": "code",
   "execution_count": null,
   "id": "be8fedce-d099-458c-91c9-d7d9597f2fbd",
   "metadata": {},
   "outputs": [],
   "source": [
    "#波形データの標準化(データを平均で引いて標準偏差で割る)\n",
    "train_trace2 = (train_trace2 -np.mean(train_trace2, axis = 0))/np.std(train_trace2, axis = 0)\n",
    "\n",
    "test_trace2 = (test_trace2 - np.mean(test_trace2, axis = 0))/np.std(test_trace2, axis = 0)\n",
    "\n",
    "attack_trace2 = (attack_trace2 - np.mean(attack_trace2, axis = 0))/np.std(attack_trace2, axis = 0)\n",
    "\n",
    "#DeepLearningできるshapeに変更\n",
    "train_trace2 = train_trace2.reshape(45000,700,1)\n",
    "\n",
    "test_trace2 = test_trace2.reshape(5000,700,1)\n",
    "\n",
    "attack_trace2 = attack_trace2.reshape(10000,700,1)"
   ]
  },
  {
   "cell_type": "code",
   "execution_count": null,
   "id": "e7c18186-c274-4f37-8849-56dbf939fe43",
   "metadata": {},
   "outputs": [],
   "source": [
    "def cnn_best(classes=256,input_dim=700):\n",
    "\t# From VGG16 design\n",
    "\tinput_shape = (input_dim,1)\n",
    "\timg_input = Input(shape=input_shape)\n",
    "\t# Block 1\n",
    "\tx = Conv1D(64, 11, activation='relu', padding='same', name='block1_conv1')(img_input)\n",
    "\tx = AveragePooling1D(2, strides=2, name='block1_pool')(x)\n",
    "\t# Block 2\n",
    "\tx = Conv1D(128, 11, activation='relu', padding='same', name='block2_conv1')(x)\n",
    "\tx = AveragePooling1D(2, strides=2, name='block2_pool')(x)\n",
    "\t# Block 3\n",
    "\tx = Conv1D(256, 11, activation='relu', padding='same', name='block3_conv1')(x)\n",
    "\tx = AveragePooling1D(2, strides=2, name='block3_pool')(x)\n",
    "\t# Block 4\n",
    "\tx = Conv1D(512, 11, activation='relu', padding='same', name='block4_conv1')(x)\n",
    "\tx = AveragePooling1D(2, strides=2, name='block4_pool')(x)\n",
    "\t# Block 5\n",
    "\tx = Conv1D(512, 11, activation='relu', padding='same', name='block5_conv1')(x)\n",
    "\tx = AveragePooling1D(2, strides=2, name='block5_pool')(x)\n",
    "\t# Classification block\n",
    "\tx = Flatten(name='flatten')(x)\n",
    "\tx = Dense(4096, activation='relu', name='fc1')(x)\n",
    "\tx = Dense(4096, activation='relu', name='fc2')(x)\n",
    "\t# x = Dense(classes, activation='softmax', name='predictions')(x)\n",
    "\tx = Dense(classes, name='predictions')(x)\n",
    "\n",
    "\tinputs = img_input\n",
    "\t# Create model.\n",
    "\tmodel = Model(inputs, x, name='cnn_best')\n",
    "\toptimizer = RMSprop(learning_rate=0.00001)\n",
    "\tloss_fn = tf.keras.losses.SparseCategoricalCrossentropy(from_logits=True)\n",
    "\t# model.compile(loss='categorical_crossentropy', optimizer=optimizer, metrics=['accuracy'])\n",
    "\tmodel.compile(loss=loss_fn, optimizer=optimizer, metrics=['accuracy'])\n",
    "\treturn model"
   ]
  },
  {
   "cell_type": "code",
   "execution_count": null,
   "id": "8c6cc502-4aea-49b0-8a90-52444d83b1d3",
   "metadata": {},
   "outputs": [],
   "source": [
    "cnn_best()"
   ]
  },
  {
   "cell_type": "code",
   "execution_count": null,
   "id": "b7f59ca2-6dcb-4701-9a66-2ab3df1cca2a",
   "metadata": {},
   "outputs": [],
   "source": [
    "model=cnn_best(classes=256,input_dim=700)\n",
    "epochs=117\n",
    "learning_data = model.fit(train_trace2,train_sbox_out,epochs=epochs,batch_size=200,validation_data=(test_trace2,test_sbox_out))"
   ]
  },
  {
   "cell_type": "code",
   "execution_count": null,
   "id": "ad022989-852c-4772-9231-f914b66db5d0",
   "metadata": {},
   "outputs": [],
   "source": [
    "out = 'result'\n",
    "\n",
    "os.makedirs(os.path.join('./', out), exist_ok=True)\n",
    "model.save_weights(os.path.join('./',out,'compare_attack_{}byte.h5').format(TARGET_BYTE))"
   ]
  },
  {
   "cell_type": "code",
   "execution_count": null,
   "id": "2c1cf9f2-8d6a-4f70-b34a-4285cd7bc071",
   "metadata": {},
   "outputs": [],
   "source": [
    "plt.figure()\n",
    "plt.subplot(1,1,1)\n",
    "plt.plot(range(1,epochs+1), learning_data.history['accuracy'], label = 'train_accuracy')\n",
    "plt.plot(range(1,epochs+1), learning_data.history['val_accuracy'], label = 'test_accuracy')\n",
    "plt.xlabel('epochs')\n",
    "plt.ylabel('accuracy')\n",
    "plt.title('accuracy_{}byte'.format(TARGET_BYTE))\n",
    "plt.legend()\n",
    "plt.savefig('./'+out+'/compare_accuracy_{}byte.png'.format(TARGET_BYTE))"
   ]
  },
  {
   "cell_type": "code",
   "execution_count": null,
   "id": "4c7de80b-d890-4266-a7ef-f73022025240",
   "metadata": {},
   "outputs": [],
   "source": [
    "predicts = model.predict(attack_trace2)\n",
    "predicts = tf.nn.softmax(predicts)\n",
    "predicts.shape"
   ]
  },
  {
   "cell_type": "code",
   "execution_count": null,
   "id": "199c37e8-cd5d-4691-9fb6-3319d4946df9",
   "metadata": {},
   "outputs": [],
   "source": [
    "attack_plain=attack_metadata['plaintext']"
   ]
  },
  {
   "cell_type": "code",
   "execution_count": null,
   "id": "2f78ace4-d008-4f87-ba4c-f893b1ff0775",
   "metadata": {},
   "outputs": [],
   "source": [
    "attack_sbox_in = []\n",
    "for estimated_key in range(256): #256通りの推定鍵だけ繰り返す。\n",
    "    attack_sbox_in.append(attack_plain^np.array([estimated_key]*16)) #平文と推定鍵のXORがSbox(SubBytes)入力\n",
    "attack_sbox_in = np.array(attack_sbox_in)\n",
    "attack_sbox_out = np.array([AES_Sbox[i] for i in attack_sbox_in])\n",
    "attack_sbox_out = attack_sbox_out[:,:,TARGET_BYTE]"
   ]
  },
  {
   "cell_type": "code",
   "execution_count": null,
   "id": "c36eb7c5-8f5f-4d3c-b737-18030c385bf8",
   "metadata": {},
   "outputs": [],
   "source": [
    "attack_sbox_out = attack_sbox_out[:,50000:] #全体の内, 最後の1000を攻撃に使用"
   ]
  },
  {
   "cell_type": "code",
   "execution_count": null,
   "id": "d35fa975-5e97-4fda-aa00-239f0d235afa",
   "metadata": {},
   "outputs": [],
   "source": [
    "result = np.ones(256) /256\n",
    "rank = []\n",
    "attack_sbox_out = np.array(attack_sbox_out)\n",
    "pred = predicts.numpy()\n",
    "\n",
    "for i in range(len(predicts)):\n",
    "    result *= pred[i, attack_sbox_out[:, i]]\n",
    "    result = result /np.sum(result)\n",
    "    rank.append(list(np.argsort(result)[::-1]).index(attack_key[0][TARGET_BYTE])+1)\n",
    "    "
   ]
  },
  {
   "cell_type": "code",
   "execution_count": null,
   "id": "867b4246-7a21-41f9-9d28-58e1b3f86f83",
   "metadata": {},
   "outputs": [],
   "source": [
    "rank_lim = rank[0:10000]\n",
    "plt.figure()\n",
    "plt.plot(rank_lim)\n",
    "plt.xlabel('wave')\n",
    "plt.ylabel('rank')\n",
    "plt.title('target_{}byte'.format(TARGET_BYTE))\n",
    "plt.savefig('./'+out+'/compare_rank_{}byte.png'.format(TARGET_BYTE))"
   ]
  },
  {
   "cell_type": "code",
   "execution_count": null,
   "id": "dab9faad-8e4d-455b-adfc-5a5aa9662e9d",
   "metadata": {},
   "outputs": [],
   "source": [
    "recovered_key14=[]\n",
    "\n",
    "for i in range(10000):\n",
    "        if rank[i] == 1: #推定した鍵と正解鍵が一致しているかを確認\n",
    "            count14 = 1\n",
    "        else:\n",
    "            count14 = 0\n",
    "        \n",
    "        recovered_key14.append(count14) #攻撃成功バイト数の保存\n",
    "\n",
    "recovered_key14 = np.array(recovered_key14)\n",
    "np.save('./'+out+'/test14.npy', recovered_key14)"
   ]
  },
  {
   "cell_type": "code",
   "execution_count": null,
   "id": "261dac52-5ef7-4cf0-82ca-92f2d6c41f94",
   "metadata": {},
   "outputs": [],
   "source": [
    "TARGET_BYTE = 15 #何バイト目を攻撃するか決める"
   ]
  },
  {
   "cell_type": "code",
   "execution_count": null,
   "id": "8b375a01-70a2-4a04-9534-584d43ad1e51",
   "metadata": {},
   "outputs": [],
   "source": [
    "AES_Sbox = np.array([\n",
    "\t\t\t0x63, 0x7C, 0x77, 0x7B, 0xF2, 0x6B, 0x6F, 0xC5, 0x30, 0x01, 0x67, 0x2B, 0xFE, 0xD7, 0xAB, 0x76,\n",
    "\t\t\t0xCA, 0x82, 0xC9, 0x7D, 0xFA, 0x59, 0x47, 0xF0, 0xAD, 0xD4, 0xA2, 0xAF, 0x9C, 0xA4, 0x72, 0xC0,\n",
    "\t\t\t0xB7, 0xFD, 0x93, 0x26, 0x36, 0x3F, 0xF7, 0xCC, 0x34, 0xA5, 0xE5, 0xF1, 0x71, 0xD8, 0x31, 0x15,\n",
    "\t\t\t0x04, 0xC7, 0x23, 0xC3, 0x18, 0x96, 0x05, 0x9A, 0x07, 0x12, 0x80, 0xE2, 0xEB, 0x27, 0xB2, 0x75,\n",
    "\t\t\t0x09, 0x83, 0x2C, 0x1A, 0x1B, 0x6E, 0x5A, 0xA0, 0x52, 0x3B, 0xD6, 0xB3, 0x29, 0xE3, 0x2F, 0x84,\n",
    "\t\t\t0x53, 0xD1, 0x00, 0xED, 0x20, 0xFC, 0xB1, 0x5B, 0x6A, 0xCB, 0xBE, 0x39, 0x4A, 0x4C, 0x58, 0xCF,\n",
    "\t\t\t0xD0, 0xEF, 0xAA, 0xFB, 0x43, 0x4D, 0x33, 0x85, 0x45, 0xF9, 0x02, 0x7F, 0x50, 0x3C, 0x9F, 0xA8,\n",
    "\t\t\t0x51, 0xA3, 0x40, 0x8F, 0x92, 0x9D, 0x38, 0xF5, 0xBC, 0xB6, 0xDA, 0x21, 0x10, 0xFF, 0xF3, 0xD2,\n",
    "\t\t\t0xCD, 0x0C, 0x13, 0xEC, 0x5F, 0x97, 0x44, 0x17, 0xC4, 0xA7, 0x7E, 0x3D, 0x64, 0x5D, 0x19, 0x73,\n",
    "\t\t\t0x60, 0x81, 0x4F, 0xDC, 0x22, 0x2A, 0x90, 0x88, 0x46, 0xEE, 0xB8, 0x14, 0xDE, 0x5E, 0x0B, 0xDB,\n",
    "\t\t\t0xE0, 0x32, 0x3A, 0x0A, 0x49, 0x06, 0x24, 0x5C, 0xC2, 0xD3, 0xAC, 0x62, 0x91, 0x95, 0xE4, 0x79,\n",
    "\t\t\t0xE7, 0xC8, 0x37, 0x6D, 0x8D, 0xD5, 0x4E, 0xA9, 0x6C, 0x56, 0xF4, 0xEA, 0x65, 0x7A, 0xAE, 0x08,\n",
    "\t\t\t0xBA, 0x78, 0x25, 0x2E, 0x1C, 0xA6, 0xB4, 0xC6, 0xE8, 0xDD, 0x74, 0x1F, 0x4B, 0xBD, 0x8B, 0x8A,\n",
    "\t\t\t0x70, 0x3E, 0xB5, 0x66, 0x48, 0x03, 0xF6, 0x0E, 0x61, 0x35, 0x57, 0xB9, 0x86, 0xC1, 0x1D, 0x9E,\n",
    "\t\t\t0xE1, 0xF8, 0x98, 0x11, 0x69, 0xD9, 0x8E, 0x94, 0x9B, 0x1E, 0x87, 0xE9, 0xCE, 0x55, 0x28, 0xDF,\n",
    "\t\t\t0x8C, 0xA1, 0x89, 0x0D, 0xBF, 0xE6, 0x42, 0x68, 0x41, 0x99, 0x2D, 0x0F, 0xB0, 0x54, 0xBB, 0x16\n",
    "\t\t\t])"
   ]
  },
  {
   "cell_type": "code",
   "execution_count": null,
   "id": "e282b911-ba4f-443f-8b17-3ee513d0d87a",
   "metadata": {},
   "outputs": [],
   "source": [
    "data_train = h5py.File('ATMega8515_raw_traces.h5', 'r')\n",
    "data_test = h5py.File('ATMega8515_raw_traces.h5', 'r')\n",
    "data_attack = h5py.File('ATMega8515_raw_traces.h5', 'r')"
   ]
  },
  {
   "cell_type": "code",
   "execution_count": null,
   "id": "c3aa96e5-1d57-4cde-8089-41d4d258de81",
   "metadata": {},
   "outputs": [],
   "source": [
    "train_metadata=data_train['metadata']\n",
    "train_plain = train_metadata['plaintext']\n",
    "train_cipher = train_metadata['ciphertext']\n",
    "train_key = train_metadata['key']\n",
    "train_mask = train_metadata['masks']\n",
    "train_trace = data_train['traces']\n",
    "\n",
    "test_metadata=data_test['metadata']\n",
    "test_plain = test_metadata['plaintext']\n",
    "test_cipher = test_metadata['ciphertext']\n",
    "test_key = test_metadata['key']\n",
    "test_mask = test_metadata['masks']\n",
    "test_trace = data_train['traces']\n",
    "\n",
    "attack_metadata=data_attack['metadata']\n",
    "attack_plain = attack_metadata['plaintext']\n",
    "attack_cipher = attack_metadata['ciphertext']\n",
    "attack_key = attack_metadata['key']\n",
    "attack_mask = attack_metadata['masks']\n",
    "attack_trace = data_train['traces']"
   ]
  },
  {
   "cell_type": "code",
   "execution_count": null,
   "id": "ce1e745d-cbe4-4b16-b8a1-5bdd00df655c",
   "metadata": {},
   "outputs": [],
   "source": [
    "train_trace = train_trace[0:45000, 18330:19030]\n",
    "test_trace = test_trace[45000:50000, 18330:19030]\n",
    "attack_trace = attack_trace[50000:60000, 18330:19030]\n",
    "train_plain = train_plain[0:45000, :]\n",
    "test_plain = test_plain[45000:50000, :]\n",
    "train_trace2 = train_trace\n",
    "test_trace2 = test_trace\n",
    "attack_trace2 = attack_trace\n",
    "train_trace.shape"
   ]
  },
  {
   "cell_type": "code",
   "execution_count": null,
   "id": "9968c235-66f1-44be-a39e-ec7d9dab3a73",
   "metadata": {},
   "outputs": [],
   "source": [
    "train_key = train_key[0:45000,:]\n",
    "train_sbox_in = []\n",
    "train_sbox_in = np.array(train_plain^train_key) #平文と鍵のXORがSbox(SubBytes)入力\n",
    "train_sbox_out = np.array([AES_Sbox[i] for i in train_sbox_in])"
   ]
  },
  {
   "cell_type": "code",
   "execution_count": null,
   "id": "7b253863-02d0-4525-bdbc-02df9b9a7e60",
   "metadata": {},
   "outputs": [],
   "source": [
    "test_key = test_key[0:5000,:]\n",
    "test_sbox_in = []\n",
    "test_sbox_in = np.array(test_plain^np.array(test_key)) #平文と鍵のXORがSbox(SubBytes)入力\n",
    "test_sbox_out = np.array([AES_Sbox[i] for i in test_sbox_in])"
   ]
  },
  {
   "cell_type": "code",
   "execution_count": null,
   "id": "c8146f24-2ab3-4828-bd5a-f98fdb578581",
   "metadata": {},
   "outputs": [],
   "source": [
    "train_sbox_out = train_sbox_out[:,TARGET_BYTE]\n",
    "test_sbox_out = test_sbox_out[:,TARGET_BYTE]"
   ]
  },
  {
   "cell_type": "code",
   "execution_count": null,
   "id": "4390e391-0884-4cd5-bf89-142df7f093a6",
   "metadata": {},
   "outputs": [],
   "source": [
    "#波形データの標準化(データを平均で引いて標準偏差で割る)\n",
    "train_trace2 = (train_trace2 -np.mean(train_trace2, axis = 0))/np.std(train_trace2, axis = 0)\n",
    "\n",
    "test_trace2 = (test_trace2 - np.mean(test_trace2, axis = 0))/np.std(test_trace2, axis = 0)\n",
    "\n",
    "attack_trace2 = (attack_trace2 - np.mean(attack_trace2, axis = 0))/np.std(attack_trace2, axis = 0)\n",
    "\n",
    "#DeepLearningできるshapeに変更\n",
    "train_trace2 = train_trace2.reshape(45000,700,1)\n",
    "\n",
    "test_trace2 = test_trace2.reshape(5000,700,1)\n",
    "\n",
    "attack_trace2 = attack_trace2.reshape(10000,700,1)"
   ]
  },
  {
   "cell_type": "code",
   "execution_count": null,
   "id": "91799d3a-595a-473c-84b2-9be005eee85a",
   "metadata": {},
   "outputs": [],
   "source": [
    "def cnn_best(classes=256,input_dim=700):\n",
    "\t# From VGG16 design\n",
    "\tinput_shape = (input_dim,1)\n",
    "\timg_input = Input(shape=input_shape)\n",
    "\t# Block 1\n",
    "\tx = Conv1D(64, 11, activation='relu', padding='same', name='block1_conv1')(img_input)\n",
    "\tx = AveragePooling1D(2, strides=2, name='block1_pool')(x)\n",
    "\t# Block 2\n",
    "\tx = Conv1D(128, 11, activation='relu', padding='same', name='block2_conv1')(x)\n",
    "\tx = AveragePooling1D(2, strides=2, name='block2_pool')(x)\n",
    "\t# Block 3\n",
    "\tx = Conv1D(256, 11, activation='relu', padding='same', name='block3_conv1')(x)\n",
    "\tx = AveragePooling1D(2, strides=2, name='block3_pool')(x)\n",
    "\t# Block 4\n",
    "\tx = Conv1D(512, 11, activation='relu', padding='same', name='block4_conv1')(x)\n",
    "\tx = AveragePooling1D(2, strides=2, name='block4_pool')(x)\n",
    "\t# Block 5\n",
    "\tx = Conv1D(512, 11, activation='relu', padding='same', name='block5_conv1')(x)\n",
    "\tx = AveragePooling1D(2, strides=2, name='block5_pool')(x)\n",
    "\t# Classification block\n",
    "\tx = Flatten(name='flatten')(x)\n",
    "\tx = Dense(4096, activation='relu', name='fc1')(x)\n",
    "\tx = Dense(4096, activation='relu', name='fc2')(x)\n",
    "\t# x = Dense(classes, activation='softmax', name='predictions')(x)\n",
    "\tx = Dense(classes, name='predictions')(x)\n",
    "\n",
    "\tinputs = img_input\n",
    "\t# Create model.\n",
    "\tmodel = Model(inputs, x, name='cnn_best')\n",
    "\toptimizer = RMSprop(learning_rate=0.00001)\n",
    "\tloss_fn = tf.keras.losses.SparseCategoricalCrossentropy(from_logits=True)\n",
    "\t# model.compile(loss='categorical_crossentropy', optimizer=optimizer, metrics=['accuracy'])\n",
    "\tmodel.compile(loss=loss_fn, optimizer=optimizer, metrics=['accuracy'])\n",
    "\treturn model"
   ]
  },
  {
   "cell_type": "code",
   "execution_count": null,
   "id": "42f2bed4-441e-481d-962c-d2aa4bdeab42",
   "metadata": {},
   "outputs": [],
   "source": [
    "cnn_best()"
   ]
  },
  {
   "cell_type": "code",
   "execution_count": null,
   "id": "e61d1a7b-a37a-4064-ae94-f993f2efb91a",
   "metadata": {},
   "outputs": [],
   "source": [
    "model=cnn_best(classes=256,input_dim=700)\n",
    "epochs=117\n",
    "learning_data = model.fit(train_trace2,train_sbox_out,epochs=epochs,batch_size=200,validation_data=(test_trace2,test_sbox_out))"
   ]
  },
  {
   "cell_type": "code",
   "execution_count": null,
   "id": "136e584c-d4d2-4c52-88d6-3b46af7ef416",
   "metadata": {},
   "outputs": [],
   "source": [
    "out = 'result'\n",
    "\n",
    "os.makedirs(os.path.join('./', out), exist_ok=True)\n",
    "model.save_weights(os.path.join('./',out,'compare_attack_{}byte.h5').format(TARGET_BYTE))"
   ]
  },
  {
   "cell_type": "code",
   "execution_count": null,
   "id": "731e467c-cae2-43f1-ab74-3081c4b9038b",
   "metadata": {},
   "outputs": [],
   "source": [
    "plt.figure()\n",
    "plt.subplot(1,1,1)\n",
    "plt.plot(range(1,epochs+1), learning_data.history['accuracy'], label = 'train_accuracy')\n",
    "plt.plot(range(1,epochs+1), learning_data.history['val_accuracy'], label = 'test_accuracy')\n",
    "plt.xlabel('epochs')\n",
    "plt.ylabel('accuracy')\n",
    "plt.title('accuracy_{}byte'.format(TARGET_BYTE))\n",
    "plt.legend()\n",
    "plt.savefig('./'+out+'/compare_accuracy_{}byte.png'.format(TARGET_BYTE))"
   ]
  },
  {
   "cell_type": "code",
   "execution_count": null,
   "id": "041ef1bd-6ff2-45fe-9805-f985bfeb2d3e",
   "metadata": {},
   "outputs": [],
   "source": [
    "predicts = model.predict(attack_trace2)\n",
    "predicts = tf.nn.softmax(predicts)\n",
    "predicts.shape"
   ]
  },
  {
   "cell_type": "code",
   "execution_count": null,
   "id": "84e69969-a9eb-4202-be98-f030a18f6d23",
   "metadata": {},
   "outputs": [],
   "source": [
    "attack_plain=attack_metadata['plaintext']"
   ]
  },
  {
   "cell_type": "code",
   "execution_count": null,
   "id": "7c191234-fa00-44c0-a3ed-c17c9288b4fa",
   "metadata": {},
   "outputs": [],
   "source": [
    "attack_sbox_in = []\n",
    "for estimated_key in range(256): #256通りの推定鍵だけ繰り返す。\n",
    "    attack_sbox_in.append(attack_plain^np.array([estimated_key]*16)) #平文と推定鍵のXORがSbox(SubBytes)入力\n",
    "attack_sbox_in = np.array(attack_sbox_in)\n",
    "attack_sbox_out = np.array([AES_Sbox[i] for i in attack_sbox_in])\n",
    "attack_sbox_out = attack_sbox_out[:,:,TARGET_BYTE]"
   ]
  },
  {
   "cell_type": "code",
   "execution_count": null,
   "id": "f8c3bcf9-1e83-4f04-84fd-079ad83d3c08",
   "metadata": {},
   "outputs": [],
   "source": [
    "attack_sbox_out = attack_sbox_out[:,50000:] #全体の内, 最後の1000を攻撃に使用"
   ]
  },
  {
   "cell_type": "code",
   "execution_count": null,
   "id": "034995f3-96da-44e3-83b5-98cf66ca9737",
   "metadata": {},
   "outputs": [],
   "source": [
    "result = np.ones(256) /256\n",
    "rank = []\n",
    "attack_sbox_out = np.array(attack_sbox_out)\n",
    "pred = predicts.numpy()\n",
    "\n",
    "for i in range(len(predicts)):\n",
    "    result *= pred[i, attack_sbox_out[:, i]]\n",
    "    result = result /np.sum(result)\n",
    "    rank.append(list(np.argsort(result)[::-1]).index(attack_key[0][TARGET_BYTE])+1)\n",
    "    "
   ]
  },
  {
   "cell_type": "code",
   "execution_count": null,
   "id": "849ef122-e6c7-4f42-8d1e-e78f72a65f47",
   "metadata": {},
   "outputs": [],
   "source": [
    "rank_lim = rank[0:10000]\n",
    "plt.figure()\n",
    "plt.plot(rank_lim)\n",
    "plt.xlabel('wave')\n",
    "plt.ylabel('rank')\n",
    "plt.title('target_{}byte'.format(TARGET_BYTE))\n",
    "plt.savefig('./'+out+'/compare_rank_{}byte.png'.format(TARGET_BYTE))"
   ]
  },
  {
   "cell_type": "code",
   "execution_count": null,
   "id": "0a2f1203-fb38-4e34-9a9f-2e3baaeabd4b",
   "metadata": {},
   "outputs": [],
   "source": [
    "recovered_key15=[]\n",
    "\n",
    "for i in range(10000):\n",
    "        if rank[i] == 1: #推定した鍵と正解鍵が一致しているかを確認\n",
    "            count15 = 1\n",
    "        else:\n",
    "            count15 = 0\n",
    "        \n",
    "        recovered_key15.append(count15) #攻撃成功バイト数の保存\n",
    "\n",
    "recovered_key15 = np.array(recovered_key15)\n",
    "np.save('./'+out+'/test15.npy', recovered_key15)"
   ]
  },
  {
   "cell_type": "code",
   "execution_count": null,
   "id": "fc1ec095-9d39-4f65-8f73-d789acdd24ca",
   "metadata": {},
   "outputs": [],
   "source": [
    "A = recovered_key0 + recovered_key1 + recovered_key2 + recovered_key3 + recovered_key4 + recovered_key5 + recovered_key6 + recovered_key7 + recovered_key8 + recovered_key9 + recovered_key10 + recovered_key11 + recovered_key12 + recovered_key13 + recovered_key14 + recovered_key15\n",
    "plt.plot(A)\n",
    "plt.xlabel('wave')\n",
    "plt.ylabel('recovered_key')"
   ]
  },
  {
   "cell_type": "code",
   "execution_count": null,
   "id": "c578e684-de0e-4510-b799-573bf9ce050b",
   "metadata": {},
   "outputs": [],
   "source": []
  },
  {
   "cell_type": "code",
   "execution_count": null,
   "id": "82d9122a-bb18-465f-b221-58a5b151af7d",
   "metadata": {},
   "outputs": [],
   "source": []
  },
  {
   "cell_type": "code",
   "execution_count": null,
   "id": "19250b12-151f-4b51-8481-4b60f96f929d",
   "metadata": {},
   "outputs": [],
   "source": []
  },
  {
   "cell_type": "code",
   "execution_count": null,
   "id": "b8fb4010-b227-4b30-804f-e8bf1c99f60e",
   "metadata": {},
   "outputs": [],
   "source": []
  },
  {
   "cell_type": "code",
   "execution_count": null,
   "id": "8b80aef8-abcf-4744-99b0-bb3dcede3396",
   "metadata": {},
   "outputs": [],
   "source": []
  },
  {
   "cell_type": "code",
   "execution_count": null,
   "id": "674fc612-3366-4e65-8b87-1797ba2c3ec2",
   "metadata": {},
   "outputs": [],
   "source": []
  },
  {
   "cell_type": "code",
   "execution_count": null,
   "id": "b360eaa5-d867-4c7b-a193-da286d293a2e",
   "metadata": {},
   "outputs": [],
   "source": []
  },
  {
   "cell_type": "code",
   "execution_count": null,
   "id": "8179bfe3-1937-4c17-9e99-ce11feb13c13",
   "metadata": {},
   "outputs": [],
   "source": []
  },
  {
   "cell_type": "code",
   "execution_count": null,
   "id": "f1dc9c4b-1091-413f-a954-5122b5f01804",
   "metadata": {},
   "outputs": [],
   "source": []
  },
  {
   "cell_type": "code",
   "execution_count": null,
   "id": "a2b37371-846b-4d9c-a8b0-fab11bfe0a17",
   "metadata": {},
   "outputs": [],
   "source": []
  }
 ],
 "metadata": {
  "kernelspec": {
   "display_name": "Python 3 (ipykernel)",
   "language": "python",
   "name": "python3"
  },
  "language_info": {
   "codemirror_mode": {
    "name": "ipython",
    "version": 3
   },
   "file_extension": ".py",
   "mimetype": "text/x-python",
   "name": "python",
   "nbconvert_exporter": "python",
   "pygments_lexer": "ipython3",
   "version": "3.8.10"
  }
 },
 "nbformat": 4,
 "nbformat_minor": 5
}
