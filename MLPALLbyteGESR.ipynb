{
 "cells": [
  {
   "cell_type": "code",
   "execution_count": 1,
   "id": "ad813bb6-454d-4b5c-aba6-b233217a0a61",
   "metadata": {},
   "outputs": [
    {
     "name": "stderr",
     "output_type": "stream",
     "text": [
      "2023-02-02 06:54:17.929832: I tensorflow/core/platform/cpu_feature_guard.cc:193] This TensorFlow binary is optimized with oneAPI Deep Neural Network Library (oneDNN) to use the following CPU instructions in performance-critical operations:  AVX2 AVX_VNNI FMA\n",
      "To enable them in other operations, rebuild TensorFlow with the appropriate compiler flags.\n",
      "2023-02-02 06:54:17.999851: I tensorflow/core/util/port.cc:104] oneDNN custom operations are on. You may see slightly different numerical results due to floating-point round-off errors from different computation orders. To turn them off, set the environment variable `TF_ENABLE_ONEDNN_OPTS=0`.\n"
     ]
    }
   ],
   "source": [
    "from tensorflow import keras\n",
    "import tensorflow.keras.layers as L\n",
    "import matplotlib.pyplot as plt\n",
    "import sklearn.metrics\n",
    "import h5py\n",
    "import pandas as pd\n",
    "import os\n",
    "import os.path\n",
    "import sys\n",
    "import h5py\n",
    "import numpy as np\n",
    "\n",
    "import tensorflow as tf\n",
    "from tensorflow.keras.models import Model, Sequential\n",
    "from tensorflow.keras.layers import Flatten, Dense, Input, Conv1D, MaxPooling1D, GlobalAveragePooling1D, GlobalMaxPooling1D, AveragePooling1D, BatchNormalization, Activation, Add, add\n",
    "from tensorflow.keras import backend as K\n",
    "from tensorflow.keras.applications.imagenet_utils import decode_predictions\n",
    "from tensorflow.keras.applications.imagenet_utils import preprocess_input\n",
    "from tensorflow.keras.optimizers import RMSprop, Adam\n",
    "from tensorflow.keras.callbacks import ModelCheckpoint, EarlyStopping\n",
    "from tensorflow.keras.utils import to_categorical\n",
    "from tensorflow.keras.models import load_model\n"
   ]
  },
  {
   "cell_type": "code",
   "execution_count": 2,
   "id": "75369af5-277e-443a-bd0e-b6e4218fd76a",
   "metadata": {},
   "outputs": [],
   "source": [
    "TARGET_BYTE = 2 #何バイト目を攻撃するか決める"
   ]
  },
  {
   "cell_type": "code",
   "execution_count": 3,
   "id": "fbf07d89-6e23-4197-9f03-44b1d8ad2442",
   "metadata": {},
   "outputs": [],
   "source": [
    "AES_Sbox = np.array([\n",
    "\t\t\t0x63, 0x7C, 0x77, 0x7B, 0xF2, 0x6B, 0x6F, 0xC5, 0x30, 0x01, 0x67, 0x2B, 0xFE, 0xD7, 0xAB, 0x76,\n",
    "\t\t\t0xCA, 0x82, 0xC9, 0x7D, 0xFA, 0x59, 0x47, 0xF0, 0xAD, 0xD4, 0xA2, 0xAF, 0x9C, 0xA4, 0x72, 0xC0,\n",
    "\t\t\t0xB7, 0xFD, 0x93, 0x26, 0x36, 0x3F, 0xF7, 0xCC, 0x34, 0xA5, 0xE5, 0xF1, 0x71, 0xD8, 0x31, 0x15,\n",
    "\t\t\t0x04, 0xC7, 0x23, 0xC3, 0x18, 0x96, 0x05, 0x9A, 0x07, 0x12, 0x80, 0xE2, 0xEB, 0x27, 0xB2, 0x75,\n",
    "\t\t\t0x09, 0x83, 0x2C, 0x1A, 0x1B, 0x6E, 0x5A, 0xA0, 0x52, 0x3B, 0xD6, 0xB3, 0x29, 0xE3, 0x2F, 0x84,\n",
    "\t\t\t0x53, 0xD1, 0x00, 0xED, 0x20, 0xFC, 0xB1, 0x5B, 0x6A, 0xCB, 0xBE, 0x39, 0x4A, 0x4C, 0x58, 0xCF,\n",
    "\t\t\t0xD0, 0xEF, 0xAA, 0xFB, 0x43, 0x4D, 0x33, 0x85, 0x45, 0xF9, 0x02, 0x7F, 0x50, 0x3C, 0x9F, 0xA8,\n",
    "\t\t\t0x51, 0xA3, 0x40, 0x8F, 0x92, 0x9D, 0x38, 0xF5, 0xBC, 0xB6, 0xDA, 0x21, 0x10, 0xFF, 0xF3, 0xD2,\n",
    "\t\t\t0xCD, 0x0C, 0x13, 0xEC, 0x5F, 0x97, 0x44, 0x17, 0xC4, 0xA7, 0x7E, 0x3D, 0x64, 0x5D, 0x19, 0x73,\n",
    "\t\t\t0x60, 0x81, 0x4F, 0xDC, 0x22, 0x2A, 0x90, 0x88, 0x46, 0xEE, 0xB8, 0x14, 0xDE, 0x5E, 0x0B, 0xDB,\n",
    "\t\t\t0xE0, 0x32, 0x3A, 0x0A, 0x49, 0x06, 0x24, 0x5C, 0xC2, 0xD3, 0xAC, 0x62, 0x91, 0x95, 0xE4, 0x79,\n",
    "\t\t\t0xE7, 0xC8, 0x37, 0x6D, 0x8D, 0xD5, 0x4E, 0xA9, 0x6C, 0x56, 0xF4, 0xEA, 0x65, 0x7A, 0xAE, 0x08,\n",
    "\t\t\t0xBA, 0x78, 0x25, 0x2E, 0x1C, 0xA6, 0xB4, 0xC6, 0xE8, 0xDD, 0x74, 0x1F, 0x4B, 0xBD, 0x8B, 0x8A,\n",
    "\t\t\t0x70, 0x3E, 0xB5, 0x66, 0x48, 0x03, 0xF6, 0x0E, 0x61, 0x35, 0x57, 0xB9, 0x86, 0xC1, 0x1D, 0x9E,\n",
    "\t\t\t0xE1, 0xF8, 0x98, 0x11, 0x69, 0xD9, 0x8E, 0x94, 0x9B, 0x1E, 0x87, 0xE9, 0xCE, 0x55, 0x28, 0xDF,\n",
    "\t\t\t0x8C, 0xA1, 0x89, 0x0D, 0xBF, 0xE6, 0x42, 0x68, 0x41, 0x99, 0x2D, 0x0F, 0xB0, 0x54, 0xBB, 0x16\n",
    "\t\t\t])"
   ]
  },
  {
   "cell_type": "code",
   "execution_count": 4,
   "id": "e5c989ca-9457-44df-8c12-f7802aed720b",
   "metadata": {},
   "outputs": [],
   "source": [
    "data_train = h5py.File('ATMega8515_raw_traces.h5', 'r')\n",
    "data_test = h5py.File('ATMega8515_raw_traces.h5', 'r')\n",
    "data_attack = h5py.File('ATMega8515_raw_traces.h5', 'r')"
   ]
  },
  {
   "cell_type": "code",
   "execution_count": 5,
   "id": "3d0f6caa-2c21-4fde-9efd-15a55c071ec8",
   "metadata": {},
   "outputs": [],
   "source": [
    "train_metadata=data_train['metadata']\n",
    "train_plain = train_metadata['plaintext']\n",
    "train_cipher = train_metadata['ciphertext']\n",
    "train_key = train_metadata['key']\n",
    "train_mask = train_metadata['masks']\n",
    "train_trace = data_train['traces']\n",
    "\n",
    "test_metadata=data_test['metadata']\n",
    "test_plain = test_metadata['plaintext']\n",
    "test_cipher = test_metadata['ciphertext']\n",
    "test_key = test_metadata['key']\n",
    "test_mask = test_metadata['masks']\n",
    "test_trace = data_train['traces']\n",
    "\n",
    "attack_metadata=data_attack['metadata']\n",
    "attack_plain = attack_metadata['plaintext']\n",
    "attack_cipher = attack_metadata['ciphertext']\n",
    "attack_key = attack_metadata['key']\n",
    "attack_mask = attack_metadata['masks']\n",
    "attack_trace = data_train['traces']"
   ]
  },
  {
   "cell_type": "code",
   "execution_count": 6,
   "id": "7540a350-f9be-4819-a3cb-521cda40a86c",
   "metadata": {},
   "outputs": [
    {
     "name": "stdout",
     "output_type": "stream",
     "text": [
      "(60000,) (60000, 100000) (60000, 16) (60000, 16) (60000, 16) (60000, 16)\n"
     ]
    }
   ],
   "source": [
    "print(train_metadata.shape, train_trace.shape, train_plain.shape, train_cipher.shape, train_key.shape, train_mask.shape)"
   ]
  },
  {
   "cell_type": "code",
   "execution_count": 7,
   "id": "04905cfc-a0cb-4168-8146-cdc99976e447",
   "metadata": {},
   "outputs": [],
   "source": [
    "keys=np.array([0x4D,0xFB,0xE0,0xF2,0x72,0x21,0xFE,0x10,0xA7,0x8D,0x4A,0xDC,0x8E,0x49,0x04,0x69])"
   ]
  },
  {
   "cell_type": "code",
   "execution_count": 8,
   "id": "6845f123-6ac1-43cc-931e-9ef2c07ce948",
   "metadata": {},
   "outputs": [
    {
     "data": {
      "text/plain": [
       "(45000, 700)"
      ]
     },
     "execution_count": 8,
     "metadata": {},
     "output_type": "execute_result"
    }
   ],
   "source": [
    "train_trace = train_trace[0:45000, 45400:46100]\n",
    "test_trace = test_trace[45000:50000, 45400:46100]\n",
    "attack_trace = attack_trace[50000:60000, 45400:46100]\n",
    "train_plain = train_plain[0:45000, :]\n",
    "test_plain = test_plain[45000:50000, :]\n",
    "train_trace2 = train_trace\n",
    "test_trace2 = test_trace\n",
    "attack_trace2 = attack_trace\n",
    "train_trace.shape"
   ]
  },
  {
   "cell_type": "code",
   "execution_count": 9,
   "id": "43496fec-c2a0-440b-b2b2-ae1d5eb7c318",
   "metadata": {},
   "outputs": [],
   "source": [
    "train_key = train_key[0:45000,:]\n",
    "train_sbox_in = []\n",
    "train_sbox_in = np.array(train_plain^train_key) #平文と鍵のXORがSbox(SubBytes)入力\n",
    "train_sbox_out = np.array([AES_Sbox[i] for i in train_sbox_in])"
   ]
  },
  {
   "cell_type": "code",
   "execution_count": 10,
   "id": "ff5b1d13-2bec-4751-a212-ae09c5b44988",
   "metadata": {},
   "outputs": [],
   "source": [
    "test_key = test_key[0:5000,:]\n",
    "test_sbox_in = []\n",
    "test_sbox_in = np.array(test_plain^np.array(test_key)) #平文と鍵のXORがSbox(SubBytes)入力\n",
    "test_sbox_out = np.array([AES_Sbox[i] for i in test_sbox_in])"
   ]
  },
  {
   "cell_type": "code",
   "execution_count": 11,
   "id": "a6256248-1afe-484b-beac-5d5a16176a04",
   "metadata": {},
   "outputs": [],
   "source": [
    "train_sbox_out = train_sbox_out[:,TARGET_BYTE]\n",
    "test_sbox_out = test_sbox_out[:,TARGET_BYTE]"
   ]
  },
  {
   "cell_type": "code",
   "execution_count": 12,
   "id": "27ede76c-f5a1-42fb-a1e6-1f4d9f4d402f",
   "metadata": {},
   "outputs": [],
   "source": [
    "#波形データの標準化(データを平均で引いて標準偏差で割る)\n",
    "train_trace2 = (train_trace2 -np.mean(train_trace2, axis = 0))/np.std(train_trace2, axis = 0)\n",
    "\n",
    "test_trace2 = (test_trace2 - np.mean(test_trace2, axis = 0))/np.std(test_trace2, axis = 0)\n",
    "\n",
    "attack_trace2 = (attack_trace2 - np.mean(attack_trace2, axis = 0))/np.std(attack_trace2, axis = 0)\n",
    "\n",
    "#DeepLearningできるshapeに変更\n",
    "train_trace2 = train_trace2.reshape(45000,700,1)\n",
    "\n",
    "test_trace2 = test_trace2.reshape(5000,700,1)\n",
    "\n",
    "attack_trace2 = attack_trace2.reshape(10000,700,1)"
   ]
  },
  {
   "cell_type": "code",
   "execution_count": 13,
   "id": "893a8b89-aacb-466e-8216-0bad44f5133b",
   "metadata": {},
   "outputs": [],
   "source": [
    "def mlp_best(node=200,layer_nb=6,input_dim=700):\n",
    "\tmodel = Sequential()\n",
    "\tmodel.add(Dense(node, input_dim=input_dim, activation='relu'))\n",
    "\tfor i in range(layer_nb-2):\n",
    "\t\tmodel.add(Dense(node, activation='relu'))\n",
    "\tmodel.add(Dense(256))\n",
    "\toptimizer = RMSprop(learning_rate=0.00001)\n",
    "\tloss_fn = tf.keras.losses.SparseCategoricalCrossentropy(from_logits=True)\n",
    "\t# model.compile(loss='categorical_crossentropy', optimizer=optimizer, metrics=['accuracy'])\n",
    "\tmodel.compile(loss=loss_fn, optimizer=optimizer, metrics=['accuracy'])\n",
    "\treturn model"
   ]
  },
  {
   "cell_type": "code",
   "execution_count": 14,
   "id": "82aecf5f-ec90-4827-8458-4228fb3de243",
   "metadata": {},
   "outputs": [
    {
     "name": "stderr",
     "output_type": "stream",
     "text": [
      "2023-02-02 06:54:19.760377: I tensorflow/compiler/xla/stream_executor/cuda/cuda_gpu_executor.cc:981] successful NUMA node read from SysFS had negative value (-1), but there must be at least one NUMA node, so returning NUMA node zero\n",
      "2023-02-02 06:54:19.761600: I tensorflow/compiler/xla/stream_executor/cuda/cuda_gpu_executor.cc:981] successful NUMA node read from SysFS had negative value (-1), but there must be at least one NUMA node, so returning NUMA node zero\n",
      "2023-02-02 06:54:19.761669: I tensorflow/compiler/xla/stream_executor/cuda/cuda_gpu_executor.cc:981] successful NUMA node read from SysFS had negative value (-1), but there must be at least one NUMA node, so returning NUMA node zero\n",
      "2023-02-02 06:54:19.761922: I tensorflow/core/platform/cpu_feature_guard.cc:193] This TensorFlow binary is optimized with oneAPI Deep Neural Network Library (oneDNN) to use the following CPU instructions in performance-critical operations:  AVX2 AVX_VNNI FMA\n",
      "To enable them in other operations, rebuild TensorFlow with the appropriate compiler flags.\n",
      "2023-02-02 06:54:19.762368: I tensorflow/compiler/xla/stream_executor/cuda/cuda_gpu_executor.cc:981] successful NUMA node read from SysFS had negative value (-1), but there must be at least one NUMA node, so returning NUMA node zero\n",
      "2023-02-02 06:54:19.762444: I tensorflow/compiler/xla/stream_executor/cuda/cuda_gpu_executor.cc:981] successful NUMA node read from SysFS had negative value (-1), but there must be at least one NUMA node, so returning NUMA node zero\n",
      "2023-02-02 06:54:19.762489: I tensorflow/compiler/xla/stream_executor/cuda/cuda_gpu_executor.cc:981] successful NUMA node read from SysFS had negative value (-1), but there must be at least one NUMA node, so returning NUMA node zero\n",
      "2023-02-02 06:54:20.036751: I tensorflow/compiler/xla/stream_executor/cuda/cuda_gpu_executor.cc:981] successful NUMA node read from SysFS had negative value (-1), but there must be at least one NUMA node, so returning NUMA node zero\n",
      "2023-02-02 06:54:20.036855: I tensorflow/compiler/xla/stream_executor/cuda/cuda_gpu_executor.cc:981] successful NUMA node read from SysFS had negative value (-1), but there must be at least one NUMA node, so returning NUMA node zero\n",
      "2023-02-02 06:54:20.036903: I tensorflow/compiler/xla/stream_executor/cuda/cuda_gpu_executor.cc:981] successful NUMA node read from SysFS had negative value (-1), but there must be at least one NUMA node, so returning NUMA node zero\n",
      "2023-02-02 06:54:20.036952: I tensorflow/core/common_runtime/gpu/gpu_device.cc:1613] Created device /job:localhost/replica:0/task:0/device:GPU:0 with 10217 MB memory:  -> device: 0, name: NVIDIA GeForce RTX 3060, pci bus id: 0000:01:00.0, compute capability: 8.6\n"
     ]
    }
   ],
   "source": [
    "mlp_best()\n",
    "model=mlp_best(node=200,layer_nb=6,input_dim=700)"
   ]
  },
  {
   "cell_type": "code",
   "execution_count": 15,
   "id": "bb86a779-c705-465a-8733-c709c4446af1",
   "metadata": {},
   "outputs": [],
   "source": [
    "rank = []\n",
    "class CustomCallback(tf.keras.callbacks.Callback):\n",
    "    def __init__(self, test_trace2 , label, TARGET_BYTE, rank_save_dir, *args, **kwargs):\n",
    "        super().__init__(*args, **kwargs)\n",
    "        self.data_test = test_trace2\n",
    "        self.label = label.T\n",
    "        self.target_byte = TARGET_BYTE\n",
    "        self.save_dir = rank_save_dir\n",
    "    def on_epoch_end(self, epoch, logs=None):\n",
    "        predicts = model.predict(attack_trace2)\n",
    "        predicts = tf.nn.softmax(predicts)\n",
    "        attack_plain=attack_metadata['plaintext']\n",
    "        attack_sbox_in = []\n",
    "        for estimated_key in range(256): #256通りの推定鍵だけ繰り返す。\n",
    "            attack_sbox_in.append(attack_plain^np.array([estimated_key]*16)) #平文と推定鍵のXORがSbox(SubBytes)入力\n",
    "        attack_sbox_in = np.array(attack_sbox_in)\n",
    "        attack_sbox_out = np.array([AES_Sbox[i] for i in attack_sbox_in])\n",
    "        attack_sbox_out = attack_sbox_out[:,:,TARGET_BYTE]\n",
    "        attack_sbox_out = attack_sbox_out[:,50000:] #全体の内, 最後の10000を攻撃に使用\n",
    "        result = np.ones(256) /256\n",
    "        attack_sbox_out = np.array(attack_sbox_out)\n",
    "        pred = predicts.numpy()\n",
    "\n",
    "        for i in range(len(predicts)):\n",
    "            result *= pred[i, attack_sbox_out[:, i]]\n",
    "            result = result /np.sum(result)\n",
    "            rank.append(list(np.argsort(result)[::-1]).index(attack_key[0][TARGET_BYTE])+1)\n",
    "        \n",
    "        np.save(self.save_dir + f'/rank_result_{epoch+1}', np.array(rank))\n",
    "        print(f'Epoch {epoch+1} - GE:{np.mean(rank)}, SR:{np.sum(np.array(rank)==1)/len(rank)} last trace rank:{rank[-1]}')\n"
   ]
  },
  {
   "cell_type": "code",
   "execution_count": 16,
   "id": "90693379-3f39-4923-b64f-826743589265",
   "metadata": {},
   "outputs": [],
   "source": [
    "rank_save_dir = f\"./save_file/fixed2_lr0.001_target_byte_{TARGET_BYTE}/rank_save/\"\n",
    "os.makedirs(rank_save_dir, exist_ok=True)"
   ]
  },
  {
   "cell_type": "code",
   "execution_count": 17,
   "id": "c829c5a3-b6f0-4c25-83d3-9fe13203b564",
   "metadata": {},
   "outputs": [
    {
     "name": "stderr",
     "output_type": "stream",
     "text": [
      "2023-02-02 06:54:20.953169: I tensorflow/compiler/xla/stream_executor/cuda/cuda_blas.cc:630] TensorFloat-32 will be used for the matrix multiplication. This will only be logged once.\n",
      "2023-02-02 06:54:20.954381: I tensorflow/compiler/xla/service/service.cc:173] XLA service 0x7f3f886394e0 initialized for platform CUDA (this does not guarantee that XLA will be used). Devices:\n",
      "2023-02-02 06:54:20.954397: I tensorflow/compiler/xla/service/service.cc:181]   StreamExecutor device (0): NVIDIA GeForce RTX 3060, Compute Capability 8.6\n",
      "2023-02-02 06:54:20.956625: I tensorflow/compiler/mlir/tensorflow/utils/dump_mlir_util.cc:268] disabling MLIR crash reproducer, set env var `MLIR_CRASH_REPRODUCER_DIRECTORY` to enable.\n",
      "2023-02-02 06:54:21.013332: I tensorflow/compiler/jit/xla_compilation_cache.cc:477] Compiled cluster using XLA!  This line is logged at most once for the lifetime of the process.\n"
     ]
    },
    {
     "name": "stdout",
     "output_type": "stream",
     "text": [
      "313/313 [==============================] - 0s 504us/step\n",
      "Epoch 1 - GE:21.5028, SR:0.0 last trace rank:12\n",
      "313/313 [==============================] - 0s 712us/step\n",
      "Epoch 2 - GE:22.4139, SR:0.0 last trace rank:12\n",
      "313/313 [==============================] - 0s 524us/step\n",
      "Epoch 3 - GE:23.7857, SR:0.0 last trace rank:12\n",
      "313/313 [==============================] - 0s 509us/step\n",
      "Epoch 4 - GE:25.204775, SR:0.0 last trace rank:9\n",
      "313/313 [==============================] - 0s 522us/step\n",
      "Epoch 5 - GE:25.718, SR:0.0 last trace rank:10\n",
      "313/313 [==============================] - 0s 635us/step\n",
      "Epoch 6 - GE:26.613933333333332, SR:0.0 last trace rank:10\n",
      "313/313 [==============================] - 0s 535us/step\n",
      "Epoch 7 - GE:27.531785714285714, SR:0.0 last trace rank:12\n",
      "313/313 [==============================] - 0s 598us/step\n",
      "Epoch 8 - GE:28.4358, SR:0.0 last trace rank:10\n",
      "313/313 [==============================] - 0s 725us/step\n",
      "Epoch 9 - GE:29.018988888888888, SR:0.0 last trace rank:13\n",
      "313/313 [==============================] - 0s 624us/step\n",
      "Epoch 10 - GE:29.68342, SR:0.0 last trace rank:14\n",
      "313/313 [==============================] - 0s 580us/step\n",
      "Epoch 11 - GE:30.408163636363636, SR:0.0 last trace rank:12\n",
      "313/313 [==============================] - 0s 569us/step\n",
      "Epoch 12 - GE:31.189358333333335, SR:0.0 last trace rank:12\n",
      "313/313 [==============================] - 0s 703us/step\n",
      "Epoch 13 - GE:31.94433846153846, SR:0.0 last trace rank:14\n",
      "313/313 [==============================] - 0s 590us/step\n",
      "Epoch 14 - GE:32.634035714285716, SR:0.0 last trace rank:14\n",
      "313/313 [==============================] - 0s 556us/step\n",
      "Epoch 15 - GE:33.524946666666665, SR:0.0 last trace rank:13\n",
      "313/313 [==============================] - 0s 564us/step\n",
      "Epoch 16 - GE:34.41666875, SR:0.0 last trace rank:9\n",
      "313/313 [==============================] - 0s 511us/step\n",
      "Epoch 17 - GE:35.1493, SR:0.0 last trace rank:12\n",
      "313/313 [==============================] - 0s 854us/step\n",
      "Epoch 18 - GE:35.91606111111111, SR:0.0 last trace rank:8\n",
      "313/313 [==============================] - 0s 513us/step\n",
      "Epoch 19 - GE:36.5246, SR:0.0 last trace rank:6\n",
      "313/313 [==============================] - 0s 627us/step\n",
      "Epoch 20 - GE:37.08403, SR:0.0 last trace rank:11\n",
      "313/313 [==============================] - 0s 629us/step\n",
      "Epoch 21 - GE:37.54156666666667, SR:0.0 last trace rank:10\n",
      "313/313 [==============================] - 0s 528us/step\n",
      "Epoch 22 - GE:38.257822727272725, SR:0.0 last trace rank:10\n",
      "313/313 [==============================] - 0s 596us/step\n",
      "Epoch 23 - GE:38.852569565217394, SR:0.0 last trace rank:12\n",
      "313/313 [==============================] - 0s 615us/step\n",
      "Epoch 24 - GE:39.3888, SR:0.0 last trace rank:12\n",
      "313/313 [==============================] - 0s 506us/step\n",
      "Epoch 25 - GE:40.09218, SR:0.0 last trace rank:16\n",
      "313/313 [==============================] - 0s 686us/step\n",
      "Epoch 26 - GE:40.80179230769231, SR:0.0 last trace rank:14\n",
      "313/313 [==============================] - 0s 545us/step\n",
      "Epoch 27 - GE:41.47948518518518, SR:0.0 last trace rank:17\n",
      "313/313 [==============================] - 0s 502us/step\n",
      "Epoch 28 - GE:42.07261428571429, SR:0.0 last trace rank:16\n",
      "313/313 [==============================] - 0s 548us/step\n",
      "Epoch 29 - GE:42.70513448275862, SR:0.0 last trace rank:15\n",
      "313/313 [==============================] - 0s 539us/step\n",
      "Epoch 30 - GE:43.15198, SR:0.0 last trace rank:12\n",
      "313/313 [==============================] - 0s 645us/step\n",
      "Epoch 31 - GE:43.67924838709678, SR:0.0 last trace rank:18\n",
      "313/313 [==============================] - 0s 502us/step\n",
      "Epoch 32 - GE:44.232171875, SR:0.0 last trace rank:15\n",
      "313/313 [==============================] - 0s 665us/step\n",
      "Epoch 33 - GE:44.89501818181818, SR:0.0 last trace rank:18\n",
      "313/313 [==============================] - 0s 672us/step\n",
      "Epoch 34 - GE:45.34700588235294, SR:0.0 last trace rank:19\n",
      "313/313 [==============================] - 0s 549us/step\n",
      "Epoch 35 - GE:45.808817142857144, SR:0.0 last trace rank:14\n",
      "313/313 [==============================] - 0s 514us/step\n",
      "Epoch 36 - GE:46.23693055555555, SR:0.0 last trace rank:15\n",
      "313/313 [==============================] - 0s 594us/step\n",
      "Epoch 37 - GE:46.69786486486486, SR:0.0 last trace rank:16\n",
      "313/313 [==============================] - 0s 882us/step\n",
      "Epoch 38 - GE:47.08482631578947, SR:0.0 last trace rank:15\n",
      "313/313 [==============================] - 0s 591us/step\n",
      "Epoch 39 - GE:47.472033333333336, SR:0.0 last trace rank:12\n",
      "313/313 [==============================] - 0s 568us/step\n",
      "Epoch 40 - GE:47.9181925, SR:0.0 last trace rank:13\n",
      "313/313 [==============================] - 0s 517us/step\n",
      "Epoch 41 - GE:48.24387073170732, SR:0.0 last trace rank:13\n",
      "313/313 [==============================] - 0s 580us/step\n",
      "Epoch 42 - GE:48.57447380952381, SR:0.0 last trace rank:13\n",
      "313/313 [==============================] - 0s 585us/step\n",
      "Epoch 43 - GE:48.85433488372093, SR:0.0 last trace rank:12\n",
      "313/313 [==============================] - 0s 510us/step\n",
      "Epoch 44 - GE:49.173204545454546, SR:0.0 last trace rank:10\n",
      "313/313 [==============================] - 0s 503us/step\n",
      "Epoch 45 - GE:49.36040666666667, SR:0.0 last trace rank:8\n",
      "313/313 [==============================] - 0s 692us/step\n",
      "Epoch 46 - GE:49.58501086956522, SR:0.0 last trace rank:9\n",
      "313/313 [==============================] - 0s 695us/step\n",
      "Epoch 47 - GE:49.808344680851064, SR:0.0 last trace rank:10\n",
      "313/313 [==============================] - 0s 662us/step\n",
      "Epoch 48 - GE:49.9217125, SR:0.0 last trace rank:12\n",
      "313/313 [==============================] - 0s 493us/step\n",
      "Epoch 49 - GE:50.050042857142856, SR:6.938775510204082e-05 last trace rank:6\n",
      "313/313 [==============================] - 0s 777us/step\n",
      "Epoch 50 - GE:50.115868, SR:6.8e-05 last trace rank:7\n",
      "313/313 [==============================] - 0s 580us/step\n",
      "Epoch 51 - GE:50.16148431372549, SR:0.00033137254901960785 last trace rank:5\n",
      "313/313 [==============================] - 0s 621us/step\n",
      "Epoch 52 - GE:50.20254615384616, SR:0.000325 last trace rank:6\n",
      "313/313 [==============================] - 0s 515us/step\n",
      "Epoch 53 - GE:50.18675660377359, SR:0.001358490566037736 last trace rank:5\n",
      "313/313 [==============================] - 0s 608us/step\n",
      "Epoch 54 - GE:50.15260185185185, SR:0.0019833333333333335 last trace rank:5\n",
      "313/313 [==============================] - 0s 863us/step\n",
      "Epoch 55 - GE:50.094134545454544, SR:0.004010909090909091 last trace rank:5\n",
      "313/313 [==============================] - 0s 566us/step\n",
      "Epoch 56 - GE:50.0279875, SR:0.006664285714285715 last trace rank:4\n",
      "313/313 [==============================] - 0s 544us/step\n",
      "Epoch 57 - GE:49.934063157894734, SR:0.009494736842105262 last trace rank:4\n",
      "313/313 [==============================] - 0s 622us/step\n",
      "Epoch 58 - GE:49.80748448275862, SR:0.013686206896551725 last trace rank:2\n",
      "313/313 [==============================] - 0s 669us/step\n",
      "Epoch 59 - GE:49.7260779661017, SR:0.017679661016949153 last trace rank:2\n",
      "313/313 [==============================] - 0s 715us/step\n",
      "Epoch 60 - GE:49.587673333333335, SR:0.02181 last trace rank:1\n",
      "313/313 [==============================] - 0s 609us/step\n",
      "Epoch 61 - GE:49.41347868852459, SR:0.026027868852459016 last trace rank:1\n",
      "313/313 [==============================] - 0s 523us/step\n",
      "Epoch 62 - GE:49.21841451612903, SR:0.030214516129032257 last trace rank:1\n",
      "313/313 [==============================] - 0s 727us/step\n",
      "Epoch 63 - GE:49.048250793650794, SR:0.03431111111111111 last trace rank:1\n",
      "313/313 [==============================] - 0s 672us/step\n",
      "Epoch 64 - GE:48.8224828125, SR:0.0387796875 last trace rank:1\n",
      "313/313 [==============================] - 0s 630us/step\n",
      "Epoch 65 - GE:48.55342, SR:0.04450615384615385 last trace rank:1\n",
      "313/313 [==============================] - 0s 756us/step\n",
      "Epoch 66 - GE:48.23633787878788, SR:0.05038939393939394 last trace rank:1\n",
      "313/313 [==============================] - 0s 835us/step\n",
      "Epoch 67 - GE:47.916088059701494, SR:0.0561089552238806 last trace rank:1\n",
      "313/313 [==============================] - 0s 615us/step\n",
      "Epoch 68 - GE:47.5672, SR:0.06184558823529412 last trace rank:1\n",
      "313/313 [==============================] - 0s 577us/step\n",
      "Epoch 69 - GE:47.256839130434784, SR:0.06763043478260869 last trace rank:1\n",
      "313/313 [==============================] - 0s 586us/step\n",
      "Epoch 70 - GE:46.91621857142857, SR:0.07299571428571429 last trace rank:1\n",
      "313/313 [==============================] - 0s 504us/step\n",
      "Epoch 71 - GE:46.58207746478873, SR:0.07849154929577465 last trace rank:1\n",
      "313/313 [==============================] - 0s 498us/step\n",
      "Epoch 72 - GE:46.22742777777778, SR:0.0838625 last trace rank:1\n",
      "313/313 [==============================] - 0s 667us/step\n",
      "Epoch 73 - GE:45.86577671232877, SR:0.08943150684931507 last trace rank:1\n",
      "313/313 [==============================] - 0s 586us/step\n",
      "Epoch 74 - GE:45.5053445945946, SR:0.09482432432432432 last trace rank:1\n",
      "313/313 [==============================] - 0s 695us/step\n",
      "Epoch 75 - GE:45.149648, SR:0.10042533333333334 last trace rank:1\n",
      "313/313 [==============================] - 0s 592us/step\n",
      "Epoch 76 - GE:44.77452631578947, SR:0.10610657894736843 last trace rank:1\n",
      "313/313 [==============================] - 0s 1ms/step\n",
      "Epoch 77 - GE:44.41212077922078, SR:0.11174805194805194 last trace rank:1\n",
      "313/313 [==============================] - 0s 521us/step\n",
      "Epoch 78 - GE:44.06078076923077, SR:0.1171423076923077 last trace rank:1\n",
      "313/313 [==============================] - 0s 550us/step\n",
      "Epoch 79 - GE:43.68817088607595, SR:0.12259493670886076 last trace rank:1\n",
      "313/313 [==============================] - 0s 505us/step\n",
      "Epoch 80 - GE:43.30357875, SR:0.12798125 last trace rank:1\n",
      "313/313 [==============================] - 0s 536us/step\n",
      "Epoch 81 - GE:42.93414814814815, SR:0.13326790123456791 last trace rank:1\n",
      "313/313 [==============================] - 0s 515us/step\n",
      "Epoch 82 - GE:42.56046829268293, SR:0.13849512195121952 last trace rank:1\n",
      "313/313 [==============================] - 0s 770us/step\n",
      "Epoch 83 - GE:42.18914337349398, SR:0.1436566265060241 last trace rank:1\n",
      "313/313 [==============================] - 0s 598us/step\n",
      "Epoch 84 - GE:41.822876190476194, SR:0.14868928571428572 last trace rank:1\n",
      "313/313 [==============================] - 0s 912us/step\n",
      "Epoch 85 - GE:41.45413529411765, SR:0.15376705882352942 last trace rank:1\n",
      "313/313 [==============================] - 0s 519us/step\n",
      "Epoch 86 - GE:41.091222093023255, SR:0.15896627906976743 last trace rank:1\n",
      "313/313 [==============================] - 0s 687us/step\n",
      "Epoch 87 - GE:40.73596321839081, SR:0.16432758620689655 last trace rank:1\n",
      "313/313 [==============================] - 0s 557us/step\n",
      "Epoch 88 - GE:40.37873409090909, SR:0.17001363636363637 last trace rank:1\n",
      "313/313 [==============================] - 0s 736us/step\n",
      "Epoch 89 - GE:40.02639213483146, SR:0.175738202247191 last trace rank:1\n",
      "313/313 [==============================] - 0s 536us/step\n",
      "Epoch 90 - GE:39.68074111111111, SR:0.1817988888888889 last trace rank:1\n",
      "313/313 [==============================] - 0s 993us/step\n",
      "Epoch 91 - GE:39.33963736263736, SR:0.18780769230769231 last trace rank:1\n",
      "313/313 [==============================] - 0s 515us/step\n",
      "Epoch 92 - GE:39.00112934782609, SR:0.19400978260869564 last trace rank:1\n",
      "313/313 [==============================] - 0s 613us/step\n",
      "Epoch 93 - GE:38.667043010752685, SR:0.20056021505376345 last trace rank:1\n",
      "313/313 [==============================] - 0s 525us/step\n",
      "Epoch 94 - GE:38.3404085106383, SR:0.20689468085106383 last trace rank:1\n",
      "313/313 [==============================] - 0s 697us/step\n",
      "Epoch 95 - GE:38.014997894736844, SR:0.21368526315789474 last trace rank:1\n",
      "313/313 [==============================] - 0s 693us/step\n",
      "Epoch 96 - GE:37.69446666666666, SR:0.22040208333333333 last trace rank:1\n",
      "313/313 [==============================] - 0s 837us/step\n",
      "Epoch 97 - GE:37.3790793814433, SR:0.2275381443298969 last trace rank:1\n",
      "313/313 [==============================] - 0s 543us/step\n",
      "Epoch 98 - GE:37.06817142857143, SR:0.23462551020408162 last trace rank:1\n",
      "313/313 [==============================] - 0s 540us/step\n",
      "Epoch 99 - GE:36.765248484848485, SR:0.24155858585858586 last trace rank:1\n",
      "313/313 [==============================] - 0s 510us/step\n",
      "Epoch 100 - GE:36.462759, SR:0.248415 last trace rank:1\n",
      "313/313 [==============================] - 0s 517us/step\n",
      "Epoch 101 - GE:36.168936633663364, SR:0.25514950495049504 last trace rank:1\n",
      "313/313 [==============================] - 0s 539us/step\n",
      "Epoch 102 - GE:35.876136274509804, SR:0.2617980392156863 last trace rank:1\n",
      "313/313 [==============================] - 0s 860us/step\n",
      "Epoch 103 - GE:35.58961165048544, SR:0.2682757281553398 last trace rank:1\n",
      "313/313 [==============================] - 0s 653us/step\n",
      "Epoch 104 - GE:35.30399615384616, SR:0.27468846153846155 last trace rank:1\n",
      "313/313 [==============================] - 0s 539us/step\n",
      "Epoch 105 - GE:35.026584761904765, SR:0.28097428571428573 last trace rank:1\n",
      "313/313 [==============================] - 0s 500us/step\n",
      "Epoch 106 - GE:34.75274056603774, SR:0.28714528301886794 last trace rank:1\n",
      "313/313 [==============================] - 0s 514us/step\n",
      "Epoch 107 - GE:34.48301028037383, SR:0.29320373831775703 last trace rank:1\n",
      "313/313 [==============================] - 0s 552us/step\n",
      "Epoch 108 - GE:34.217705555555554, SR:0.29915925925925924 last trace rank:1\n",
      "313/313 [==============================] - 0s 623us/step\n",
      "Epoch 109 - GE:33.95459633027523, SR:0.30503302752293576 last trace rank:1\n",
      "313/313 [==============================] - 0s 573us/step\n",
      "Epoch 110 - GE:33.69781090909091, SR:0.3108081818181818 last trace rank:1\n",
      "313/313 [==============================] - 0s 571us/step\n",
      "Epoch 111 - GE:33.44382972972973, SR:0.316472972972973 last trace rank:1\n",
      "313/313 [==============================] - 0s 738us/step\n",
      "Epoch 112 - GE:33.192882142857144, SR:0.3220571428571429 last trace rank:1\n",
      "313/313 [==============================] - 0s 854us/step\n",
      "Epoch 113 - GE:32.94726991150443, SR:0.3275371681415929 last trace rank:1\n",
      "313/313 [==============================] - 0s 750us/step\n",
      "Epoch 114 - GE:32.703123684210524, SR:0.33292894736842105 last trace rank:1\n",
      "313/313 [==============================] - 0s 521us/step\n",
      "Epoch 115 - GE:32.461779130434785, SR:0.3382295652173913 last trace rank:1\n",
      "313/313 [==============================] - 0s 524us/step\n",
      "Epoch 116 - GE:32.225895689655175, SR:0.3434431034482759 last trace rank:1\n",
      "313/313 [==============================] - 0s 526us/step\n",
      "Epoch 117 - GE:31.99348547008547, SR:0.3485649572649573 last trace rank:1\n",
      "313/313 [==============================] - 0s 834us/step\n",
      "Epoch 118 - GE:31.766, SR:0.3535991525423729 last trace rank:1\n",
      "313/313 [==============================] - 0s 1ms/step\n",
      "Epoch 119 - GE:31.542125210084034, SR:0.3585487394957983 last trace rank:1\n",
      "313/313 [==============================] - 0s 805us/step\n",
      "Epoch 120 - GE:31.319848333333333, SR:0.36342083333333336 last trace rank:1\n",
      "313/313 [==============================] - 0s 562us/step\n",
      "Epoch 121 - GE:31.10003223140496, SR:0.36821404958677684 last trace rank:1\n",
      "313/313 [==============================] - 0s 609us/step\n",
      "Epoch 122 - GE:30.883997540983607, SR:0.3729270491803279 last trace rank:1\n",
      "313/313 [==============================] - 0s 832us/step\n",
      "Epoch 123 - GE:30.671687804878047, SR:0.37756422764227643 last trace rank:1\n",
      "313/313 [==============================] - 0s 634us/step\n",
      "Epoch 124 - GE:30.460239516129032, SR:0.3821556451612903 last trace rank:1\n",
      "313/313 [==============================] - 0s 903us/step\n",
      "Epoch 125 - GE:30.2539992, SR:0.3866536 last trace rank:1\n",
      "313/313 [==============================] - 0s 553us/step\n",
      "Epoch 126 - GE:30.04851984126984, SR:0.3910952380952381 last trace rank:1\n",
      "313/313 [==============================] - 0s 520us/step\n",
      "Epoch 127 - GE:29.846979527559053, SR:0.3954700787401575 last trace rank:1\n",
      "313/313 [==============================] - 0s 571us/step\n",
      "Epoch 128 - GE:29.6486359375, SR:0.399784375 last trace rank:1\n",
      "313/313 [==============================] - 0s 2ms/step\n",
      "Epoch 129 - GE:29.452333333333332, SR:0.40403720930232556 last trace rank:1\n",
      "313/313 [==============================] - 0s 516us/step\n",
      "Epoch 130 - GE:29.25903, SR:0.4082292307692308 last trace rank:1\n",
      "313/313 [==============================] - 0s 643us/step\n",
      "Epoch 131 - GE:29.067879389312978, SR:0.41235496183206105 last trace rank:1\n",
      "313/313 [==============================] - 0s 513us/step\n",
      "Epoch 132 - GE:28.877928030303032, SR:0.41643863636363637 last trace rank:1\n",
      "313/313 [==============================] - 0s 553us/step\n",
      "Epoch 133 - GE:28.691454887218047, SR:0.42045488721804514 last trace rank:1\n",
      "313/313 [==============================] - 0s 512us/step\n",
      "Epoch 134 - GE:28.506947014925373, SR:0.42440671641791045 last trace rank:1\n",
      "313/313 [==============================] - 0s 666us/step\n",
      "Epoch 135 - GE:28.325782962962965, SR:0.42830074074074076 last trace rank:1\n",
      "313/313 [==============================] - 0s 504us/step\n",
      "Epoch 136 - GE:28.146504411764706, SR:0.4321345588235294 last trace rank:1\n",
      "313/313 [==============================] - 0s 571us/step\n",
      "Epoch 137 - GE:27.969604379562043, SR:0.4359204379562044 last trace rank:1\n",
      "313/313 [==============================] - 0s 715us/step\n",
      "Epoch 138 - GE:27.795527536231884, SR:0.4396434782608696 last trace rank:1\n",
      "313/313 [==============================] - 0s 533us/step\n",
      "Epoch 139 - GE:27.623057553956833, SR:0.4433143884892086 last trace rank:1\n",
      "313/313 [==============================] - 0s 599us/step\n",
      "Epoch 140 - GE:27.45313, SR:0.4469457142857143 last trace rank:1\n",
      "313/313 [==============================] - 0s 600us/step\n",
      "Epoch 141 - GE:27.285448226950354, SR:0.45052553191489364 last trace rank:1\n",
      "313/313 [==============================] - 0s 652us/step\n",
      "Epoch 142 - GE:27.11946901408451, SR:0.454056338028169 last trace rank:1\n",
      "313/313 [==============================] - 0s 534us/step\n",
      "Epoch 143 - GE:26.954871328671327, SR:0.45754055944055944 last trace rank:1\n",
      "313/313 [==============================] - 0s 536us/step\n",
      "Epoch 144 - GE:26.791760416666666, SR:0.4610361111111111 last trace rank:1\n",
      "313/313 [==============================] - 0s 544us/step\n",
      "Epoch 145 - GE:26.630953103448277, SR:0.46443724137931036 last trace rank:1\n",
      "313/313 [==============================] - 0s 648us/step\n",
      "Epoch 146 - GE:26.472198630136987, SR:0.4677958904109589 last trace rank:1\n",
      "313/313 [==============================] - 0s 815us/step\n",
      "Epoch 147 - GE:26.315416326530613, SR:0.4711578231292517 last trace rank:1\n",
      "313/313 [==============================] - 0s 577us/step\n",
      "Epoch 148 - GE:26.160337837837837, SR:0.47447567567567567 last trace rank:1\n",
      "313/313 [==============================] - 0s 867us/step\n",
      "Epoch 149 - GE:26.008263087248324, SR:0.47770939597315437 last trace rank:1\n",
      "313/313 [==============================] - 0s 531us/step\n",
      "Epoch 150 - GE:25.856712, SR:0.4809153333333333 last trace rank:1\n",
      "313/313 [==============================] - 0s 994us/step\n",
      "Epoch 151 - GE:25.708111258278144, SR:0.4840986754966887 last trace rank:1\n",
      "313/313 [==============================] - 0s 605us/step\n",
      "Epoch 152 - GE:25.560120394736842, SR:0.4872157894736842 last trace rank:1\n",
      "313/313 [==============================] - 0s 713us/step\n",
      "Epoch 153 - GE:25.41431045751634, SR:0.4903019607843137 last trace rank:1\n",
      "313/313 [==============================] - 0s 531us/step\n",
      "Epoch 154 - GE:25.271131818181818, SR:0.49334675324675326 last trace rank:1\n",
      "313/313 [==============================] - 0s 591us/step\n",
      "Epoch 155 - GE:25.12835935483871, SR:0.49639032258064514 last trace rank:1\n",
      "313/313 [==============================] - 0s 1ms/step\n",
      "Epoch 156 - GE:24.986992307692308, SR:0.49938141025641025 last trace rank:1\n",
      "313/313 [==============================] - 0s 594us/step\n",
      "Epoch 157 - GE:24.847991082802547, SR:0.5023401273885351 last trace rank:1\n",
      "313/313 [==============================] - 0s 568us/step\n",
      "Epoch 158 - GE:24.71019493670886, SR:0.5052512658227848 last trace rank:1\n",
      "313/313 [==============================] - 0s 537us/step\n",
      "Epoch 159 - GE:24.573786163522012, SR:0.5081433962264151 last trace rank:1\n",
      "313/313 [==============================] - 0s 642us/step\n",
      "Epoch 160 - GE:24.43922875, SR:0.51097125 last trace rank:1\n",
      "313/313 [==============================] - 0s 528us/step\n",
      "Epoch 161 - GE:24.306121118012424, SR:0.5137552795031056 last trace rank:1\n",
      "313/313 [==============================] - 0s 536us/step\n",
      "Epoch 162 - GE:24.174756172839505, SR:0.516532098765432 last trace rank:1\n",
      "313/313 [==============================] - 0s 636us/step\n",
      "Epoch 163 - GE:24.04492944785276, SR:0.5192883435582822 last trace rank:1\n",
      "313/313 [==============================] - 0s 514us/step\n",
      "Epoch 164 - GE:23.916910975609756, SR:0.5220109756097561 last trace rank:1\n",
      "313/313 [==============================] - 0s 512us/step\n",
      "Epoch 165 - GE:23.790899393939394, SR:0.5246975757575758 last trace rank:1\n",
      "313/313 [==============================] - 0s 607us/step\n",
      "Epoch 166 - GE:23.66543012048193, SR:0.5273590361445784 last trace rank:1\n",
      "313/313 [==============================] - 0s 926us/step\n",
      "Epoch 167 - GE:23.541354491017962, SR:0.5300011976047904 last trace rank:1\n",
      "313/313 [==============================] - 0s 541us/step\n",
      "Epoch 168 - GE:23.418788095238096, SR:0.5325857142857143 last trace rank:1\n",
      "313/313 [==============================] - 0s 563us/step\n",
      "Epoch 169 - GE:23.29821597633136, SR:0.5351218934911243 last trace rank:1\n",
      "313/313 [==============================] - 0s 645us/step\n",
      "Epoch 170 - GE:23.178538235294116, SR:0.5376641176470588 last trace rank:1\n",
      "313/313 [==============================] - 0s 712us/step\n",
      "Epoch 171 - GE:23.059976608187135, SR:0.5401561403508772 last trace rank:1\n",
      "313/313 [==============================] - 0s 695us/step\n",
      "Epoch 172 - GE:22.942728488372094, SR:0.5426325581395349 last trace rank:1\n",
      "313/313 [==============================] - 0s 569us/step\n",
      "Epoch 173 - GE:22.82624450867052, SR:0.5450884393063584 last trace rank:1\n",
      "313/313 [==============================] - 0s 538us/step\n",
      "Epoch 174 - GE:22.711414942528737, SR:0.5475201149425287 last trace rank:1\n",
      "313/313 [==============================] - 0s 627us/step\n",
      "Epoch 175 - GE:22.598354285714287, SR:0.549924 last trace rank:1\n",
      "313/313 [==============================] - 0s 536us/step\n",
      "Epoch 176 - GE:22.48611022727273, SR:0.5522954545454546 last trace rank:1\n",
      "313/313 [==============================] - 0s 511us/step\n",
      "Epoch 177 - GE:22.37514745762712, SR:0.5546401129943502 last trace rank:1\n",
      "313/313 [==============================] - 0s 586us/step\n",
      "Epoch 178 - GE:22.265433146067416, SR:0.5569578651685393 last trace rank:1\n",
      "313/313 [==============================] - 0s 592us/step\n",
      "Epoch 179 - GE:22.157156424581007, SR:0.5592430167597765 last trace rank:1\n",
      "313/313 [==============================] - 0s 637us/step\n",
      "Epoch 180 - GE:22.04977111111111, SR:0.5615105555555555 last trace rank:1\n",
      "313/313 [==============================] - 0s 511us/step\n",
      "Epoch 181 - GE:21.943955801104973, SR:0.5637563535911603 last trace rank:1\n",
      "313/313 [==============================] - 0s 544us/step\n",
      "Epoch 182 - GE:21.839082417582418, SR:0.5659538461538461 last trace rank:1\n",
      "313/313 [==============================] - 0s 964us/step\n",
      "Epoch 183 - GE:21.73583387978142, SR:0.5681387978142076 last trace rank:1\n",
      "313/313 [==============================] - 0s 628us/step\n",
      "Epoch 184 - GE:21.63316847826087, SR:0.570304347826087 last trace rank:1\n",
      "313/313 [==============================] - 0s 786us/step\n",
      "Epoch 185 - GE:21.531672432432433, SR:0.5724497297297297 last trace rank:1\n",
      "313/313 [==============================] - 0s 652us/step\n",
      "Epoch 186 - GE:21.431858602150538, SR:0.574547311827957 last trace rank:1\n",
      "313/313 [==============================] - 0s 663us/step\n",
      "Epoch 187 - GE:21.33262139037433, SR:0.5766438502673796 last trace rank:1\n",
      "313/313 [==============================] - 0s 698us/step\n",
      "Epoch 188 - GE:21.23423085106383, SR:0.578722340425532 last trace rank:1\n",
      "313/313 [==============================] - 0s 617us/step\n",
      "Epoch 189 - GE:21.136359788359787, SR:0.5807835978835979 last trace rank:1\n",
      "313/313 [==============================] - 0s 698us/step\n",
      "Epoch 190 - GE:21.040095263157895, SR:0.58282 last trace rank:1\n",
      "313/313 [==============================] - 0s 930us/step\n",
      "Epoch 191 - GE:20.94447120418848, SR:0.5848361256544503 last trace rank:1\n",
      "313/313 [==============================] - 0s 543us/step\n",
      "Epoch 192 - GE:20.85040364583333, SR:0.5868223958333333 last trace rank:1\n",
      "313/313 [==============================] - 0s 635us/step\n",
      "Epoch 193 - GE:20.756870984455958, SR:0.5887943005181347 last trace rank:1\n",
      "313/313 [==============================] - 0s 511us/step\n",
      "Epoch 194 - GE:20.66419175257732, SR:0.5907376288659794 last trace rank:1\n",
      "313/313 [==============================] - 0s 491us/step\n",
      "Epoch 195 - GE:20.57243076923077, SR:0.5926651282051282 last trace rank:1\n",
      "313/313 [==============================] - 0s 602us/step\n",
      "Epoch 196 - GE:20.481310714285716, SR:0.5945801020408163 last trace rank:1\n",
      "313/313 [==============================] - 0s 541us/step\n",
      "Epoch 197 - GE:20.391162944162435, SR:0.5964746192893401 last trace rank:1\n",
      "313/313 [==============================] - 0s 596us/step\n",
      "Epoch 198 - GE:20.302043434343435, SR:0.5983515151515152 last trace rank:1\n",
      "313/313 [==============================] - 0s 782us/step\n",
      "Epoch 199 - GE:20.21315728643216, SR:0.6002085427135678 last trace rank:1\n",
      "313/313 [==============================] - 0s 672us/step\n",
      "Epoch 200 - GE:20.1253575, SR:0.602048 last trace rank:1\n"
     ]
    }
   ],
   "source": [
    "result = model.fit(train_trace2,train_sbox_out,  # 波形データとラベルデータ\n",
    "                        batch_size=100,\n",
    "                        epochs=200,     # エポック数の指定\n",
    "                        validation_data=(test_trace2,test_sbox_out),\n",
    "                        callbacks=[CustomCallback(test_trace2, test_sbox_out, TARGET_BYTE, rank_save_dir)],\n",
    "                       verbose = 0\n",
    "                        )"
   ]
  },
  {
   "cell_type": "code",
   "execution_count": 18,
   "id": "1faceeb9-1592-4d3f-9ed9-e9d339901866",
   "metadata": {},
   "outputs": [
    {
     "data": {
      "text/plain": [
       "Text(0.5, 1.0, 'target_2byte')"
      ]
     },
     "execution_count": 18,
     "metadata": {},
     "output_type": "execute_result"
    },
    {
     "data": {
      "image/png": "[encoded data removed]",
      "text/plain": [
       "<Figure size 640x480 with 1 Axes>"
      ]
     },
     "metadata": {},
     "output_type": "display_data"
    }
   ],
   "source": [
    "plt.figure()\n",
    "plt.plot(rank)\n",
    "plt.xlabel('wave')\n",
    "plt.ylabel('rank')\n",
    "plt.title('target_{}byte'.format(TARGET_BYTE))"
   ]
  },
  {
   "cell_type": "code",
   "execution_count": 19,
   "id": "a7d52401-b6be-4a76-9d72-b0e0a68e10b9",
   "metadata": {},
   "outputs": [
    {
     "data": {
      "text/plain": [
       "[<matplotlib.lines.Line2D at 0x7f44380600d0>]"
      ]
     },
     "execution_count": 19,
     "metadata": {},
     "output_type": "execute_result"
    },
    {
     "data": {
      "image/png": "[encoded data removed]",
      "text/plain": [
       "<Figure size 640x480 with 1 Axes>"
      ]
     },
     "metadata": {},
     "output_type": "display_data"
    }
   ],
   "source": [
    "plt.plot(result.history['accuracy'])\n",
    "plt.plot(result.history['val_accuracy'])"
   ]
  },
  {
   "cell_type": "code",
   "execution_count": 20,
   "id": "797bed86-fed9-4094-b172-1018ee96ecf8",
   "metadata": {},
   "outputs": [
    {
     "name": "stdout",
     "output_type": "stream",
     "text": [
      "313/313 [==============================] - 0s 629us/step\n"
     ]
    },
    {
     "data": {
      "text/plain": [
       "TensorShape([10000, 256])"
      ]
     },
     "execution_count": 20,
     "metadata": {},
     "output_type": "execute_result"
    }
   ],
   "source": [
    "predicts = model.predict(attack_trace2)\n",
    "predicts = tf.nn.softmax(predicts)\n",
    "predicts.shape"
   ]
  },
  {
   "cell_type": "code",
   "execution_count": 21,
   "id": "ccadf8eb-aada-4b93-a545-f442375fb18a",
   "metadata": {},
   "outputs": [],
   "source": [
    "attack_plain=attack_metadata['plaintext']"
   ]
  },
  {
   "cell_type": "code",
   "execution_count": 22,
   "id": "ba97c735-9909-496c-b00b-36e34e4adfef",
   "metadata": {},
   "outputs": [],
   "source": [
    "attack_sbox_in = []\n",
    "for estimated_key in range(256): #256通りの推定鍵だけ繰り返す。\n",
    "    attack_sbox_in.append(attack_plain^np.array([estimated_key]*16)) #平文と推定鍵のXORがSbox(SubBytes)入力\n",
    "attack_sbox_in = np.array(attack_sbox_in)\n",
    "attack_sbox_out = np.array([AES_Sbox[i] for i in attack_sbox_in])\n",
    "attack_sbox_out = attack_sbox_out[:,:,TARGET_BYTE]"
   ]
  },
  {
   "cell_type": "code",
   "execution_count": 23,
   "id": "d8722c04-6386-441e-b158-3603c8178b40",
   "metadata": {},
   "outputs": [],
   "source": [
    "attack_sbox_out = attack_sbox_out[:,50000:] #全体の内, 最後の10000を攻撃に使用"
   ]
  },
  {
   "cell_type": "code",
   "execution_count": 24,
   "id": "b391ee5d-8b21-45a3-9dea-e897463bf5d7",
   "metadata": {},
   "outputs": [],
   "source": [
    "result2 = np.ones(256) /256\n",
    "rank = []\n",
    "attack_sbox_out = np.array(attack_sbox_out)\n",
    "pred = predicts.numpy()\n",
    "\n",
    "for i in range(len(predicts)):\n",
    "    result2 *= pred[i, attack_sbox_out[:, i]]\n",
    "    result2 = result2 /np.sum(result2)\n",
    "    rank.append(list(np.argsort(result2)[::-1]).index(attack_key[0][TARGET_BYTE])+1)\n",
    "    "
   ]
  },
  {
   "cell_type": "code",
   "execution_count": 25,
   "id": "76df28d7-5c58-45ce-8ca3-9e5fc05898dc",
   "metadata": {},
   "outputs": [
    {
     "data": {
      "text/plain": [
       "Text(0.5, 1.0, 'target_2byte')"
      ]
     },
     "execution_count": 25,
     "metadata": {},
     "output_type": "execute_result"
    },
    {
     "data": {
      "image/png": "[encoded data removed]",
      "text/plain": [
       "<Figure size 640x480 with 1 Axes>"
      ]
     },
     "metadata": {},
     "output_type": "display_data"
    }
   ],
   "source": [
    "rank_lim = rank[0:10000]\n",
    "plt.figure()\n",
    "plt.plot(rank_lim)\n",
    "plt.xlabel('wave')\n",
    "plt.ylabel('rank')\n",
    "plt.title('target_{}byte'.format(TARGET_BYTE))"
   ]
  },
  {
   "cell_type": "code",
   "execution_count": 26,
   "id": "53b8014a-7a06-4050-bd5e-0d3f54ca91d1",
   "metadata": {},
   "outputs": [],
   "source": [
    "TARGET_BYTE = 3 #何バイト目を攻撃するか決める"
   ]
  },
  {
   "cell_type": "code",
   "execution_count": 27,
   "id": "83c300fd-9f84-43f2-97d4-cb736084bd71",
   "metadata": {},
   "outputs": [],
   "source": [
    "AES_Sbox = np.array([\n",
    "\t\t\t0x63, 0x7C, 0x77, 0x7B, 0xF2, 0x6B, 0x6F, 0xC5, 0x30, 0x01, 0x67, 0x2B, 0xFE, 0xD7, 0xAB, 0x76,\n",
    "\t\t\t0xCA, 0x82, 0xC9, 0x7D, 0xFA, 0x59, 0x47, 0xF0, 0xAD, 0xD4, 0xA2, 0xAF, 0x9C, 0xA4, 0x72, 0xC0,\n",
    "\t\t\t0xB7, 0xFD, 0x93, 0x26, 0x36, 0x3F, 0xF7, 0xCC, 0x34, 0xA5, 0xE5, 0xF1, 0x71, 0xD8, 0x31, 0x15,\n",
    "\t\t\t0x04, 0xC7, 0x23, 0xC3, 0x18, 0x96, 0x05, 0x9A, 0x07, 0x12, 0x80, 0xE2, 0xEB, 0x27, 0xB2, 0x75,\n",
    "\t\t\t0x09, 0x83, 0x2C, 0x1A, 0x1B, 0x6E, 0x5A, 0xA0, 0x52, 0x3B, 0xD6, 0xB3, 0x29, 0xE3, 0x2F, 0x84,\n",
    "\t\t\t0x53, 0xD1, 0x00, 0xED, 0x20, 0xFC, 0xB1, 0x5B, 0x6A, 0xCB, 0xBE, 0x39, 0x4A, 0x4C, 0x58, 0xCF,\n",
    "\t\t\t0xD0, 0xEF, 0xAA, 0xFB, 0x43, 0x4D, 0x33, 0x85, 0x45, 0xF9, 0x02, 0x7F, 0x50, 0x3C, 0x9F, 0xA8,\n",
    "\t\t\t0x51, 0xA3, 0x40, 0x8F, 0x92, 0x9D, 0x38, 0xF5, 0xBC, 0xB6, 0xDA, 0x21, 0x10, 0xFF, 0xF3, 0xD2,\n",
    "\t\t\t0xCD, 0x0C, 0x13, 0xEC, 0x5F, 0x97, 0x44, 0x17, 0xC4, 0xA7, 0x7E, 0x3D, 0x64, 0x5D, 0x19, 0x73,\n",
    "\t\t\t0x60, 0x81, 0x4F, 0xDC, 0x22, 0x2A, 0x90, 0x88, 0x46, 0xEE, 0xB8, 0x14, 0xDE, 0x5E, 0x0B, 0xDB,\n",
    "\t\t\t0xE0, 0x32, 0x3A, 0x0A, 0x49, 0x06, 0x24, 0x5C, 0xC2, 0xD3, 0xAC, 0x62, 0x91, 0x95, 0xE4, 0x79,\n",
    "\t\t\t0xE7, 0xC8, 0x37, 0x6D, 0x8D, 0xD5, 0x4E, 0xA9, 0x6C, 0x56, 0xF4, 0xEA, 0x65, 0x7A, 0xAE, 0x08,\n",
    "\t\t\t0xBA, 0x78, 0x25, 0x2E, 0x1C, 0xA6, 0xB4, 0xC6, 0xE8, 0xDD, 0x74, 0x1F, 0x4B, 0xBD, 0x8B, 0x8A,\n",
    "\t\t\t0x70, 0x3E, 0xB5, 0x66, 0x48, 0x03, 0xF6, 0x0E, 0x61, 0x35, 0x57, 0xB9, 0x86, 0xC1, 0x1D, 0x9E,\n",
    "\t\t\t0xE1, 0xF8, 0x98, 0x11, 0x69, 0xD9, 0x8E, 0x94, 0x9B, 0x1E, 0x87, 0xE9, 0xCE, 0x55, 0x28, 0xDF,\n",
    "\t\t\t0x8C, 0xA1, 0x89, 0x0D, 0xBF, 0xE6, 0x42, 0x68, 0x41, 0x99, 0x2D, 0x0F, 0xB0, 0x54, 0xBB, 0x16\n",
    "\t\t\t])"
   ]
  },
  {
   "cell_type": "code",
   "execution_count": 28,
   "id": "9592c915-08e2-4dc6-bd20-7f34c83d26ad",
   "metadata": {},
   "outputs": [],
   "source": [
    "data_train = h5py.File('ATMega8515_raw_traces.h5', 'r')\n",
    "data_test = h5py.File('ATMega8515_raw_traces.h5', 'r')\n",
    "data_attack = h5py.File('ATMega8515_raw_traces.h5', 'r')"
   ]
  },
  {
   "cell_type": "code",
   "execution_count": 29,
   "id": "e85e34e8-eb8a-4e24-ae20-f2a889060236",
   "metadata": {},
   "outputs": [],
   "source": [
    "train_metadata=data_train['metadata']\n",
    "train_plain = train_metadata['plaintext']\n",
    "train_cipher = train_metadata['ciphertext']\n",
    "train_key = train_metadata['key']\n",
    "train_mask = train_metadata['masks']\n",
    "train_trace = data_train['traces']\n",
    "\n",
    "test_metadata=data_test['metadata']\n",
    "test_plain = test_metadata['plaintext']\n",
    "test_cipher = test_metadata['ciphertext']\n",
    "test_key = test_metadata['key']\n",
    "test_mask = test_metadata['masks']\n",
    "test_trace = data_train['traces']\n",
    "\n",
    "attack_metadata=data_attack['metadata']\n",
    "attack_plain = attack_metadata['plaintext']\n",
    "attack_cipher = attack_metadata['ciphertext']\n",
    "attack_key = attack_metadata['key']\n",
    "attack_mask = attack_metadata['masks']\n",
    "attack_trace = data_train['traces']"
   ]
  },
  {
   "cell_type": "code",
   "execution_count": 30,
   "id": "a1d65ee0-1b41-4aa3-9412-1e64e7ec886f",
   "metadata": {},
   "outputs": [
    {
     "name": "stdout",
     "output_type": "stream",
     "text": [
      "(60000,) (60000, 100000) (60000, 16) (60000, 16) (60000, 16) (60000, 16)\n"
     ]
    }
   ],
   "source": [
    "print(train_metadata.shape, train_trace.shape, train_plain.shape, train_cipher.shape, train_key.shape, train_mask.shape)"
   ]
  },
  {
   "cell_type": "code",
   "execution_count": 31,
   "id": "2102db39-c7f2-46e0-9be4-32011af87a60",
   "metadata": {},
   "outputs": [
    {
     "data": {
      "text/plain": [
       "(45000, 700)"
      ]
     },
     "execution_count": 31,
     "metadata": {},
     "output_type": "execute_result"
    }
   ],
   "source": [
    "train_trace = train_trace[0:45000, 32906:33606]\n",
    "test_trace = test_trace[45000:50000, 32906:33606]\n",
    "attack_trace = attack_trace[50000:60000, 32906:33606]\n",
    "train_plain = train_plain[0:45000, :]\n",
    "test_plain = test_plain[45000:50000, :]\n",
    "train_trace2 = train_trace\n",
    "test_trace2 = test_trace\n",
    "attack_trace2 = attack_trace\n",
    "train_trace.shape"
   ]
  },
  {
   "cell_type": "code",
   "execution_count": 32,
   "id": "3b7e1c86-d437-4204-8a61-d9e0f8865f3e",
   "metadata": {},
   "outputs": [],
   "source": [
    "train_key = train_key[0:45000,:]\n",
    "train_sbox_in = []\n",
    "train_sbox_in = np.array(train_plain^train_key) #平文と鍵のXORがSbox(SubBytes)入力\n",
    "train_sbox_out = np.array([AES_Sbox[i] for i in train_sbox_in])"
   ]
  },
  {
   "cell_type": "code",
   "execution_count": 33,
   "id": "4a2a58a7-25c5-4b6a-95e6-e7500c6a9c86",
   "metadata": {},
   "outputs": [],
   "source": [
    "test_key = test_key[0:5000,:]\n",
    "test_sbox_in = []\n",
    "test_sbox_in = np.array(test_plain^np.array(test_key)) #平文と鍵のXORがSbox(SubBytes)入力\n",
    "test_sbox_out = np.array([AES_Sbox[i] for i in test_sbox_in])"
   ]
  },
  {
   "cell_type": "code",
   "execution_count": 34,
   "id": "abf346dc-3824-44fb-9206-69e3f66d97f9",
   "metadata": {},
   "outputs": [],
   "source": [
    "train_sbox_out = train_sbox_out[:,TARGET_BYTE]\n",
    "test_sbox_out = test_sbox_out[:,TARGET_BYTE]"
   ]
  },
  {
   "cell_type": "code",
   "execution_count": 35,
   "id": "f06a8ef5-0a7f-4356-8b5b-07a688651752",
   "metadata": {},
   "outputs": [],
   "source": [
    "#波形データの標準化(データを平均で引いて標準偏差で割る)\n",
    "train_trace2 = (train_trace2 -np.mean(train_trace2, axis = 0))/np.std(train_trace2, axis = 0)\n",
    "\n",
    "test_trace2 = (test_trace2 - np.mean(test_trace2, axis = 0))/np.std(test_trace2, axis = 0)\n",
    "\n",
    "attack_trace2 = (attack_trace2 - np.mean(attack_trace2, axis = 0))/np.std(attack_trace2, axis = 0)\n",
    "\n",
    "#DeepLearningできるshapeに変更\n",
    "train_trace2 = train_trace2.reshape(45000,700,1)\n",
    "\n",
    "test_trace2 = test_trace2.reshape(5000,700,1)\n",
    "\n",
    "attack_trace2 = attack_trace2.reshape(10000,700,1)"
   ]
  },
  {
   "cell_type": "code",
   "execution_count": 36,
   "id": "0e2cfac3-a656-4895-8e2c-b32178252370",
   "metadata": {},
   "outputs": [],
   "source": [
    "def mlp_best(node=200,layer_nb=6,input_dim=700):\n",
    "\tmodel = Sequential()\n",
    "\tmodel.add(Dense(node, input_dim=input_dim, activation='relu'))\n",
    "\tfor i in range(layer_nb-2):\n",
    "\t\tmodel.add(Dense(node, activation='relu'))\n",
    "\tmodel.add(Dense(256))\n",
    "\toptimizer = RMSprop(learning_rate=0.00001)\n",
    "\tloss_fn = tf.keras.losses.SparseCategoricalCrossentropy(from_logits=True)\n",
    "\t# model.compile(loss='categorical_crossentropy', optimizer=optimizer, metrics=['accuracy'])\n",
    "\tmodel.compile(loss=loss_fn, optimizer=optimizer, metrics=['accuracy'])\n",
    "\treturn model"
   ]
  },
  {
   "cell_type": "code",
   "execution_count": 37,
   "id": "14b862e2-4d20-46c9-b1c0-cb59880b8912",
   "metadata": {},
   "outputs": [],
   "source": [
    "mlp_best()\n",
    "model=mlp_best(node=200,layer_nb=6,input_dim=700)"
   ]
  },
  {
   "cell_type": "code",
   "execution_count": 38,
   "id": "ee2dd720-e603-4e67-b103-d888566357ac",
   "metadata": {},
   "outputs": [],
   "source": [
    "rank = []\n",
    "class CustomCallback(tf.keras.callbacks.Callback):\n",
    "    def __init__(self, test_trace2 , label, TARGET_BYTE, rank_save_dir, *args, **kwargs):\n",
    "        super().__init__(*args, **kwargs)\n",
    "        self.data_test = test_trace2\n",
    "        self.label = label.T\n",
    "        self.target_byte = TARGET_BYTE\n",
    "        self.save_dir = rank_save_dir\n",
    "    def on_epoch_end(self, epoch, logs=None):\n",
    "        predicts = model.predict(attack_trace2)\n",
    "        predicts = tf.nn.softmax(predicts)\n",
    "        attack_plain=attack_metadata['plaintext']\n",
    "        attack_sbox_in = []\n",
    "        for estimated_key in range(256): #256通りの推定鍵だけ繰り返す。\n",
    "            attack_sbox_in.append(attack_plain^np.array([estimated_key]*16)) #平文と推定鍵のXORがSbox(SubBytes)入力\n",
    "        attack_sbox_in = np.array(attack_sbox_in)\n",
    "        attack_sbox_out = np.array([AES_Sbox[i] for i in attack_sbox_in])\n",
    "        attack_sbox_out = attack_sbox_out[:,:,TARGET_BYTE]\n",
    "        attack_sbox_out = attack_sbox_out[:,50000:] #全体の内, 最後の10000を攻撃に使用\n",
    "        result = np.ones(256) /256\n",
    "        attack_sbox_out = np.array(attack_sbox_out)\n",
    "        pred = predicts.numpy()\n",
    "\n",
    "        for i in range(len(predicts)):\n",
    "            result *= pred[i, attack_sbox_out[:, i]]\n",
    "            result = result /np.sum(result)\n",
    "            rank.append(list(np.argsort(result)[::-1]).index(attack_key[0][TARGET_BYTE])+1)\n",
    "        \n",
    "        np.save(self.save_dir + f'/rank_result_{epoch+1}', np.array(rank))\n",
    "        print(f'Epoch {epoch+1} - GE:{np.mean(rank)}, SR:{np.sum(np.array(rank)==1)/len(rank)} last trace rank:{rank[-1]}')\n"
   ]
  },
  {
   "cell_type": "code",
   "execution_count": 39,
   "id": "f4738958-9a10-4df1-8065-1656d604112a",
   "metadata": {},
   "outputs": [],
   "source": [
    "rank_save_dir = f\"./save_file/fixed2_lr0.001_target_byte_{TARGET_BYTE}/rank_save/\"\n",
    "os.makedirs(rank_save_dir, exist_ok=True)"
   ]
  },
  {
   "cell_type": "code",
   "execution_count": 40,
   "id": "cf27a9b1-1bbe-487e-8557-25fd83c1af6f",
   "metadata": {},
   "outputs": [
    {
     "name": "stdout",
     "output_type": "stream",
     "text": [
      "313/313 [==============================] - 0s 1ms/step\n",
      "Epoch 1 - GE:115.4664, SR:0.0002 last trace rank:170\n",
      "313/313 [==============================] - 0s 538us/step\n",
      "Epoch 2 - GE:102.7903, SR:0.0002 last trace rank:133\n",
      "313/313 [==============================] - 0s 544us/step\n",
      "Epoch 3 - GE:90.4721, SR:0.0002 last trace rank:111\n",
      "313/313 [==============================] - 0s 609us/step\n",
      "Epoch 4 - GE:81.3083, SR:0.000325 last trace rank:89\n",
      "313/313 [==============================] - 0s 516us/step\n",
      "Epoch 5 - GE:72.59092, SR:0.00034 last trace rank:62\n",
      "313/313 [==============================] - 0s 603us/step\n",
      "Epoch 6 - GE:65.55856666666666, SR:0.00031666666666666665 last trace rank:47\n",
      "313/313 [==============================] - 0s 750us/step\n",
      "Epoch 7 - GE:59.369285714285716, SR:0.0003 last trace rank:37\n",
      "313/313 [==============================] - 0s 548us/step\n",
      "Epoch 8 - GE:54.6381375, SR:0.000275 last trace rank:31\n",
      "313/313 [==============================] - 0s 637us/step\n",
      "Epoch 9 - GE:50.72138888888889, SR:0.0002555555555555556 last trace rank:31\n",
      "313/313 [==============================] - 0s 681us/step\n",
      "Epoch 10 - GE:47.34794, SR:0.00024 last trace rank:26\n",
      "313/313 [==============================] - 0s 515us/step\n",
      "Epoch 11 - GE:44.48400909090909, SR:0.00021818181818181818 last trace rank:28\n",
      "313/313 [==============================] - 0s 587us/step\n",
      "Epoch 12 - GE:41.864175, SR:0.0010666666666666667 last trace rank:24\n",
      "313/313 [==============================] - 0s 549us/step\n",
      "Epoch 13 - GE:39.77996923076923, SR:0.0013076923076923077 last trace rank:28\n",
      "313/313 [==============================] - 0s 817us/step\n",
      "Epoch 14 - GE:37.79665714285714, SR:0.0018857142857142857 last trace rank:23\n",
      "313/313 [==============================] - 0s 538us/step\n",
      "Epoch 15 - GE:36.0534, SR:0.0028933333333333333 last trace rank:20\n",
      "313/313 [==============================] - 0s 537us/step\n",
      "Epoch 16 - GE:34.49644375, SR:0.00438125 last trace rank:22\n",
      "313/313 [==============================] - 0s 535us/step\n",
      "Epoch 17 - GE:33.13465294117647, SR:0.0072352941176470585 last trace rank:20\n",
      "313/313 [==============================] - 0s 506us/step\n",
      "Epoch 18 - GE:31.768705555555556, SR:0.011838888888888888 last trace rank:15\n",
      "313/313 [==============================] - 0s 757us/step\n",
      "Epoch 19 - GE:30.56053157894737, SR:0.016026315789473684 last trace rank:16\n",
      "313/313 [==============================] - 0s 558us/step\n",
      "Epoch 20 - GE:29.423775, SR:0.02175 last trace rank:16\n",
      "313/313 [==============================] - 0s 763us/step\n",
      "Epoch 21 - GE:28.416576190476192, SR:0.027014285714285713 last trace rank:15\n",
      "313/313 [==============================] - 0s 765us/step\n",
      "Epoch 22 - GE:27.494804545454546, SR:0.03286818181818182 last trace rank:14\n",
      "313/313 [==============================] - 0s 547us/step\n",
      "Epoch 23 - GE:26.706869565217392, SR:0.03572608695652174 last trace rank:15\n",
      "313/313 [==============================] - 0s 596us/step\n",
      "Epoch 24 - GE:26.012083333333333, SR:0.03752083333333334 last trace rank:16\n",
      "313/313 [==============================] - 0s 835us/step\n",
      "Epoch 25 - GE:25.310264, SR:0.038152 last trace rank:14\n",
      "313/313 [==============================] - 0s 825us/step\n",
      "Epoch 26 - GE:24.70084230769231, SR:0.03761153846153846 last trace rank:14\n",
      "313/313 [==============================] - 0s 717us/step\n",
      "Epoch 27 - GE:24.14828888888889, SR:0.03678888888888889 last trace rank:14\n",
      "313/313 [==============================] - 0s 521us/step\n",
      "Epoch 28 - GE:23.648039285714287, SR:0.03604285714285714 last trace rank:14\n",
      "313/313 [==============================] - 0s 738us/step\n",
      "Epoch 29 - GE:23.154337931034483, SR:0.035272413793103446 last trace rank:14\n",
      "313/313 [==============================] - 0s 581us/step\n",
      "Epoch 30 - GE:22.718273333333332, SR:0.03433666666666667 last trace rank:15\n",
      "313/313 [==============================] - 0s 1ms/step\n",
      "Epoch 31 - GE:22.309483870967743, SR:0.03346774193548387 last trace rank:16\n",
      "313/313 [==============================] - 0s 757us/step\n",
      "Epoch 32 - GE:21.9292125, SR:0.032625 last trace rank:15\n",
      "313/313 [==============================] - 0s 602us/step\n",
      "Epoch 33 - GE:21.577836363636365, SR:0.031951515151515154 last trace rank:15\n",
      "313/313 [==============================] - 0s 850us/step\n",
      "Epoch 34 - GE:21.20240294117647, SR:0.03147941176470588 last trace rank:14\n",
      "313/313 [==============================] - 0s 539us/step\n",
      "Epoch 35 - GE:20.87852, SR:0.03070857142857143 last trace rank:14\n",
      "313/313 [==============================] - 0s 906us/step\n",
      "Epoch 36 - GE:20.56349722222222, SR:0.029883333333333335 last trace rank:14\n",
      "313/313 [==============================] - 0s 596us/step\n",
      "Epoch 37 - GE:20.265235135135136, SR:0.029175675675675677 last trace rank:13\n",
      "313/313 [==============================] - 0s 1ms/step\n",
      "Epoch 38 - GE:19.9502, SR:0.02845263157894737 last trace rank:11\n",
      "313/313 [==============================] - 0s 1ms/step\n",
      "Epoch 39 - GE:19.610284615384614, SR:0.028476923076923077 last trace rank:9\n",
      "313/313 [==============================] - 0s 537us/step\n",
      "Epoch 40 - GE:19.29584, SR:0.028365 last trace rank:8\n",
      "313/313 [==============================] - 0s 508us/step\n",
      "Epoch 41 - GE:18.971046341463413, SR:0.028441463414634147 last trace rank:8\n",
      "313/313 [==============================] - 0s 556us/step\n",
      "Epoch 42 - GE:18.635078571428572, SR:0.028890476190476192 last trace rank:7\n",
      "313/313 [==============================] - 0s 784us/step\n",
      "Epoch 43 - GE:18.295744186046512, SR:0.0324046511627907 last trace rank:6\n",
      "313/313 [==============================] - 0s 519us/step\n",
      "Epoch 44 - GE:17.956554545454544, SR:0.036945454545454545 last trace rank:5\n",
      "313/313 [==============================] - 0s 823us/step\n",
      "Epoch 45 - GE:17.627768888888887, SR:0.041473333333333334 last trace rank:6\n",
      "313/313 [==============================] - 0s 806us/step\n",
      "Epoch 46 - GE:17.306408695652173, SR:0.045991304347826084 last trace rank:4\n",
      "313/313 [==============================] - 0s 558us/step\n",
      "Epoch 47 - GE:16.991631914893617, SR:0.052736170212765957 last trace rank:3\n",
      "313/313 [==============================] - 0s 538us/step\n",
      "Epoch 48 - GE:16.689870833333334, SR:0.059277083333333334 last trace rank:3\n",
      "313/313 [==============================] - 0s 556us/step\n",
      "Epoch 49 - GE:16.397853061224488, SR:0.06628367346938775 last trace rank:3\n",
      "313/313 [==============================] - 0s 527us/step\n",
      "Epoch 50 - GE:16.115232, SR:0.072924 last trace rank:3\n",
      "313/313 [==============================] - 0s 697us/step\n",
      "Epoch 51 - GE:15.839943137254902, SR:0.08042156862745098 last trace rank:2\n",
      "313/313 [==============================] - 0s 707us/step\n",
      "Epoch 52 - GE:15.57038076923077, SR:0.0881326923076923 last trace rank:2\n",
      "313/313 [==============================] - 0s 1ms/step\n",
      "Epoch 53 - GE:15.309177358490565, SR:0.09616792452830189 last trace rank:2\n",
      "313/313 [==============================] - 0s 744us/step\n",
      "Epoch 54 - GE:15.056801851851851, SR:0.10440555555555556 last trace rank:2\n",
      "313/313 [==============================] - 0s 554us/step\n",
      "Epoch 55 - GE:14.81253090909091, SR:0.11201818181818182 last trace rank:2\n",
      "313/313 [==============================] - 0s 619us/step\n",
      "Epoch 56 - GE:14.576691071428572, SR:0.1197125 last trace rank:2\n",
      "313/313 [==============================] - 0s 619us/step\n",
      "Epoch 57 - GE:14.34607894736842, SR:0.12828421052631578 last trace rank:2\n",
      "313/313 [==============================] - 0s 793us/step\n",
      "Epoch 58 - GE:14.12436724137931, SR:0.13590172413793103 last trace rank:2\n",
      "313/313 [==============================] - 0s 760us/step\n",
      "Epoch 59 - GE:13.912038983050847, SR:0.1424457627118644 last trace rank:2\n",
      "313/313 [==============================] - 0s 725us/step\n",
      "Epoch 60 - GE:13.7064, SR:0.14822666666666667 last trace rank:2\n",
      "313/313 [==============================] - 0s 519us/step\n",
      "Epoch 61 - GE:13.507539344262295, SR:0.1541672131147541 last trace rank:2\n",
      "313/313 [==============================] - 0s 677us/step\n",
      "Epoch 62 - GE:13.313409677419354, SR:0.1602548387096774 last trace rank:2\n",
      "313/313 [==============================] - 0s 547us/step\n",
      "Epoch 63 - GE:13.1255, SR:0.1666904761904762 last trace rank:2\n",
      "313/313 [==============================] - 0s 559us/step\n",
      "Epoch 64 - GE:12.94378125, SR:0.1726046875 last trace rank:2\n",
      "313/313 [==============================] - 0s 541us/step\n",
      "Epoch 65 - GE:12.768204615384615, SR:0.17773846153846154 last trace rank:2\n",
      "313/313 [==============================] - 0s 576us/step\n",
      "Epoch 66 - GE:12.598189393939395, SR:0.18223636363636364 last trace rank:2\n",
      "313/313 [==============================] - 0s 670us/step\n",
      "Epoch 67 - GE:12.43206119402985, SR:0.18748358208955224 last trace rank:2\n",
      "313/313 [==============================] - 0s 874us/step\n",
      "Epoch 68 - GE:12.271538235294118, SR:0.1920294117647059 last trace rank:2\n",
      "313/313 [==============================] - 0s 558us/step\n",
      "Epoch 69 - GE:12.11603768115942, SR:0.19652898550724637 last trace rank:2\n",
      "313/313 [==============================] - 0s 527us/step\n",
      "Epoch 70 - GE:11.964698571428572, SR:0.20083142857142858 last trace rank:2\n",
      "313/313 [==============================] - 0s 712us/step\n",
      "Epoch 71 - GE:11.817361971830985, SR:0.2050112676056338 last trace rank:2\n",
      "313/313 [==============================] - 0s 555us/step\n",
      "Epoch 72 - GE:11.675611111111111, SR:0.20900416666666666 last trace rank:2\n",
      "313/313 [==============================] - 0s 554us/step\n",
      "Epoch 73 - GE:11.537039726027396, SR:0.21314383561643835 last trace rank:2\n",
      "313/313 [==============================] - 0s 750us/step\n",
      "Epoch 74 - GE:11.40175, SR:0.21726621621621622 last trace rank:2\n",
      "313/313 [==============================] - 0s 623us/step\n",
      "Epoch 75 - GE:11.271936, SR:0.22111733333333333 last trace rank:3\n",
      "313/313 [==============================] - 0s 611us/step\n",
      "Epoch 76 - GE:11.144225, SR:0.2248842105263158 last trace rank:2\n",
      "313/313 [==============================] - 0s 875us/step\n",
      "Epoch 77 - GE:11.018907792207791, SR:0.2286961038961039 last trace rank:2\n",
      "313/313 [==============================] - 0s 558us/step\n",
      "Epoch 78 - GE:10.896861538461538, SR:0.23236410256410256 last trace rank:2\n",
      "313/313 [==============================] - 0s 563us/step\n",
      "Epoch 79 - GE:10.780188607594937, SR:0.23569873417721518 last trace rank:3\n",
      "313/313 [==============================] - 0s 765us/step\n",
      "Epoch 80 - GE:10.66500375, SR:0.2390475 last trace rank:2\n",
      "313/313 [==============================] - 0s 704us/step\n",
      "Epoch 81 - GE:10.553385185185185, SR:0.24250493827160494 last trace rank:3\n",
      "313/313 [==============================] - 0s 614us/step\n",
      "Epoch 82 - GE:10.44320243902439, SR:0.2455060975609756 last trace rank:2\n",
      "313/313 [==============================] - 0s 549us/step\n",
      "Epoch 83 - GE:10.33582891566265, SR:0.24849397590361447 last trace rank:3\n",
      "313/313 [==============================] - 0s 732us/step\n",
      "Epoch 84 - GE:10.231826190476191, SR:0.2513690476190476 last trace rank:3\n",
      "313/313 [==============================] - 0s 2ms/step\n",
      "Epoch 85 - GE:10.129089411764706, SR:0.25442470588235294 last trace rank:2\n",
      "313/313 [==============================] - 0s 1ms/step\n",
      "Epoch 86 - GE:10.031831395348837, SR:0.2572488372093023 last trace rank:4\n",
      "313/313 [==============================] - 0s 703us/step\n",
      "Epoch 87 - GE:9.93389540229885, SR:0.26031954022988507 last trace rank:3\n",
      "313/313 [==============================] - 0s 686us/step\n",
      "Epoch 88 - GE:9.839152272727272, SR:0.2628306818181818 last trace rank:3\n",
      "313/313 [==============================] - 0s 511us/step\n",
      "Epoch 89 - GE:9.746615730337078, SR:0.2652921348314607 last trace rank:3\n",
      "313/313 [==============================] - 0s 998us/step\n",
      "Epoch 90 - GE:9.65558888888889, SR:0.26788666666666666 last trace rank:3\n",
      "313/313 [==============================] - 0s 527us/step\n",
      "Epoch 91 - GE:9.566891208791208, SR:0.27032307692307694 last trace rank:3\n",
      "313/313 [==============================] - 0s 589us/step\n",
      "Epoch 92 - GE:9.479272826086957, SR:0.27291521739130437 last trace rank:2\n",
      "313/313 [==============================] - 0s 501us/step\n",
      "Epoch 93 - GE:9.394043010752688, SR:0.2751279569892473 last trace rank:3\n",
      "313/313 [==============================] - 0s 520us/step\n",
      "Epoch 94 - GE:9.312502127659574, SR:0.2767531914893617 last trace rank:3\n",
      "313/313 [==============================] - 0s 591us/step\n",
      "Epoch 95 - GE:9.230423157894737, SR:0.2791421052631579 last trace rank:2\n",
      "313/313 [==============================] - 0s 642us/step\n",
      "Epoch 96 - GE:9.15035, SR:0.28129166666666666 last trace rank:3\n",
      "313/313 [==============================] - 0s 617us/step\n",
      "Epoch 97 - GE:9.072586597938145, SR:0.2830319587628866 last trace rank:3\n",
      "313/313 [==============================] - 0s 986us/step\n",
      "Epoch 98 - GE:8.996997959183673, SR:0.2846326530612245 last trace rank:3\n",
      "313/313 [==============================] - 0s 917us/step\n",
      "Epoch 99 - GE:8.923189898989898, SR:0.2864161616161616 last trace rank:3\n",
      "313/313 [==============================] - 0s 1ms/step\n",
      "Epoch 100 - GE:8.850029, SR:0.288443 last trace rank:3\n",
      "313/313 [==============================] - 0s 839us/step\n",
      "Epoch 101 - GE:8.778869306930693, SR:0.29017722772277227 last trace rank:3\n",
      "313/313 [==============================] - 0s 909us/step\n",
      "Epoch 102 - GE:8.707379411764705, SR:0.2926107843137255 last trace rank:3\n",
      "313/313 [==============================] - 0s 803us/step\n",
      "Epoch 103 - GE:8.638039805825242, SR:0.2943640776699029 last trace rank:3\n",
      "313/313 [==============================] - 0s 676us/step\n",
      "Epoch 104 - GE:8.569834615384615, SR:0.29601634615384614 last trace rank:2\n",
      "313/313 [==============================] - 0s 1ms/step\n",
      "Epoch 105 - GE:8.502685714285715, SR:0.2979685714285714 last trace rank:2\n",
      "313/313 [==============================] - 0s 772us/step\n",
      "Epoch 106 - GE:8.436069811320754, SR:0.3007433962264151 last trace rank:2\n",
      "313/313 [==============================] - 0s 533us/step\n",
      "Epoch 107 - GE:8.370266355140187, SR:0.3038158878504673 last trace rank:2\n",
      "313/313 [==============================] - 0s 919us/step\n",
      "Epoch 108 - GE:8.304998148148147, SR:0.307387037037037 last trace rank:2\n",
      "313/313 [==============================] - 0s 983us/step\n",
      "Epoch 109 - GE:8.241076146788991, SR:0.31085045871559636 last trace rank:1\n",
      "313/313 [==============================] - 0s 612us/step\n",
      "Epoch 110 - GE:8.180446363636364, SR:0.31223727272727275 last trace rank:2\n",
      "313/313 [==============================] - 0s 513us/step\n",
      "Epoch 111 - GE:8.120147747747748, SR:0.3142306306306306 last trace rank:2\n",
      "313/313 [==============================] - 0s 549us/step\n",
      "Epoch 112 - GE:8.058222321428572, SR:0.3187785714285714 last trace rank:1\n",
      "313/313 [==============================] - 0s 504us/step\n",
      "Epoch 113 - GE:8.000337168141593, SR:0.32041946902654866 last trace rank:2\n",
      "313/313 [==============================] - 0s 504us/step\n",
      "Epoch 114 - GE:7.940358771929825, SR:0.32504035087719296 last trace rank:1\n",
      "313/313 [==============================] - 0s 502us/step\n",
      "Epoch 115 - GE:7.880571304347826, SR:0.33045478260869565 last trace rank:1\n",
      "313/313 [==============================] - 0s 990us/step\n",
      "Epoch 116 - GE:7.821706034482759, SR:0.3359258620689655 last trace rank:1\n",
      "313/313 [==============================] - 0s 579us/step\n",
      "Epoch 117 - GE:7.765723076923077, SR:0.3394350427350427 last trace rank:1\n",
      "313/313 [==============================] - 0s 595us/step\n",
      "Epoch 118 - GE:7.709024576271187, SR:0.3445322033898305 last trace rank:1\n",
      "313/313 [==============================] - 0s 584us/step\n",
      "Epoch 119 - GE:7.652896638655462, SR:0.349836974789916 last trace rank:1\n",
      "313/313 [==============================] - 0s 612us/step\n",
      "Epoch 120 - GE:7.5981016666666665, SR:0.3547516666666667 last trace rank:1\n",
      "313/313 [==============================] - 0s 522us/step\n",
      "Epoch 121 - GE:7.543950413223141, SR:0.3598909090909091 last trace rank:1\n",
      "313/313 [==============================] - 0s 654us/step\n",
      "Epoch 122 - GE:7.490933606557377, SR:0.36469262295081967 last trace rank:1\n",
      "313/313 [==============================] - 0s 631us/step\n",
      "Epoch 123 - GE:7.4385211382113825, SR:0.3696252032520325 last trace rank:1\n",
      "313/313 [==============================] - 0s 1ms/step\n",
      "Epoch 124 - GE:7.3868580645161295, SR:0.3745725806451613 last trace rank:1\n",
      "313/313 [==============================] - 0s 643us/step\n",
      "Epoch 125 - GE:7.33596, SR:0.3794512 last trace rank:1\n",
      "313/313 [==============================] - 0s 579us/step\n",
      "Epoch 126 - GE:7.286126984126984, SR:0.3841206349206349 last trace rank:1\n",
      "313/313 [==============================] - 0s 573us/step\n",
      "Epoch 127 - GE:7.236917322834645, SR:0.3888236220472441 last trace rank:1\n",
      "313/313 [==============================] - 0s 851us/step\n",
      "Epoch 128 - GE:7.18843359375, SR:0.39344765625 last trace rank:1\n",
      "313/313 [==============================] - 0s 571us/step\n",
      "Epoch 129 - GE:7.140797674418605, SR:0.3979178294573643 last trace rank:1\n",
      "313/313 [==============================] - 0s 504us/step\n",
      "Epoch 130 - GE:7.093928461538462, SR:0.40229230769230767 last trace rank:1\n",
      "313/313 [==============================] - 0s 707us/step\n",
      "Epoch 131 - GE:7.047789312977099, SR:0.4066702290076336 last trace rank:1\n",
      "313/313 [==============================] - 0s 511us/step\n",
      "Epoch 132 - GE:7.002212878787879, SR:0.41101666666666664 last trace rank:1\n",
      "313/313 [==============================] - 0s 532us/step\n",
      "Epoch 133 - GE:6.957453383458646, SR:0.4152766917293233 last trace rank:1\n",
      "313/313 [==============================] - 0s 521us/step\n",
      "Epoch 134 - GE:6.913358955223881, SR:0.41945746268656714 last trace rank:1\n",
      "313/313 [==============================] - 0s 879us/step\n",
      "Epoch 135 - GE:6.869874814814815, SR:0.4235888888888889 last trace rank:1\n",
      "313/313 [==============================] - 0s 733us/step\n",
      "Epoch 136 - GE:6.826939705882353, SR:0.4276904411764706 last trace rank:1\n",
      "313/313 [==============================] - 0s 624us/step\n",
      "Epoch 137 - GE:6.784659854014598, SR:0.4317321167883212 last trace rank:1\n",
      "313/313 [==============================] - 0s 661us/step\n",
      "Epoch 138 - GE:6.742976086956522, SR:0.43572971014492756 last trace rank:1\n",
      "313/313 [==============================] - 0s 776us/step\n",
      "Epoch 139 - GE:6.701891366906475, SR:0.439658273381295 last trace rank:1\n",
      "313/313 [==============================] - 0s 791us/step\n",
      "Epoch 140 - GE:6.661513571428571, SR:0.44351857142857143 last trace rank:1\n",
      "313/313 [==============================] - 0s 557us/step\n",
      "Epoch 141 - GE:6.621582978723405, SR:0.44732978723404254 last trace rank:1\n",
      "313/313 [==============================] - 0s 647us/step\n",
      "Epoch 142 - GE:6.582361267605634, SR:0.45105281690140847 last trace rank:1\n",
      "313/313 [==============================] - 0s 533us/step\n",
      "Epoch 143 - GE:6.54360979020979, SR:0.45475594405594405 last trace rank:1\n",
      "313/313 [==============================] - 0s 623us/step\n",
      "Epoch 144 - GE:6.505446527777778, SR:0.4583729166666667 last trace rank:1\n",
      "313/313 [==============================] - 0s 1ms/step\n",
      "Epoch 145 - GE:6.467762758620689, SR:0.46198 last trace rank:1\n",
      "313/313 [==============================] - 0s 583us/step\n",
      "Epoch 146 - GE:6.430517808219178, SR:0.4655342465753425 last trace rank:1\n",
      "313/313 [==============================] - 0s 534us/step\n",
      "Epoch 147 - GE:6.393825850340136, SR:0.46903537414965984 last trace rank:1\n",
      "313/313 [==============================] - 0s 536us/step\n",
      "Epoch 148 - GE:6.357599324324324, SR:0.47248445945945944 last trace rank:1\n",
      "313/313 [==============================] - 0s 507us/step\n",
      "Epoch 149 - GE:6.321924832214765, SR:0.4758825503355705 last trace rank:1\n",
      "313/313 [==============================] - 0s 551us/step\n",
      "Epoch 150 - GE:6.286824666666667, SR:0.4792013333333333 last trace rank:1\n",
      "313/313 [==============================] - 0s 810us/step\n",
      "Epoch 151 - GE:6.252072185430464, SR:0.48251390728476823 last trace rank:1\n",
      "313/313 [==============================] - 0s 600us/step\n",
      "Epoch 152 - GE:6.217691447368421, SR:0.4858078947368421 last trace rank:1\n",
      "313/313 [==============================] - 0s 782us/step\n",
      "Epoch 153 - GE:6.183890849673203, SR:0.48902222222222225 last trace rank:1\n",
      "313/313 [==============================] - 0s 1ms/step\n",
      "Epoch 154 - GE:6.150548051948052, SR:0.4921883116883117 last trace rank:1\n",
      "313/313 [==============================] - 0s 888us/step\n",
      "Epoch 155 - GE:6.1176329032258066, SR:0.49531806451612903 last trace rank:1\n",
      "313/313 [==============================] - 0s 549us/step\n",
      "Epoch 156 - GE:6.08506282051282, SR:0.49841089743589745 last trace rank:1\n",
      "313/313 [==============================] - 0s 646us/step\n",
      "Epoch 157 - GE:6.052929299363058, SR:0.501484076433121 last trace rank:1\n",
      "313/313 [==============================] - 0s 588us/step\n",
      "Epoch 158 - GE:6.021150632911392, SR:0.5045164556962025 last trace rank:1\n",
      "313/313 [==============================] - 0s 620us/step\n",
      "Epoch 159 - GE:5.989907547169811, SR:0.507474213836478 last trace rank:1\n",
      "313/313 [==============================] - 0s 781us/step\n",
      "Epoch 160 - GE:5.95897125, SR:0.5104175 last trace rank:1\n",
      "313/313 [==============================] - 0s 557us/step\n",
      "Epoch 161 - GE:5.928337888198758, SR:0.5133565217391305 last trace rank:1\n",
      "313/313 [==============================] - 0s 518us/step\n",
      "Epoch 162 - GE:5.898314197530865, SR:0.5161851851851852 last trace rank:1\n",
      "313/313 [==============================] - 0s 521us/step\n",
      "Epoch 163 - GE:5.868522699386503, SR:0.5190306748466258 last trace rank:1\n",
      "313/313 [==============================] - 0s 519us/step\n",
      "Epoch 164 - GE:5.839049390243902, SR:0.5218432926829268 last trace rank:1\n",
      "313/313 [==============================] - 0s 783us/step\n",
      "Epoch 165 - GE:5.8099842424242425, SR:0.5245927272727273 last trace rank:1\n",
      "313/313 [==============================] - 0s 1ms/step\n",
      "Epoch 166 - GE:5.781319277108434, SR:0.5273204819277109 last trace rank:1\n",
      "313/313 [==============================] - 0s 1ms/step\n",
      "Epoch 167 - GE:5.752998203592814, SR:0.530005988023952 last trace rank:1\n",
      "313/313 [==============================] - 0s 555us/step\n",
      "Epoch 168 - GE:5.725060119047619, SR:0.5326553571428572 last trace rank:1\n",
      "313/313 [==============================] - 0s 819us/step\n",
      "Epoch 169 - GE:5.697328994082841, SR:0.5352976331360947 last trace rank:1\n",
      "313/313 [==============================] - 0s 668us/step\n",
      "Epoch 170 - GE:5.6699247058823525, SR:0.5379205882352941 last trace rank:1\n",
      "313/313 [==============================] - 0s 510us/step\n",
      "Epoch 171 - GE:5.642959649122807, SR:0.5404730994152047 last trace rank:1\n",
      "313/313 [==============================] - 0s 592us/step\n",
      "Epoch 172 - GE:5.616225581395349, SR:0.5430052325581395 last trace rank:1\n",
      "313/313 [==============================] - 0s 1ms/step\n",
      "Epoch 173 - GE:5.589795953757226, SR:0.5455161849710982 last trace rank:1\n",
      "313/313 [==============================] - 0s 728us/step\n",
      "Epoch 174 - GE:5.56366091954023, SR:0.5479959770114943 last trace rank:1\n",
      "313/313 [==============================] - 0s 647us/step\n",
      "Epoch 175 - GE:5.537833142857143, SR:0.5504594285714286 last trace rank:1\n",
      "313/313 [==============================] - 0s 723us/step\n",
      "Epoch 176 - GE:5.5122931818181815, SR:0.5528909090909091 last trace rank:1\n",
      "313/313 [==============================] - 0s 1ms/step\n",
      "Epoch 177 - GE:5.48705988700565, SR:0.5552887005649717 last trace rank:1\n",
      "313/313 [==============================] - 0s 579us/step\n",
      "Epoch 178 - GE:5.46207191011236, SR:0.5576780898876404 last trace rank:1\n",
      "313/313 [==============================] - 0s 1ms/step\n",
      "Epoch 179 - GE:5.437308379888268, SR:0.5600480446927374 last trace rank:1\n",
      "313/313 [==============================] - 0s 505us/step\n",
      "Epoch 180 - GE:5.412836666666666, SR:0.5623872222222223 last trace rank:1\n",
      "313/313 [==============================] - 0s 547us/step\n",
      "Epoch 181 - GE:5.388759668508287, SR:0.564667955801105 last trace rank:1\n",
      "313/313 [==============================] - 0s 869us/step\n",
      "Epoch 182 - GE:5.364893956043956, SR:0.5669340659340659 last trace rank:1\n",
      "313/313 [==============================] - 0s 1ms/step\n",
      "Epoch 183 - GE:5.341305464480874, SR:0.5691819672131148 last trace rank:1\n",
      "313/313 [==============================] - 0s 525us/step\n",
      "Epoch 184 - GE:5.3179619565217395, SR:0.571408152173913 last trace rank:1\n",
      "313/313 [==============================] - 0s 541us/step\n",
      "Epoch 185 - GE:5.295012972972973, SR:0.573587027027027 last trace rank:1\n",
      "313/313 [==============================] - 0s 553us/step\n",
      "Epoch 186 - GE:5.272216666666667, SR:0.5757532258064516 last trace rank:1\n",
      "313/313 [==============================] - 0s 510us/step\n",
      "Epoch 187 - GE:5.249564705882353, SR:0.5779288770053476 last trace rank:1\n",
      "313/313 [==============================] - 0s 1ms/step\n",
      "Epoch 188 - GE:5.227238297872341, SR:0.5800553191489362 last trace rank:1\n",
      "313/313 [==============================] - 0s 686us/step\n",
      "Epoch 189 - GE:5.2051592592592595, SR:0.5821730158730158 last trace rank:1\n",
      "313/313 [==============================] - 0s 648us/step\n",
      "Epoch 190 - GE:5.183243157894736, SR:0.5842626315789474 last trace rank:1\n",
      "313/313 [==============================] - 0s 562us/step\n",
      "Epoch 191 - GE:5.16161884816754, SR:0.5863424083769634 last trace rank:1\n",
      "313/313 [==============================] - 0s 582us/step\n",
      "Epoch 192 - GE:5.1402302083333336, SR:0.5883755208333333 last trace rank:1\n",
      "313/313 [==============================] - 0s 536us/step\n",
      "Epoch 193 - GE:5.119016062176166, SR:0.5904051813471503 last trace rank:1\n",
      "313/313 [==============================] - 0s 510us/step\n",
      "Epoch 194 - GE:5.098056701030928, SR:0.5924046391752578 last trace rank:1\n",
      "313/313 [==============================] - 0s 881us/step\n",
      "Epoch 195 - GE:5.077201538461538, SR:0.5944128205128205 last trace rank:1\n",
      "313/313 [==============================] - 0s 915us/step\n",
      "Epoch 196 - GE:5.056663265306122, SR:0.596386224489796 last trace rank:1\n",
      "313/313 [==============================] - 0s 663us/step\n",
      "Epoch 197 - GE:5.0363, SR:0.5983477157360406 last trace rank:1\n",
      "313/313 [==============================] - 0s 705us/step\n",
      "Epoch 198 - GE:5.0161378787878785, SR:0.6002868686868686 last trace rank:1\n",
      "313/313 [==============================] - 0s 796us/step\n",
      "Epoch 199 - GE:4.996114572864322, SR:0.6022201005025125 last trace rank:1\n",
      "313/313 [==============================] - 0s 537us/step\n",
      "Epoch 200 - GE:4.9762975, SR:0.604129 last trace rank:1\n"
     ]
    }
   ],
   "source": [
    "result = model.fit(train_trace2,train_sbox_out,  # 波形データとラベルデータ\n",
    "                        batch_size=100,\n",
    "                        epochs=200,     # エポック数の指定\n",
    "                        validation_data=(test_trace2,test_sbox_out),\n",
    "                        callbacks=[CustomCallback(test_trace2, test_sbox_out, TARGET_BYTE, rank_save_dir)],\n",
    "                       verbose = 0\n",
    "                        )"
   ]
  },
  {
   "cell_type": "code",
   "execution_count": 41,
   "id": "6046cacc-c113-4d28-a396-1f6ac047ce80",
   "metadata": {},
   "outputs": [
    {
     "data": {
      "text/plain": [
       "Text(0.5, 1.0, 'target_3byte')"
      ]
     },
     "execution_count": 41,
     "metadata": {},
     "output_type": "execute_result"
    },
    {
     "data": {
      "image/png": "[encoded data removed]",
      "text/plain": [
       "<Figure size 640x480 with 1 Axes>"
      ]
     },
     "metadata": {},
     "output_type": "display_data"
    }
   ],
   "source": [
    "plt.figure()\n",
    "plt.plot(rank)\n",
    "plt.xlabel('wave')\n",
    "plt.ylabel('rank')\n",
    "plt.title('target_{}byte'.format(TARGET_BYTE))"
   ]
  },
  {
   "cell_type": "code",
   "execution_count": 42,
   "id": "2424f0e9-aeb6-4019-96d4-781817c5eb1d",
   "metadata": {},
   "outputs": [
    {
     "data": {
      "text/plain": [
       "[<matplotlib.lines.Line2D at 0x7f443c1608b0>]"
      ]
     },
     "execution_count": 42,
     "metadata": {},
     "output_type": "execute_result"
    },
    {
     "data": {
      "image/png": "[encoded data removed]",
      "text/plain": [
       "<Figure size 640x480 with 1 Axes>"
      ]
     },
     "metadata": {},
     "output_type": "display_data"
    }
   ],
   "source": [
    "plt.plot(result.history['accuracy'])\n",
    "plt.plot(result.history['val_accuracy'])"
   ]
  },
  {
   "cell_type": "code",
   "execution_count": 43,
   "id": "e451185f-02ab-411d-bf49-d3296a7191f2",
   "metadata": {},
   "outputs": [
    {
     "name": "stdout",
     "output_type": "stream",
     "text": [
      "313/313 [==============================] - 0s 525us/step\n"
     ]
    },
    {
     "data": {
      "text/plain": [
       "TensorShape([10000, 256])"
      ]
     },
     "execution_count": 43,
     "metadata": {},
     "output_type": "execute_result"
    }
   ],
   "source": [
    "predicts = model.predict(attack_trace2)\n",
    "predicts = tf.nn.softmax(predicts)\n",
    "predicts.shape"
   ]
  },
  {
   "cell_type": "code",
   "execution_count": 44,
   "id": "171fe85f-19ea-4a2f-a3a4-1b90227198b0",
   "metadata": {},
   "outputs": [],
   "source": [
    "attack_plain=attack_metadata['plaintext']"
   ]
  },
  {
   "cell_type": "code",
   "execution_count": 45,
   "id": "2d5e15e2-31dd-4267-b981-b2edd4cf11a8",
   "metadata": {},
   "outputs": [],
   "source": [
    "attack_sbox_in = []\n",
    "for estimated_key in range(256): #256通りの推定鍵だけ繰り返す。\n",
    "    attack_sbox_in.append(attack_plain^np.array([estimated_key]*16)) #平文と推定鍵のXORがSbox(SubBytes)入力\n",
    "attack_sbox_in = np.array(attack_sbox_in)\n",
    "attack_sbox_out = np.array([AES_Sbox[i] for i in attack_sbox_in])\n",
    "attack_sbox_out = attack_sbox_out[:,:,TARGET_BYTE]"
   ]
  },
  {
   "cell_type": "code",
   "execution_count": 46,
   "id": "22232155-0e03-4c2b-bebb-d6352077e3ce",
   "metadata": {},
   "outputs": [],
   "source": [
    "attack_sbox_out = attack_sbox_out[:,50000:] #全体の内, 最後の10000を攻撃に使用"
   ]
  },
  {
   "cell_type": "code",
   "execution_count": 47,
   "id": "eb0d2802-cddb-4ebf-af90-a705e0fa715d",
   "metadata": {},
   "outputs": [],
   "source": [
    "result2 = np.ones(256) /256\n",
    "rank = []\n",
    "attack_sbox_out = np.array(attack_sbox_out)\n",
    "pred = predicts.numpy()\n",
    "\n",
    "for i in range(len(predicts)):\n",
    "    result2 *= pred[i, attack_sbox_out[:, i]]\n",
    "    result2 = result2 /np.sum(result2)\n",
    "    rank.append(list(np.argsort(result2)[::-1]).index(attack_key[0][TARGET_BYTE])+1)\n",
    "    "
   ]
  },
  {
   "cell_type": "code",
   "execution_count": 48,
   "id": "43af2af3-4373-4400-a10d-165218145f21",
   "metadata": {},
   "outputs": [
    {
     "data": {
      "text/plain": [
       "Text(0.5, 1.0, 'target_3byte')"
      ]
     },
     "execution_count": 48,
     "metadata": {},
     "output_type": "execute_result"
    },
    {
     "data": {
      "image/png": "[encoded data removed]",
      "text/plain": [
       "<Figure size 640x480 with 1 Axes>"
      ]
     },
     "metadata": {},
     "output_type": "display_data"
    }
   ],
   "source": [
    "rank_lim = rank[0:10000]\n",
    "plt.figure()\n",
    "plt.plot(rank_lim)\n",
    "plt.xlabel('wave')\n",
    "plt.ylabel('rank')\n",
    "plt.title('target_{}byte'.format(TARGET_BYTE))"
   ]
  },
  {
   "cell_type": "code",
   "execution_count": 49,
   "id": "65a3bb2d-d6f4-46fb-8556-d2418cfa34ec",
   "metadata": {},
   "outputs": [],
   "source": [
    "TARGET_BYTE = 4 #何バイト目を攻撃するか決める"
   ]
  },
  {
   "cell_type": "code",
   "execution_count": 50,
   "id": "67a5989c-8ca2-4104-9a2a-843d71b72ba6",
   "metadata": {},
   "outputs": [],
   "source": [
    "AES_Sbox = np.array([\n",
    "\t\t\t0x63, 0x7C, 0x77, 0x7B, 0xF2, 0x6B, 0x6F, 0xC5, 0x30, 0x01, 0x67, 0x2B, 0xFE, 0xD7, 0xAB, 0x76,\n",
    "\t\t\t0xCA, 0x82, 0xC9, 0x7D, 0xFA, 0x59, 0x47, 0xF0, 0xAD, 0xD4, 0xA2, 0xAF, 0x9C, 0xA4, 0x72, 0xC0,\n",
    "\t\t\t0xB7, 0xFD, 0x93, 0x26, 0x36, 0x3F, 0xF7, 0xCC, 0x34, 0xA5, 0xE5, 0xF1, 0x71, 0xD8, 0x31, 0x15,\n",
    "\t\t\t0x04, 0xC7, 0x23, 0xC3, 0x18, 0x96, 0x05, 0x9A, 0x07, 0x12, 0x80, 0xE2, 0xEB, 0x27, 0xB2, 0x75,\n",
    "\t\t\t0x09, 0x83, 0x2C, 0x1A, 0x1B, 0x6E, 0x5A, 0xA0, 0x52, 0x3B, 0xD6, 0xB3, 0x29, 0xE3, 0x2F, 0x84,\n",
    "\t\t\t0x53, 0xD1, 0x00, 0xED, 0x20, 0xFC, 0xB1, 0x5B, 0x6A, 0xCB, 0xBE, 0x39, 0x4A, 0x4C, 0x58, 0xCF,\n",
    "\t\t\t0xD0, 0xEF, 0xAA, 0xFB, 0x43, 0x4D, 0x33, 0x85, 0x45, 0xF9, 0x02, 0x7F, 0x50, 0x3C, 0x9F, 0xA8,\n",
    "\t\t\t0x51, 0xA3, 0x40, 0x8F, 0x92, 0x9D, 0x38, 0xF5, 0xBC, 0xB6, 0xDA, 0x21, 0x10, 0xFF, 0xF3, 0xD2,\n",
    "\t\t\t0xCD, 0x0C, 0x13, 0xEC, 0x5F, 0x97, 0x44, 0x17, 0xC4, 0xA7, 0x7E, 0x3D, 0x64, 0x5D, 0x19, 0x73,\n",
    "\t\t\t0x60, 0x81, 0x4F, 0xDC, 0x22, 0x2A, 0x90, 0x88, 0x46, 0xEE, 0xB8, 0x14, 0xDE, 0x5E, 0x0B, 0xDB,\n",
    "\t\t\t0xE0, 0x32, 0x3A, 0x0A, 0x49, 0x06, 0x24, 0x5C, 0xC2, 0xD3, 0xAC, 0x62, 0x91, 0x95, 0xE4, 0x79,\n",
    "\t\t\t0xE7, 0xC8, 0x37, 0x6D, 0x8D, 0xD5, 0x4E, 0xA9, 0x6C, 0x56, 0xF4, 0xEA, 0x65, 0x7A, 0xAE, 0x08,\n",
    "\t\t\t0xBA, 0x78, 0x25, 0x2E, 0x1C, 0xA6, 0xB4, 0xC6, 0xE8, 0xDD, 0x74, 0x1F, 0x4B, 0xBD, 0x8B, 0x8A,\n",
    "\t\t\t0x70, 0x3E, 0xB5, 0x66, 0x48, 0x03, 0xF6, 0x0E, 0x61, 0x35, 0x57, 0xB9, 0x86, 0xC1, 0x1D, 0x9E,\n",
    "\t\t\t0xE1, 0xF8, 0x98, 0x11, 0x69, 0xD9, 0x8E, 0x94, 0x9B, 0x1E, 0x87, 0xE9, 0xCE, 0x55, 0x28, 0xDF,\n",
    "\t\t\t0x8C, 0xA1, 0x89, 0x0D, 0xBF, 0xE6, 0x42, 0x68, 0x41, 0x99, 0x2D, 0x0F, 0xB0, 0x54, 0xBB, 0x16\n",
    "\t\t\t])"
   ]
  },
  {
   "cell_type": "code",
   "execution_count": 51,
   "id": "7fbd6696-d269-4cb0-8729-fb5f168d5472",
   "metadata": {},
   "outputs": [],
   "source": [
    "data_train = h5py.File('ATMega8515_raw_traces.h5', 'r')\n",
    "data_test = h5py.File('ATMega8515_raw_traces.h5', 'r')\n",
    "data_attack = h5py.File('ATMega8515_raw_traces.h5', 'r')"
   ]
  },
  {
   "cell_type": "code",
   "execution_count": 52,
   "id": "55fc3bcc-ebc9-400f-b75d-19e0d35d6c05",
   "metadata": {},
   "outputs": [],
   "source": [
    "train_metadata=data_train['metadata']\n",
    "train_plain = train_metadata['plaintext']\n",
    "train_cipher = train_metadata['ciphertext']\n",
    "train_key = train_metadata['key']\n",
    "train_mask = train_metadata['masks']\n",
    "train_trace = data_train['traces']\n",
    "\n",
    "test_metadata=data_test['metadata']\n",
    "test_plain = test_metadata['plaintext']\n",
    "test_cipher = test_metadata['ciphertext']\n",
    "test_key = test_metadata['key']\n",
    "test_mask = test_metadata['masks']\n",
    "test_trace = data_train['traces']\n",
    "\n",
    "attack_metadata=data_attack['metadata']\n",
    "attack_plain = attack_metadata['plaintext']\n",
    "attack_cipher = attack_metadata['ciphertext']\n",
    "attack_key = attack_metadata['key']\n",
    "attack_mask = attack_metadata['masks']\n",
    "attack_trace = data_train['traces']"
   ]
  },
  {
   "cell_type": "code",
   "execution_count": 53,
   "id": "cccf4a12-65ea-452e-b96f-60e191830d6d",
   "metadata": {},
   "outputs": [
    {
     "name": "stdout",
     "output_type": "stream",
     "text": [
      "(60000,) (60000, 100000) (60000, 16) (60000, 16) (60000, 16) (60000, 16)\n"
     ]
    }
   ],
   "source": [
    "print(train_metadata.shape, train_trace.shape, train_plain.shape, train_cipher.shape, train_key.shape, train_mask.shape)"
   ]
  },
  {
   "cell_type": "code",
   "execution_count": 54,
   "id": "8aab65c2-7b22-4751-b2e1-20a29d04123c",
   "metadata": {},
   "outputs": [],
   "source": [
    "keys=np.array([0x4D,0xFB,0xE0,0xF2,0x72,0x21,0xFE,0x10,0xA7,0x8D,0x4A,0xDC,0x8E,0x49,0x04,0x69])"
   ]
  },
  {
   "cell_type": "code",
   "execution_count": 55,
   "id": "4d7f4609-12f0-4506-ac86-b7c90fe66748",
   "metadata": {},
   "outputs": [
    {
     "data": {
      "text/plain": [
       "(45000, 700)"
      ]
     },
     "execution_count": 55,
     "metadata": {},
     "output_type": "execute_result"
    }
   ],
   "source": [
    "train_trace = train_trace[0:45000, 47482:48182]\n",
    "test_trace = test_trace[45000:50000, 47482:48182]\n",
    "attack_trace = attack_trace[50000:60000, 47482:48182]\n",
    "train_plain = train_plain[0:45000, :]\n",
    "test_plain = test_plain[45000:50000, :]\n",
    "train_trace2 = train_trace\n",
    "test_trace2 = test_trace\n",
    "attack_trace2 = attack_trace\n",
    "train_trace.shape"
   ]
  },
  {
   "cell_type": "code",
   "execution_count": 56,
   "id": "0566402d-0828-4ffa-8de2-41dd3b7c1b11",
   "metadata": {},
   "outputs": [],
   "source": [
    "train_key = train_key[0:45000,:]\n",
    "train_sbox_in = []\n",
    "train_sbox_in = np.array(train_plain^train_key) #平文と鍵のXORがSbox(SubBytes)入力\n",
    "train_sbox_out = np.array([AES_Sbox[i] for i in train_sbox_in])"
   ]
  },
  {
   "cell_type": "code",
   "execution_count": 57,
   "id": "6fdb5ed9-99e9-4e84-8ced-2e3ce3f72932",
   "metadata": {},
   "outputs": [],
   "source": [
    "test_key = test_key[0:5000,:]\n",
    "test_sbox_in = []\n",
    "test_sbox_in = np.array(test_plain^np.array(test_key)) #平文と鍵のXORがSbox(SubBytes)入力\n",
    "test_sbox_out = np.array([AES_Sbox[i] for i in test_sbox_in])"
   ]
  },
  {
   "cell_type": "code",
   "execution_count": 58,
   "id": "d14dbcad-e9d5-4dc4-9be4-fd3b8c9839ee",
   "metadata": {},
   "outputs": [],
   "source": [
    "train_sbox_out = train_sbox_out[:,TARGET_BYTE]\n",
    "test_sbox_out = test_sbox_out[:,TARGET_BYTE]"
   ]
  },
  {
   "cell_type": "code",
   "execution_count": 59,
   "id": "54942fef-4398-4c42-ad29-c1cefb0000bc",
   "metadata": {},
   "outputs": [],
   "source": [
    "#波形データの標準化(データを平均で引いて標準偏差で割る)\n",
    "train_trace2 = (train_trace2 -np.mean(train_trace2, axis = 0))/np.std(train_trace2, axis = 0)\n",
    "\n",
    "test_trace2 = (test_trace2 - np.mean(test_trace2, axis = 0))/np.std(test_trace2, axis = 0)\n",
    "\n",
    "attack_trace2 = (attack_trace2 - np.mean(attack_trace2, axis = 0))/np.std(attack_trace2, axis = 0)\n",
    "\n",
    "#DeepLearningできるshapeに変更\n",
    "train_trace2 = train_trace2.reshape(45000,700,1)\n",
    "\n",
    "test_trace2 = test_trace2.reshape(5000,700,1)\n",
    "\n",
    "attack_trace2 = attack_trace2.reshape(10000,700,1)"
   ]
  },
  {
   "cell_type": "code",
   "execution_count": 60,
   "id": "13dee843-4cd2-4681-96e3-9d530b2c5793",
   "metadata": {},
   "outputs": [],
   "source": [
    "def mlp_best(node=200,layer_nb=6,input_dim=700):\n",
    "\tmodel = Sequential()\n",
    "\tmodel.add(Dense(node, input_dim=input_dim, activation='relu'))\n",
    "\tfor i in range(layer_nb-2):\n",
    "\t\tmodel.add(Dense(node, activation='relu'))\n",
    "\tmodel.add(Dense(256))\n",
    "\toptimizer = RMSprop(learning_rate=0.00001)\n",
    "\tloss_fn = tf.keras.losses.SparseCategoricalCrossentropy(from_logits=True)\n",
    "\t# model.compile(loss='categorical_crossentropy', optimizer=optimizer, metrics=['accuracy'])\n",
    "\tmodel.compile(loss=loss_fn, optimizer=optimizer, metrics=['accuracy'])\n",
    "\treturn model"
   ]
  },
  {
   "cell_type": "code",
   "execution_count": 61,
   "id": "2eb19ac8-9341-4a7c-be44-f2b4541ce034",
   "metadata": {},
   "outputs": [],
   "source": [
    "mlp_best()\n",
    "model=mlp_best(node=200,layer_nb=6,input_dim=700)"
   ]
  },
  {
   "cell_type": "code",
   "execution_count": 62,
   "id": "4d03081f-8978-4899-8a6b-489ef24fd037",
   "metadata": {},
   "outputs": [],
   "source": [
    "rank = []\n",
    "class CustomCallback(tf.keras.callbacks.Callback):\n",
    "    def __init__(self, test_trace2 , label, TARGET_BYTE, rank_save_dir, *args, **kwargs):\n",
    "        super().__init__(*args, **kwargs)\n",
    "        self.data_test = test_trace2\n",
    "        self.label = label.T\n",
    "        self.target_byte = TARGET_BYTE\n",
    "        self.save_dir = rank_save_dir\n",
    "    def on_epoch_end(self, epoch, logs=None):\n",
    "        predicts = model.predict(attack_trace2)\n",
    "        predicts = tf.nn.softmax(predicts)\n",
    "        attack_plain=attack_metadata['plaintext']\n",
    "        attack_sbox_in = []\n",
    "        for estimated_key in range(256): #256通りの推定鍵だけ繰り返す。\n",
    "            attack_sbox_in.append(attack_plain^np.array([estimated_key]*16)) #平文と推定鍵のXORがSbox(SubBytes)入力\n",
    "        attack_sbox_in = np.array(attack_sbox_in)\n",
    "        attack_sbox_out = np.array([AES_Sbox[i] for i in attack_sbox_in])\n",
    "        attack_sbox_out = attack_sbox_out[:,:,TARGET_BYTE]\n",
    "        attack_sbox_out = attack_sbox_out[:,50000:] #全体の内, 最後の10000を攻撃に使用\n",
    "        result = np.ones(256) /256\n",
    "        attack_sbox_out = np.array(attack_sbox_out)\n",
    "        pred = predicts.numpy()\n",
    "\n",
    "        for i in range(len(predicts)):\n",
    "            result *= pred[i, attack_sbox_out[:, i]]\n",
    "            result = result /np.sum(result)\n",
    "            rank.append(list(np.argsort(result)[::-1]).index(attack_key[0][TARGET_BYTE])+1)\n",
    "        \n",
    "        np.save(self.save_dir + f'/rank_result_{epoch+1}', np.array(rank))\n",
    "        print(f'Epoch {epoch+1} - GE:{np.mean(rank)}, SR:{np.sum(np.array(rank)==1)/len(rank)} last trace rank:{rank[-1]}')\n"
   ]
  },
  {
   "cell_type": "code",
   "execution_count": 63,
   "id": "902ae4d2-1ae3-4981-8a89-ed858fda792e",
   "metadata": {},
   "outputs": [],
   "source": [
    "rank_save_dir = f\"./save_file/fixed2_lr0.001_target_byte_{TARGET_BYTE}/rank_save/\"\n",
    "os.makedirs(rank_save_dir, exist_ok=True)"
   ]
  },
  {
   "cell_type": "code",
   "execution_count": 64,
   "id": "bc242f2d-ec6d-4a7a-9072-5139ba7cd6f0",
   "metadata": {},
   "outputs": [
    {
     "name": "stdout",
     "output_type": "stream",
     "text": [
      "313/313 [==============================] - 0s 515us/step\n",
      "Epoch 1 - GE:32.0812, SR:0.3043 last trace rank:1\n",
      "313/313 [==============================] - 0s 569us/step\n",
      "Epoch 2 - GE:29.0973, SR:0.25155 last trace rank:1\n",
      "313/313 [==============================] - 0s 561us/step\n",
      "Epoch 3 - GE:27.077933333333334, SR:0.20403333333333334 last trace rank:2\n",
      "313/313 [==============================] - 0s 587us/step\n",
      "Epoch 4 - GE:25.927625, SR:0.1717 last trace rank:2\n",
      "313/313 [==============================] - 0s 728us/step\n",
      "Epoch 5 - GE:24.59784, SR:0.1612 last trace rank:2\n",
      "313/313 [==============================] - 0s 506us/step\n",
      "Epoch 6 - GE:23.703833333333332, SR:0.14156666666666667 last trace rank:2\n",
      "313/313 [==============================] - 0s 557us/step\n",
      "Epoch 7 - GE:23.298671428571428, SR:0.12315714285714285 last trace rank:2\n",
      "313/313 [==============================] - 0s 889us/step\n",
      "Epoch 8 - GE:22.6743875, SR:0.1113625 last trace rank:2\n",
      "313/313 [==============================] - 0s 608us/step\n",
      "Epoch 9 - GE:22.618111111111112, SR:0.0995111111111111 last trace rank:2\n",
      "313/313 [==============================] - 0s 514us/step\n",
      "Epoch 10 - GE:22.49976, SR:0.08971 last trace rank:2\n",
      "313/313 [==============================] - 0s 528us/step\n",
      "Epoch 11 - GE:22.382790909090907, SR:0.0836909090909091 last trace rank:2\n",
      "313/313 [==============================] - 0s 505us/step\n",
      "Epoch 12 - GE:22.317883333333334, SR:0.079325 last trace rank:2\n",
      "313/313 [==============================] - 0s 726us/step\n",
      "Epoch 13 - GE:22.217284615384614, SR:0.07726923076923077 last trace rank:2\n",
      "313/313 [==============================] - 0s 545us/step\n",
      "Epoch 14 - GE:22.098014285714285, SR:0.07718571428571429 last trace rank:2\n",
      "313/313 [==============================] - 0s 1ms/step\n",
      "Epoch 15 - GE:21.90851333333333, SR:0.07878 last trace rank:1\n",
      "313/313 [==============================] - 0s 585us/step\n",
      "Epoch 16 - GE:21.8358875, SR:0.07898125 last trace rank:1\n",
      "313/313 [==============================] - 0s 514us/step\n",
      "Epoch 17 - GE:21.690776470588236, SR:0.07932352941176471 last trace rank:1\n",
      "313/313 [==============================] - 0s 748us/step\n",
      "Epoch 18 - GE:21.442527777777777, SR:0.08013888888888888 last trace rank:1\n",
      "313/313 [==============================] - 0s 533us/step\n",
      "Epoch 19 - GE:21.364884210526316, SR:0.08142105263157895 last trace rank:1\n",
      "313/313 [==============================] - 0s 1ms/step\n",
      "Epoch 20 - GE:21.25716, SR:0.0821 last trace rank:1\n",
      "313/313 [==============================] - 0s 714us/step\n",
      "Epoch 21 - GE:21.120790476190475, SR:0.08261428571428571 last trace rank:1\n",
      "313/313 [==============================] - 0s 503us/step\n",
      "Epoch 22 - GE:21.00350909090909, SR:0.08246818181818182 last trace rank:1\n",
      "313/313 [==============================] - 0s 624us/step\n",
      "Epoch 23 - GE:21.05353043478261, SR:0.08139130434782609 last trace rank:1\n",
      "313/313 [==============================] - 0s 883us/step\n",
      "Epoch 24 - GE:21.09936666666667, SR:0.08071666666666667 last trace rank:1\n",
      "313/313 [==============================] - 0s 767us/step\n",
      "Epoch 25 - GE:21.06826, SR:0.079856 last trace rank:1\n",
      "313/313 [==============================] - 0s 574us/step\n",
      "Epoch 26 - GE:21.027819230769232, SR:0.07968076923076924 last trace rank:1\n",
      "313/313 [==============================] - 0s 684us/step\n",
      "Epoch 27 - GE:21.0323, SR:0.0783 last trace rank:1\n",
      "313/313 [==============================] - 0s 548us/step\n",
      "Epoch 28 - GE:21.035889285714287, SR:0.077675 last trace rank:1\n",
      "313/313 [==============================] - 0s 578us/step\n",
      "Epoch 29 - GE:21.116675862068966, SR:0.077 last trace rank:1\n",
      "313/313 [==============================] - 0s 1ms/step\n",
      "Epoch 30 - GE:21.189073333333333, SR:0.07549666666666667 last trace rank:2\n",
      "313/313 [==============================] - 0s 497us/step\n",
      "Epoch 31 - GE:21.24778387096774, SR:0.07423225806451612 last trace rank:2\n",
      "313/313 [==============================] - 0s 551us/step\n",
      "Epoch 32 - GE:21.32093125, SR:0.073396875 last trace rank:1\n",
      "313/313 [==============================] - 0s 543us/step\n",
      "Epoch 33 - GE:21.414745454545454, SR:0.0720060606060606 last trace rank:2\n",
      "313/313 [==============================] - 0s 839us/step\n",
      "Epoch 34 - GE:21.45329117647059, SR:0.07116176470588235 last trace rank:1\n",
      "313/313 [==============================] - 0s 616us/step\n",
      "Epoch 35 - GE:21.57022, SR:0.06986285714285714 last trace rank:2\n",
      "313/313 [==============================] - 0s 603us/step\n",
      "Epoch 36 - GE:21.609655555555555, SR:0.06897222222222223 last trace rank:2\n",
      "313/313 [==============================] - 0s 623us/step\n",
      "Epoch 37 - GE:21.64434864864865, SR:0.06847837837837838 last trace rank:1\n",
      "313/313 [==============================] - 0s 732us/step\n",
      "Epoch 38 - GE:21.618444736842104, SR:0.06806315789473684 last trace rank:1\n",
      "313/313 [==============================] - 0s 607us/step\n",
      "Epoch 39 - GE:21.646097435897435, SR:0.06787948717948718 last trace rank:1\n",
      "313/313 [==============================] - 0s 1ms/step\n",
      "Epoch 40 - GE:21.6504025, SR:0.06741 last trace rank:1\n",
      "313/313 [==============================] - 0s 525us/step\n",
      "Epoch 41 - GE:21.655531707317074, SR:0.06720975609756097 last trace rank:1\n",
      "313/313 [==============================] - 0s 649us/step\n",
      "Epoch 42 - GE:21.64475, SR:0.06668333333333333 last trace rank:1\n",
      "313/313 [==============================] - 0s 964us/step\n",
      "Epoch 43 - GE:21.593958139534884, SR:0.06667906976744185 last trace rank:1\n",
      "313/313 [==============================] - 0s 861us/step\n",
      "Epoch 44 - GE:21.49831818181818, SR:0.06682272727272727 last trace rank:1\n",
      "313/313 [==============================] - 0s 879us/step\n",
      "Epoch 45 - GE:21.42387777777778, SR:0.06692888888888888 last trace rank:1\n",
      "313/313 [==============================] - 0s 1ms/step\n",
      "Epoch 46 - GE:21.314465217391305, SR:0.06760869565217391 last trace rank:1\n",
      "313/313 [==============================] - 0s 685us/step\n",
      "Epoch 47 - GE:21.202102127659575, SR:0.06881276595744681 last trace rank:1\n",
      "313/313 [==============================] - 0s 1ms/step\n",
      "Epoch 48 - GE:21.0960375, SR:0.07001875 last trace rank:1\n",
      "313/313 [==============================] - 0s 829us/step\n",
      "Epoch 49 - GE:20.937938775510204, SR:0.07334081632653061 last trace rank:1\n",
      "313/313 [==============================] - 0s 521us/step\n",
      "Epoch 50 - GE:20.768896, SR:0.077186 last trace rank:1\n",
      "313/313 [==============================] - 0s 578us/step\n",
      "Epoch 51 - GE:20.613654901960786, SR:0.08154117647058824 last trace rank:1\n",
      "313/313 [==============================] - 0s 557us/step\n",
      "Epoch 52 - GE:20.432882692307693, SR:0.08631346153846153 last trace rank:1\n",
      "313/313 [==============================] - 0s 823us/step\n",
      "Epoch 53 - GE:20.267058490566036, SR:0.09093207547169811 last trace rank:1\n",
      "313/313 [==============================] - 0s 769us/step\n",
      "Epoch 54 - GE:20.092377777777777, SR:0.0961037037037037 last trace rank:1\n",
      "313/313 [==============================] - 0s 1ms/step\n",
      "Epoch 55 - GE:19.89742, SR:0.10138 last trace rank:1\n",
      "313/313 [==============================] - 0s 537us/step\n",
      "Epoch 56 - GE:19.69140535714286, SR:0.10696785714285714 last trace rank:1\n",
      "313/313 [==============================] - 0s 765us/step\n",
      "Epoch 57 - GE:19.50459649122807, SR:0.11317543859649123 last trace rank:1\n",
      "313/313 [==============================] - 0s 526us/step\n",
      "Epoch 58 - GE:19.317555172413794, SR:0.11863793103448275 last trace rank:1\n",
      "313/313 [==============================] - 0s 545us/step\n",
      "Epoch 59 - GE:19.128989830508473, SR:0.1246135593220339 last trace rank:1\n",
      "313/313 [==============================] - 0s 961us/step\n",
      "Epoch 60 - GE:18.939156666666666, SR:0.13049833333333333 last trace rank:1\n",
      "313/313 [==============================] - 0s 573us/step\n",
      "Epoch 61 - GE:18.744408196721313, SR:0.13651475409836067 last trace rank:1\n",
      "313/313 [==============================] - 0s 615us/step\n",
      "Epoch 62 - GE:18.54298870967742, SR:0.14293225806451612 last trace rank:1\n",
      "313/313 [==============================] - 0s 962us/step\n",
      "Epoch 63 - GE:18.344090476190477, SR:0.15064126984126985 last trace rank:1\n",
      "313/313 [==============================] - 0s 934us/step\n",
      "Epoch 64 - GE:18.148971875, SR:0.1577125 last trace rank:1\n",
      "313/313 [==============================] - 0s 1ms/step\n",
      "Epoch 65 - GE:17.95814, SR:0.1651876923076923 last trace rank:1\n",
      "313/313 [==============================] - 0s 517us/step\n",
      "Epoch 66 - GE:17.76318787878788, SR:0.17337878787878788 last trace rank:1\n",
      "313/313 [==============================] - 0s 1ms/step\n",
      "Epoch 67 - GE:17.583019402985073, SR:0.18104477611940298 last trace rank:1\n",
      "313/313 [==============================] - 0s 897us/step\n",
      "Epoch 68 - GE:17.3942, SR:0.18928970588235294 last trace rank:1\n",
      "313/313 [==============================] - 0s 533us/step\n",
      "Epoch 69 - GE:17.205136231884058, SR:0.19819130434782609 last trace rank:1\n",
      "313/313 [==============================] - 0s 593us/step\n",
      "Epoch 70 - GE:17.02154, SR:0.20668 last trace rank:1\n",
      "313/313 [==============================] - 0s 499us/step\n",
      "Epoch 71 - GE:16.843266197183098, SR:0.21502394366197183 last trace rank:1\n",
      "313/313 [==============================] - 0s 560us/step\n",
      "Epoch 72 - GE:16.67141527777778, SR:0.22293888888888888 last trace rank:1\n",
      "313/313 [==============================] - 0s 623us/step\n",
      "Epoch 73 - GE:16.49802191780822, SR:0.23092876712328766 last trace rank:1\n",
      "313/313 [==============================] - 0s 553us/step\n",
      "Epoch 74 - GE:16.328244594594594, SR:0.23872027027027026 last trace rank:1\n",
      "313/313 [==============================] - 0s 775us/step\n",
      "Epoch 75 - GE:16.160493333333335, SR:0.24641733333333332 last trace rank:1\n",
      "313/313 [==============================] - 0s 765us/step\n",
      "Epoch 76 - GE:15.99702105263158, SR:0.25389736842105265 last trace rank:1\n",
      "313/313 [==============================] - 0s 1ms/step\n",
      "Epoch 77 - GE:15.83681948051948, SR:0.2611987012987013 last trace rank:1\n",
      "313/313 [==============================] - 0s 704us/step\n",
      "Epoch 78 - GE:15.676523076923077, SR:0.26871410256410255 last trace rank:1\n",
      "313/313 [==============================] - 0s 595us/step\n",
      "Epoch 79 - GE:15.520983544303798, SR:0.27609240506329114 last trace rank:1\n",
      "313/313 [==============================] - 0s 583us/step\n",
      "Epoch 80 - GE:15.3673875, SR:0.28340375 last trace rank:1\n",
      "313/313 [==============================] - 0s 518us/step\n",
      "Epoch 81 - GE:15.215866666666667, SR:0.2907395061728395 last trace rank:1\n",
      "313/313 [==============================] - 0s 663us/step\n",
      "Epoch 82 - GE:15.065303658536585, SR:0.29809878048780486 last trace rank:1\n",
      "313/313 [==============================] - 0s 857us/step\n",
      "Epoch 83 - GE:14.914787951807229, SR:0.3054204819277108 last trace rank:1\n",
      "313/313 [==============================] - 0s 657us/step\n",
      "Epoch 84 - GE:14.771213095238096, SR:0.31207261904761907 last trace rank:1\n",
      "313/313 [==============================] - 0s 686us/step\n",
      "Epoch 85 - GE:14.629604705882352, SR:0.3190435294117647 last trace rank:1\n",
      "313/313 [==============================] - 0s 575us/step\n",
      "Epoch 86 - GE:14.48915465116279, SR:0.3257406976744186 last trace rank:1\n",
      "313/313 [==============================] - 0s 527us/step\n",
      "Epoch 87 - GE:14.351314942528736, SR:0.33260689655172415 last trace rank:1\n",
      "313/313 [==============================] - 0s 544us/step\n",
      "Epoch 88 - GE:14.2124625, SR:0.33936136363636366 last trace rank:1\n",
      "313/313 [==============================] - 0s 844us/step\n",
      "Epoch 89 - GE:14.07848988764045, SR:0.34607191011235955 last trace rank:1\n",
      "313/313 [==============================] - 0s 497us/step\n",
      "Epoch 90 - GE:13.948653333333333, SR:0.35268 last trace rank:1\n",
      "313/313 [==============================] - 0s 510us/step\n",
      "Epoch 91 - GE:13.81917032967033, SR:0.3591802197802198 last trace rank:1\n",
      "313/313 [==============================] - 0s 1ms/step\n",
      "Epoch 92 - GE:13.69281847826087, SR:0.3655641304347826 last trace rank:1\n",
      "313/313 [==============================] - 0s 606us/step\n",
      "Epoch 93 - GE:13.568860215053764, SR:0.37184193548387096 last trace rank:1\n",
      "313/313 [==============================] - 0s 943us/step\n",
      "Epoch 94 - GE:13.44616170212766, SR:0.37796382978723403 last trace rank:1\n",
      "313/313 [==============================] - 0s 814us/step\n",
      "Epoch 95 - GE:13.328252631578948, SR:0.3840031578947368 last trace rank:1\n",
      "313/313 [==============================] - 0s 540us/step\n",
      "Epoch 96 - GE:13.209642708333334, SR:0.3899489583333333 last trace rank:1\n",
      "313/313 [==============================] - 0s 875us/step\n",
      "Epoch 97 - GE:13.094677319587628, SR:0.3957278350515464 last trace rank:1\n",
      "313/313 [==============================] - 0s 581us/step\n",
      "Epoch 98 - GE:12.98109693877551, SR:0.40145816326530614 last trace rank:1\n",
      "313/313 [==============================] - 0s 713us/step\n",
      "Epoch 99 - GE:12.868490909090909, SR:0.4070929292929293 last trace rank:1\n",
      "313/313 [==============================] - 0s 570us/step\n",
      "Epoch 100 - GE:12.759641, SR:0.412625 last trace rank:1\n",
      "313/313 [==============================] - 0s 626us/step\n",
      "Epoch 101 - GE:12.652068316831683, SR:0.4181019801980198 last trace rank:1\n",
      "313/313 [==============================] - 0s 596us/step\n",
      "Epoch 102 - GE:12.546345098039216, SR:0.42343823529411767 last trace rank:1\n",
      "313/313 [==============================] - 0s 683us/step\n",
      "Epoch 103 - GE:12.442099029126213, SR:0.4286883495145631 last trace rank:1\n",
      "313/313 [==============================] - 0s 1ms/step\n",
      "Epoch 104 - GE:12.34012403846154, SR:0.4337865384615385 last trace rank:1\n",
      "313/313 [==============================] - 0s 1ms/step\n",
      "Epoch 105 - GE:12.239621904761904, SR:0.43886 last trace rank:1\n",
      "313/313 [==============================] - 0s 613us/step\n",
      "Epoch 106 - GE:12.140198113207548, SR:0.4438754716981132 last trace rank:1\n",
      "313/313 [==============================] - 0s 1ms/step\n",
      "Epoch 107 - GE:12.0434, SR:0.4487747663551402 last trace rank:1\n",
      "313/313 [==============================] - 0s 700us/step\n",
      "Epoch 108 - GE:11.948737962962962, SR:0.4536046296296296 last trace rank:1\n",
      "313/313 [==============================] - 0s 588us/step\n",
      "Epoch 109 - GE:11.854988073394495, SR:0.4583724770642202 last trace rank:1\n",
      "313/313 [==============================] - 0s 879us/step\n",
      "Epoch 110 - GE:11.762964545454546, SR:0.4630490909090909 last trace rank:1\n",
      "313/313 [==============================] - 0s 664us/step\n",
      "Epoch 111 - GE:11.672354054054054, SR:0.46766576576576574 last trace rank:1\n",
      "313/313 [==============================] - 0s 530us/step\n",
      "Epoch 112 - GE:11.582780357142857, SR:0.4721830357142857 last trace rank:1\n",
      "313/313 [==============================] - 0s 815us/step\n",
      "Epoch 113 - GE:11.495076991150443, SR:0.4766026548672566 last trace rank:1\n",
      "313/313 [==============================] - 0s 903us/step\n",
      "Epoch 114 - GE:11.409028070175438, SR:0.48095877192982456 last trace rank:1\n",
      "313/313 [==============================] - 0s 800us/step\n",
      "Epoch 115 - GE:11.324286956521739, SR:0.48525304347826087 last trace rank:1\n",
      "313/313 [==============================] - 1s 2ms/step\n",
      "Epoch 116 - GE:11.24059224137931, SR:0.4894801724137931 last trace rank:1\n",
      "313/313 [==============================] - 0s 1ms/step\n",
      "Epoch 117 - GE:11.158603418803418, SR:0.493634188034188 last trace rank:1\n",
      "313/313 [==============================] - 0s 504us/step\n",
      "Epoch 118 - GE:11.077247457627118, SR:0.49771101694915254 last trace rank:1\n",
      "313/313 [==============================] - 0s 833us/step\n",
      "Epoch 119 - GE:10.997099159663865, SR:0.5017411764705882 last trace rank:1\n",
      "313/313 [==============================] - 0s 564us/step\n",
      "Epoch 120 - GE:10.9188125, SR:0.50568 last trace rank:1\n",
      "313/313 [==============================] - 0s 890us/step\n",
      "Epoch 121 - GE:10.841228925619834, SR:0.5095752066115703 last trace rank:1\n",
      "313/313 [==============================] - 0s 599us/step\n",
      "Epoch 122 - GE:10.765273770491802, SR:0.5134040983606557 last trace rank:1\n",
      "313/313 [==============================] - 0s 594us/step\n",
      "Epoch 123 - GE:10.690434959349593, SR:0.5171739837398374 last trace rank:1\n",
      "313/313 [==============================] - 0s 2ms/step\n",
      "Epoch 124 - GE:10.616612903225807, SR:0.5208862903225806 last trace rank:1\n",
      "313/313 [==============================] - 0s 562us/step\n",
      "Epoch 125 - GE:10.5435528, SR:0.5245496 last trace rank:1\n",
      "313/313 [==============================] - 0s 580us/step\n",
      "Epoch 126 - GE:10.471510317460318, SR:0.5281722222222223 last trace rank:1\n",
      "313/313 [==============================] - 0s 599us/step\n",
      "Epoch 127 - GE:10.400685039370078, SR:0.5317291338582677 last trace rank:1\n",
      "313/313 [==============================] - 0s 730us/step\n",
      "Epoch 128 - GE:10.33070625, SR:0.53524375 last trace rank:1\n",
      "313/313 [==============================] - 0s 514us/step\n",
      "Epoch 129 - GE:10.261962015503876, SR:0.5387007751937984 last trace rank:1\n",
      "313/313 [==============================] - 0s 550us/step\n",
      "Epoch 130 - GE:10.194246153846153, SR:0.5421223076923077 last trace rank:1\n",
      "313/313 [==============================] - 0s 535us/step\n",
      "Epoch 131 - GE:10.127531297709924, SR:0.5454832061068702 last trace rank:1\n",
      "313/313 [==============================] - 0s 719us/step\n",
      "Epoch 132 - GE:10.061794696969697, SR:0.5487931818181818 last trace rank:1\n",
      "313/313 [==============================] - 0s 595us/step\n",
      "Epoch 133 - GE:9.996623308270676, SR:0.5520759398496241 last trace rank:1\n",
      "313/313 [==============================] - 0s 543us/step\n",
      "Epoch 134 - GE:9.932878358208955, SR:0.5553029850746268 last trace rank:1\n",
      "313/313 [==============================] - 0s 715us/step\n",
      "Epoch 135 - GE:9.869661481481481, SR:0.5584807407407407 last trace rank:1\n",
      "313/313 [==============================] - 0s 637us/step\n",
      "Epoch 136 - GE:9.8075625, SR:0.5616139705882353 last trace rank:1\n",
      "313/313 [==============================] - 0s 693us/step\n",
      "Epoch 137 - GE:9.745888321167882, SR:0.5647014598540147 last trace rank:1\n",
      "313/313 [==============================] - 0s 755us/step\n",
      "Epoch 138 - GE:9.685391304347826, SR:0.5677463768115942 last trace rank:1\n",
      "313/313 [==============================] - 0s 627us/step\n",
      "Epoch 139 - GE:9.625563309352518, SR:0.5707402877697841 last trace rank:1\n",
      "313/313 [==============================] - 0s 639us/step\n",
      "Epoch 140 - GE:9.566768571428572, SR:0.5737021428571428 last trace rank:1\n",
      "313/313 [==============================] - 0s 1ms/step\n",
      "Epoch 141 - GE:9.508712765957446, SR:0.5766234042553191 last trace rank:1\n",
      "313/313 [==============================] - 0s 663us/step\n",
      "Epoch 142 - GE:9.451384507042253, SR:0.5795028169014085 last trace rank:1\n",
      "313/313 [==============================] - 0s 581us/step\n",
      "Epoch 143 - GE:9.39525944055944, SR:0.5823391608391608 last trace rank:1\n",
      "313/313 [==============================] - 0s 549us/step\n",
      "Epoch 144 - GE:9.340061111111112, SR:0.5851402777777778 last trace rank:1\n",
      "313/313 [==============================] - 0s 920us/step\n",
      "Epoch 145 - GE:9.284880689655173, SR:0.5879020689655172 last trace rank:1\n",
      "313/313 [==============================] - 0s 1ms/step\n",
      "Epoch 146 - GE:9.230758219178082, SR:0.5906287671232877 last trace rank:1\n",
      "313/313 [==============================] - 0s 949us/step\n",
      "Epoch 147 - GE:9.17679455782313, SR:0.5933176870748299 last trace rank:1\n",
      "313/313 [==============================] - 0s 616us/step\n",
      "Epoch 148 - GE:9.124130405405406, SR:0.5959689189189189 last trace rank:1\n",
      "313/313 [==============================] - 0s 728us/step\n",
      "Epoch 149 - GE:9.071509395973154, SR:0.5985832214765101 last trace rank:1\n",
      "313/313 [==============================] - 0s 1ms/step\n",
      "Epoch 150 - GE:9.020041333333333, SR:0.601166 last trace rank:1\n",
      "313/313 [==============================] - 0s 840us/step\n",
      "Epoch 151 - GE:8.968896026490066, SR:0.6037132450331126 last trace rank:1\n",
      "313/313 [==============================] - 0s 550us/step\n",
      "Epoch 152 - GE:8.918336184210526, SR:0.6062282894736842 last trace rank:1\n",
      "313/313 [==============================] - 0s 564us/step\n",
      "Epoch 153 - GE:8.868345098039216, SR:0.6087104575163399 last trace rank:1\n",
      "313/313 [==============================] - 0s 1ms/step\n",
      "Epoch 154 - GE:8.819333766233767, SR:0.6111603896103897 last trace rank:1\n",
      "313/313 [==============================] - 0s 509us/step\n",
      "Epoch 155 - GE:8.770968387096774, SR:0.6135787096774193 last trace rank:1\n",
      "313/313 [==============================] - 0s 1ms/step\n",
      "Epoch 156 - GE:8.722808333333333, SR:0.6159660256410256 last trace rank:1\n",
      "313/313 [==============================] - 0s 598us/step\n",
      "Epoch 157 - GE:8.675314012738854, SR:0.6183229299363058 last trace rank:1\n",
      "313/313 [==============================] - 0s 543us/step\n",
      "Epoch 158 - GE:8.628559493670886, SR:0.62065 last trace rank:1\n",
      "313/313 [==============================] - 0s 600us/step\n",
      "Epoch 159 - GE:8.582147798742138, SR:0.6229477987421383 last trace rank:1\n",
      "313/313 [==============================] - 0s 925us/step\n",
      "Epoch 160 - GE:8.536503125, SR:0.625216875 last trace rank:1\n",
      "313/313 [==============================] - 0s 507us/step\n",
      "Epoch 161 - GE:8.491217391304348, SR:0.6274577639751553 last trace rank:1\n",
      "313/313 [==============================] - 0s 686us/step\n",
      "Epoch 162 - GE:8.446804320987654, SR:0.629670987654321 last trace rank:1\n",
      "313/313 [==============================] - 0s 662us/step\n",
      "Epoch 163 - GE:8.402676073619633, SR:0.6318570552147239 last trace rank:1\n",
      "313/313 [==============================] - 0s 599us/step\n",
      "Epoch 164 - GE:8.35920487804878, SR:0.6340164634146341 last trace rank:1\n",
      "313/313 [==============================] - 0s 589us/step\n",
      "Epoch 165 - GE:8.316070909090909, SR:0.6361515151515151 last trace rank:1\n",
      "313/313 [==============================] - 0s 762us/step\n",
      "Epoch 166 - GE:8.273759638554218, SR:0.6382590361445784 last trace rank:1\n",
      "313/313 [==============================] - 0s 539us/step\n",
      "Epoch 167 - GE:8.231635329341318, SR:0.6403431137724551 last trace rank:1\n",
      "313/313 [==============================] - 0s 757us/step\n",
      "Epoch 168 - GE:8.190397023809524, SR:0.6424005952380952 last trace rank:1\n",
      "313/313 [==============================] - 0s 1ms/step\n",
      "Epoch 169 - GE:8.149566272189348, SR:0.6444360946745562 last trace rank:1\n",
      "313/313 [==============================] - 0s 583us/step\n",
      "Epoch 170 - GE:8.108869411764706, SR:0.6464511764705883 last trace rank:1\n",
      "313/313 [==============================] - 0s 684us/step\n",
      "Epoch 171 - GE:8.068649122807017, SR:0.6484426900584795 last trace rank:1\n",
      "313/313 [==============================] - 0s 540us/step\n",
      "Epoch 172 - GE:8.028861627906977, SR:0.6504127906976744 last trace rank:1\n",
      "313/313 [==============================] - 0s 529us/step\n",
      "Epoch 173 - GE:7.989577456647399, SR:0.6523554913294798 last trace rank:1\n",
      "313/313 [==============================] - 0s 570us/step\n",
      "Epoch 174 - GE:7.95065, SR:0.6542793103448276 last trace rank:1\n",
      "313/313 [==============================] - 0s 638us/step\n",
      "Epoch 175 - GE:7.912248571428571, SR:0.6561777142857143 last trace rank:1\n",
      "313/313 [==============================] - 0s 536us/step\n",
      "Epoch 176 - GE:7.874321590909091, SR:0.6580545454545454 last trace rank:1\n",
      "313/313 [==============================] - 0s 809us/step\n",
      "Epoch 177 - GE:7.836734463276836, SR:0.6599135593220339 last trace rank:1\n",
      "313/313 [==============================] - 0s 523us/step\n",
      "Epoch 178 - GE:7.7996365168539326, SR:0.6617516853932585 last trace rank:1\n",
      "313/313 [==============================] - 0s 523us/step\n",
      "Epoch 179 - GE:7.762818994413408, SR:0.6635698324022347 last trace rank:1\n",
      "313/313 [==============================] - 0s 755us/step\n",
      "Epoch 180 - GE:7.726457222222222, SR:0.6653694444444445 last trace rank:1\n",
      "313/313 [==============================] - 0s 604us/step\n",
      "Epoch 181 - GE:7.690539779005525, SR:0.6671491712707183 last trace rank:1\n",
      "313/313 [==============================] - 0s 1ms/step\n",
      "Epoch 182 - GE:7.6547269230769235, SR:0.668917032967033 last trace rank:1\n",
      "313/313 [==============================] - 0s 998us/step\n",
      "Epoch 183 - GE:7.619603278688524, SR:0.6706568306010929 last trace rank:1\n",
      "313/313 [==============================] - 0s 540us/step\n",
      "Epoch 184 - GE:7.5848125, SR:0.672379347826087 last trace rank:1\n",
      "313/313 [==============================] - 0s 550us/step\n",
      "Epoch 185 - GE:7.550277837837838, SR:0.674087027027027 last trace rank:1\n",
      "313/313 [==============================] - 0s 704us/step\n",
      "Epoch 186 - GE:7.516104838709677, SR:0.6757774193548387 last trace rank:1\n",
      "313/313 [==============================] - 0s 629us/step\n",
      "Epoch 187 - GE:7.48251871657754, SR:0.6774470588235294 last trace rank:1\n",
      "313/313 [==============================] - 0s 910us/step\n",
      "Epoch 188 - GE:7.449209574468085, SR:0.6790989361702128 last trace rank:1\n",
      "313/313 [==============================] - 0s 572us/step\n",
      "Epoch 189 - GE:7.416186243386243, SR:0.6807343915343915 last trace rank:1\n",
      "313/313 [==============================] - 0s 501us/step\n",
      "Epoch 190 - GE:7.38343947368421, SR:0.6823536842105263 last trace rank:1\n",
      "313/313 [==============================] - 0s 843us/step\n",
      "Epoch 191 - GE:7.3512591623036645, SR:0.683955497382199 last trace rank:1\n",
      "313/313 [==============================] - 0s 857us/step\n",
      "Epoch 192 - GE:7.319244270833333, SR:0.6855416666666667 last trace rank:1\n",
      "313/313 [==============================] - 0s 698us/step\n",
      "Epoch 193 - GE:7.287543005181347, SR:0.6871124352331606 last trace rank:1\n",
      "313/313 [==============================] - 0s 557us/step\n",
      "Epoch 194 - GE:7.256315463917526, SR:0.6886644329896907 last trace rank:1\n",
      "313/313 [==============================] - 0s 727us/step\n",
      "Epoch 195 - GE:7.225248205128205, SR:0.6902035897435898 last trace rank:1\n",
      "313/313 [==============================] - 0s 740us/step\n",
      "Epoch 196 - GE:7.194436734693878, SR:0.6917301020408163 last trace rank:1\n",
      "313/313 [==============================] - 0s 1ms/step\n",
      "Epoch 197 - GE:7.1638253807106596, SR:0.6932401015228427 last trace rank:1\n",
      "313/313 [==============================] - 0s 563us/step\n",
      "Epoch 198 - GE:7.133604545454546, SR:0.6947378787878787 last trace rank:1\n",
      "313/313 [==============================] - 0s 751us/step\n",
      "Epoch 199 - GE:7.103686934673367, SR:0.6962190954773869 last trace rank:1\n",
      "313/313 [==============================] - 0s 551us/step\n",
      "Epoch 200 - GE:7.0742005, SR:0.697684 last trace rank:1\n"
     ]
    }
   ],
   "source": [
    "result = model.fit(train_trace2,train_sbox_out,  # 波形データとラベルデータ\n",
    "                        batch_size=100,\n",
    "                        epochs=200,     # エポック数の指定\n",
    "                        validation_data=(test_trace2,test_sbox_out),\n",
    "                        callbacks=[CustomCallback(test_trace2, test_sbox_out, TARGET_BYTE, rank_save_dir)],\n",
    "                       verbose = 0\n",
    "                        )"
   ]
  },
  {
   "cell_type": "code",
   "execution_count": 65,
   "id": "112a96df-c2fa-4fc0-b759-be4e9248aa7a",
   "metadata": {},
   "outputs": [
    {
     "data": {
      "text/plain": [
       "Text(0.5, 1.0, 'target_4byte')"
      ]
     },
     "execution_count": 65,
     "metadata": {},
     "output_type": "execute_result"
    },
    {
     "data": {
      "image/png": "[encoded data removed]",
      "text/plain": [
       "<Figure size 640x480 with 1 Axes>"
      ]
     },
     "metadata": {},
     "output_type": "display_data"
    }
   ],
   "source": [
    "plt.figure()\n",
    "plt.plot(rank)\n",
    "plt.xlabel('wave')\n",
    "plt.ylabel('rank')\n",
    "plt.title('target_{}byte'.format(TARGET_BYTE))"
   ]
  },
  {
   "cell_type": "code",
   "execution_count": 66,
   "id": "bcdf9166-bcb2-4af5-bb08-4791a5a08a81",
   "metadata": {},
   "outputs": [
    {
     "data": {
      "text/plain": [
       "[<matplotlib.lines.Line2D at 0x7f443ff141c0>]"
      ]
     },
     "execution_count": 66,
     "metadata": {},
     "output_type": "execute_result"
    },
    {
     "data": {
      "image/png": "[encoded data removed]",
      "text/plain": [
       "<Figure size 640x480 with 1 Axes>"
      ]
     },
     "metadata": {},
     "output_type": "display_data"
    }
   ],
   "source": [
    "plt.plot(result.history['accuracy'])\n",
    "plt.plot(result.history['val_accuracy'])"
   ]
  },
  {
   "cell_type": "code",
   "execution_count": 67,
   "id": "c8627e36-a1b6-4d14-92ae-9dd25169a381",
   "metadata": {},
   "outputs": [
    {
     "name": "stdout",
     "output_type": "stream",
     "text": [
      "313/313 [==============================] - 0s 1ms/step\n"
     ]
    },
    {
     "data": {
      "text/plain": [
       "TensorShape([10000, 256])"
      ]
     },
     "execution_count": 67,
     "metadata": {},
     "output_type": "execute_result"
    }
   ],
   "source": [
    "predicts = model.predict(attack_trace2)\n",
    "predicts = tf.nn.softmax(predicts)\n",
    "predicts.shape"
   ]
  },
  {
   "cell_type": "code",
   "execution_count": 68,
   "id": "62dfbb4f-298c-4fa0-8f3b-40962f6823d8",
   "metadata": {},
   "outputs": [],
   "source": [
    "attack_plain=attack_metadata['plaintext']"
   ]
  },
  {
   "cell_type": "code",
   "execution_count": 69,
   "id": "61c426f6-0782-4823-b12e-0c36cacb13a7",
   "metadata": {},
   "outputs": [],
   "source": [
    "attack_sbox_in = []\n",
    "for estimated_key in range(256): #256通りの推定鍵だけ繰り返す。\n",
    "    attack_sbox_in.append(attack_plain^np.array([estimated_key]*16)) #平文と推定鍵のXORがSbox(SubBytes)入力\n",
    "attack_sbox_in = np.array(attack_sbox_in)\n",
    "attack_sbox_out = np.array([AES_Sbox[i] for i in attack_sbox_in])\n",
    "attack_sbox_out = attack_sbox_out[:,:,TARGET_BYTE]"
   ]
  },
  {
   "cell_type": "code",
   "execution_count": 70,
   "id": "ff1ff989-0a6d-4f6f-ac84-3a43efdbf74e",
   "metadata": {},
   "outputs": [],
   "source": [
    "attack_sbox_out = attack_sbox_out[:,50000:] #全体の内, 最後の10000を攻撃に使用"
   ]
  },
  {
   "cell_type": "code",
   "execution_count": 71,
   "id": "258ad083-59b7-4a0f-9637-b04744a83fcd",
   "metadata": {},
   "outputs": [],
   "source": [
    "result2 = np.ones(256) /256\n",
    "rank = []\n",
    "attack_sbox_out = np.array(attack_sbox_out)\n",
    "pred = predicts.numpy()\n",
    "\n",
    "for i in range(len(predicts)):\n",
    "    result2 *= pred[i, attack_sbox_out[:, i]]\n",
    "    result2 = result2 /np.sum(result2)\n",
    "    rank.append(list(np.argsort(result2)[::-1]).index(attack_key[0][TARGET_BYTE])+1)\n",
    "    "
   ]
  },
  {
   "cell_type": "code",
   "execution_count": 72,
   "id": "733d07ee-062b-43b1-bafa-404cd7d6ae72",
   "metadata": {},
   "outputs": [
    {
     "data": {
      "text/plain": [
       "Text(0.5, 1.0, 'target_4byte')"
      ]
     },
     "execution_count": 72,
     "metadata": {},
     "output_type": "execute_result"
    },
    {
     "data": {
      "image/png": "[encoded data removed]",
      "text/plain": [
       "<Figure size 640x480 with 1 Axes>"
      ]
     },
     "metadata": {},
     "output_type": "display_data"
    }
   ],
   "source": [
    "rank_lim = rank[0:10000]\n",
    "plt.figure()\n",
    "plt.plot(rank_lim)\n",
    "plt.xlabel('wave')\n",
    "plt.ylabel('rank')\n",
    "plt.title('target_{}byte'.format(TARGET_BYTE))"
   ]
  },
  {
   "cell_type": "code",
   "execution_count": 73,
   "id": "36c776ed-cde2-4efd-aba0-1dfcbeb2b674",
   "metadata": {},
   "outputs": [],
   "source": [
    "TARGET_BYTE = 5 #何バイト目を攻撃するか決める"
   ]
  },
  {
   "cell_type": "code",
   "execution_count": 74,
   "id": "0f026077-6895-412f-97e6-10466939ea70",
   "metadata": {},
   "outputs": [],
   "source": [
    "AES_Sbox = np.array([\n",
    "\t\t\t0x63, 0x7C, 0x77, 0x7B, 0xF2, 0x6B, 0x6F, 0xC5, 0x30, 0x01, 0x67, 0x2B, 0xFE, 0xD7, 0xAB, 0x76,\n",
    "\t\t\t0xCA, 0x82, 0xC9, 0x7D, 0xFA, 0x59, 0x47, 0xF0, 0xAD, 0xD4, 0xA2, 0xAF, 0x9C, 0xA4, 0x72, 0xC0,\n",
    "\t\t\t0xB7, 0xFD, 0x93, 0x26, 0x36, 0x3F, 0xF7, 0xCC, 0x34, 0xA5, 0xE5, 0xF1, 0x71, 0xD8, 0x31, 0x15,\n",
    "\t\t\t0x04, 0xC7, 0x23, 0xC3, 0x18, 0x96, 0x05, 0x9A, 0x07, 0x12, 0x80, 0xE2, 0xEB, 0x27, 0xB2, 0x75,\n",
    "\t\t\t0x09, 0x83, 0x2C, 0x1A, 0x1B, 0x6E, 0x5A, 0xA0, 0x52, 0x3B, 0xD6, 0xB3, 0x29, 0xE3, 0x2F, 0x84,\n",
    "\t\t\t0x53, 0xD1, 0x00, 0xED, 0x20, 0xFC, 0xB1, 0x5B, 0x6A, 0xCB, 0xBE, 0x39, 0x4A, 0x4C, 0x58, 0xCF,\n",
    "\t\t\t0xD0, 0xEF, 0xAA, 0xFB, 0x43, 0x4D, 0x33, 0x85, 0x45, 0xF9, 0x02, 0x7F, 0x50, 0x3C, 0x9F, 0xA8,\n",
    "\t\t\t0x51, 0xA3, 0x40, 0x8F, 0x92, 0x9D, 0x38, 0xF5, 0xBC, 0xB6, 0xDA, 0x21, 0x10, 0xFF, 0xF3, 0xD2,\n",
    "\t\t\t0xCD, 0x0C, 0x13, 0xEC, 0x5F, 0x97, 0x44, 0x17, 0xC4, 0xA7, 0x7E, 0x3D, 0x64, 0x5D, 0x19, 0x73,\n",
    "\t\t\t0x60, 0x81, 0x4F, 0xDC, 0x22, 0x2A, 0x90, 0x88, 0x46, 0xEE, 0xB8, 0x14, 0xDE, 0x5E, 0x0B, 0xDB,\n",
    "\t\t\t0xE0, 0x32, 0x3A, 0x0A, 0x49, 0x06, 0x24, 0x5C, 0xC2, 0xD3, 0xAC, 0x62, 0x91, 0x95, 0xE4, 0x79,\n",
    "\t\t\t0xE7, 0xC8, 0x37, 0x6D, 0x8D, 0xD5, 0x4E, 0xA9, 0x6C, 0x56, 0xF4, 0xEA, 0x65, 0x7A, 0xAE, 0x08,\n",
    "\t\t\t0xBA, 0x78, 0x25, 0x2E, 0x1C, 0xA6, 0xB4, 0xC6, 0xE8, 0xDD, 0x74, 0x1F, 0x4B, 0xBD, 0x8B, 0x8A,\n",
    "\t\t\t0x70, 0x3E, 0xB5, 0x66, 0x48, 0x03, 0xF6, 0x0E, 0x61, 0x35, 0x57, 0xB9, 0x86, 0xC1, 0x1D, 0x9E,\n",
    "\t\t\t0xE1, 0xF8, 0x98, 0x11, 0x69, 0xD9, 0x8E, 0x94, 0x9B, 0x1E, 0x87, 0xE9, 0xCE, 0x55, 0x28, 0xDF,\n",
    "\t\t\t0x8C, 0xA1, 0x89, 0x0D, 0xBF, 0xE6, 0x42, 0x68, 0x41, 0x99, 0x2D, 0x0F, 0xB0, 0x54, 0xBB, 0x16\n",
    "\t\t\t])"
   ]
  },
  {
   "cell_type": "code",
   "execution_count": 75,
   "id": "cae24702-9621-423a-bedd-e32cf9087dea",
   "metadata": {},
   "outputs": [],
   "source": [
    "data_train = h5py.File('ATMega8515_raw_traces.h5', 'r')\n",
    "data_test = h5py.File('ATMega8515_raw_traces.h5', 'r')\n",
    "data_attack = h5py.File('ATMega8515_raw_traces.h5', 'r')"
   ]
  },
  {
   "cell_type": "code",
   "execution_count": 76,
   "id": "92d5216d-4d60-42c7-8db5-06cbc12d1a2c",
   "metadata": {},
   "outputs": [],
   "source": [
    "train_metadata=data_train['metadata']\n",
    "train_plain = train_metadata['plaintext']\n",
    "train_cipher = train_metadata['ciphertext']\n",
    "train_key = train_metadata['key']\n",
    "train_mask = train_metadata['masks']\n",
    "train_trace = data_train['traces']\n",
    "\n",
    "test_metadata=data_test['metadata']\n",
    "test_plain = test_metadata['plaintext']\n",
    "test_cipher = test_metadata['ciphertext']\n",
    "test_key = test_metadata['key']\n",
    "test_mask = test_metadata['masks']\n",
    "test_trace = data_train['traces']\n",
    "\n",
    "attack_metadata=data_attack['metadata']\n",
    "attack_plain = attack_metadata['plaintext']\n",
    "attack_cipher = attack_metadata['ciphertext']\n",
    "attack_key = attack_metadata['key']\n",
    "attack_mask = attack_metadata['masks']\n",
    "attack_trace = data_train['traces']"
   ]
  },
  {
   "cell_type": "code",
   "execution_count": 77,
   "id": "58123e9f-cb97-4dc0-b905-df4f8b8ea035",
   "metadata": {},
   "outputs": [
    {
     "name": "stdout",
     "output_type": "stream",
     "text": [
      "(60000,) (60000, 100000) (60000, 16) (60000, 16) (60000, 16) (60000, 16)\n"
     ]
    }
   ],
   "source": [
    "print(train_metadata.shape, train_trace.shape, train_plain.shape, train_cipher.shape, train_key.shape, train_mask.shape)"
   ]
  },
  {
   "cell_type": "code",
   "execution_count": 78,
   "id": "264590e5-fcb1-4f4f-9e2e-c4eb87c1a6dc",
   "metadata": {},
   "outputs": [],
   "source": [
    "keys=np.array([0x4D,0xFB,0xE0,0xF2,0x72,0x21,0xFE,0x10,0xA7,0x8D,0x4A,0xDC,0x8E,0x49,0x04,0x69])"
   ]
  },
  {
   "cell_type": "code",
   "execution_count": 79,
   "id": "4171bd50-0c7b-45bf-87de-fbc246dc2622",
   "metadata": {},
   "outputs": [
    {
     "data": {
      "text/plain": [
       "(45000, 700)"
      ]
     },
     "execution_count": 79,
     "metadata": {},
     "output_type": "execute_result"
    }
   ],
   "source": [
    "train_trace = train_trace[0:45000, 41235:41935]\n",
    "test_trace = test_trace[45000:50000, 41235:41935]\n",
    "attack_trace = attack_trace[50000:60000, 41235:41935]\n",
    "train_plain = train_plain[0:45000, :]\n",
    "test_plain = test_plain[45000:50000, :]\n",
    "train_trace2 = train_trace\n",
    "test_trace2 = test_trace\n",
    "attack_trace2 = attack_trace\n",
    "train_trace.shape"
   ]
  },
  {
   "cell_type": "code",
   "execution_count": 80,
   "id": "6a3a5079-d68e-44f9-932a-58a73e259fb3",
   "metadata": {},
   "outputs": [],
   "source": [
    "train_key = train_key[0:45000,:]\n",
    "train_sbox_in = []\n",
    "train_sbox_in = np.array(train_plain^train_key) #平文と鍵のXORがSbox(SubBytes)入力\n",
    "train_sbox_out = np.array([AES_Sbox[i] for i in train_sbox_in])"
   ]
  },
  {
   "cell_type": "code",
   "execution_count": 81,
   "id": "3e222eec-ae28-4c22-949a-a46074ddad5b",
   "metadata": {},
   "outputs": [],
   "source": [
    "test_key = test_key[0:5000,:]\n",
    "test_sbox_in = []\n",
    "test_sbox_in = np.array(test_plain^np.array(test_key)) #平文と鍵のXORがSbox(SubBytes)入力\n",
    "test_sbox_out = np.array([AES_Sbox[i] for i in test_sbox_in])"
   ]
  },
  {
   "cell_type": "code",
   "execution_count": 82,
   "id": "31d512b3-c653-48f3-98a0-3b8f3f30ed98",
   "metadata": {},
   "outputs": [],
   "source": [
    "train_sbox_out = train_sbox_out[:,TARGET_BYTE]\n",
    "test_sbox_out = test_sbox_out[:,TARGET_BYTE]"
   ]
  },
  {
   "cell_type": "code",
   "execution_count": 83,
   "id": "ccc44b00-7c24-4cf1-8656-edb95fa6abc0",
   "metadata": {},
   "outputs": [],
   "source": [
    "#波形データの標準化(データを平均で引いて標準偏差で割る)\n",
    "train_trace2 = (train_trace2 -np.mean(train_trace2, axis = 0))/np.std(train_trace2, axis = 0)\n",
    "\n",
    "test_trace2 = (test_trace2 - np.mean(test_trace2, axis = 0))/np.std(test_trace2, axis = 0)\n",
    "\n",
    "attack_trace2 = (attack_trace2 - np.mean(attack_trace2, axis = 0))/np.std(attack_trace2, axis = 0)\n",
    "\n",
    "#DeepLearningできるshapeに変更\n",
    "train_trace2 = train_trace2.reshape(45000,700,1)\n",
    "\n",
    "test_trace2 = test_trace2.reshape(5000,700,1)\n",
    "\n",
    "attack_trace2 = attack_trace2.reshape(10000,700,1)"
   ]
  },
  {
   "cell_type": "code",
   "execution_count": 84,
   "id": "42a1d254-8e9a-43a3-b940-cc3f78dbc148",
   "metadata": {},
   "outputs": [],
   "source": [
    "def mlp_best(node=200,layer_nb=6,input_dim=700):\n",
    "\tmodel = Sequential()\n",
    "\tmodel.add(Dense(node, input_dim=input_dim, activation='relu'))\n",
    "\tfor i in range(layer_nb-2):\n",
    "\t\tmodel.add(Dense(node, activation='relu'))\n",
    "\tmodel.add(Dense(256))\n",
    "\toptimizer = RMSprop(learning_rate=0.00001)\n",
    "\tloss_fn = tf.keras.losses.SparseCategoricalCrossentropy(from_logits=True)\n",
    "\t# model.compile(loss='categorical_crossentropy', optimizer=optimizer, metrics=['accuracy'])\n",
    "\tmodel.compile(loss=loss_fn, optimizer=optimizer, metrics=['accuracy'])\n",
    "\treturn model"
   ]
  },
  {
   "cell_type": "code",
   "execution_count": 85,
   "id": "286d49b6-93f3-4db6-9d25-b98bfa468e28",
   "metadata": {},
   "outputs": [],
   "source": [
    "mlp_best()\n",
    "model=mlp_best(node=200,layer_nb=6,input_dim=700)"
   ]
  },
  {
   "cell_type": "code",
   "execution_count": 86,
   "id": "58ec1dfd-d310-4610-b581-83fbb5d032b0",
   "metadata": {},
   "outputs": [],
   "source": [
    "rank = []\n",
    "class CustomCallback(tf.keras.callbacks.Callback):\n",
    "    def __init__(self, test_trace2 , label, TARGET_BYTE, rank_save_dir, *args, **kwargs):\n",
    "        super().__init__(*args, **kwargs)\n",
    "        self.data_test = test_trace2\n",
    "        self.label = label.T\n",
    "        self.target_byte = TARGET_BYTE\n",
    "        self.save_dir = rank_save_dir\n",
    "    def on_epoch_end(self, epoch, logs=None):\n",
    "        predicts = model.predict(attack_trace2)\n",
    "        predicts = tf.nn.softmax(predicts)\n",
    "        attack_plain=attack_metadata['plaintext']\n",
    "        attack_sbox_in = []\n",
    "        for estimated_key in range(256): #256通りの推定鍵だけ繰り返す。\n",
    "            attack_sbox_in.append(attack_plain^np.array([estimated_key]*16)) #平文と推定鍵のXORがSbox(SubBytes)入力\n",
    "        attack_sbox_in = np.array(attack_sbox_in)\n",
    "        attack_sbox_out = np.array([AES_Sbox[i] for i in attack_sbox_in])\n",
    "        attack_sbox_out = attack_sbox_out[:,:,TARGET_BYTE]\n",
    "        attack_sbox_out = attack_sbox_out[:,50000:] #全体の内, 最後の10000を攻撃に使用\n",
    "        result = np.ones(256) /256\n",
    "        attack_sbox_out = np.array(attack_sbox_out)\n",
    "        pred = predicts.numpy()\n",
    "\n",
    "        for i in range(len(predicts)):\n",
    "            result *= pred[i, attack_sbox_out[:, i]]\n",
    "            result = result /np.sum(result)\n",
    "            rank.append(list(np.argsort(result)[::-1]).index(attack_key[0][TARGET_BYTE])+1)\n",
    "        \n",
    "        np.save(self.save_dir + f'/rank_result_{epoch+1}', np.array(rank))\n",
    "        print(f'Epoch {epoch+1} - GE:{np.mean(rank)}, SR:{np.sum(np.array(rank)==1)/len(rank)} last trace rank:{rank[-1]}')\n"
   ]
  },
  {
   "cell_type": "code",
   "execution_count": 87,
   "id": "b005013c-84ad-485e-bfcf-83e20dc4f6c1",
   "metadata": {},
   "outputs": [],
   "source": [
    "rank_save_dir = f\"./save_file/fixed2_lr0.001_target_byte_{TARGET_BYTE}/rank_save/\"\n",
    "os.makedirs(rank_save_dir, exist_ok=True)"
   ]
  },
  {
   "cell_type": "code",
   "execution_count": 88,
   "id": "4b2215aa-0c66-483d-95d7-bf24b2d254f4",
   "metadata": {},
   "outputs": [
    {
     "name": "stdout",
     "output_type": "stream",
     "text": [
      "313/313 [==============================] - 0s 529us/step\n",
      "Epoch 1 - GE:68.4603, SR:0.0 last trace rank:49\n",
      "313/313 [==============================] - 0s 1ms/step\n",
      "Epoch 2 - GE:68.7945, SR:0.0 last trace rank:43\n",
      "313/313 [==============================] - 0s 505us/step\n",
      "Epoch 3 - GE:68.8085, SR:0.0 last trace rank:39\n",
      "313/313 [==============================] - 0s 531us/step\n",
      "Epoch 4 - GE:67.238975, SR:0.0 last trace rank:34\n",
      "313/313 [==============================] - 0s 518us/step\n",
      "Epoch 5 - GE:65.03216, SR:0.0 last trace rank:29\n",
      "313/313 [==============================] - 0s 610us/step\n",
      "Epoch 6 - GE:63.37361666666666, SR:0.0 last trace rank:30\n",
      "313/313 [==============================] - 0s 575us/step\n",
      "Epoch 7 - GE:60.711957142857145, SR:0.0 last trace rank:23\n",
      "313/313 [==============================] - 0s 521us/step\n",
      "Epoch 8 - GE:58.126025, SR:0.0 last trace rank:18\n",
      "313/313 [==============================] - 0s 541us/step\n",
      "Epoch 9 - GE:55.2458, SR:0.0 last trace rank:13\n",
      "313/313 [==============================] - 0s 566us/step\n",
      "Epoch 10 - GE:52.40272, SR:0.0 last trace rank:12\n",
      "313/313 [==============================] - 0s 548us/step\n",
      "Epoch 11 - GE:49.20869090909091, SR:0.0 last trace rank:4\n",
      "313/313 [==============================] - 0s 522us/step\n",
      "Epoch 12 - GE:46.27059166666667, SR:0.0 last trace rank:4\n",
      "313/313 [==============================] - 0s 496us/step\n",
      "Epoch 13 - GE:43.461076923076924, SR:0.006884615384615385 last trace rank:3\n",
      "313/313 [==============================] - 0s 530us/step\n",
      "Epoch 14 - GE:40.900085714285716, SR:0.015857142857142858 last trace rank:3\n",
      "313/313 [==============================] - 0s 611us/step\n",
      "Epoch 15 - GE:38.594393333333336, SR:0.028393333333333333 last trace rank:1\n",
      "313/313 [==============================] - 0s 749us/step\n",
      "Epoch 16 - GE:36.52274375, SR:0.043325 last trace rank:1\n",
      "313/313 [==============================] - 0s 658us/step\n",
      "Epoch 17 - GE:34.618805882352945, SR:0.07283529411764705 last trace rank:1\n",
      "313/313 [==============================] - 0s 535us/step\n",
      "Epoch 18 - GE:32.91437222222222, SR:0.10251666666666667 last trace rank:1\n",
      "313/313 [==============================] - 0s 605us/step\n",
      "Epoch 19 - GE:31.361536842105263, SR:0.13378421052631578 last trace rank:1\n",
      "313/313 [==============================] - 0s 700us/step\n",
      "Epoch 20 - GE:29.932555, SR:0.16841 last trace rank:1\n",
      "313/313 [==============================] - 0s 747us/step\n",
      "Epoch 21 - GE:28.629761904761907, SR:0.20277142857142857 last trace rank:1\n",
      "313/313 [==============================] - 0s 535us/step\n",
      "Epoch 22 - GE:27.446095454545453, SR:0.23556363636363636 last trace rank:1\n",
      "313/313 [==============================] - 0s 520us/step\n",
      "Epoch 23 - GE:26.35958695652174, SR:0.2660347826086957 last trace rank:1\n",
      "313/313 [==============================] - 0s 597us/step\n",
      "Epoch 24 - GE:25.354866666666666, SR:0.2940625 last trace rank:1\n",
      "313/313 [==============================] - 0s 561us/step\n",
      "Epoch 25 - GE:24.431444, SR:0.320276 last trace rank:1\n",
      "313/313 [==============================] - 0s 499us/step\n",
      "Epoch 26 - GE:23.57328076923077, SR:0.34486153846153844 last trace rank:1\n",
      "313/313 [==============================] - 0s 591us/step\n",
      "Epoch 27 - GE:22.775474074074076, SR:0.3678666666666667 last trace rank:1\n",
      "313/313 [==============================] - 0s 512us/step\n",
      "Epoch 28 - GE:22.028639285714284, SR:0.38929285714285716 last trace rank:1\n",
      "313/313 [==============================] - 0s 526us/step\n",
      "Epoch 29 - GE:21.33612068965517, SR:0.4093103448275862 last trace rank:1\n",
      "313/313 [==============================] - 0s 660us/step\n",
      "Epoch 30 - GE:20.6842, SR:0.42815333333333333 last trace rank:1\n",
      "313/313 [==============================] - 0s 604us/step\n",
      "Epoch 31 - GE:20.073135483870967, SR:0.4459806451612903 last trace rank:1\n",
      "313/313 [==============================] - 0s 560us/step\n",
      "Epoch 32 - GE:19.4972625, SR:0.46275 last trace rank:1\n",
      "313/313 [==============================] - 0s 982us/step\n",
      "Epoch 33 - GE:18.954563636363638, SR:0.47853636363636365 last trace rank:1\n",
      "313/313 [==============================] - 0s 572us/step\n",
      "Epoch 34 - GE:18.441938235294117, SR:0.4934823529411765 last trace rank:1\n",
      "313/313 [==============================] - 0s 530us/step\n",
      "Epoch 35 - GE:17.95512857142857, SR:0.5075885714285714 last trace rank:1\n",
      "313/313 [==============================] - 0s 673us/step\n",
      "Epoch 36 - GE:17.497186111111112, SR:0.5209333333333334 last trace rank:1\n",
      "313/313 [==============================] - 0s 668us/step\n",
      "Epoch 37 - GE:17.060902702702702, SR:0.5335675675675675 last trace rank:1\n",
      "313/313 [==============================] - 0s 596us/step\n",
      "Epoch 38 - GE:16.6458, SR:0.5455526315789474 last trace rank:1\n",
      "313/313 [==============================] - 0s 822us/step\n",
      "Epoch 39 - GE:16.25041794871795, SR:0.5569615384615385 last trace rank:1\n",
      "313/313 [==============================] - 0s 573us/step\n",
      "Epoch 40 - GE:15.8740625, SR:0.5678075 last trace rank:1\n",
      "313/313 [==============================] - 0s 510us/step\n",
      "Epoch 41 - GE:15.515056097560976, SR:0.5781268292682927 last trace rank:1\n",
      "313/313 [==============================] - 0s 522us/step\n",
      "Epoch 42 - GE:15.172519047619048, SR:0.5879690476190477 last trace rank:1\n",
      "313/313 [==============================] - 0s 536us/step\n",
      "Epoch 43 - GE:14.845788372093024, SR:0.597353488372093 last trace rank:1\n",
      "313/313 [==============================] - 0s 691us/step\n",
      "Epoch 44 - GE:14.533381818181818, SR:0.6063272727272727 last trace rank:1\n",
      "313/313 [==============================] - 0s 648us/step\n",
      "Epoch 45 - GE:14.234662222222223, SR:0.6149044444444445 last trace rank:1\n",
      "313/313 [==============================] - 0s 541us/step\n",
      "Epoch 46 - GE:13.948786956521738, SR:0.6231152173913044 last trace rank:1\n",
      "313/313 [==============================] - 0s 1ms/step\n",
      "Epoch 47 - GE:13.674770212765958, SR:0.6310021276595744 last trace rank:1\n",
      "313/313 [==============================] - 0s 544us/step\n",
      "Epoch 48 - GE:13.412116666666666, SR:0.6385645833333333 last trace rank:1\n",
      "313/313 [==============================] - 0s 549us/step\n",
      "Epoch 49 - GE:13.160016326530613, SR:0.645834693877551 last trace rank:1\n",
      "313/313 [==============================] - 0s 808us/step\n",
      "Epoch 50 - GE:12.917934, SR:0.652818 last trace rank:1\n",
      "313/313 [==============================] - 0s 673us/step\n",
      "Epoch 51 - GE:12.685082352941176, SR:0.6595411764705882 last trace rank:1\n",
      "313/313 [==============================] - 0s 508us/step\n",
      "Epoch 52 - GE:12.461159615384615, SR:0.6660134615384615 last trace rank:1\n",
      "313/313 [==============================] - 0s 506us/step\n",
      "Epoch 53 - GE:12.245649056603774, SR:0.6722415094339622 last trace rank:1\n",
      "313/313 [==============================] - 0s 532us/step\n",
      "Epoch 54 - GE:12.038044444444445, SR:0.6782407407407407 last trace rank:1\n",
      "313/313 [==============================] - 0s 618us/step\n",
      "Epoch 55 - GE:11.837947272727273, SR:0.6840254545454545 last trace rank:1\n",
      "313/313 [==============================] - 0s 521us/step\n",
      "Epoch 56 - GE:11.644964285714286, SR:0.6896053571428571 last trace rank:1\n",
      "313/313 [==============================] - 0s 556us/step\n",
      "Epoch 57 - GE:11.458659649122808, SR:0.6949982456140351 last trace rank:1\n",
      "313/313 [==============================] - 0s 599us/step\n",
      "Epoch 58 - GE:11.278729310344827, SR:0.7002103448275863 last trace rank:1\n",
      "313/313 [==============================] - 0s 494us/step\n",
      "Epoch 59 - GE:11.104857627118644, SR:0.7052508474576271 last trace rank:1\n",
      "313/313 [==============================] - 0s 512us/step\n",
      "Epoch 60 - GE:10.936796666666666, SR:0.7101166666666666 last trace rank:1\n",
      "313/313 [==============================] - 0s 1ms/step\n",
      "Epoch 61 - GE:10.774173770491803, SR:0.7148344262295082 last trace rank:1\n",
      "313/313 [==============================] - 0s 527us/step\n",
      "Epoch 62 - GE:10.616775806451614, SR:0.7193967741935484 last trace rank:1\n",
      "313/313 [==============================] - 0s 591us/step\n",
      "Epoch 63 - GE:10.464365079365079, SR:0.7238142857142857 last trace rank:1\n",
      "313/313 [==============================] - 0s 692us/step\n",
      "Epoch 64 - GE:10.3167, SR:0.7280953125 last trace rank:1\n",
      "313/313 [==============================] - 0s 688us/step\n",
      "Epoch 65 - GE:10.173563076923077, SR:0.7322446153846154 last trace rank:1\n",
      "313/313 [==============================] - 0s 634us/step\n",
      "Epoch 66 - GE:10.034798484848485, SR:0.7362681818181818 last trace rank:1\n",
      "313/313 [==============================] - 0s 548us/step\n",
      "Epoch 67 - GE:9.900123880597015, SR:0.7401731343283582 last trace rank:1\n",
      "313/313 [==============================] - 0s 614us/step\n",
      "Epoch 68 - GE:9.769448529411765, SR:0.7439573529411765 last trace rank:1\n",
      "313/313 [==============================] - 0s 582us/step\n",
      "Epoch 69 - GE:9.642539130434782, SR:0.7476347826086956 last trace rank:1\n",
      "313/313 [==============================] - 0s 838us/step\n",
      "Epoch 70 - GE:9.519238571428572, SR:0.7512085714285714 last trace rank:1\n",
      "313/313 [==============================] - 0s 528us/step\n",
      "Epoch 71 - GE:9.399440845070423, SR:0.7546802816901409 last trace rank:1\n",
      "313/313 [==============================] - 0s 779us/step\n",
      "Epoch 72 - GE:9.282952777777778, SR:0.7580527777777778 last trace rank:1\n",
      "313/313 [==============================] - 0s 636us/step\n",
      "Epoch 73 - GE:9.169646575342465, SR:0.7613356164383561 last trace rank:1\n",
      "313/313 [==============================] - 0s 553us/step\n",
      "Epoch 74 - GE:9.059421621621622, SR:0.764527027027027 last trace rank:1\n",
      "313/313 [==============================] - 0s 534us/step\n",
      "Epoch 75 - GE:8.952118666666667, SR:0.767636 last trace rank:1\n",
      "313/313 [==============================] - 0s 805us/step\n",
      "Epoch 76 - GE:8.847613157894736, SR:0.7706631578947368 last trace rank:1\n",
      "313/313 [==============================] - 0s 498us/step\n",
      "Epoch 77 - GE:8.745831168831169, SR:0.7736116883116884 last trace rank:1\n"
     ]
    },
    {
     "ename": "KeyboardInterrupt",
     "evalue": "",
     "output_type": "error",
     "traceback": [
      "\u001b[0;31m---------------------------------------------------------------------------\u001b[0m",
      "\u001b[0;31mKeyboardInterrupt\u001b[0m                         Traceback (most recent call last)",
      "Cell \u001b[0;32mIn [88], line 1\u001b[0m\n\u001b[0;32m----> 1\u001b[0m result \u001b[38;5;241m=\u001b[39m \u001b[43mmodel\u001b[49m\u001b[38;5;241;43m.\u001b[39;49m\u001b[43mfit\u001b[49m\u001b[43m(\u001b[49m\u001b[43mtrain_trace2\u001b[49m\u001b[43m,\u001b[49m\u001b[43mtrain_sbox_out\u001b[49m\u001b[43m,\u001b[49m\u001b[43m  \u001b[49m\u001b[38;5;66;43;03m# 波形データとラベルデータ\u001b[39;49;00m\n\u001b[1;32m      2\u001b[0m \u001b[43m                        \u001b[49m\u001b[43mbatch_size\u001b[49m\u001b[38;5;241;43m=\u001b[39;49m\u001b[38;5;241;43m100\u001b[39;49m\u001b[43m,\u001b[49m\n\u001b[1;32m      3\u001b[0m \u001b[43m                        \u001b[49m\u001b[43mepochs\u001b[49m\u001b[38;5;241;43m=\u001b[39;49m\u001b[38;5;241;43m200\u001b[39;49m\u001b[43m,\u001b[49m\u001b[43m     \u001b[49m\u001b[38;5;66;43;03m# エポック数の指定\u001b[39;49;00m\n\u001b[1;32m      4\u001b[0m \u001b[43m                        \u001b[49m\u001b[43mvalidation_data\u001b[49m\u001b[38;5;241;43m=\u001b[39;49m\u001b[43m(\u001b[49m\u001b[43mtest_trace2\u001b[49m\u001b[43m,\u001b[49m\u001b[43mtest_sbox_out\u001b[49m\u001b[43m)\u001b[49m\u001b[43m,\u001b[49m\n\u001b[1;32m      5\u001b[0m \u001b[43m                        \u001b[49m\u001b[43mcallbacks\u001b[49m\u001b[38;5;241;43m=\u001b[39;49m\u001b[43m[\u001b[49m\u001b[43mCustomCallback\u001b[49m\u001b[43m(\u001b[49m\u001b[43mtest_trace2\u001b[49m\u001b[43m,\u001b[49m\u001b[43m \u001b[49m\u001b[43mtest_sbox_out\u001b[49m\u001b[43m,\u001b[49m\u001b[43m \u001b[49m\u001b[43mTARGET_BYTE\u001b[49m\u001b[43m,\u001b[49m\u001b[43m \u001b[49m\u001b[43mrank_save_dir\u001b[49m\u001b[43m)\u001b[49m\u001b[43m]\u001b[49m\u001b[43m,\u001b[49m\n\u001b[1;32m      6\u001b[0m \u001b[43m                       \u001b[49m\u001b[43mverbose\u001b[49m\u001b[43m \u001b[49m\u001b[38;5;241;43m=\u001b[39;49m\u001b[43m \u001b[49m\u001b[38;5;241;43m0\u001b[39;49m\n\u001b[1;32m      7\u001b[0m \u001b[43m                        \u001b[49m\u001b[43m)\u001b[49m\n",
      "File \u001b[0;32m/usr/local/lib/python3.8/dist-packages/keras/utils/traceback_utils.py:65\u001b[0m, in \u001b[0;36mfilter_traceback.<locals>.error_handler\u001b[0;34m(*args, **kwargs)\u001b[0m\n\u001b[1;32m     63\u001b[0m filtered_tb \u001b[38;5;241m=\u001b[39m \u001b[38;5;28;01mNone\u001b[39;00m\n\u001b[1;32m     64\u001b[0m \u001b[38;5;28;01mtry\u001b[39;00m:\n\u001b[0;32m---> 65\u001b[0m     \u001b[38;5;28;01mreturn\u001b[39;00m \u001b[43mfn\u001b[49m\u001b[43m(\u001b[49m\u001b[38;5;241;43m*\u001b[39;49m\u001b[43margs\u001b[49m\u001b[43m,\u001b[49m\u001b[43m \u001b[49m\u001b[38;5;241;43m*\u001b[39;49m\u001b[38;5;241;43m*\u001b[39;49m\u001b[43mkwargs\u001b[49m\u001b[43m)\u001b[49m\n\u001b[1;32m     66\u001b[0m \u001b[38;5;28;01mexcept\u001b[39;00m \u001b[38;5;167;01mException\u001b[39;00m \u001b[38;5;28;01mas\u001b[39;00m e:\n\u001b[1;32m     67\u001b[0m     filtered_tb \u001b[38;5;241m=\u001b[39m _process_traceback_frames(e\u001b[38;5;241m.\u001b[39m__traceback__)\n",
      "File \u001b[0;32m/usr/local/lib/python3.8/dist-packages/keras/engine/training.py:1650\u001b[0m, in \u001b[0;36mModel.fit\u001b[0;34m(self, x, y, batch_size, epochs, verbose, callbacks, validation_split, validation_data, shuffle, class_weight, sample_weight, initial_epoch, steps_per_epoch, validation_steps, validation_batch_size, validation_freq, max_queue_size, workers, use_multiprocessing)\u001b[0m\n\u001b[1;32m   1642\u001b[0m \u001b[38;5;28;01mwith\u001b[39;00m tf\u001b[38;5;241m.\u001b[39mprofiler\u001b[38;5;241m.\u001b[39mexperimental\u001b[38;5;241m.\u001b[39mTrace(\n\u001b[1;32m   1643\u001b[0m     \u001b[38;5;124m\"\u001b[39m\u001b[38;5;124mtrain\u001b[39m\u001b[38;5;124m\"\u001b[39m,\n\u001b[1;32m   1644\u001b[0m     epoch_num\u001b[38;5;241m=\u001b[39mepoch,\n\u001b[0;32m   (...)\u001b[0m\n\u001b[1;32m   1647\u001b[0m     _r\u001b[38;5;241m=\u001b[39m\u001b[38;5;241m1\u001b[39m,\n\u001b[1;32m   1648\u001b[0m ):\n\u001b[1;32m   1649\u001b[0m     callbacks\u001b[38;5;241m.\u001b[39mon_train_batch_begin(step)\n\u001b[0;32m-> 1650\u001b[0m     tmp_logs \u001b[38;5;241m=\u001b[39m \u001b[38;5;28;43mself\u001b[39;49m\u001b[38;5;241;43m.\u001b[39;49m\u001b[43mtrain_function\u001b[49m\u001b[43m(\u001b[49m\u001b[43miterator\u001b[49m\u001b[43m)\u001b[49m\n\u001b[1;32m   1651\u001b[0m     \u001b[38;5;28;01mif\u001b[39;00m data_handler\u001b[38;5;241m.\u001b[39mshould_sync:\n\u001b[1;32m   1652\u001b[0m         context\u001b[38;5;241m.\u001b[39masync_wait()\n",
      "File \u001b[0;32m/usr/local/lib/python3.8/dist-packages/tensorflow/python/util/traceback_utils.py:150\u001b[0m, in \u001b[0;36mfilter_traceback.<locals>.error_handler\u001b[0;34m(*args, **kwargs)\u001b[0m\n\u001b[1;32m    148\u001b[0m filtered_tb \u001b[38;5;241m=\u001b[39m \u001b[38;5;28;01mNone\u001b[39;00m\n\u001b[1;32m    149\u001b[0m \u001b[38;5;28;01mtry\u001b[39;00m:\n\u001b[0;32m--> 150\u001b[0m   \u001b[38;5;28;01mreturn\u001b[39;00m \u001b[43mfn\u001b[49m\u001b[43m(\u001b[49m\u001b[38;5;241;43m*\u001b[39;49m\u001b[43margs\u001b[49m\u001b[43m,\u001b[49m\u001b[43m \u001b[49m\u001b[38;5;241;43m*\u001b[39;49m\u001b[38;5;241;43m*\u001b[39;49m\u001b[43mkwargs\u001b[49m\u001b[43m)\u001b[49m\n\u001b[1;32m    151\u001b[0m \u001b[38;5;28;01mexcept\u001b[39;00m \u001b[38;5;167;01mException\u001b[39;00m \u001b[38;5;28;01mas\u001b[39;00m e:\n\u001b[1;32m    152\u001b[0m   filtered_tb \u001b[38;5;241m=\u001b[39m _process_traceback_frames(e\u001b[38;5;241m.\u001b[39m__traceback__)\n",
      "File \u001b[0;32m/usr/local/lib/python3.8/dist-packages/tensorflow/python/eager/polymorphic_function/polymorphic_function.py:880\u001b[0m, in \u001b[0;36mFunction.__call__\u001b[0;34m(self, *args, **kwds)\u001b[0m\n\u001b[1;32m    877\u001b[0m compiler \u001b[38;5;241m=\u001b[39m \u001b[38;5;124m\"\u001b[39m\u001b[38;5;124mxla\u001b[39m\u001b[38;5;124m\"\u001b[39m \u001b[38;5;28;01mif\u001b[39;00m \u001b[38;5;28mself\u001b[39m\u001b[38;5;241m.\u001b[39m_jit_compile \u001b[38;5;28;01melse\u001b[39;00m \u001b[38;5;124m\"\u001b[39m\u001b[38;5;124mnonXla\u001b[39m\u001b[38;5;124m\"\u001b[39m\n\u001b[1;32m    879\u001b[0m \u001b[38;5;28;01mwith\u001b[39;00m OptionalXlaContext(\u001b[38;5;28mself\u001b[39m\u001b[38;5;241m.\u001b[39m_jit_compile):\n\u001b[0;32m--> 880\u001b[0m   result \u001b[38;5;241m=\u001b[39m \u001b[38;5;28;43mself\u001b[39;49m\u001b[38;5;241;43m.\u001b[39;49m\u001b[43m_call\u001b[49m\u001b[43m(\u001b[49m\u001b[38;5;241;43m*\u001b[39;49m\u001b[43margs\u001b[49m\u001b[43m,\u001b[49m\u001b[43m \u001b[49m\u001b[38;5;241;43m*\u001b[39;49m\u001b[38;5;241;43m*\u001b[39;49m\u001b[43mkwds\u001b[49m\u001b[43m)\u001b[49m\n\u001b[1;32m    882\u001b[0m new_tracing_count \u001b[38;5;241m=\u001b[39m \u001b[38;5;28mself\u001b[39m\u001b[38;5;241m.\u001b[39mexperimental_get_tracing_count()\n\u001b[1;32m    883\u001b[0m without_tracing \u001b[38;5;241m=\u001b[39m (tracing_count \u001b[38;5;241m==\u001b[39m new_tracing_count)\n",
      "File \u001b[0;32m/usr/local/lib/python3.8/dist-packages/tensorflow/python/eager/polymorphic_function/polymorphic_function.py:912\u001b[0m, in \u001b[0;36mFunction._call\u001b[0;34m(self, *args, **kwds)\u001b[0m\n\u001b[1;32m    909\u001b[0m   \u001b[38;5;28mself\u001b[39m\u001b[38;5;241m.\u001b[39m_lock\u001b[38;5;241m.\u001b[39mrelease()\n\u001b[1;32m    910\u001b[0m   \u001b[38;5;66;03m# In this case we have created variables on the first call, so we run the\u001b[39;00m\n\u001b[1;32m    911\u001b[0m   \u001b[38;5;66;03m# defunned version which is guaranteed to never create variables.\u001b[39;00m\n\u001b[0;32m--> 912\u001b[0m   \u001b[38;5;28;01mreturn\u001b[39;00m \u001b[38;5;28;43mself\u001b[39;49m\u001b[38;5;241;43m.\u001b[39;49m\u001b[43m_no_variable_creation_fn\u001b[49m\u001b[43m(\u001b[49m\u001b[38;5;241;43m*\u001b[39;49m\u001b[43margs\u001b[49m\u001b[43m,\u001b[49m\u001b[43m \u001b[49m\u001b[38;5;241;43m*\u001b[39;49m\u001b[38;5;241;43m*\u001b[39;49m\u001b[43mkwds\u001b[49m\u001b[43m)\u001b[49m  \u001b[38;5;66;03m# pylint: disable=not-callable\u001b[39;00m\n\u001b[1;32m    913\u001b[0m \u001b[38;5;28;01melif\u001b[39;00m \u001b[38;5;28mself\u001b[39m\u001b[38;5;241m.\u001b[39m_variable_creation_fn \u001b[38;5;129;01mis\u001b[39;00m \u001b[38;5;129;01mnot\u001b[39;00m \u001b[38;5;28;01mNone\u001b[39;00m:\n\u001b[1;32m    914\u001b[0m   \u001b[38;5;66;03m# Release the lock early so that multiple threads can perform the call\u001b[39;00m\n\u001b[1;32m    915\u001b[0m   \u001b[38;5;66;03m# in parallel.\u001b[39;00m\n\u001b[1;32m    916\u001b[0m   \u001b[38;5;28mself\u001b[39m\u001b[38;5;241m.\u001b[39m_lock\u001b[38;5;241m.\u001b[39mrelease()\n",
      "File \u001b[0;32m/usr/local/lib/python3.8/dist-packages/tensorflow/python/eager/polymorphic_function/tracing_compiler.py:134\u001b[0m, in \u001b[0;36mTracingCompiler.__call__\u001b[0;34m(self, *args, **kwargs)\u001b[0m\n\u001b[1;32m    131\u001b[0m \u001b[38;5;28;01mwith\u001b[39;00m \u001b[38;5;28mself\u001b[39m\u001b[38;5;241m.\u001b[39m_lock:\n\u001b[1;32m    132\u001b[0m   (concrete_function,\n\u001b[1;32m    133\u001b[0m    filtered_flat_args) \u001b[38;5;241m=\u001b[39m \u001b[38;5;28mself\u001b[39m\u001b[38;5;241m.\u001b[39m_maybe_define_function(args, kwargs)\n\u001b[0;32m--> 134\u001b[0m \u001b[38;5;28;01mreturn\u001b[39;00m \u001b[43mconcrete_function\u001b[49m\u001b[38;5;241;43m.\u001b[39;49m\u001b[43m_call_flat\u001b[49m\u001b[43m(\u001b[49m\n\u001b[1;32m    135\u001b[0m \u001b[43m    \u001b[49m\u001b[43mfiltered_flat_args\u001b[49m\u001b[43m,\u001b[49m\u001b[43m \u001b[49m\u001b[43mcaptured_inputs\u001b[49m\u001b[38;5;241;43m=\u001b[39;49m\u001b[43mconcrete_function\u001b[49m\u001b[38;5;241;43m.\u001b[39;49m\u001b[43mcaptured_inputs\u001b[49m\u001b[43m)\u001b[49m\n",
      "File \u001b[0;32m/usr/local/lib/python3.8/dist-packages/tensorflow/python/eager/polymorphic_function/monomorphic_function.py:1745\u001b[0m, in \u001b[0;36mConcreteFunction._call_flat\u001b[0;34m(self, args, captured_inputs, cancellation_manager)\u001b[0m\n\u001b[1;32m   1741\u001b[0m possible_gradient_type \u001b[38;5;241m=\u001b[39m gradients_util\u001b[38;5;241m.\u001b[39mPossibleTapeGradientTypes(args)\n\u001b[1;32m   1742\u001b[0m \u001b[38;5;28;01mif\u001b[39;00m (possible_gradient_type \u001b[38;5;241m==\u001b[39m gradients_util\u001b[38;5;241m.\u001b[39mPOSSIBLE_GRADIENT_TYPES_NONE\n\u001b[1;32m   1743\u001b[0m     \u001b[38;5;129;01mand\u001b[39;00m executing_eagerly):\n\u001b[1;32m   1744\u001b[0m   \u001b[38;5;66;03m# No tape is watching; skip to running the function.\u001b[39;00m\n\u001b[0;32m-> 1745\u001b[0m   \u001b[38;5;28;01mreturn\u001b[39;00m \u001b[38;5;28mself\u001b[39m\u001b[38;5;241m.\u001b[39m_build_call_outputs(\u001b[38;5;28;43mself\u001b[39;49m\u001b[38;5;241;43m.\u001b[39;49m\u001b[43m_inference_function\u001b[49m\u001b[38;5;241;43m.\u001b[39;49m\u001b[43mcall\u001b[49m\u001b[43m(\u001b[49m\n\u001b[1;32m   1746\u001b[0m \u001b[43m      \u001b[49m\u001b[43mctx\u001b[49m\u001b[43m,\u001b[49m\u001b[43m \u001b[49m\u001b[43margs\u001b[49m\u001b[43m,\u001b[49m\u001b[43m \u001b[49m\u001b[43mcancellation_manager\u001b[49m\u001b[38;5;241;43m=\u001b[39;49m\u001b[43mcancellation_manager\u001b[49m\u001b[43m)\u001b[49m)\n\u001b[1;32m   1747\u001b[0m forward_backward \u001b[38;5;241m=\u001b[39m \u001b[38;5;28mself\u001b[39m\u001b[38;5;241m.\u001b[39m_select_forward_and_backward_functions(\n\u001b[1;32m   1748\u001b[0m     args,\n\u001b[1;32m   1749\u001b[0m     possible_gradient_type,\n\u001b[1;32m   1750\u001b[0m     executing_eagerly)\n\u001b[1;32m   1751\u001b[0m forward_function, args_with_tangents \u001b[38;5;241m=\u001b[39m forward_backward\u001b[38;5;241m.\u001b[39mforward()\n",
      "File \u001b[0;32m/usr/local/lib/python3.8/dist-packages/tensorflow/python/eager/polymorphic_function/monomorphic_function.py:378\u001b[0m, in \u001b[0;36m_EagerDefinedFunction.call\u001b[0;34m(self, ctx, args, cancellation_manager)\u001b[0m\n\u001b[1;32m    376\u001b[0m \u001b[38;5;28;01mwith\u001b[39;00m _InterpolateFunctionError(\u001b[38;5;28mself\u001b[39m):\n\u001b[1;32m    377\u001b[0m   \u001b[38;5;28;01mif\u001b[39;00m cancellation_manager \u001b[38;5;129;01mis\u001b[39;00m \u001b[38;5;28;01mNone\u001b[39;00m:\n\u001b[0;32m--> 378\u001b[0m     outputs \u001b[38;5;241m=\u001b[39m \u001b[43mexecute\u001b[49m\u001b[38;5;241;43m.\u001b[39;49m\u001b[43mexecute\u001b[49m\u001b[43m(\u001b[49m\n\u001b[1;32m    379\u001b[0m \u001b[43m        \u001b[49m\u001b[38;5;28;43mstr\u001b[39;49m\u001b[43m(\u001b[49m\u001b[38;5;28;43mself\u001b[39;49m\u001b[38;5;241;43m.\u001b[39;49m\u001b[43msignature\u001b[49m\u001b[38;5;241;43m.\u001b[39;49m\u001b[43mname\u001b[49m\u001b[43m)\u001b[49m\u001b[43m,\u001b[49m\n\u001b[1;32m    380\u001b[0m \u001b[43m        \u001b[49m\u001b[43mnum_outputs\u001b[49m\u001b[38;5;241;43m=\u001b[39;49m\u001b[38;5;28;43mself\u001b[39;49m\u001b[38;5;241;43m.\u001b[39;49m\u001b[43m_num_outputs\u001b[49m\u001b[43m,\u001b[49m\n\u001b[1;32m    381\u001b[0m \u001b[43m        \u001b[49m\u001b[43minputs\u001b[49m\u001b[38;5;241;43m=\u001b[39;49m\u001b[43margs\u001b[49m\u001b[43m,\u001b[49m\n\u001b[1;32m    382\u001b[0m \u001b[43m        \u001b[49m\u001b[43mattrs\u001b[49m\u001b[38;5;241;43m=\u001b[39;49m\u001b[43mattrs\u001b[49m\u001b[43m,\u001b[49m\n\u001b[1;32m    383\u001b[0m \u001b[43m        \u001b[49m\u001b[43mctx\u001b[49m\u001b[38;5;241;43m=\u001b[39;49m\u001b[43mctx\u001b[49m\u001b[43m)\u001b[49m\n\u001b[1;32m    384\u001b[0m   \u001b[38;5;28;01melse\u001b[39;00m:\n\u001b[1;32m    385\u001b[0m     outputs \u001b[38;5;241m=\u001b[39m execute\u001b[38;5;241m.\u001b[39mexecute_with_cancellation(\n\u001b[1;32m    386\u001b[0m         \u001b[38;5;28mstr\u001b[39m(\u001b[38;5;28mself\u001b[39m\u001b[38;5;241m.\u001b[39msignature\u001b[38;5;241m.\u001b[39mname),\n\u001b[1;32m    387\u001b[0m         num_outputs\u001b[38;5;241m=\u001b[39m\u001b[38;5;28mself\u001b[39m\u001b[38;5;241m.\u001b[39m_num_outputs,\n\u001b[0;32m   (...)\u001b[0m\n\u001b[1;32m    390\u001b[0m         ctx\u001b[38;5;241m=\u001b[39mctx,\n\u001b[1;32m    391\u001b[0m         cancellation_manager\u001b[38;5;241m=\u001b[39mcancellation_manager)\n",
      "File \u001b[0;32m/usr/local/lib/python3.8/dist-packages/tensorflow/python/eager/execute.py:52\u001b[0m, in \u001b[0;36mquick_execute\u001b[0;34m(op_name, num_outputs, inputs, attrs, ctx, name)\u001b[0m\n\u001b[1;32m     50\u001b[0m \u001b[38;5;28;01mtry\u001b[39;00m:\n\u001b[1;32m     51\u001b[0m   ctx\u001b[38;5;241m.\u001b[39mensure_initialized()\n\u001b[0;32m---> 52\u001b[0m   tensors \u001b[38;5;241m=\u001b[39m \u001b[43mpywrap_tfe\u001b[49m\u001b[38;5;241;43m.\u001b[39;49m\u001b[43mTFE_Py_Execute\u001b[49m\u001b[43m(\u001b[49m\u001b[43mctx\u001b[49m\u001b[38;5;241;43m.\u001b[39;49m\u001b[43m_handle\u001b[49m\u001b[43m,\u001b[49m\u001b[43m \u001b[49m\u001b[43mdevice_name\u001b[49m\u001b[43m,\u001b[49m\u001b[43m \u001b[49m\u001b[43mop_name\u001b[49m\u001b[43m,\u001b[49m\n\u001b[1;32m     53\u001b[0m \u001b[43m                                      \u001b[49m\u001b[43minputs\u001b[49m\u001b[43m,\u001b[49m\u001b[43m \u001b[49m\u001b[43mattrs\u001b[49m\u001b[43m,\u001b[49m\u001b[43m \u001b[49m\u001b[43mnum_outputs\u001b[49m\u001b[43m)\u001b[49m\n\u001b[1;32m     54\u001b[0m \u001b[38;5;28;01mexcept\u001b[39;00m core\u001b[38;5;241m.\u001b[39m_NotOkStatusException \u001b[38;5;28;01mas\u001b[39;00m e:\n\u001b[1;32m     55\u001b[0m   \u001b[38;5;28;01mif\u001b[39;00m name \u001b[38;5;129;01mis\u001b[39;00m \u001b[38;5;129;01mnot\u001b[39;00m \u001b[38;5;28;01mNone\u001b[39;00m:\n",
      "\u001b[0;31mKeyboardInterrupt\u001b[0m: "
     ]
    }
   ],
   "source": [
    "result = model.fit(train_trace2,train_sbox_out,  # 波形データとラベルデータ\n",
    "                        batch_size=100,\n",
    "                        epochs=200,     # エポック数の指定\n",
    "                        validation_data=(test_trace2,test_sbox_out),\n",
    "                        callbacks=[CustomCallback(test_trace2, test_sbox_out, TARGET_BYTE, rank_save_dir)],\n",
    "                       verbose = 0\n",
    "                        )"
   ]
  },
  {
   "cell_type": "code",
   "execution_count": null,
   "id": "cf9e72ed-2d87-4dea-abbf-bb796a93dab3",
   "metadata": {},
   "outputs": [],
   "source": [
    "plt.figure()\n",
    "plt.plot(rank)\n",
    "plt.xlabel('wave')\n",
    "plt.ylabel('rank')\n",
    "plt.title('target_{}byte'.format(TARGET_BYTE))"
   ]
  },
  {
   "cell_type": "code",
   "execution_count": null,
   "id": "01cd5a1e-766c-4d20-bedb-f7698a8e6585",
   "metadata": {},
   "outputs": [],
   "source": [
    "plt.plot(result.history['accuracy'])\n",
    "plt.plot(result.history['val_accuracy'])"
   ]
  },
  {
   "cell_type": "code",
   "execution_count": null,
   "id": "78ccf6ea-d4e8-4695-a568-76776d66555c",
   "metadata": {},
   "outputs": [],
   "source": [
    "predicts = model.predict(attack_trace2)\n",
    "predicts = tf.nn.softmax(predicts)\n",
    "predicts.shape"
   ]
  },
  {
   "cell_type": "code",
   "execution_count": null,
   "id": "4b6fe978-7de1-4e46-9ce4-d9766dfb199d",
   "metadata": {},
   "outputs": [],
   "source": [
    "attack_plain=attack_metadata['plaintext']"
   ]
  },
  {
   "cell_type": "code",
   "execution_count": null,
   "id": "3698ce2d-3ac6-4610-983b-93186a134814",
   "metadata": {},
   "outputs": [],
   "source": [
    "attack_sbox_in = []\n",
    "for estimated_key in range(256): #256通りの推定鍵だけ繰り返す。\n",
    "    attack_sbox_in.append(attack_plain^np.array([estimated_key]*16)) #平文と推定鍵のXORがSbox(SubBytes)入力\n",
    "attack_sbox_in = np.array(attack_sbox_in)\n",
    "attack_sbox_out = np.array([AES_Sbox[i] for i in attack_sbox_in])\n",
    "attack_sbox_out = attack_sbox_out[:,:,TARGET_BYTE]"
   ]
  },
  {
   "cell_type": "code",
   "execution_count": null,
   "id": "c2ea32ee-ad99-4b09-9bfd-5c4542dc08dc",
   "metadata": {},
   "outputs": [],
   "source": [
    "attack_sbox_out = attack_sbox_out[:,50000:] #全体の内, 最後の10000を攻撃に使用"
   ]
  },
  {
   "cell_type": "code",
   "execution_count": null,
   "id": "6c9a56d5-fb1e-4907-8ed5-30f31d0115f1",
   "metadata": {},
   "outputs": [],
   "source": [
    "result2 = np.ones(256) /256\n",
    "rank = []\n",
    "attack_sbox_out = np.array(attack_sbox_out)\n",
    "pred = predicts.numpy()\n",
    "\n",
    "for i in range(len(predicts)):\n",
    "    result2 *= pred[i, attack_sbox_out[:, i]]\n",
    "    result2 = result2 /np.sum(result2)\n",
    "    rank.append(list(np.argsort(result2)[::-1]).index(attack_key[0][TARGET_BYTE])+1)\n",
    "    "
   ]
  },
  {
   "cell_type": "code",
   "execution_count": null,
   "id": "9a41319b-1245-4b11-a681-eab912e93e81",
   "metadata": {},
   "outputs": [],
   "source": [
    "rank_lim = rank[0:10000]\n",
    "plt.figure()\n",
    "plt.plot(rank_lim)\n",
    "plt.xlabel('wave')\n",
    "plt.ylabel('rank')\n",
    "plt.title('target_{}byte'.format(TARGET_BYTE))"
   ]
  },
  {
   "cell_type": "code",
   "execution_count": null,
   "id": "15fe12c1-f380-40ed-b577-7efa474b5dba",
   "metadata": {},
   "outputs": [],
   "source": [
    "TARGET_BYTE = 6 #何バイト目を攻撃するか決める"
   ]
  },
  {
   "cell_type": "code",
   "execution_count": null,
   "id": "7a1f815f-e334-46c9-be2d-d75dade12f06",
   "metadata": {},
   "outputs": [],
   "source": [
    "AES_Sbox = np.array([\n",
    "\t\t\t0x63, 0x7C, 0x77, 0x7B, 0xF2, 0x6B, 0x6F, 0xC5, 0x30, 0x01, 0x67, 0x2B, 0xFE, 0xD7, 0xAB, 0x76,\n",
    "\t\t\t0xCA, 0x82, 0xC9, 0x7D, 0xFA, 0x59, 0x47, 0xF0, 0xAD, 0xD4, 0xA2, 0xAF, 0x9C, 0xA4, 0x72, 0xC0,\n",
    "\t\t\t0xB7, 0xFD, 0x93, 0x26, 0x36, 0x3F, 0xF7, 0xCC, 0x34, 0xA5, 0xE5, 0xF1, 0x71, 0xD8, 0x31, 0x15,\n",
    "\t\t\t0x04, 0xC7, 0x23, 0xC3, 0x18, 0x96, 0x05, 0x9A, 0x07, 0x12, 0x80, 0xE2, 0xEB, 0x27, 0xB2, 0x75,\n",
    "\t\t\t0x09, 0x83, 0x2C, 0x1A, 0x1B, 0x6E, 0x5A, 0xA0, 0x52, 0x3B, 0xD6, 0xB3, 0x29, 0xE3, 0x2F, 0x84,\n",
    "\t\t\t0x53, 0xD1, 0x00, 0xED, 0x20, 0xFC, 0xB1, 0x5B, 0x6A, 0xCB, 0xBE, 0x39, 0x4A, 0x4C, 0x58, 0xCF,\n",
    "\t\t\t0xD0, 0xEF, 0xAA, 0xFB, 0x43, 0x4D, 0x33, 0x85, 0x45, 0xF9, 0x02, 0x7F, 0x50, 0x3C, 0x9F, 0xA8,\n",
    "\t\t\t0x51, 0xA3, 0x40, 0x8F, 0x92, 0x9D, 0x38, 0xF5, 0xBC, 0xB6, 0xDA, 0x21, 0x10, 0xFF, 0xF3, 0xD2,\n",
    "\t\t\t0xCD, 0x0C, 0x13, 0xEC, 0x5F, 0x97, 0x44, 0x17, 0xC4, 0xA7, 0x7E, 0x3D, 0x64, 0x5D, 0x19, 0x73,\n",
    "\t\t\t0x60, 0x81, 0x4F, 0xDC, 0x22, 0x2A, 0x90, 0x88, 0x46, 0xEE, 0xB8, 0x14, 0xDE, 0x5E, 0x0B, 0xDB,\n",
    "\t\t\t0xE0, 0x32, 0x3A, 0x0A, 0x49, 0x06, 0x24, 0x5C, 0xC2, 0xD3, 0xAC, 0x62, 0x91, 0x95, 0xE4, 0x79,\n",
    "\t\t\t0xE7, 0xC8, 0x37, 0x6D, 0x8D, 0xD5, 0x4E, 0xA9, 0x6C, 0x56, 0xF4, 0xEA, 0x65, 0x7A, 0xAE, 0x08,\n",
    "\t\t\t0xBA, 0x78, 0x25, 0x2E, 0x1C, 0xA6, 0xB4, 0xC6, 0xE8, 0xDD, 0x74, 0x1F, 0x4B, 0xBD, 0x8B, 0x8A,\n",
    "\t\t\t0x70, 0x3E, 0xB5, 0x66, 0x48, 0x03, 0xF6, 0x0E, 0x61, 0x35, 0x57, 0xB9, 0x86, 0xC1, 0x1D, 0x9E,\n",
    "\t\t\t0xE1, 0xF8, 0x98, 0x11, 0x69, 0xD9, 0x8E, 0x94, 0x9B, 0x1E, 0x87, 0xE9, 0xCE, 0x55, 0x28, 0xDF,\n",
    "\t\t\t0x8C, 0xA1, 0x89, 0x0D, 0xBF, 0xE6, 0x42, 0x68, 0x41, 0x99, 0x2D, 0x0F, 0xB0, 0x54, 0xBB, 0x16\n",
    "\t\t\t])"
   ]
  },
  {
   "cell_type": "code",
   "execution_count": null,
   "id": "3788e29d-851f-494f-8ec2-44cd7608b995",
   "metadata": {},
   "outputs": [],
   "source": [
    "data_train = h5py.File('ATMega8515_raw_traces.h5', 'r')\n",
    "data_test = h5py.File('ATMega8515_raw_traces.h5', 'r')\n",
    "data_attack = h5py.File('ATMega8515_raw_traces.h5', 'r')"
   ]
  },
  {
   "cell_type": "code",
   "execution_count": null,
   "id": "95d5c8b3-ae55-4827-a5e3-9d3a44ad5d19",
   "metadata": {},
   "outputs": [],
   "source": [
    "train_metadata=data_train['metadata']\n",
    "train_plain = train_metadata['plaintext']\n",
    "train_cipher = train_metadata['ciphertext']\n",
    "train_key = train_metadata['key']\n",
    "train_mask = train_metadata['masks']\n",
    "train_trace = data_train['traces']\n",
    "\n",
    "test_metadata=data_test['metadata']\n",
    "test_plain = test_metadata['plaintext']\n",
    "test_cipher = test_metadata['ciphertext']\n",
    "test_key = test_metadata['key']\n",
    "test_mask = test_metadata['masks']\n",
    "test_trace = data_train['traces']\n",
    "\n",
    "attack_metadata=data_attack['metadata']\n",
    "attack_plain = attack_metadata['plaintext']\n",
    "attack_cipher = attack_metadata['ciphertext']\n",
    "attack_key = attack_metadata['key']\n",
    "attack_mask = attack_metadata['masks']\n",
    "attack_trace = data_train['traces']"
   ]
  },
  {
   "cell_type": "code",
   "execution_count": null,
   "id": "44b938ad-205a-4052-9d02-470f7c416075",
   "metadata": {},
   "outputs": [],
   "source": [
    "print(train_metadata.shape, train_trace.shape, train_plain.shape, train_cipher.shape, train_key.shape, train_mask.shape)"
   ]
  },
  {
   "cell_type": "code",
   "execution_count": null,
   "id": "c33fb59e-3294-4fe2-a8d9-e8c54b48571f",
   "metadata": {},
   "outputs": [],
   "source": [
    "keys=np.array([0x4D,0xFB,0xE0,0xF2,0x72,0x21,0xFE,0x10,0xA7,0x8D,0x4A,0xDC,0x8E,0x49,0x04,0x69])"
   ]
  },
  {
   "cell_type": "code",
   "execution_count": null,
   "id": "cbe89162-f9c9-41a5-8c0d-fb8857690f2c",
   "metadata": {},
   "outputs": [],
   "source": [
    "train_trace = train_trace[0:45000, 37071:37771]\n",
    "test_trace = test_trace[45000:50000, 37071:37771]\n",
    "attack_trace = attack_trace[50000:60000, 37071:37771]\n",
    "train_plain = train_plain[0:45000, :]\n",
    "test_plain = test_plain[45000:50000, :]\n",
    "train_trace2 = train_trace\n",
    "test_trace2 = test_trace\n",
    "attack_trace2 = attack_trace\n",
    "train_trace.shape"
   ]
  },
  {
   "cell_type": "code",
   "execution_count": null,
   "id": "a60440f9-85d0-4ee6-b0b8-0c3849802173",
   "metadata": {},
   "outputs": [],
   "source": [
    "train_key = train_key[0:45000,:]\n",
    "train_sbox_in = []\n",
    "train_sbox_in = np.array(train_plain^train_key) #平文と鍵のXORがSbox(SubBytes)入力\n",
    "train_sbox_out = np.array([AES_Sbox[i] for i in train_sbox_in])"
   ]
  },
  {
   "cell_type": "code",
   "execution_count": null,
   "id": "69c4ddc3-7607-4c3b-89e6-5f7d5320ba78",
   "metadata": {},
   "outputs": [],
   "source": [
    "test_key = test_key[0:5000,:]\n",
    "test_sbox_in = []\n",
    "test_sbox_in = np.array(test_plain^np.array(test_key)) #平文と鍵のXORがSbox(SubBytes)入力\n",
    "test_sbox_out = np.array([AES_Sbox[i] for i in test_sbox_in])"
   ]
  },
  {
   "cell_type": "code",
   "execution_count": null,
   "id": "e8a8d9b2-e354-4a8d-83bc-420ed786898a",
   "metadata": {},
   "outputs": [],
   "source": [
    "train_sbox_out = train_sbox_out[:,TARGET_BYTE]\n",
    "test_sbox_out = test_sbox_out[:,TARGET_BYTE]"
   ]
  },
  {
   "cell_type": "code",
   "execution_count": null,
   "id": "e229186b-4c27-4e8b-a4d1-a6996811ff00",
   "metadata": {},
   "outputs": [],
   "source": [
    "#波形データの標準化(データを平均で引いて標準偏差で割る)\n",
    "train_trace2 = (train_trace2 -np.mean(train_trace2, axis = 0))/np.std(train_trace2, axis = 0)\n",
    "\n",
    "test_trace2 = (test_trace2 - np.mean(test_trace2, axis = 0))/np.std(test_trace2, axis = 0)\n",
    "\n",
    "attack_trace2 = (attack_trace2 - np.mean(attack_trace2, axis = 0))/np.std(attack_trace2, axis = 0)\n",
    "\n",
    "#DeepLearningできるshapeに変更\n",
    "train_trace2 = train_trace2.reshape(45000,700,1)\n",
    "\n",
    "test_trace2 = test_trace2.reshape(5000,700,1)\n",
    "\n",
    "attack_trace2 = attack_trace2.reshape(10000,700,1)"
   ]
  },
  {
   "cell_type": "code",
   "execution_count": null,
   "id": "895943ae-ef62-4f65-ba4a-ed63785cc15f",
   "metadata": {},
   "outputs": [],
   "source": [
    "def mlp_best(node=200,layer_nb=6,input_dim=700):\n",
    "\tmodel = Sequential()\n",
    "\tmodel.add(Dense(node, input_dim=input_dim, activation='relu'))\n",
    "\tfor i in range(layer_nb-2):\n",
    "\t\tmodel.add(Dense(node, activation='relu'))\n",
    "\tmodel.add(Dense(256))\n",
    "\toptimizer = RMSprop(learning_rate=0.00001)\n",
    "\tloss_fn = tf.keras.losses.SparseCategoricalCrossentropy(from_logits=True)\n",
    "\t# model.compile(loss='categorical_crossentropy', optimizer=optimizer, metrics=['accuracy'])\n",
    "\tmodel.compile(loss=loss_fn, optimizer=optimizer, metrics=['accuracy'])\n",
    "\treturn model"
   ]
  },
  {
   "cell_type": "code",
   "execution_count": null,
   "id": "a36ebf30-4be3-4ad9-b451-4bd2eed2671e",
   "metadata": {},
   "outputs": [],
   "source": [
    "mlp_best()\n",
    "model=mlp_best(node=200,layer_nb=6,input_dim=700)"
   ]
  },
  {
   "cell_type": "code",
   "execution_count": null,
   "id": "6b80bd72-82f9-4390-a171-a4d6789035d8",
   "metadata": {},
   "outputs": [],
   "source": [
    "rank = []\n",
    "class CustomCallback(tf.keras.callbacks.Callback):\n",
    "    def __init__(self, test_trace2 , label, TARGET_BYTE, rank_save_dir, *args, **kwargs):\n",
    "        super().__init__(*args, **kwargs)\n",
    "        self.data_test = test_trace2\n",
    "        self.label = label.T\n",
    "        self.target_byte = TARGET_BYTE\n",
    "        self.save_dir = rank_save_dir\n",
    "    def on_epoch_end(self, epoch, logs=None):\n",
    "        predicts = model.predict(attack_trace2)\n",
    "        predicts = tf.nn.softmax(predicts)\n",
    "        attack_plain=attack_metadata['plaintext']\n",
    "        attack_sbox_in = []\n",
    "        for estimated_key in range(256): #256通りの推定鍵だけ繰り返す。\n",
    "            attack_sbox_in.append(attack_plain^np.array([estimated_key]*16)) #平文と推定鍵のXORがSbox(SubBytes)入力\n",
    "        attack_sbox_in = np.array(attack_sbox_in)\n",
    "        attack_sbox_out = np.array([AES_Sbox[i] for i in attack_sbox_in])\n",
    "        attack_sbox_out = attack_sbox_out[:,:,TARGET_BYTE]\n",
    "        attack_sbox_out = attack_sbox_out[:,50000:] #全体の内, 最後の10000を攻撃に使用\n",
    "        result = np.ones(256) /256\n",
    "        attack_sbox_out = np.array(attack_sbox_out)\n",
    "        pred = predicts.numpy()\n",
    "\n",
    "        for i in range(len(predicts)):\n",
    "            result *= pred[i, attack_sbox_out[:, i]]\n",
    "            result = result /np.sum(result)\n",
    "            rank.append(list(np.argsort(result)[::-1]).index(attack_key[0][TARGET_BYTE])+1)\n",
    "        \n",
    "        np.save(self.save_dir + f'/rank_result_{epoch+1}', np.array(rank))\n",
    "        print(f'Epoch {epoch+1} - GE:{np.mean(rank)}, SR:{np.sum(np.array(rank)==1)/len(rank)} last trace rank:{rank[-1]}')\n"
   ]
  },
  {
   "cell_type": "code",
   "execution_count": null,
   "id": "ade7f32a-efdc-4e5d-9c2f-ca93f1b5fbf4",
   "metadata": {},
   "outputs": [],
   "source": [
    "rank_save_dir = f\"./save_file/fixed2_lr0.001_target_byte_{TARGET_BYTE}/rank_save/\"\n",
    "os.makedirs(rank_save_dir, exist_ok=True)"
   ]
  },
  {
   "cell_type": "code",
   "execution_count": null,
   "id": "935dfd21-c435-45da-aee2-3284fa40b62d",
   "metadata": {},
   "outputs": [],
   "source": [
    "result = model.fit(train_trace2,train_sbox_out,  # 波形データとラベルデータ\n",
    "                        batch_size=100,\n",
    "                        epochs=200,     # エポック数の指定\n",
    "                        validation_data=(test_trace2,test_sbox_out),\n",
    "                        callbacks=[CustomCallback(test_trace2, test_sbox_out, TARGET_BYTE, rank_save_dir)],\n",
    "                       verbose = 0\n",
    "                        )"
   ]
  },
  {
   "cell_type": "code",
   "execution_count": null,
   "id": "275be244-e39d-45a2-8985-a63285556375",
   "metadata": {},
   "outputs": [],
   "source": [
    "plt.figure()\n",
    "plt.plot(rank)\n",
    "plt.xlabel('wave')\n",
    "plt.ylabel('rank')\n",
    "plt.title('target_{}byte'.format(TARGET_BYTE))"
   ]
  },
  {
   "cell_type": "code",
   "execution_count": null,
   "id": "b9369f8f-d6a8-4043-8704-df4af21a51d2",
   "metadata": {},
   "outputs": [],
   "source": [
    "plt.plot(result.history['accuracy'])\n",
    "plt.plot(result.history['val_accuracy'])"
   ]
  },
  {
   "cell_type": "code",
   "execution_count": null,
   "id": "2264f0f5-5ec0-411e-9baa-67a1f4f5f841",
   "metadata": {},
   "outputs": [],
   "source": [
    "predicts = model.predict(attack_trace2)\n",
    "predicts = tf.nn.softmax(predicts)\n",
    "predicts.shape"
   ]
  },
  {
   "cell_type": "code",
   "execution_count": null,
   "id": "99b32172-ca8f-4289-ba23-be43b3be85b3",
   "metadata": {},
   "outputs": [],
   "source": [
    "attack_plain=attack_metadata['plaintext']"
   ]
  },
  {
   "cell_type": "code",
   "execution_count": null,
   "id": "c3b7db64-1396-43ae-9fc6-6389fa02e4a0",
   "metadata": {},
   "outputs": [],
   "source": [
    "attack_sbox_in = []\n",
    "for estimated_key in range(256): #256通りの推定鍵だけ繰り返す。\n",
    "    attack_sbox_in.append(attack_plain^np.array([estimated_key]*16)) #平文と推定鍵のXORがSbox(SubBytes)入力\n",
    "attack_sbox_in = np.array(attack_sbox_in)\n",
    "attack_sbox_out = np.array([AES_Sbox[i] for i in attack_sbox_in])\n",
    "attack_sbox_out = attack_sbox_out[:,:,TARGET_BYTE]"
   ]
  },
  {
   "cell_type": "code",
   "execution_count": null,
   "id": "9b1f7a54-1a98-442a-9160-5ae7cd4b6be5",
   "metadata": {},
   "outputs": [],
   "source": [
    "attack_sbox_out = attack_sbox_out[:,50000:] #全体の内, 最後の10000を攻撃に使用"
   ]
  },
  {
   "cell_type": "code",
   "execution_count": null,
   "id": "170a184d-fdbd-4e38-906a-1fb10c5b7299",
   "metadata": {},
   "outputs": [],
   "source": [
    "result2 = np.ones(256) /256\n",
    "rank = []\n",
    "attack_sbox_out = np.array(attack_sbox_out)\n",
    "pred = predicts.numpy()\n",
    "\n",
    "for i in range(len(predicts)):\n",
    "    result2 *= pred[i, attack_sbox_out[:, i]]\n",
    "    result2 = result2 /np.sum(result2)\n",
    "    rank.append(list(np.argsort(result2)[::-1]).index(attack_key[0][TARGET_BYTE])+1)\n",
    "    "
   ]
  },
  {
   "cell_type": "code",
   "execution_count": null,
   "id": "b5a3364b-34cb-4710-a01b-e7b7fbab6269",
   "metadata": {},
   "outputs": [],
   "source": [
    "rank_lim = rank[0:10000]\n",
    "plt.figure()\n",
    "plt.plot(rank_lim)\n",
    "plt.xlabel('wave')\n",
    "plt.ylabel('rank')\n",
    "plt.title('target_{}byte'.format(TARGET_BYTE))"
   ]
  },
  {
   "cell_type": "code",
   "execution_count": null,
   "id": "35b6411a-2d2f-41e9-be0d-d0f4e2129a36",
   "metadata": {},
   "outputs": [],
   "source": [
    "TARGET_BYTE = 7 #何バイト目を攻撃するか決める"
   ]
  },
  {
   "cell_type": "code",
   "execution_count": null,
   "id": "1518c27a-5ecb-4357-98b8-c96e9004d5b0",
   "metadata": {},
   "outputs": [],
   "source": [
    "AES_Sbox = np.array([\n",
    "\t\t\t0x63, 0x7C, 0x77, 0x7B, 0xF2, 0x6B, 0x6F, 0xC5, 0x30, 0x01, 0x67, 0x2B, 0xFE, 0xD7, 0xAB, 0x76,\n",
    "\t\t\t0xCA, 0x82, 0xC9, 0x7D, 0xFA, 0x59, 0x47, 0xF0, 0xAD, 0xD4, 0xA2, 0xAF, 0x9C, 0xA4, 0x72, 0xC0,\n",
    "\t\t\t0xB7, 0xFD, 0x93, 0x26, 0x36, 0x3F, 0xF7, 0xCC, 0x34, 0xA5, 0xE5, 0xF1, 0x71, 0xD8, 0x31, 0x15,\n",
    "\t\t\t0x04, 0xC7, 0x23, 0xC3, 0x18, 0x96, 0x05, 0x9A, 0x07, 0x12, 0x80, 0xE2, 0xEB, 0x27, 0xB2, 0x75,\n",
    "\t\t\t0x09, 0x83, 0x2C, 0x1A, 0x1B, 0x6E, 0x5A, 0xA0, 0x52, 0x3B, 0xD6, 0xB3, 0x29, 0xE3, 0x2F, 0x84,\n",
    "\t\t\t0x53, 0xD1, 0x00, 0xED, 0x20, 0xFC, 0xB1, 0x5B, 0x6A, 0xCB, 0xBE, 0x39, 0x4A, 0x4C, 0x58, 0xCF,\n",
    "\t\t\t0xD0, 0xEF, 0xAA, 0xFB, 0x43, 0x4D, 0x33, 0x85, 0x45, 0xF9, 0x02, 0x7F, 0x50, 0x3C, 0x9F, 0xA8,\n",
    "\t\t\t0x51, 0xA3, 0x40, 0x8F, 0x92, 0x9D, 0x38, 0xF5, 0xBC, 0xB6, 0xDA, 0x21, 0x10, 0xFF, 0xF3, 0xD2,\n",
    "\t\t\t0xCD, 0x0C, 0x13, 0xEC, 0x5F, 0x97, 0x44, 0x17, 0xC4, 0xA7, 0x7E, 0x3D, 0x64, 0x5D, 0x19, 0x73,\n",
    "\t\t\t0x60, 0x81, 0x4F, 0xDC, 0x22, 0x2A, 0x90, 0x88, 0x46, 0xEE, 0xB8, 0x14, 0xDE, 0x5E, 0x0B, 0xDB,\n",
    "\t\t\t0xE0, 0x32, 0x3A, 0x0A, 0x49, 0x06, 0x24, 0x5C, 0xC2, 0xD3, 0xAC, 0x62, 0x91, 0x95, 0xE4, 0x79,\n",
    "\t\t\t0xE7, 0xC8, 0x37, 0x6D, 0x8D, 0xD5, 0x4E, 0xA9, 0x6C, 0x56, 0xF4, 0xEA, 0x65, 0x7A, 0xAE, 0x08,\n",
    "\t\t\t0xBA, 0x78, 0x25, 0x2E, 0x1C, 0xA6, 0xB4, 0xC6, 0xE8, 0xDD, 0x74, 0x1F, 0x4B, 0xBD, 0x8B, 0x8A,\n",
    "\t\t\t0x70, 0x3E, 0xB5, 0x66, 0x48, 0x03, 0xF6, 0x0E, 0x61, 0x35, 0x57, 0xB9, 0x86, 0xC1, 0x1D, 0x9E,\n",
    "\t\t\t0xE1, 0xF8, 0x98, 0x11, 0x69, 0xD9, 0x8E, 0x94, 0x9B, 0x1E, 0x87, 0xE9, 0xCE, 0x55, 0x28, 0xDF,\n",
    "\t\t\t0x8C, 0xA1, 0x89, 0x0D, 0xBF, 0xE6, 0x42, 0x68, 0x41, 0x99, 0x2D, 0x0F, 0xB0, 0x54, 0xBB, 0x16\n",
    "\t\t\t])"
   ]
  },
  {
   "cell_type": "code",
   "execution_count": null,
   "id": "5b01962e-f5dd-477d-8957-88de00fb2792",
   "metadata": {},
   "outputs": [],
   "source": [
    "data_train = h5py.File('ATMega8515_raw_traces.h5', 'r')\n",
    "data_test = h5py.File('ATMega8515_raw_traces.h5', 'r')\n",
    "data_attack = h5py.File('ATMega8515_raw_traces.h5', 'r')"
   ]
  },
  {
   "cell_type": "code",
   "execution_count": null,
   "id": "311b8f84-d29d-4e54-afae-c1ac39823eab",
   "metadata": {},
   "outputs": [],
   "source": [
    "train_metadata=data_train['metadata']\n",
    "train_plain = train_metadata['plaintext']\n",
    "train_cipher = train_metadata['ciphertext']\n",
    "train_key = train_metadata['key']\n",
    "train_mask = train_metadata['masks']\n",
    "train_trace = data_train['traces']\n",
    "\n",
    "test_metadata=data_test['metadata']\n",
    "test_plain = test_metadata['plaintext']\n",
    "test_cipher = test_metadata['ciphertext']\n",
    "test_key = test_metadata['key']\n",
    "test_mask = test_metadata['masks']\n",
    "test_trace = data_train['traces']\n",
    "\n",
    "attack_metadata=data_attack['metadata']\n",
    "attack_plain = attack_metadata['plaintext']\n",
    "attack_cipher = attack_metadata['ciphertext']\n",
    "attack_key = attack_metadata['key']\n",
    "attack_mask = attack_metadata['masks']\n",
    "attack_trace = data_train['traces']"
   ]
  },
  {
   "cell_type": "code",
   "execution_count": null,
   "id": "fb3fa4d6-59ec-469b-8d7f-97512518ed64",
   "metadata": {},
   "outputs": [],
   "source": [
    "print(train_metadata.shape, train_trace.shape, train_plain.shape, train_cipher.shape, train_key.shape, train_mask.shape)"
   ]
  },
  {
   "cell_type": "code",
   "execution_count": null,
   "id": "b662d7db-4568-43e3-99a1-195514fe258e",
   "metadata": {},
   "outputs": [],
   "source": [
    "keys=np.array([0x4D,0xFB,0xE0,0xF2,0x72,0x21,0xFE,0x10,0xA7,0x8D,0x4A,0xDC,0x8E,0x49,0x04,0x69])"
   ]
  },
  {
   "cell_type": "code",
   "execution_count": null,
   "id": "24aca809-309c-4095-9aa6-184d976228ab",
   "metadata": {},
   "outputs": [],
   "source": [
    "train_trace = train_trace[0:45000, 34989:35689]\n",
    "test_trace = test_trace[45000:50000, 34989:35689]\n",
    "attack_trace = attack_trace[50000:60000, 34989:35689]\n",
    "train_plain = train_plain[0:45000, :]\n",
    "test_plain = test_plain[45000:50000, :]\n",
    "train_trace2 = train_trace\n",
    "test_trace2 = test_trace\n",
    "attack_trace2 = attack_trace\n",
    "train_trace.shape"
   ]
  },
  {
   "cell_type": "code",
   "execution_count": null,
   "id": "276829d3-210f-4ab3-8232-067c4a04d3f1",
   "metadata": {},
   "outputs": [],
   "source": [
    "train_key = train_key[0:45000,:]\n",
    "train_sbox_in = []\n",
    "train_sbox_in = np.array(train_plain^train_key) #平文と鍵のXORがSbox(SubBytes)入力\n",
    "train_sbox_out = np.array([AES_Sbox[i] for i in train_sbox_in])"
   ]
  },
  {
   "cell_type": "code",
   "execution_count": null,
   "id": "4e97c37b-bc5f-4426-a124-be2d0ecd192d",
   "metadata": {},
   "outputs": [],
   "source": [
    "test_key = test_key[0:5000,:]\n",
    "test_sbox_in = []\n",
    "test_sbox_in = np.array(test_plain^np.array(test_key)) #平文と鍵のXORがSbox(SubBytes)入力\n",
    "test_sbox_out = np.array([AES_Sbox[i] for i in test_sbox_in])"
   ]
  },
  {
   "cell_type": "code",
   "execution_count": null,
   "id": "f8798ee2-5dc8-4a32-9bed-1b22e8f706fb",
   "metadata": {},
   "outputs": [],
   "source": [
    "train_sbox_out = train_sbox_out[:,TARGET_BYTE]\n",
    "test_sbox_out = test_sbox_out[:,TARGET_BYTE]"
   ]
  },
  {
   "cell_type": "code",
   "execution_count": null,
   "id": "ebe855bc-5689-44e0-bcdd-ab6396453991",
   "metadata": {},
   "outputs": [],
   "source": [
    "#波形データの標準化(データを平均で引いて標準偏差で割る)\n",
    "train_trace2 = (train_trace2 -np.mean(train_trace2, axis = 0))/np.std(train_trace2, axis = 0)\n",
    "\n",
    "test_trace2 = (test_trace2 - np.mean(test_trace2, axis = 0))/np.std(test_trace2, axis = 0)\n",
    "\n",
    "attack_trace2 = (attack_trace2 - np.mean(attack_trace2, axis = 0))/np.std(attack_trace2, axis = 0)\n",
    "\n",
    "#DeepLearningできるshapeに変更\n",
    "train_trace2 = train_trace2.reshape(45000,700,1)\n",
    "\n",
    "test_trace2 = test_trace2.reshape(5000,700,1)\n",
    "\n",
    "attack_trace2 = attack_trace2.reshape(10000,700,1)"
   ]
  },
  {
   "cell_type": "code",
   "execution_count": null,
   "id": "b3a88495-1e5d-4965-a215-b37ea6c18282",
   "metadata": {},
   "outputs": [],
   "source": [
    "def mlp_best(node=200,layer_nb=6,input_dim=700):\n",
    "\tmodel = Sequential()\n",
    "\tmodel.add(Dense(node, input_dim=input_dim, activation='relu'))\n",
    "\tfor i in range(layer_nb-2):\n",
    "\t\tmodel.add(Dense(node, activation='relu'))\n",
    "\tmodel.add(Dense(256))\n",
    "\toptimizer = RMSprop(learning_rate=0.00001)\n",
    "\tloss_fn = tf.keras.losses.SparseCategoricalCrossentropy(from_logits=True)\n",
    "\t# model.compile(loss='categorical_crossentropy', optimizer=optimizer, metrics=['accuracy'])\n",
    "\tmodel.compile(loss=loss_fn, optimizer=optimizer, metrics=['accuracy'])\n",
    "\treturn model"
   ]
  },
  {
   "cell_type": "code",
   "execution_count": null,
   "id": "b53287fe-32cc-4337-82d5-6effa47b9b28",
   "metadata": {},
   "outputs": [],
   "source": [
    "mlp_best()\n",
    "model=mlp_best(node=200,layer_nb=6,input_dim=700)"
   ]
  },
  {
   "cell_type": "code",
   "execution_count": null,
   "id": "b1426a16-8060-44aa-8a91-3fe21291fa2a",
   "metadata": {},
   "outputs": [],
   "source": [
    "rank = []\n",
    "class CustomCallback(tf.keras.callbacks.Callback):\n",
    "    def __init__(self, test_trace2 , label, TARGET_BYTE, rank_save_dir, *args, **kwargs):\n",
    "        super().__init__(*args, **kwargs)\n",
    "        self.data_test = test_trace2\n",
    "        self.label = label.T\n",
    "        self.target_byte = TARGET_BYTE\n",
    "        self.save_dir = rank_save_dir\n",
    "    def on_epoch_end(self, epoch, logs=None):\n",
    "        predicts = model.predict(attack_trace2)\n",
    "        predicts = tf.nn.softmax(predicts)\n",
    "        attack_plain=attack_metadata['plaintext']\n",
    "        attack_sbox_in = []\n",
    "        for estimated_key in range(256): #256通りの推定鍵だけ繰り返す。\n",
    "            attack_sbox_in.append(attack_plain^np.array([estimated_key]*16)) #平文と推定鍵のXORがSbox(SubBytes)入力\n",
    "        attack_sbox_in = np.array(attack_sbox_in)\n",
    "        attack_sbox_out = np.array([AES_Sbox[i] for i in attack_sbox_in])\n",
    "        attack_sbox_out = attack_sbox_out[:,:,TARGET_BYTE]\n",
    "        attack_sbox_out = attack_sbox_out[:,50000:] #全体の内, 最後の10000を攻撃に使用\n",
    "        result = np.ones(256) /256\n",
    "        attack_sbox_out = np.array(attack_sbox_out)\n",
    "        pred = predicts.numpy()\n",
    "\n",
    "        for i in range(len(predicts)):\n",
    "            result *= pred[i, attack_sbox_out[:, i]]\n",
    "            result = result /np.sum(result)\n",
    "            rank.append(list(np.argsort(result)[::-1]).index(attack_key[0][TARGET_BYTE])+1)\n",
    "        \n",
    "        np.save(self.save_dir + f'/rank_result_{epoch+1}', np.array(rank))\n",
    "        print(f'Epoch {epoch+1} - GE:{np.mean(rank)}, SR:{np.sum(np.array(rank)==1)/len(rank)} last trace rank:{rank[-1]}')\n"
   ]
  },
  {
   "cell_type": "code",
   "execution_count": null,
   "id": "3cfbf2ec-9d8f-42aa-a98b-1b13e8b2b620",
   "metadata": {},
   "outputs": [],
   "source": [
    "rank_save_dir = f\"./save_file/fixed2_lr0.001_target_byte_{TARGET_BYTE}/rank_save/\"\n",
    "os.makedirs(rank_save_dir, exist_ok=True)"
   ]
  },
  {
   "cell_type": "code",
   "execution_count": null,
   "id": "596d14a3-c029-40e4-8791-7280a9a1cd4c",
   "metadata": {},
   "outputs": [],
   "source": [
    "result = model.fit(train_trace2,train_sbox_out,  # 波形データとラベルデータ\n",
    "                        batch_size=100,\n",
    "                        epochs=200,     # エポック数の指定\n",
    "                        validation_data=(test_trace2,test_sbox_out),\n",
    "                        callbacks=[CustomCallback(test_trace2, test_sbox_out, TARGET_BYTE, rank_save_dir)],\n",
    "                       verbose = 0\n",
    "                        )"
   ]
  },
  {
   "cell_type": "code",
   "execution_count": null,
   "id": "ce065342-6afb-47a9-901c-d4adf162af4f",
   "metadata": {},
   "outputs": [],
   "source": [
    "plt.figure()\n",
    "plt.plot(rank)\n",
    "plt.xlabel('wave')\n",
    "plt.ylabel('rank')\n",
    "plt.title('target_{}byte'.format(TARGET_BYTE))"
   ]
  },
  {
   "cell_type": "code",
   "execution_count": null,
   "id": "118d91c3-8171-4acc-91e3-93af23f96df4",
   "metadata": {},
   "outputs": [],
   "source": [
    "plt.plot(result.history['accuracy'])\n",
    "plt.plot(result.history['val_accuracy'])"
   ]
  },
  {
   "cell_type": "code",
   "execution_count": null,
   "id": "acb3de7d-abf0-4c3e-8534-6bc54300c06b",
   "metadata": {},
   "outputs": [],
   "source": [
    "predicts = model.predict(attack_trace2)\n",
    "predicts = tf.nn.softmax(predicts)\n",
    "predicts.shape"
   ]
  },
  {
   "cell_type": "code",
   "execution_count": null,
   "id": "df126fd2-436b-4020-ae1c-0e80d285caa1",
   "metadata": {},
   "outputs": [],
   "source": [
    "attack_plain=attack_metadata['plaintext']"
   ]
  },
  {
   "cell_type": "code",
   "execution_count": null,
   "id": "fdf572ed-3782-4bf3-9ce9-231e0170cd25",
   "metadata": {},
   "outputs": [],
   "source": [
    "attack_sbox_in = []\n",
    "for estimated_key in range(256): #256通りの推定鍵だけ繰り返す。\n",
    "    attack_sbox_in.append(attack_plain^np.array([estimated_key]*16)) #平文と推定鍵のXORがSbox(SubBytes)入力\n",
    "attack_sbox_in = np.array(attack_sbox_in)\n",
    "attack_sbox_out = np.array([AES_Sbox[i] for i in attack_sbox_in])\n",
    "attack_sbox_out = attack_sbox_out[:,:,TARGET_BYTE]"
   ]
  },
  {
   "cell_type": "code",
   "execution_count": null,
   "id": "172a222b-6dc6-4452-a177-7d9b1132621b",
   "metadata": {},
   "outputs": [],
   "source": [
    "attack_sbox_out = attack_sbox_out[:,50000:] #全体の内, 最後の10000を攻撃に使用"
   ]
  },
  {
   "cell_type": "code",
   "execution_count": null,
   "id": "a83dbc83-c628-43fd-af98-0f6cdd5c25ae",
   "metadata": {},
   "outputs": [],
   "source": [
    "result2 = np.ones(256) /256\n",
    "rank = []\n",
    "attack_sbox_out = np.array(attack_sbox_out)\n",
    "pred = predicts.numpy()\n",
    "\n",
    "for i in range(len(predicts)):\n",
    "    result2 *= pred[i, attack_sbox_out[:, i]]\n",
    "    result2 = result2 /np.sum(result2)\n",
    "    rank.append(list(np.argsort(result2)[::-1]).index(attack_key[0][TARGET_BYTE])+1)\n",
    "    "
   ]
  },
  {
   "cell_type": "code",
   "execution_count": null,
   "id": "f313cf52-adf5-4093-8070-3b8a1c2d85d0",
   "metadata": {},
   "outputs": [],
   "source": [
    "rank_lim = rank[0:10000]\n",
    "plt.figure()\n",
    "plt.plot(rank_lim)\n",
    "plt.xlabel('wave')\n",
    "plt.ylabel('rank')\n",
    "plt.title('target_{}byte'.format(TARGET_BYTE))"
   ]
  },
  {
   "cell_type": "code",
   "execution_count": null,
   "id": "29f9e933-81ed-41a2-b90c-590743f77232",
   "metadata": {},
   "outputs": [],
   "source": [
    "TARGET_BYTE = 8 #何バイト目を攻撃するか決める"
   ]
  },
  {
   "cell_type": "code",
   "execution_count": null,
   "id": "6d862427-956a-49e1-8e46-259e65d44e2c",
   "metadata": {},
   "outputs": [],
   "source": [
    "AES_Sbox = np.array([\n",
    "\t\t\t0x63, 0x7C, 0x77, 0x7B, 0xF2, 0x6B, 0x6F, 0xC5, 0x30, 0x01, 0x67, 0x2B, 0xFE, 0xD7, 0xAB, 0x76,\n",
    "\t\t\t0xCA, 0x82, 0xC9, 0x7D, 0xFA, 0x59, 0x47, 0xF0, 0xAD, 0xD4, 0xA2, 0xAF, 0x9C, 0xA4, 0x72, 0xC0,\n",
    "\t\t\t0xB7, 0xFD, 0x93, 0x26, 0x36, 0x3F, 0xF7, 0xCC, 0x34, 0xA5, 0xE5, 0xF1, 0x71, 0xD8, 0x31, 0x15,\n",
    "\t\t\t0x04, 0xC7, 0x23, 0xC3, 0x18, 0x96, 0x05, 0x9A, 0x07, 0x12, 0x80, 0xE2, 0xEB, 0x27, 0xB2, 0x75,\n",
    "\t\t\t0x09, 0x83, 0x2C, 0x1A, 0x1B, 0x6E, 0x5A, 0xA0, 0x52, 0x3B, 0xD6, 0xB3, 0x29, 0xE3, 0x2F, 0x84,\n",
    "\t\t\t0x53, 0xD1, 0x00, 0xED, 0x20, 0xFC, 0xB1, 0x5B, 0x6A, 0xCB, 0xBE, 0x39, 0x4A, 0x4C, 0x58, 0xCF,\n",
    "\t\t\t0xD0, 0xEF, 0xAA, 0xFB, 0x43, 0x4D, 0x33, 0x85, 0x45, 0xF9, 0x02, 0x7F, 0x50, 0x3C, 0x9F, 0xA8,\n",
    "\t\t\t0x51, 0xA3, 0x40, 0x8F, 0x92, 0x9D, 0x38, 0xF5, 0xBC, 0xB6, 0xDA, 0x21, 0x10, 0xFF, 0xF3, 0xD2,\n",
    "\t\t\t0xCD, 0x0C, 0x13, 0xEC, 0x5F, 0x97, 0x44, 0x17, 0xC4, 0xA7, 0x7E, 0x3D, 0x64, 0x5D, 0x19, 0x73,\n",
    "\t\t\t0x60, 0x81, 0x4F, 0xDC, 0x22, 0x2A, 0x90, 0x88, 0x46, 0xEE, 0xB8, 0x14, 0xDE, 0x5E, 0x0B, 0xDB,\n",
    "\t\t\t0xE0, 0x32, 0x3A, 0x0A, 0x49, 0x06, 0x24, 0x5C, 0xC2, 0xD3, 0xAC, 0x62, 0x91, 0x95, 0xE4, 0x79,\n",
    "\t\t\t0xE7, 0xC8, 0x37, 0x6D, 0x8D, 0xD5, 0x4E, 0xA9, 0x6C, 0x56, 0xF4, 0xEA, 0x65, 0x7A, 0xAE, 0x08,\n",
    "\t\t\t0xBA, 0x78, 0x25, 0x2E, 0x1C, 0xA6, 0xB4, 0xC6, 0xE8, 0xDD, 0x74, 0x1F, 0x4B, 0xBD, 0x8B, 0x8A,\n",
    "\t\t\t0x70, 0x3E, 0xB5, 0x66, 0x48, 0x03, 0xF6, 0x0E, 0x61, 0x35, 0x57, 0xB9, 0x86, 0xC1, 0x1D, 0x9E,\n",
    "\t\t\t0xE1, 0xF8, 0x98, 0x11, 0x69, 0xD9, 0x8E, 0x94, 0x9B, 0x1E, 0x87, 0xE9, 0xCE, 0x55, 0x28, 0xDF,\n",
    "\t\t\t0x8C, 0xA1, 0x89, 0x0D, 0xBF, 0xE6, 0x42, 0x68, 0x41, 0x99, 0x2D, 0x0F, 0xB0, 0x54, 0xBB, 0x16\n",
    "\t\t\t])"
   ]
  },
  {
   "cell_type": "code",
   "execution_count": null,
   "id": "3006ea85-94ff-47b6-8ab7-77b44a4087d2",
   "metadata": {},
   "outputs": [],
   "source": [
    "data_train = h5py.File('ATMega8515_raw_traces.h5', 'r')\n",
    "data_test = h5py.File('ATMega8515_raw_traces.h5', 'r')\n",
    "data_attack = h5py.File('ATMega8515_raw_traces.h5', 'r')"
   ]
  },
  {
   "cell_type": "code",
   "execution_count": null,
   "id": "128f5514-cdef-45be-9a2e-dbf757943ed9",
   "metadata": {},
   "outputs": [],
   "source": [
    "train_metadata=data_train['metadata']\n",
    "train_plain = train_metadata['plaintext']\n",
    "train_cipher = train_metadata['ciphertext']\n",
    "train_key = train_metadata['key']\n",
    "train_mask = train_metadata['masks']\n",
    "train_trace = data_train['traces']\n",
    "\n",
    "test_metadata=data_test['metadata']\n",
    "test_plain = test_metadata['plaintext']\n",
    "test_cipher = test_metadata['ciphertext']\n",
    "test_key = test_metadata['key']\n",
    "test_mask = test_metadata['masks']\n",
    "test_trace = data_train['traces']\n",
    "\n",
    "attack_metadata=data_attack['metadata']\n",
    "attack_plain = attack_metadata['plaintext']\n",
    "attack_cipher = attack_metadata['ciphertext']\n",
    "attack_key = attack_metadata['key']\n",
    "attack_mask = attack_metadata['masks']\n",
    "attack_trace = data_train['traces']"
   ]
  },
  {
   "cell_type": "code",
   "execution_count": null,
   "id": "2d28dec6-ab47-412a-9dcd-5d66794339f6",
   "metadata": {},
   "outputs": [],
   "source": [
    "print(train_metadata.shape, train_trace.shape, train_plain.shape, train_cipher.shape, train_key.shape, train_mask.shape)"
   ]
  },
  {
   "cell_type": "code",
   "execution_count": null,
   "id": "8520c74e-461c-4fcd-add0-9a9072ddfcc5",
   "metadata": {},
   "outputs": [],
   "source": [
    "keys=np.array([0x4D,0xFB,0xE0,0xF2,0x72,0x21,0xFE,0x10,0xA7,0x8D,0x4A,0xDC,0x8E,0x49,0x04,0x69])"
   ]
  },
  {
   "cell_type": "code",
   "execution_count": null,
   "id": "b9c96bf9-54ac-4bfd-9012-bbfeb95faeff",
   "metadata": {},
   "outputs": [],
   "source": [
    "train_trace = train_trace[0:45000, 26660:27360]\n",
    "test_trace = test_trace[45000:50000, 26660:27360]\n",
    "attack_trace = attack_trace[50000:60000, 26660:27360]\n",
    "train_plain = train_plain[0:45000, :]\n",
    "test_plain = test_plain[45000:50000, :]\n",
    "train_trace2 = train_trace\n",
    "test_trace2 = test_trace\n",
    "attack_trace2 = attack_trace\n",
    "train_trace.shape"
   ]
  },
  {
   "cell_type": "code",
   "execution_count": null,
   "id": "6f6010c1-38aa-4008-81c7-32ddcaae98a4",
   "metadata": {},
   "outputs": [],
   "source": [
    "train_key = train_key[0:45000,:]\n",
    "train_sbox_in = []\n",
    "train_sbox_in = np.array(train_plain^train_key) #平文と鍵のXORがSbox(SubBytes)入力\n",
    "train_sbox_out = np.array([AES_Sbox[i] for i in train_sbox_in])"
   ]
  },
  {
   "cell_type": "code",
   "execution_count": null,
   "id": "50715721-3837-4ceb-98f1-227d7ae041bd",
   "metadata": {},
   "outputs": [],
   "source": [
    "test_key = test_key[0:5000,:]\n",
    "test_sbox_in = []\n",
    "test_sbox_in = np.array(test_plain^np.array(test_key)) #平文と鍵のXORがSbox(SubBytes)入力\n",
    "test_sbox_out = np.array([AES_Sbox[i] for i in test_sbox_in])"
   ]
  },
  {
   "cell_type": "code",
   "execution_count": null,
   "id": "f95c0965-1ecd-4031-9542-42010b2a92c7",
   "metadata": {},
   "outputs": [],
   "source": [
    "train_sbox_out = train_sbox_out[:,TARGET_BYTE]\n",
    "test_sbox_out = test_sbox_out[:,TARGET_BYTE]"
   ]
  },
  {
   "cell_type": "code",
   "execution_count": null,
   "id": "e37738c6-9b39-414e-b546-92ab7f706616",
   "metadata": {},
   "outputs": [],
   "source": [
    "#波形データの標準化(データを平均で引いて標準偏差で割る)\n",
    "train_trace2 = (train_trace2 -np.mean(train_trace2, axis = 0))/np.std(train_trace2, axis = 0)\n",
    "\n",
    "test_trace2 = (test_trace2 - np.mean(test_trace2, axis = 0))/np.std(test_trace2, axis = 0)\n",
    "\n",
    "attack_trace2 = (attack_trace2 - np.mean(attack_trace2, axis = 0))/np.std(attack_trace2, axis = 0)\n",
    "\n",
    "#DeepLearningできるshapeに変更\n",
    "train_trace2 = train_trace2.reshape(45000,700,1)\n",
    "\n",
    "test_trace2 = test_trace2.reshape(5000,700,1)\n",
    "\n",
    "attack_trace2 = attack_trace2.reshape(10000,700,1)"
   ]
  },
  {
   "cell_type": "code",
   "execution_count": null,
   "id": "774a581f-50d1-44b7-bae5-388a687aa702",
   "metadata": {},
   "outputs": [],
   "source": [
    "def mlp_best(node=200,layer_nb=6,input_dim=700):\n",
    "\tmodel = Sequential()\n",
    "\tmodel.add(Dense(node, input_dim=input_dim, activation='relu'))\n",
    "\tfor i in range(layer_nb-2):\n",
    "\t\tmodel.add(Dense(node, activation='relu'))\n",
    "\tmodel.add(Dense(256))\n",
    "\toptimizer = RMSprop(learning_rate=0.00001)\n",
    "\tloss_fn = tf.keras.losses.SparseCategoricalCrossentropy(from_logits=True)\n",
    "\t# model.compile(loss='categorical_crossentropy', optimizer=optimizer, metrics=['accuracy'])\n",
    "\tmodel.compile(loss=loss_fn, optimizer=optimizer, metrics=['accuracy'])\n",
    "\treturn model"
   ]
  },
  {
   "cell_type": "code",
   "execution_count": null,
   "id": "e61e5da1-f04d-4b38-a158-cb272f9098d9",
   "metadata": {},
   "outputs": [],
   "source": [
    "mlp_best()\n",
    "model=mlp_best(node=200,layer_nb=6,input_dim=700)"
   ]
  },
  {
   "cell_type": "code",
   "execution_count": null,
   "id": "df1cfdad-be31-4d35-9fd3-7bc1e403f8ae",
   "metadata": {},
   "outputs": [],
   "source": [
    "rank = []\n",
    "class CustomCallback(tf.keras.callbacks.Callback):\n",
    "    def __init__(self, test_trace2 , label, TARGET_BYTE, rank_save_dir, *args, **kwargs):\n",
    "        super().__init__(*args, **kwargs)\n",
    "        self.data_test = test_trace2\n",
    "        self.label = label.T\n",
    "        self.target_byte = TARGET_BYTE\n",
    "        self.save_dir = rank_save_dir\n",
    "    def on_epoch_end(self, epoch, logs=None):\n",
    "        predicts = model.predict(attack_trace2)\n",
    "        predicts = tf.nn.softmax(predicts)\n",
    "        attack_plain=attack_metadata['plaintext']\n",
    "        attack_sbox_in = []\n",
    "        for estimated_key in range(256): #256通りの推定鍵だけ繰り返す。\n",
    "            attack_sbox_in.append(attack_plain^np.array([estimated_key]*16)) #平文と推定鍵のXORがSbox(SubBytes)入力\n",
    "        attack_sbox_in = np.array(attack_sbox_in)\n",
    "        attack_sbox_out = np.array([AES_Sbox[i] for i in attack_sbox_in])\n",
    "        attack_sbox_out = attack_sbox_out[:,:,TARGET_BYTE]\n",
    "        attack_sbox_out = attack_sbox_out[:,50000:] #全体の内, 最後の10000を攻撃に使用\n",
    "        result = np.ones(256) /256\n",
    "        attack_sbox_out = np.array(attack_sbox_out)\n",
    "        pred = predicts.numpy()\n",
    "\n",
    "        for i in range(len(predicts)):\n",
    "            result *= pred[i, attack_sbox_out[:, i]]\n",
    "            result = result /np.sum(result)\n",
    "            rank.append(list(np.argsort(result)[::-1]).index(attack_key[0][TARGET_BYTE])+1)\n",
    "        \n",
    "        np.save(self.save_dir + f'/rank_result_{epoch+1}', np.array(rank))\n",
    "        print(f'Epoch {epoch+1} - GE:{np.mean(rank)}, SR:{np.sum(np.array(rank)==1)/len(rank)} last trace rank:{rank[-1]}')\n"
   ]
  },
  {
   "cell_type": "code",
   "execution_count": null,
   "id": "9e18f147-fd2a-45cd-b1b6-bea77ee3213d",
   "metadata": {},
   "outputs": [],
   "source": [
    "rank_save_dir = f\"./save_file/fixed2_lr0.001_target_byte_{TARGET_BYTE}/rank_save/\"\n",
    "os.makedirs(rank_save_dir, exist_ok=True)"
   ]
  },
  {
   "cell_type": "code",
   "execution_count": null,
   "id": "434d0f75-bacb-4dfe-b409-9bc1c9f9cd97",
   "metadata": {},
   "outputs": [],
   "source": [
    "result = model.fit(train_trace2,train_sbox_out,  # 波形データとラベルデータ\n",
    "                        batch_size=100,\n",
    "                        epochs=200,     # エポック数の指定\n",
    "                        validation_data=(test_trace2,test_sbox_out),\n",
    "                        callbacks=[CustomCallback(test_trace2, test_sbox_out, TARGET_BYTE, rank_save_dir)],\n",
    "                       verbose = 0\n",
    "                        )"
   ]
  },
  {
   "cell_type": "code",
   "execution_count": null,
   "id": "736e536b-9ac2-4091-b118-090446f187d3",
   "metadata": {},
   "outputs": [],
   "source": [
    "plt.figure()\n",
    "plt.plot(rank)\n",
    "plt.xlabel('wave')\n",
    "plt.ylabel('rank')\n",
    "plt.title('target_{}byte'.format(TARGET_BYTE))"
   ]
  },
  {
   "cell_type": "code",
   "execution_count": null,
   "id": "6328c182-8450-4619-a987-d126ecf4c706",
   "metadata": {},
   "outputs": [],
   "source": [
    "plt.plot(result.history['accuracy'])\n",
    "plt.plot(result.history['val_accuracy'])"
   ]
  },
  {
   "cell_type": "code",
   "execution_count": null,
   "id": "804a1049-2e7d-4c5a-be97-318c60977b4e",
   "metadata": {},
   "outputs": [],
   "source": [
    "predicts = model.predict(attack_trace2)\n",
    "predicts = tf.nn.softmax(predicts)\n",
    "predicts.shape"
   ]
  },
  {
   "cell_type": "code",
   "execution_count": null,
   "id": "88ba8b5f-8349-45c0-b72b-0aaebb7964b9",
   "metadata": {},
   "outputs": [],
   "source": [
    "attack_plain=attack_metadata['plaintext']"
   ]
  },
  {
   "cell_type": "code",
   "execution_count": null,
   "id": "7ade3f36-001c-485e-a148-f195f2170c4e",
   "metadata": {},
   "outputs": [],
   "source": [
    "attack_sbox_in = []\n",
    "for estimated_key in range(256): #256通りの推定鍵だけ繰り返す。\n",
    "    attack_sbox_in.append(attack_plain^np.array([estimated_key]*16)) #平文と推定鍵のXORがSbox(SubBytes)入力\n",
    "attack_sbox_in = np.array(attack_sbox_in)\n",
    "attack_sbox_out = np.array([AES_Sbox[i] for i in attack_sbox_in])\n",
    "attack_sbox_out = attack_sbox_out[:,:,TARGET_BYTE]"
   ]
  },
  {
   "cell_type": "code",
   "execution_count": null,
   "id": "f3962cd7-6ddc-4c07-bb67-bd62bd4976ee",
   "metadata": {},
   "outputs": [],
   "source": [
    "attack_sbox_out = attack_sbox_out[:,50000:] #全体の内, 最後の10000を攻撃に使用"
   ]
  },
  {
   "cell_type": "code",
   "execution_count": null,
   "id": "8365f36a-58ac-43cc-9d04-afe660cba87d",
   "metadata": {},
   "outputs": [],
   "source": [
    "result2 = np.ones(256) /256\n",
    "rank = []\n",
    "attack_sbox_out = np.array(attack_sbox_out)\n",
    "pred = predicts.numpy()\n",
    "\n",
    "for i in range(len(predicts)):\n",
    "    result2 *= pred[i, attack_sbox_out[:, i]]\n",
    "    result2 = result2 /np.sum(result2)\n",
    "    rank.append(list(np.argsort(result2)[::-1]).index(attack_key[0][TARGET_BYTE])+1)\n",
    "    "
   ]
  },
  {
   "cell_type": "code",
   "execution_count": null,
   "id": "42184094-b18d-4e60-bff5-912dc02aa6b9",
   "metadata": {},
   "outputs": [],
   "source": [
    "rank_lim = rank[0:10000]\n",
    "plt.figure()\n",
    "plt.plot(rank_lim)\n",
    "plt.xlabel('wave')\n",
    "plt.ylabel('rank')\n",
    "plt.title('target_{}byte'.format(TARGET_BYTE))"
   ]
  },
  {
   "cell_type": "code",
   "execution_count": null,
   "id": "281cfed2-82f5-4f66-a9fb-aba6a299e87a",
   "metadata": {},
   "outputs": [],
   "source": [
    "TARGET_BYTE = 9 #何バイト目を攻撃するか決める"
   ]
  },
  {
   "cell_type": "code",
   "execution_count": null,
   "id": "8fe71983-471c-4d77-89ad-9065380afb9c",
   "metadata": {},
   "outputs": [],
   "source": [
    "AES_Sbox = np.array([\n",
    "\t\t\t0x63, 0x7C, 0x77, 0x7B, 0xF2, 0x6B, 0x6F, 0xC5, 0x30, 0x01, 0x67, 0x2B, 0xFE, 0xD7, 0xAB, 0x76,\n",
    "\t\t\t0xCA, 0x82, 0xC9, 0x7D, 0xFA, 0x59, 0x47, 0xF0, 0xAD, 0xD4, 0xA2, 0xAF, 0x9C, 0xA4, 0x72, 0xC0,\n",
    "\t\t\t0xB7, 0xFD, 0x93, 0x26, 0x36, 0x3F, 0xF7, 0xCC, 0x34, 0xA5, 0xE5, 0xF1, 0x71, 0xD8, 0x31, 0x15,\n",
    "\t\t\t0x04, 0xC7, 0x23, 0xC3, 0x18, 0x96, 0x05, 0x9A, 0x07, 0x12, 0x80, 0xE2, 0xEB, 0x27, 0xB2, 0x75,\n",
    "\t\t\t0x09, 0x83, 0x2C, 0x1A, 0x1B, 0x6E, 0x5A, 0xA0, 0x52, 0x3B, 0xD6, 0xB3, 0x29, 0xE3, 0x2F, 0x84,\n",
    "\t\t\t0x53, 0xD1, 0x00, 0xED, 0x20, 0xFC, 0xB1, 0x5B, 0x6A, 0xCB, 0xBE, 0x39, 0x4A, 0x4C, 0x58, 0xCF,\n",
    "\t\t\t0xD0, 0xEF, 0xAA, 0xFB, 0x43, 0x4D, 0x33, 0x85, 0x45, 0xF9, 0x02, 0x7F, 0x50, 0x3C, 0x9F, 0xA8,\n",
    "\t\t\t0x51, 0xA3, 0x40, 0x8F, 0x92, 0x9D, 0x38, 0xF5, 0xBC, 0xB6, 0xDA, 0x21, 0x10, 0xFF, 0xF3, 0xD2,\n",
    "\t\t\t0xCD, 0x0C, 0x13, 0xEC, 0x5F, 0x97, 0x44, 0x17, 0xC4, 0xA7, 0x7E, 0x3D, 0x64, 0x5D, 0x19, 0x73,\n",
    "\t\t\t0x60, 0x81, 0x4F, 0xDC, 0x22, 0x2A, 0x90, 0x88, 0x46, 0xEE, 0xB8, 0x14, 0xDE, 0x5E, 0x0B, 0xDB,\n",
    "\t\t\t0xE0, 0x32, 0x3A, 0x0A, 0x49, 0x06, 0x24, 0x5C, 0xC2, 0xD3, 0xAC, 0x62, 0x91, 0x95, 0xE4, 0x79,\n",
    "\t\t\t0xE7, 0xC8, 0x37, 0x6D, 0x8D, 0xD5, 0x4E, 0xA9, 0x6C, 0x56, 0xF4, 0xEA, 0x65, 0x7A, 0xAE, 0x08,\n",
    "\t\t\t0xBA, 0x78, 0x25, 0x2E, 0x1C, 0xA6, 0xB4, 0xC6, 0xE8, 0xDD, 0x74, 0x1F, 0x4B, 0xBD, 0x8B, 0x8A,\n",
    "\t\t\t0x70, 0x3E, 0xB5, 0x66, 0x48, 0x03, 0xF6, 0x0E, 0x61, 0x35, 0x57, 0xB9, 0x86, 0xC1, 0x1D, 0x9E,\n",
    "\t\t\t0xE1, 0xF8, 0x98, 0x11, 0x69, 0xD9, 0x8E, 0x94, 0x9B, 0x1E, 0x87, 0xE9, 0xCE, 0x55, 0x28, 0xDF,\n",
    "\t\t\t0x8C, 0xA1, 0x89, 0x0D, 0xBF, 0xE6, 0x42, 0x68, 0x41, 0x99, 0x2D, 0x0F, 0xB0, 0x54, 0xBB, 0x16\n",
    "\t\t\t])"
   ]
  },
  {
   "cell_type": "code",
   "execution_count": null,
   "id": "91382ecb-11f3-42d9-82d1-936c716af597",
   "metadata": {},
   "outputs": [],
   "source": [
    "data_train = h5py.File('ATMega8515_raw_traces.h5', 'r')\n",
    "data_test = h5py.File('ATMega8515_raw_traces.h5', 'r')\n",
    "data_attack = h5py.File('ATMega8515_raw_traces.h5', 'r')"
   ]
  },
  {
   "cell_type": "code",
   "execution_count": null,
   "id": "8f227dbd-9d1f-472a-b942-658e2d83a164",
   "metadata": {},
   "outputs": [],
   "source": [
    "train_metadata=data_train['metadata']\n",
    "train_plain = train_metadata['plaintext']\n",
    "train_cipher = train_metadata['ciphertext']\n",
    "train_key = train_metadata['key']\n",
    "train_mask = train_metadata['masks']\n",
    "train_trace = data_train['traces']\n",
    "\n",
    "test_metadata=data_test['metadata']\n",
    "test_plain = test_metadata['plaintext']\n",
    "test_cipher = test_metadata['ciphertext']\n",
    "test_key = test_metadata['key']\n",
    "test_mask = test_metadata['masks']\n",
    "test_trace = data_train['traces']\n",
    "\n",
    "attack_metadata=data_attack['metadata']\n",
    "attack_plain = attack_metadata['plaintext']\n",
    "attack_cipher = attack_metadata['ciphertext']\n",
    "attack_key = attack_metadata['key']\n",
    "attack_mask = attack_metadata['masks']\n",
    "attack_trace = data_train['traces']"
   ]
  },
  {
   "cell_type": "code",
   "execution_count": null,
   "id": "3e5d5d4e-e3f6-4a34-94aa-b2823c31e1f9",
   "metadata": {},
   "outputs": [],
   "source": [
    "print(train_metadata.shape, train_trace.shape, train_plain.shape, train_cipher.shape, train_key.shape, train_mask.shape)"
   ]
  },
  {
   "cell_type": "code",
   "execution_count": null,
   "id": "9523afdd-6597-42d8-ba51-2fd9d7a4e370",
   "metadata": {},
   "outputs": [],
   "source": [
    "keys=np.array([0x4D,0xFB,0xE0,0xF2,0x72,0x21,0xFE,0x10,0xA7,0x8D,0x4A,0xDC,0x8E,0x49,0x04,0x69])"
   ]
  },
  {
   "cell_type": "code",
   "execution_count": null,
   "id": "4de81f5a-c13e-4a1f-b796-9a848ec2c3bf",
   "metadata": {},
   "outputs": [],
   "source": [
    "train_trace = train_trace[0:45000, 39154:39854]\n",
    "test_trace = test_trace[45000:50000, 39154:39854]\n",
    "attack_trace = attack_trace[50000:60000, 39154:39854]\n",
    "train_plain = train_plain[0:45000, :]\n",
    "test_plain = test_plain[45000:50000, :]\n",
    "train_trace2 = train_trace\n",
    "test_trace2 = test_trace\n",
    "attack_trace2 = attack_trace\n",
    "train_trace.shape"
   ]
  },
  {
   "cell_type": "code",
   "execution_count": null,
   "id": "c5a4488b-5a49-43d1-ac0e-0274e6ecdf6f",
   "metadata": {},
   "outputs": [],
   "source": [
    "train_key = train_key[0:45000,:]\n",
    "train_sbox_in = []\n",
    "train_sbox_in = np.array(train_plain^train_key) #平文と鍵のXORがSbox(SubBytes)入力\n",
    "train_sbox_out = np.array([AES_Sbox[i] for i in train_sbox_in])"
   ]
  },
  {
   "cell_type": "code",
   "execution_count": null,
   "id": "017be50a-65fd-465d-a435-c8b4244e2a85",
   "metadata": {},
   "outputs": [],
   "source": [
    "test_key = test_key[0:5000,:]\n",
    "test_sbox_in = []\n",
    "test_sbox_in = np.array(test_plain^np.array(test_key)) #平文と鍵のXORがSbox(SubBytes)入力\n",
    "test_sbox_out = np.array([AES_Sbox[i] for i in test_sbox_in])"
   ]
  },
  {
   "cell_type": "code",
   "execution_count": null,
   "id": "40f0ae4a-06fa-48b2-b6b0-79776652f057",
   "metadata": {},
   "outputs": [],
   "source": [
    "train_sbox_out = train_sbox_out[:,TARGET_BYTE]\n",
    "test_sbox_out = test_sbox_out[:,TARGET_BYTE]"
   ]
  },
  {
   "cell_type": "code",
   "execution_count": null,
   "id": "5e903b5a-3ca0-44bc-8dfc-35229fdadf23",
   "metadata": {},
   "outputs": [],
   "source": [
    "#波形データの標準化(データを平均で引いて標準偏差で割る)\n",
    "train_trace2 = (train_trace2 -np.mean(train_trace2, axis = 0))/np.std(train_trace2, axis = 0)\n",
    "\n",
    "test_trace2 = (test_trace2 - np.mean(test_trace2, axis = 0))/np.std(test_trace2, axis = 0)\n",
    "\n",
    "attack_trace2 = (attack_trace2 - np.mean(attack_trace2, axis = 0))/np.std(attack_trace2, axis = 0)\n",
    "\n",
    "#DeepLearningできるshapeに変更\n",
    "train_trace2 = train_trace2.reshape(45000,700,1)\n",
    "\n",
    "test_trace2 = test_trace2.reshape(5000,700,1)\n",
    "\n",
    "attack_trace2 = attack_trace2.reshape(10000,700,1)"
   ]
  },
  {
   "cell_type": "code",
   "execution_count": null,
   "id": "bc41b272-e999-4d74-babd-ad754243a011",
   "metadata": {},
   "outputs": [],
   "source": [
    "def mlp_best(node=200,layer_nb=6,input_dim=700):\n",
    "\tmodel = Sequential()\n",
    "\tmodel.add(Dense(node, input_dim=input_dim, activation='relu'))\n",
    "\tfor i in range(layer_nb-2):\n",
    "\t\tmodel.add(Dense(node, activation='relu'))\n",
    "\tmodel.add(Dense(256))\n",
    "\toptimizer = RMSprop(learning_rate=0.00001)\n",
    "\tloss_fn = tf.keras.losses.SparseCategoricalCrossentropy(from_logits=True)\n",
    "\t# model.compile(loss='categorical_crossentropy', optimizer=optimizer, metrics=['accuracy'])\n",
    "\tmodel.compile(loss=loss_fn, optimizer=optimizer, metrics=['accuracy'])\n",
    "\treturn model"
   ]
  },
  {
   "cell_type": "code",
   "execution_count": null,
   "id": "bb437725-ed5b-4176-8ef9-794f9fbefeda",
   "metadata": {},
   "outputs": [],
   "source": [
    "mlp_best()\n",
    "model=mlp_best(node=200,layer_nb=6,input_dim=700)"
   ]
  },
  {
   "cell_type": "code",
   "execution_count": null,
   "id": "9ce9f4ff-6182-4948-bb7f-2031de1df686",
   "metadata": {},
   "outputs": [],
   "source": [
    "rank = []\n",
    "class CustomCallback(tf.keras.callbacks.Callback):\n",
    "    def __init__(self, test_trace2 , label, TARGET_BYTE, rank_save_dir, *args, **kwargs):\n",
    "        super().__init__(*args, **kwargs)\n",
    "        self.data_test = test_trace2\n",
    "        self.label = label.T\n",
    "        self.target_byte = TARGET_BYTE\n",
    "        self.save_dir = rank_save_dir\n",
    "    def on_epoch_end(self, epoch, logs=None):\n",
    "        predicts = model.predict(attack_trace2)\n",
    "        predicts = tf.nn.softmax(predicts)\n",
    "        attack_plain=attack_metadata['plaintext']\n",
    "        attack_sbox_in = []\n",
    "        for estimated_key in range(256): #256通りの推定鍵だけ繰り返す。\n",
    "            attack_sbox_in.append(attack_plain^np.array([estimated_key]*16)) #平文と推定鍵のXORがSbox(SubBytes)入力\n",
    "        attack_sbox_in = np.array(attack_sbox_in)\n",
    "        attack_sbox_out = np.array([AES_Sbox[i] for i in attack_sbox_in])\n",
    "        attack_sbox_out = attack_sbox_out[:,:,TARGET_BYTE]\n",
    "        attack_sbox_out = attack_sbox_out[:,50000:] #全体の内, 最後の10000を攻撃に使用\n",
    "        result = np.ones(256) /256\n",
    "        attack_sbox_out = np.array(attack_sbox_out)\n",
    "        pred = predicts.numpy()\n",
    "\n",
    "        for i in range(len(predicts)):\n",
    "            result *= pred[i, attack_sbox_out[:, i]]\n",
    "            result = result /np.sum(result)\n",
    "            rank.append(list(np.argsort(result)[::-1]).index(attack_key[0][TARGET_BYTE])+1)\n",
    "        \n",
    "        np.save(self.save_dir + f'/rank_result_{epoch+1}', np.array(rank))\n",
    "        print(f'Epoch {epoch+1} - GE:{np.mean(rank)}, SR:{np.sum(np.array(rank)==1)/len(rank)} last trace rank:{rank[-1]}')\n"
   ]
  },
  {
   "cell_type": "code",
   "execution_count": null,
   "id": "22d20c0b-3687-4d8a-839a-25f93a630f0f",
   "metadata": {},
   "outputs": [],
   "source": [
    "rank_save_dir = f\"./save_file/fixed2_lr0.001_target_byte_{TARGET_BYTE}/rank_save/\"\n",
    "os.makedirs(rank_save_dir, exist_ok=True)"
   ]
  },
  {
   "cell_type": "code",
   "execution_count": null,
   "id": "12db3f14-6e37-4d35-8e14-c9dd177e0fc5",
   "metadata": {},
   "outputs": [],
   "source": [
    "result = model.fit(train_trace2,train_sbox_out,  # 波形データとラベルデータ\n",
    "                        batch_size=100,\n",
    "                        epochs=200,     # エポック数の指定\n",
    "                        validation_data=(test_trace2,test_sbox_out),\n",
    "                        callbacks=[CustomCallback(test_trace2, test_sbox_out, TARGET_BYTE, rank_save_dir)],\n",
    "                       verbose = 0\n",
    "                        )"
   ]
  },
  {
   "cell_type": "code",
   "execution_count": null,
   "id": "5728d8f8-2738-44d4-a2a8-24eb5d1cc660",
   "metadata": {},
   "outputs": [],
   "source": [
    "plt.figure()\n",
    "plt.plot(rank)\n",
    "plt.xlabel('wave')\n",
    "plt.ylabel('rank')\n",
    "plt.title('target_{}byte'.format(TARGET_BYTE))"
   ]
  },
  {
   "cell_type": "code",
   "execution_count": null,
   "id": "10bb401b-4185-409d-aa27-c05d897e138b",
   "metadata": {},
   "outputs": [],
   "source": [
    "plt.plot(result.history['accuracy'])\n",
    "plt.plot(result.history['val_accuracy'])"
   ]
  },
  {
   "cell_type": "code",
   "execution_count": null,
   "id": "078e049d-5805-40ea-92f2-4ab77683785f",
   "metadata": {},
   "outputs": [],
   "source": [
    "predicts = model.predict(attack_trace2)\n",
    "predicts = tf.nn.softmax(predicts)\n",
    "predicts.shape"
   ]
  },
  {
   "cell_type": "code",
   "execution_count": null,
   "id": "f69a6214-3f0b-49c0-85b4-d5def52064bb",
   "metadata": {},
   "outputs": [],
   "source": [
    "attack_plain=attack_metadata['plaintext']"
   ]
  },
  {
   "cell_type": "code",
   "execution_count": null,
   "id": "7dc28e31-73e9-43cc-b3b1-da2ffa74a49b",
   "metadata": {},
   "outputs": [],
   "source": [
    "attack_sbox_in = []\n",
    "for estimated_key in range(256): #256通りの推定鍵だけ繰り返す。\n",
    "    attack_sbox_in.append(attack_plain^np.array([estimated_key]*16)) #平文と推定鍵のXORがSbox(SubBytes)入力\n",
    "attack_sbox_in = np.array(attack_sbox_in)\n",
    "attack_sbox_out = np.array([AES_Sbox[i] for i in attack_sbox_in])\n",
    "attack_sbox_out = attack_sbox_out[:,:,TARGET_BYTE]"
   ]
  },
  {
   "cell_type": "code",
   "execution_count": null,
   "id": "1003016d-945e-4e25-a94f-c9a2847578ad",
   "metadata": {},
   "outputs": [],
   "source": [
    "attack_sbox_out = attack_sbox_out[:,50000:] #全体の内, 最後の10000を攻撃に使用"
   ]
  },
  {
   "cell_type": "code",
   "execution_count": null,
   "id": "3d8b0f8a-801f-42cb-bcfb-87736246ca7e",
   "metadata": {},
   "outputs": [],
   "source": [
    "result2 = np.ones(256) /256\n",
    "rank = []\n",
    "attack_sbox_out = np.array(attack_sbox_out)\n",
    "pred = predicts.numpy()\n",
    "\n",
    "for i in range(len(predicts)):\n",
    "    result2 *= pred[i, attack_sbox_out[:, i]]\n",
    "    result2 = result2 /np.sum(result2)\n",
    "    rank.append(list(np.argsort(result2)[::-1]).index(attack_key[0][TARGET_BYTE])+1)\n",
    "    "
   ]
  },
  {
   "cell_type": "code",
   "execution_count": null,
   "id": "9410f7c1-5636-4ae5-8315-5a21ef67ba7e",
   "metadata": {},
   "outputs": [],
   "source": [
    "rank_lim = rank[0:10000]\n",
    "plt.figure()\n",
    "plt.plot(rank_lim)\n",
    "plt.xlabel('wave')\n",
    "plt.ylabel('rank')\n",
    "plt.title('target_{}byte'.format(TARGET_BYTE))"
   ]
  },
  {
   "cell_type": "code",
   "execution_count": null,
   "id": "8b53957c-062c-4280-bf16-775de9ad5396",
   "metadata": {},
   "outputs": [],
   "source": [
    "TARGET_BYTE = 10 #何バイト目を攻撃するか決める"
   ]
  },
  {
   "cell_type": "code",
   "execution_count": null,
   "id": "e04a17c0-ddaa-4fe4-a413-b73017a0e55f",
   "metadata": {},
   "outputs": [],
   "source": [
    "AES_Sbox = np.array([\n",
    "\t\t\t0x63, 0x7C, 0x77, 0x7B, 0xF2, 0x6B, 0x6F, 0xC5, 0x30, 0x01, 0x67, 0x2B, 0xFE, 0xD7, 0xAB, 0x76,\n",
    "\t\t\t0xCA, 0x82, 0xC9, 0x7D, 0xFA, 0x59, 0x47, 0xF0, 0xAD, 0xD4, 0xA2, 0xAF, 0x9C, 0xA4, 0x72, 0xC0,\n",
    "\t\t\t0xB7, 0xFD, 0x93, 0x26, 0x36, 0x3F, 0xF7, 0xCC, 0x34, 0xA5, 0xE5, 0xF1, 0x71, 0xD8, 0x31, 0x15,\n",
    "\t\t\t0x04, 0xC7, 0x23, 0xC3, 0x18, 0x96, 0x05, 0x9A, 0x07, 0x12, 0x80, 0xE2, 0xEB, 0x27, 0xB2, 0x75,\n",
    "\t\t\t0x09, 0x83, 0x2C, 0x1A, 0x1B, 0x6E, 0x5A, 0xA0, 0x52, 0x3B, 0xD6, 0xB3, 0x29, 0xE3, 0x2F, 0x84,\n",
    "\t\t\t0x53, 0xD1, 0x00, 0xED, 0x20, 0xFC, 0xB1, 0x5B, 0x6A, 0xCB, 0xBE, 0x39, 0x4A, 0x4C, 0x58, 0xCF,\n",
    "\t\t\t0xD0, 0xEF, 0xAA, 0xFB, 0x43, 0x4D, 0x33, 0x85, 0x45, 0xF9, 0x02, 0x7F, 0x50, 0x3C, 0x9F, 0xA8,\n",
    "\t\t\t0x51, 0xA3, 0x40, 0x8F, 0x92, 0x9D, 0x38, 0xF5, 0xBC, 0xB6, 0xDA, 0x21, 0x10, 0xFF, 0xF3, 0xD2,\n",
    "\t\t\t0xCD, 0x0C, 0x13, 0xEC, 0x5F, 0x97, 0x44, 0x17, 0xC4, 0xA7, 0x7E, 0x3D, 0x64, 0x5D, 0x19, 0x73,\n",
    "\t\t\t0x60, 0x81, 0x4F, 0xDC, 0x22, 0x2A, 0x90, 0x88, 0x46, 0xEE, 0xB8, 0x14, 0xDE, 0x5E, 0x0B, 0xDB,\n",
    "\t\t\t0xE0, 0x32, 0x3A, 0x0A, 0x49, 0x06, 0x24, 0x5C, 0xC2, 0xD3, 0xAC, 0x62, 0x91, 0x95, 0xE4, 0x79,\n",
    "\t\t\t0xE7, 0xC8, 0x37, 0x6D, 0x8D, 0xD5, 0x4E, 0xA9, 0x6C, 0x56, 0xF4, 0xEA, 0x65, 0x7A, 0xAE, 0x08,\n",
    "\t\t\t0xBA, 0x78, 0x25, 0x2E, 0x1C, 0xA6, 0xB4, 0xC6, 0xE8, 0xDD, 0x74, 0x1F, 0x4B, 0xBD, 0x8B, 0x8A,\n",
    "\t\t\t0x70, 0x3E, 0xB5, 0x66, 0x48, 0x03, 0xF6, 0x0E, 0x61, 0x35, 0x57, 0xB9, 0x86, 0xC1, 0x1D, 0x9E,\n",
    "\t\t\t0xE1, 0xF8, 0x98, 0x11, 0x69, 0xD9, 0x8E, 0x94, 0x9B, 0x1E, 0x87, 0xE9, 0xCE, 0x55, 0x28, 0xDF,\n",
    "\t\t\t0x8C, 0xA1, 0x89, 0x0D, 0xBF, 0xE6, 0x42, 0x68, 0x41, 0x99, 0x2D, 0x0F, 0xB0, 0x54, 0xBB, 0x16\n",
    "\t\t\t])"
   ]
  },
  {
   "cell_type": "code",
   "execution_count": null,
   "id": "905b7604-8805-4e39-ab6b-cc6053386933",
   "metadata": {},
   "outputs": [],
   "source": [
    "data_train = h5py.File('ATMega8515_raw_traces.h5', 'r')\n",
    "data_test = h5py.File('ATMega8515_raw_traces.h5', 'r')\n",
    "data_attack = h5py.File('ATMega8515_raw_traces.h5', 'r')"
   ]
  },
  {
   "cell_type": "code",
   "execution_count": null,
   "id": "4814aca7-baa5-42e7-8f69-3bd519448a2a",
   "metadata": {},
   "outputs": [],
   "source": [
    "train_metadata=data_train['metadata']\n",
    "train_plain = train_metadata['plaintext']\n",
    "train_cipher = train_metadata['ciphertext']\n",
    "train_key = train_metadata['key']\n",
    "train_mask = train_metadata['masks']\n",
    "train_trace = data_train['traces']\n",
    "\n",
    "test_metadata=data_test['metadata']\n",
    "test_plain = test_metadata['plaintext']\n",
    "test_cipher = test_metadata['ciphertext']\n",
    "test_key = test_metadata['key']\n",
    "test_mask = test_metadata['masks']\n",
    "test_trace = data_train['traces']\n",
    "\n",
    "attack_metadata=data_attack['metadata']\n",
    "attack_plain = attack_metadata['plaintext']\n",
    "attack_cipher = attack_metadata['ciphertext']\n",
    "attack_key = attack_metadata['key']\n",
    "attack_mask = attack_metadata['masks']\n",
    "attack_trace = data_train['traces']"
   ]
  },
  {
   "cell_type": "code",
   "execution_count": null,
   "id": "b117b9f1-9e05-4178-b4fa-b409a667e636",
   "metadata": {},
   "outputs": [],
   "source": [
    "print(train_metadata.shape, train_trace.shape, train_plain.shape, train_cipher.shape, train_key.shape, train_mask.shape)"
   ]
  },
  {
   "cell_type": "code",
   "execution_count": null,
   "id": "d0dec57e-b54d-4012-b3f6-8f8da3e19b4e",
   "metadata": {},
   "outputs": [],
   "source": [
    "keys=np.array([0x4D,0xFB,0xE0,0xF2,0x72,0x21,0xFE,0x10,0xA7,0x8D,0x4A,0xDC,0x8E,0x49,0x04,0x69])"
   ]
  },
  {
   "cell_type": "code",
   "execution_count": null,
   "id": "bec3a00a-ec83-4b30-9d19-8e34a32a315a",
   "metadata": {},
   "outputs": [],
   "source": [
    "train_trace = train_trace[0:45000, 28742:29442]\n",
    "test_trace = test_trace[45000:50000, 28742:29442]\n",
    "attack_trace = attack_trace[50000:60000, 28742:29442]\n",
    "train_plain = train_plain[0:45000, :]\n",
    "test_plain = test_plain[45000:50000, :]\n",
    "train_trace2 = train_trace\n",
    "test_trace2 = test_trace\n",
    "attack_trace2 = attack_trace\n",
    "train_trace.shape"
   ]
  },
  {
   "cell_type": "code",
   "execution_count": null,
   "id": "6edc3d97-92c2-4355-965a-0df1bb1a8b59",
   "metadata": {},
   "outputs": [],
   "source": [
    "train_key = train_key[0:45000,:]\n",
    "train_sbox_in = []\n",
    "train_sbox_in = np.array(train_plain^train_key) #平文と鍵のXORがSbox(SubBytes)入力\n",
    "train_sbox_out = np.array([AES_Sbox[i] for i in train_sbox_in])"
   ]
  },
  {
   "cell_type": "code",
   "execution_count": null,
   "id": "fc2dadaf-c9d0-49d6-977a-2c200ba0f895",
   "metadata": {},
   "outputs": [],
   "source": [
    "test_key = test_key[0:5000,:]\n",
    "test_sbox_in = []\n",
    "test_sbox_in = np.array(test_plain^np.array(test_key)) #平文と鍵のXORがSbox(SubBytes)入力\n",
    "test_sbox_out = np.array([AES_Sbox[i] for i in test_sbox_in])"
   ]
  },
  {
   "cell_type": "code",
   "execution_count": null,
   "id": "27e2e252-865c-4eac-b2a0-62073a6e64c8",
   "metadata": {},
   "outputs": [],
   "source": [
    "train_sbox_out = train_sbox_out[:,TARGET_BYTE]\n",
    "test_sbox_out = test_sbox_out[:,TARGET_BYTE]"
   ]
  },
  {
   "cell_type": "code",
   "execution_count": null,
   "id": "c0f90512-3ed7-400d-9eb7-aa121440b0c7",
   "metadata": {},
   "outputs": [],
   "source": [
    "#波形データの標準化(データを平均で引いて標準偏差で割る)\n",
    "train_trace2 = (train_trace2 -np.mean(train_trace2, axis = 0))/np.std(train_trace2, axis = 0)\n",
    "\n",
    "test_trace2 = (test_trace2 - np.mean(test_trace2, axis = 0))/np.std(test_trace2, axis = 0)\n",
    "\n",
    "attack_trace2 = (attack_trace2 - np.mean(attack_trace2, axis = 0))/np.std(attack_trace2, axis = 0)\n",
    "\n",
    "#DeepLearningできるshapeに変更\n",
    "train_trace2 = train_trace2.reshape(45000,700,1)\n",
    "\n",
    "test_trace2 = test_trace2.reshape(5000,700,1)\n",
    "\n",
    "attack_trace2 = attack_trace2.reshape(10000,700,1)"
   ]
  },
  {
   "cell_type": "code",
   "execution_count": null,
   "id": "0f8e92cb-d7aa-434e-b6ab-b693688db9e2",
   "metadata": {},
   "outputs": [],
   "source": [
    "def mlp_best(node=200,layer_nb=6,input_dim=700):\n",
    "\tmodel = Sequential()\n",
    "\tmodel.add(Dense(node, input_dim=input_dim, activation='relu'))\n",
    "\tfor i in range(layer_nb-2):\n",
    "\t\tmodel.add(Dense(node, activation='relu'))\n",
    "\tmodel.add(Dense(256))\n",
    "\toptimizer = RMSprop(learning_rate=0.00001)\n",
    "\tloss_fn = tf.keras.losses.SparseCategoricalCrossentropy(from_logits=True)\n",
    "\t# model.compile(loss='categorical_crossentropy', optimizer=optimizer, metrics=['accuracy'])\n",
    "\tmodel.compile(loss=loss_fn, optimizer=optimizer, metrics=['accuracy'])\n",
    "\treturn model"
   ]
  },
  {
   "cell_type": "code",
   "execution_count": null,
   "id": "16e0062e-b331-4baf-9ce3-e0264eae95c1",
   "metadata": {},
   "outputs": [],
   "source": [
    "mlp_best()\n",
    "model=mlp_best(node=200,layer_nb=6,input_dim=700)"
   ]
  },
  {
   "cell_type": "code",
   "execution_count": null,
   "id": "6dcf8a16-6f3d-4dc6-ade0-8b0160d4c1bf",
   "metadata": {},
   "outputs": [],
   "source": [
    "rank = []\n",
    "class CustomCallback(tf.keras.callbacks.Callback):\n",
    "    def __init__(self, test_trace2 , label, TARGET_BYTE, rank_save_dir, *args, **kwargs):\n",
    "        super().__init__(*args, **kwargs)\n",
    "        self.data_test = test_trace2\n",
    "        self.label = label.T\n",
    "        self.target_byte = TARGET_BYTE\n",
    "        self.save_dir = rank_save_dir\n",
    "    def on_epoch_end(self, epoch, logs=None):\n",
    "        predicts = model.predict(attack_trace2)\n",
    "        predicts = tf.nn.softmax(predicts)\n",
    "        attack_plain=attack_metadata['plaintext']\n",
    "        attack_sbox_in = []\n",
    "        for estimated_key in range(256): #256通りの推定鍵だけ繰り返す。\n",
    "            attack_sbox_in.append(attack_plain^np.array([estimated_key]*16)) #平文と推定鍵のXORがSbox(SubBytes)入力\n",
    "        attack_sbox_in = np.array(attack_sbox_in)\n",
    "        attack_sbox_out = np.array([AES_Sbox[i] for i in attack_sbox_in])\n",
    "        attack_sbox_out = attack_sbox_out[:,:,TARGET_BYTE]\n",
    "        attack_sbox_out = attack_sbox_out[:,50000:] #全体の内, 最後の10000を攻撃に使用\n",
    "        result = np.ones(256) /256\n",
    "        attack_sbox_out = np.array(attack_sbox_out)\n",
    "        pred = predicts.numpy()\n",
    "\n",
    "        for i in range(len(predicts)):\n",
    "            result *= pred[i, attack_sbox_out[:, i]]\n",
    "            result = result /np.sum(result)\n",
    "            rank.append(list(np.argsort(result)[::-1]).index(attack_key[0][TARGET_BYTE])+1)\n",
    "        \n",
    "        np.save(self.save_dir + f'/rank_result_{epoch+1}', np.array(rank))\n",
    "        print(f'Epoch {epoch+1} - GE:{np.mean(rank)}, SR:{np.sum(np.array(rank)==1)/len(rank)} last trace rank:{rank[-1]}')\n"
   ]
  },
  {
   "cell_type": "code",
   "execution_count": null,
   "id": "69e7c2ab-9d47-47fc-9286-5984edaea5d6",
   "metadata": {},
   "outputs": [],
   "source": [
    "rank_save_dir = f\"./save_file/fixed2_lr0.001_target_byte_{TARGET_BYTE}/rank_save/\"\n",
    "os.makedirs(rank_save_dir, exist_ok=True)"
   ]
  },
  {
   "cell_type": "code",
   "execution_count": null,
   "id": "5f5a0a01-2174-43e9-af45-1aedd5c36931",
   "metadata": {},
   "outputs": [],
   "source": [
    "result = model.fit(train_trace2,train_sbox_out,  # 波形データとラベルデータ\n",
    "                        batch_size=100,\n",
    "                        epochs=200,     # エポック数の指定\n",
    "                        validation_data=(test_trace2,test_sbox_out),\n",
    "                        callbacks=[CustomCallback(test_trace2, test_sbox_out, TARGET_BYTE, rank_save_dir)],\n",
    "                       verbose = 0\n",
    "                        )"
   ]
  },
  {
   "cell_type": "code",
   "execution_count": null,
   "id": "dd3bac12-1254-4279-9467-42e3b0dde270",
   "metadata": {},
   "outputs": [],
   "source": [
    "plt.figure()\n",
    "plt.plot(rank)\n",
    "plt.xlabel('wave')\n",
    "plt.ylabel('rank')\n",
    "plt.title('target_{}byte'.format(TARGET_BYTE))"
   ]
  },
  {
   "cell_type": "code",
   "execution_count": null,
   "id": "171289bf-af3f-421d-8c2d-33533d071255",
   "metadata": {},
   "outputs": [],
   "source": [
    "plt.plot(result.history['accuracy'])\n",
    "plt.plot(result.history['val_accuracy'])"
   ]
  },
  {
   "cell_type": "code",
   "execution_count": null,
   "id": "76839e7c-f20f-4c4f-bf24-eec15464e165",
   "metadata": {},
   "outputs": [],
   "source": [
    "predicts = model.predict(attack_trace2)\n",
    "predicts = tf.nn.softmax(predicts)\n",
    "predicts.shape"
   ]
  },
  {
   "cell_type": "code",
   "execution_count": null,
   "id": "e59f9018-1267-4a79-b79e-f932fc3afce0",
   "metadata": {},
   "outputs": [],
   "source": [
    "attack_plain=attack_metadata['plaintext']"
   ]
  },
  {
   "cell_type": "code",
   "execution_count": null,
   "id": "5987cb2b-fff3-4d4b-8bc3-61a3c1cfe34a",
   "metadata": {},
   "outputs": [],
   "source": [
    "attack_sbox_in = []\n",
    "for estimated_key in range(256): #256通りの推定鍵だけ繰り返す。\n",
    "    attack_sbox_in.append(attack_plain^np.array([estimated_key]*16)) #平文と推定鍵のXORがSbox(SubBytes)入力\n",
    "attack_sbox_in = np.array(attack_sbox_in)\n",
    "attack_sbox_out = np.array([AES_Sbox[i] for i in attack_sbox_in])\n",
    "attack_sbox_out = attack_sbox_out[:,:,TARGET_BYTE]"
   ]
  },
  {
   "cell_type": "code",
   "execution_count": null,
   "id": "c1321030-ecd7-4b9d-948c-8f9a00fbd558",
   "metadata": {},
   "outputs": [],
   "source": [
    "attack_sbox_out = attack_sbox_out[:,50000:] #全体の内, 最後の10000を攻撃に使用"
   ]
  },
  {
   "cell_type": "code",
   "execution_count": null,
   "id": "e876ff31-00bf-4ba0-b607-d832f4318888",
   "metadata": {},
   "outputs": [],
   "source": [
    "result2 = np.ones(256) /256\n",
    "rank = []\n",
    "attack_sbox_out = np.array(attack_sbox_out)\n",
    "pred = predicts.numpy()\n",
    "\n",
    "for i in range(len(predicts)):\n",
    "    result2 *= pred[i, attack_sbox_out[:, i]]\n",
    "    result2 = result2 /np.sum(result2)\n",
    "    rank.append(list(np.argsort(result2)[::-1]).index(attack_key[0][TARGET_BYTE])+1)\n",
    "    "
   ]
  },
  {
   "cell_type": "code",
   "execution_count": null,
   "id": "4e0266c3-21ba-4a26-99a2-f1e9f81f0c81",
   "metadata": {},
   "outputs": [],
   "source": [
    "rank_lim = rank[0:10000]\n",
    "plt.figure()\n",
    "plt.plot(rank_lim)\n",
    "plt.xlabel('wave')\n",
    "plt.ylabel('rank')\n",
    "plt.title('target_{}byte'.format(TARGET_BYTE))"
   ]
  },
  {
   "cell_type": "code",
   "execution_count": null,
   "id": "32df39bd-abb1-41a7-93c8-bf7b90ba9ba4",
   "metadata": {},
   "outputs": [],
   "source": [
    "TARGET_BYTE = 11 #何バイト目を攻撃するか決める"
   ]
  },
  {
   "cell_type": "code",
   "execution_count": null,
   "id": "8d4b61d6-5cf7-4899-8da3-27133d824eb7",
   "metadata": {},
   "outputs": [],
   "source": [
    "AES_Sbox = np.array([\n",
    "\t\t\t0x63, 0x7C, 0x77, 0x7B, 0xF2, 0x6B, 0x6F, 0xC5, 0x30, 0x01, 0x67, 0x2B, 0xFE, 0xD7, 0xAB, 0x76,\n",
    "\t\t\t0xCA, 0x82, 0xC9, 0x7D, 0xFA, 0x59, 0x47, 0xF0, 0xAD, 0xD4, 0xA2, 0xAF, 0x9C, 0xA4, 0x72, 0xC0,\n",
    "\t\t\t0xB7, 0xFD, 0x93, 0x26, 0x36, 0x3F, 0xF7, 0xCC, 0x34, 0xA5, 0xE5, 0xF1, 0x71, 0xD8, 0x31, 0x15,\n",
    "\t\t\t0x04, 0xC7, 0x23, 0xC3, 0x18, 0x96, 0x05, 0x9A, 0x07, 0x12, 0x80, 0xE2, 0xEB, 0x27, 0xB2, 0x75,\n",
    "\t\t\t0x09, 0x83, 0x2C, 0x1A, 0x1B, 0x6E, 0x5A, 0xA0, 0x52, 0x3B, 0xD6, 0xB3, 0x29, 0xE3, 0x2F, 0x84,\n",
    "\t\t\t0x53, 0xD1, 0x00, 0xED, 0x20, 0xFC, 0xB1, 0x5B, 0x6A, 0xCB, 0xBE, 0x39, 0x4A, 0x4C, 0x58, 0xCF,\n",
    "\t\t\t0xD0, 0xEF, 0xAA, 0xFB, 0x43, 0x4D, 0x33, 0x85, 0x45, 0xF9, 0x02, 0x7F, 0x50, 0x3C, 0x9F, 0xA8,\n",
    "\t\t\t0x51, 0xA3, 0x40, 0x8F, 0x92, 0x9D, 0x38, 0xF5, 0xBC, 0xB6, 0xDA, 0x21, 0x10, 0xFF, 0xF3, 0xD2,\n",
    "\t\t\t0xCD, 0x0C, 0x13, 0xEC, 0x5F, 0x97, 0x44, 0x17, 0xC4, 0xA7, 0x7E, 0x3D, 0x64, 0x5D, 0x19, 0x73,\n",
    "\t\t\t0x60, 0x81, 0x4F, 0xDC, 0x22, 0x2A, 0x90, 0x88, 0x46, 0xEE, 0xB8, 0x14, 0xDE, 0x5E, 0x0B, 0xDB,\n",
    "\t\t\t0xE0, 0x32, 0x3A, 0x0A, 0x49, 0x06, 0x24, 0x5C, 0xC2, 0xD3, 0xAC, 0x62, 0x91, 0x95, 0xE4, 0x79,\n",
    "\t\t\t0xE7, 0xC8, 0x37, 0x6D, 0x8D, 0xD5, 0x4E, 0xA9, 0x6C, 0x56, 0xF4, 0xEA, 0x65, 0x7A, 0xAE, 0x08,\n",
    "\t\t\t0xBA, 0x78, 0x25, 0x2E, 0x1C, 0xA6, 0xB4, 0xC6, 0xE8, 0xDD, 0x74, 0x1F, 0x4B, 0xBD, 0x8B, 0x8A,\n",
    "\t\t\t0x70, 0x3E, 0xB5, 0x66, 0x48, 0x03, 0xF6, 0x0E, 0x61, 0x35, 0x57, 0xB9, 0x86, 0xC1, 0x1D, 0x9E,\n",
    "\t\t\t0xE1, 0xF8, 0x98, 0x11, 0x69, 0xD9, 0x8E, 0x94, 0x9B, 0x1E, 0x87, 0xE9, 0xCE, 0x55, 0x28, 0xDF,\n",
    "\t\t\t0x8C, 0xA1, 0x89, 0x0D, 0xBF, 0xE6, 0x42, 0x68, 0x41, 0x99, 0x2D, 0x0F, 0xB0, 0x54, 0xBB, 0x16\n",
    "\t\t\t])"
   ]
  },
  {
   "cell_type": "code",
   "execution_count": null,
   "id": "7c819b19-056d-4cce-b97c-00d3433d1a5f",
   "metadata": {},
   "outputs": [],
   "source": [
    "data_train = h5py.File('ATMega8515_raw_traces.h5', 'r')\n",
    "data_test = h5py.File('ATMega8515_raw_traces.h5', 'r')\n",
    "data_attack = h5py.File('ATMega8515_raw_traces.h5', 'r')"
   ]
  },
  {
   "cell_type": "code",
   "execution_count": null,
   "id": "84b8ee5f-68b9-4fc1-94e4-f0259bb75c3e",
   "metadata": {},
   "outputs": [],
   "source": [
    "train_metadata=data_train['metadata']\n",
    "train_plain = train_metadata['plaintext']\n",
    "train_cipher = train_metadata['ciphertext']\n",
    "train_key = train_metadata['key']\n",
    "train_mask = train_metadata['masks']\n",
    "train_trace = data_train['traces']\n",
    "\n",
    "test_metadata=data_test['metadata']\n",
    "test_plain = test_metadata['plaintext']\n",
    "test_cipher = test_metadata['ciphertext']\n",
    "test_key = test_metadata['key']\n",
    "test_mask = test_metadata['masks']\n",
    "test_trace = data_train['traces']\n",
    "\n",
    "attack_metadata=data_attack['metadata']\n",
    "attack_plain = attack_metadata['plaintext']\n",
    "attack_cipher = attack_metadata['ciphertext']\n",
    "attack_key = attack_metadata['key']\n",
    "attack_mask = attack_metadata['masks']\n",
    "attack_trace = data_train['traces']"
   ]
  },
  {
   "cell_type": "code",
   "execution_count": null,
   "id": "6262918c-fb27-4a7a-b007-23637c0c653e",
   "metadata": {},
   "outputs": [],
   "source": [
    "print(train_metadata.shape, train_trace.shape, train_plain.shape, train_cipher.shape, train_key.shape, train_mask.shape)"
   ]
  },
  {
   "cell_type": "code",
   "execution_count": null,
   "id": "33b10950-b1ba-40da-ae63-e8726375cb81",
   "metadata": {},
   "outputs": [],
   "source": [
    "keys=np.array([0x4D,0xFB,0xE0,0xF2,0x72,0x21,0xFE,0x10,0xA7,0x8D,0x4A,0xDC,0x8E,0x49,0x04,0x69])"
   ]
  },
  {
   "cell_type": "code",
   "execution_count": null,
   "id": "6fa35e95-3910-4bfc-ae4c-e87e48642ebc",
   "metadata": {},
   "outputs": [],
   "source": [
    "train_trace = train_trace[0:45000, 43318:44018]\n",
    "test_trace = test_trace[45000:50000, 43318:44018]\n",
    "attack_trace = attack_trace[50000:60000, 43318:44018]\n",
    "train_plain = train_plain[0:45000, :]\n",
    "test_plain = test_plain[45000:50000, :]\n",
    "train_trace2 = train_trace\n",
    "test_trace2 = test_trace\n",
    "attack_trace2 = attack_trace\n",
    "train_trace.shape"
   ]
  },
  {
   "cell_type": "code",
   "execution_count": null,
   "id": "1ea2443b-9f83-4bd3-b0de-c8f1be37cd2f",
   "metadata": {},
   "outputs": [],
   "source": [
    "train_key = train_key[0:45000,:]\n",
    "train_sbox_in = []\n",
    "train_sbox_in = np.array(train_plain^train_key) #平文と鍵のXORがSbox(SubBytes)入力\n",
    "train_sbox_out = np.array([AES_Sbox[i] for i in train_sbox_in])"
   ]
  },
  {
   "cell_type": "code",
   "execution_count": null,
   "id": "3db45e13-0130-4217-9903-4903abc71392",
   "metadata": {},
   "outputs": [],
   "source": [
    "test_key = test_key[0:5000,:]\n",
    "test_sbox_in = []\n",
    "test_sbox_in = np.array(test_plain^np.array(test_key)) #平文と鍵のXORがSbox(SubBytes)入力\n",
    "test_sbox_out = np.array([AES_Sbox[i] for i in test_sbox_in])"
   ]
  },
  {
   "cell_type": "code",
   "execution_count": null,
   "id": "8e59a3ab-8c48-42c0-a4c0-5f77051c1371",
   "metadata": {},
   "outputs": [],
   "source": [
    "train_sbox_out = train_sbox_out[:,TARGET_BYTE]\n",
    "test_sbox_out = test_sbox_out[:,TARGET_BYTE]"
   ]
  },
  {
   "cell_type": "code",
   "execution_count": null,
   "id": "940f77bc-52e3-4677-9619-734b0cbc7a21",
   "metadata": {},
   "outputs": [],
   "source": [
    "#波形データの標準化(データを平均で引いて標準偏差で割る)\n",
    "train_trace2 = (train_trace2 -np.mean(train_trace2, axis = 0))/np.std(train_trace2, axis = 0)\n",
    "\n",
    "test_trace2 = (test_trace2 - np.mean(test_trace2, axis = 0))/np.std(test_trace2, axis = 0)\n",
    "\n",
    "attack_trace2 = (attack_trace2 - np.mean(attack_trace2, axis = 0))/np.std(attack_trace2, axis = 0)\n",
    "\n",
    "#DeepLearningできるshapeに変更\n",
    "train_trace2 = train_trace2.reshape(45000,700,1)\n",
    "\n",
    "test_trace2 = test_trace2.reshape(5000,700,1)\n",
    "\n",
    "attack_trace2 = attack_trace2.reshape(10000,700,1)"
   ]
  },
  {
   "cell_type": "code",
   "execution_count": null,
   "id": "f51dcf38-f7f3-4fe3-a207-1771eb4bf50a",
   "metadata": {},
   "outputs": [],
   "source": [
    "def mlp_best(node=200,layer_nb=6,input_dim=700):\n",
    "\tmodel = Sequential()\n",
    "\tmodel.add(Dense(node, input_dim=input_dim, activation='relu'))\n",
    "\tfor i in range(layer_nb-2):\n",
    "\t\tmodel.add(Dense(node, activation='relu'))\n",
    "\tmodel.add(Dense(256))\n",
    "\toptimizer = RMSprop(learning_rate=0.00001)\n",
    "\tloss_fn = tf.keras.losses.SparseCategoricalCrossentropy(from_logits=True)\n",
    "\t# model.compile(loss='categorical_crossentropy', optimizer=optimizer, metrics=['accuracy'])\n",
    "\tmodel.compile(loss=loss_fn, optimizer=optimizer, metrics=['accuracy'])\n",
    "\treturn model"
   ]
  },
  {
   "cell_type": "code",
   "execution_count": null,
   "id": "615b84e9-161f-4f41-ad57-1adf4b6c9d09",
   "metadata": {},
   "outputs": [],
   "source": [
    "mlp_best()\n",
    "model=mlp_best(node=200,layer_nb=6,input_dim=700)"
   ]
  },
  {
   "cell_type": "code",
   "execution_count": null,
   "id": "a101a9e1-db65-4f74-a58d-45dff950ef07",
   "metadata": {},
   "outputs": [],
   "source": [
    "rank = []\n",
    "class CustomCallback(tf.keras.callbacks.Callback):\n",
    "    def __init__(self, test_trace2 , label, TARGET_BYTE, rank_save_dir, *args, **kwargs):\n",
    "        super().__init__(*args, **kwargs)\n",
    "        self.data_test = test_trace2\n",
    "        self.label = label.T\n",
    "        self.target_byte = TARGET_BYTE\n",
    "        self.save_dir = rank_save_dir\n",
    "    def on_epoch_end(self, epoch, logs=None):\n",
    "        predicts = model.predict(attack_trace2)\n",
    "        predicts = tf.nn.softmax(predicts)\n",
    "        attack_plain=attack_metadata['plaintext']\n",
    "        attack_sbox_in = []\n",
    "        for estimated_key in range(256): #256通りの推定鍵だけ繰り返す。\n",
    "            attack_sbox_in.append(attack_plain^np.array([estimated_key]*16)) #平文と推定鍵のXORがSbox(SubBytes)入力\n",
    "        attack_sbox_in = np.array(attack_sbox_in)\n",
    "        attack_sbox_out = np.array([AES_Sbox[i] for i in attack_sbox_in])\n",
    "        attack_sbox_out = attack_sbox_out[:,:,TARGET_BYTE]\n",
    "        attack_sbox_out = attack_sbox_out[:,50000:] #全体の内, 最後の10000を攻撃に使用\n",
    "        result = np.ones(256) /256\n",
    "        attack_sbox_out = np.array(attack_sbox_out)\n",
    "        pred = predicts.numpy()\n",
    "\n",
    "        for i in range(len(predicts)):\n",
    "            result *= pred[i, attack_sbox_out[:, i]]\n",
    "            result = result /np.sum(result)\n",
    "            rank.append(list(np.argsort(result)[::-1]).index(attack_key[0][TARGET_BYTE])+1)\n",
    "        \n",
    "        np.save(self.save_dir + f'/rank_result_{epoch+1}', np.array(rank))\n",
    "        print(f'Epoch {epoch+1} - GE:{np.mean(rank)}, SR:{np.sum(np.array(rank)==1)/len(rank)} last trace rank:{rank[-1]}')\n"
   ]
  },
  {
   "cell_type": "code",
   "execution_count": null,
   "id": "4209060e-83d6-4b20-bbe4-da3fa25a5054",
   "metadata": {},
   "outputs": [],
   "source": [
    "rank_save_dir = f\"./save_file/fixed2_lr0.001_target_byte_{TARGET_BYTE}/rank_save/\"\n",
    "os.makedirs(rank_save_dir, exist_ok=True)"
   ]
  },
  {
   "cell_type": "code",
   "execution_count": null,
   "id": "661cab2c-a3e8-4778-9a96-8caadc057dc4",
   "metadata": {},
   "outputs": [],
   "source": [
    "result = model.fit(train_trace2,train_sbox_out,  # 波形データとラベルデータ\n",
    "                        batch_size=100,\n",
    "                        epochs=200,     # エポック数の指定\n",
    "                        validation_data=(test_trace2,test_sbox_out),\n",
    "                        callbacks=[CustomCallback(test_trace2, test_sbox_out, TARGET_BYTE, rank_save_dir)],\n",
    "                       verbose = 0\n",
    "                        )"
   ]
  },
  {
   "cell_type": "code",
   "execution_count": null,
   "id": "498d1a35-b251-4617-a0a5-8936b1f96a53",
   "metadata": {},
   "outputs": [],
   "source": [
    "plt.figure()\n",
    "plt.plot(rank)\n",
    "plt.xlabel('wave')\n",
    "plt.ylabel('rank')\n",
    "plt.title('target_{}byte'.format(TARGET_BYTE))"
   ]
  },
  {
   "cell_type": "code",
   "execution_count": null,
   "id": "29d11a2f-12a0-45ea-92e7-d75b18563adc",
   "metadata": {},
   "outputs": [],
   "source": [
    "plt.plot(result.history['accuracy'])\n",
    "plt.plot(result.history['val_accuracy'])"
   ]
  },
  {
   "cell_type": "code",
   "execution_count": null,
   "id": "5aa1da07-52e0-45a5-bfe4-a52aad0f6813",
   "metadata": {},
   "outputs": [],
   "source": [
    "predicts = model.predict(attack_trace2)\n",
    "predicts = tf.nn.softmax(predicts)\n",
    "predicts.shape"
   ]
  },
  {
   "cell_type": "code",
   "execution_count": null,
   "id": "029132dc-a506-4a79-91ad-b757ac8d5333",
   "metadata": {},
   "outputs": [],
   "source": [
    "attack_plain=attack_metadata['plaintext']"
   ]
  },
  {
   "cell_type": "code",
   "execution_count": null,
   "id": "397ec308-1f89-450f-8982-3915bc6b6444",
   "metadata": {},
   "outputs": [],
   "source": [
    "attack_sbox_in = []\n",
    "for estimated_key in range(256): #256通りの推定鍵だけ繰り返す。\n",
    "    attack_sbox_in.append(attack_plain^np.array([estimated_key]*16)) #平文と推定鍵のXORがSbox(SubBytes)入力\n",
    "attack_sbox_in = np.array(attack_sbox_in)\n",
    "attack_sbox_out = np.array([AES_Sbox[i] for i in attack_sbox_in])\n",
    "attack_sbox_out = attack_sbox_out[:,:,TARGET_BYTE]"
   ]
  },
  {
   "cell_type": "code",
   "execution_count": null,
   "id": "4228d855-9702-4940-9fe7-bad250a08519",
   "metadata": {},
   "outputs": [],
   "source": [
    "attack_sbox_out = attack_sbox_out[:,50000:] #全体の内, 最後の10000を攻撃に使用"
   ]
  },
  {
   "cell_type": "code",
   "execution_count": null,
   "id": "4ffb58fc-7dc1-4d2c-b557-06217752068f",
   "metadata": {},
   "outputs": [],
   "source": [
    "result2 = np.ones(256) /256\n",
    "rank = []\n",
    "attack_sbox_out = np.array(attack_sbox_out)\n",
    "pred = predicts.numpy()\n",
    "\n",
    "for i in range(len(predicts)):\n",
    "    result2 *= pred[i, attack_sbox_out[:, i]]\n",
    "    result2 = result2 /np.sum(result2)\n",
    "    rank.append(list(np.argsort(result2)[::-1]).index(attack_key[0][TARGET_BYTE])+1)\n",
    "    "
   ]
  },
  {
   "cell_type": "code",
   "execution_count": null,
   "id": "fa7a3eb9-b3ae-4e8b-9dcc-d0fa81ac8801",
   "metadata": {},
   "outputs": [],
   "source": [
    "rank_lim = rank[0:10000]\n",
    "plt.figure()\n",
    "plt.plot(rank_lim)\n",
    "plt.xlabel('wave')\n",
    "plt.ylabel('rank')\n",
    "plt.title('target_{}byte'.format(TARGET_BYTE))"
   ]
  },
  {
   "cell_type": "code",
   "execution_count": null,
   "id": "0735efc5-a79f-4dab-af29-bb8b74f317a6",
   "metadata": {},
   "outputs": [],
   "source": [
    "TARGET_BYTE = 12 #何バイト目を攻撃するか決める"
   ]
  },
  {
   "cell_type": "code",
   "execution_count": null,
   "id": "ddab459b-b998-4109-afa7-70fdb30e01de",
   "metadata": {},
   "outputs": [],
   "source": [
    "AES_Sbox = np.array([\n",
    "\t\t\t0x63, 0x7C, 0x77, 0x7B, 0xF2, 0x6B, 0x6F, 0xC5, 0x30, 0x01, 0x67, 0x2B, 0xFE, 0xD7, 0xAB, 0x76,\n",
    "\t\t\t0xCA, 0x82, 0xC9, 0x7D, 0xFA, 0x59, 0x47, 0xF0, 0xAD, 0xD4, 0xA2, 0xAF, 0x9C, 0xA4, 0x72, 0xC0,\n",
    "\t\t\t0xB7, 0xFD, 0x93, 0x26, 0x36, 0x3F, 0xF7, 0xCC, 0x34, 0xA5, 0xE5, 0xF1, 0x71, 0xD8, 0x31, 0x15,\n",
    "\t\t\t0x04, 0xC7, 0x23, 0xC3, 0x18, 0x96, 0x05, 0x9A, 0x07, 0x12, 0x80, 0xE2, 0xEB, 0x27, 0xB2, 0x75,\n",
    "\t\t\t0x09, 0x83, 0x2C, 0x1A, 0x1B, 0x6E, 0x5A, 0xA0, 0x52, 0x3B, 0xD6, 0xB3, 0x29, 0xE3, 0x2F, 0x84,\n",
    "\t\t\t0x53, 0xD1, 0x00, 0xED, 0x20, 0xFC, 0xB1, 0x5B, 0x6A, 0xCB, 0xBE, 0x39, 0x4A, 0x4C, 0x58, 0xCF,\n",
    "\t\t\t0xD0, 0xEF, 0xAA, 0xFB, 0x43, 0x4D, 0x33, 0x85, 0x45, 0xF9, 0x02, 0x7F, 0x50, 0x3C, 0x9F, 0xA8,\n",
    "\t\t\t0x51, 0xA3, 0x40, 0x8F, 0x92, 0x9D, 0x38, 0xF5, 0xBC, 0xB6, 0xDA, 0x21, 0x10, 0xFF, 0xF3, 0xD2,\n",
    "\t\t\t0xCD, 0x0C, 0x13, 0xEC, 0x5F, 0x97, 0x44, 0x17, 0xC4, 0xA7, 0x7E, 0x3D, 0x64, 0x5D, 0x19, 0x73,\n",
    "\t\t\t0x60, 0x81, 0x4F, 0xDC, 0x22, 0x2A, 0x90, 0x88, 0x46, 0xEE, 0xB8, 0x14, 0xDE, 0x5E, 0x0B, 0xDB,\n",
    "\t\t\t0xE0, 0x32, 0x3A, 0x0A, 0x49, 0x06, 0x24, 0x5C, 0xC2, 0xD3, 0xAC, 0x62, 0x91, 0x95, 0xE4, 0x79,\n",
    "\t\t\t0xE7, 0xC8, 0x37, 0x6D, 0x8D, 0xD5, 0x4E, 0xA9, 0x6C, 0x56, 0xF4, 0xEA, 0x65, 0x7A, 0xAE, 0x08,\n",
    "\t\t\t0xBA, 0x78, 0x25, 0x2E, 0x1C, 0xA6, 0xB4, 0xC6, 0xE8, 0xDD, 0x74, 0x1F, 0x4B, 0xBD, 0x8B, 0x8A,\n",
    "\t\t\t0x70, 0x3E, 0xB5, 0x66, 0x48, 0x03, 0xF6, 0x0E, 0x61, 0x35, 0x57, 0xB9, 0x86, 0xC1, 0x1D, 0x9E,\n",
    "\t\t\t0xE1, 0xF8, 0x98, 0x11, 0x69, 0xD9, 0x8E, 0x94, 0x9B, 0x1E, 0x87, 0xE9, 0xCE, 0x55, 0x28, 0xDF,\n",
    "\t\t\t0x8C, 0xA1, 0x89, 0x0D, 0xBF, 0xE6, 0x42, 0x68, 0x41, 0x99, 0x2D, 0x0F, 0xB0, 0x54, 0xBB, 0x16\n",
    "\t\t\t])"
   ]
  },
  {
   "cell_type": "code",
   "execution_count": null,
   "id": "661b0095-71eb-48cb-b9a9-eca684455dda",
   "metadata": {},
   "outputs": [],
   "source": [
    "data_train = h5py.File('ATMega8515_raw_traces.h5', 'r')\n",
    "data_test = h5py.File('ATMega8515_raw_traces.h5', 'r')\n",
    "data_attack = h5py.File('ATMega8515_raw_traces.h5', 'r')"
   ]
  },
  {
   "cell_type": "code",
   "execution_count": null,
   "id": "7535fcd9-9c81-4391-b67f-fbecb88f1ab6",
   "metadata": {},
   "outputs": [],
   "source": [
    "train_metadata=data_train['metadata']\n",
    "train_plain = train_metadata['plaintext']\n",
    "train_cipher = train_metadata['ciphertext']\n",
    "train_key = train_metadata['key']\n",
    "train_mask = train_metadata['masks']\n",
    "train_trace = data_train['traces']\n",
    "\n",
    "test_metadata=data_test['metadata']\n",
    "test_plain = test_metadata['plaintext']\n",
    "test_cipher = test_metadata['ciphertext']\n",
    "test_key = test_metadata['key']\n",
    "test_mask = test_metadata['masks']\n",
    "test_trace = data_train['traces']\n",
    "\n",
    "attack_metadata=data_attack['metadata']\n",
    "attack_plain = attack_metadata['plaintext']\n",
    "attack_cipher = attack_metadata['ciphertext']\n",
    "attack_key = attack_metadata['key']\n",
    "attack_mask = attack_metadata['masks']\n",
    "attack_trace = data_train['traces']"
   ]
  },
  {
   "cell_type": "code",
   "execution_count": null,
   "id": "fcf4e0ec-8c6b-4799-8093-0056a1f537f3",
   "metadata": {},
   "outputs": [],
   "source": [
    "print(train_metadata.shape, train_trace.shape, train_plain.shape, train_cipher.shape, train_key.shape, train_mask.shape)"
   ]
  },
  {
   "cell_type": "code",
   "execution_count": null,
   "id": "8d185158-e694-47ed-8e6c-e26d2757137e",
   "metadata": {},
   "outputs": [],
   "source": [
    "keys=np.array([0x4D,0xFB,0xE0,0xF2,0x72,0x21,0xFE,0x10,0xA7,0x8D,0x4A,0xDC,0x8E,0x49,0x04,0x69])"
   ]
  },
  {
   "cell_type": "code",
   "execution_count": null,
   "id": "6819069e-0b53-4d4d-af11-d272ebe96144",
   "metadata": {},
   "outputs": [],
   "source": [
    "train_trace = train_trace[0:45000, 20413:21113]\n",
    "test_trace = test_trace[45000:50000, 20413:21113]\n",
    "attack_trace = attack_trace[50000:60000, 20413:21113]\n",
    "train_plain = train_plain[0:45000, :]\n",
    "test_plain = test_plain[45000:50000, :]\n",
    "train_trace2 = train_trace\n",
    "test_trace2 = test_trace\n",
    "attack_trace2 = attack_trace\n",
    "train_trace.shape"
   ]
  },
  {
   "cell_type": "code",
   "execution_count": null,
   "id": "77cce9d6-3ff1-4438-915c-5ca82d1c1f9f",
   "metadata": {},
   "outputs": [],
   "source": [
    "train_key = train_key[0:45000,:]\n",
    "train_sbox_in = []\n",
    "train_sbox_in = np.array(train_plain^train_key) #平文と鍵のXORがSbox(SubBytes)入力\n",
    "train_sbox_out = np.array([AES_Sbox[i] for i in train_sbox_in])"
   ]
  },
  {
   "cell_type": "code",
   "execution_count": null,
   "id": "bff706d9-6cd3-4ac0-9107-411300f30456",
   "metadata": {},
   "outputs": [],
   "source": [
    "test_key = test_key[0:5000,:]\n",
    "test_sbox_in = []\n",
    "test_sbox_in = np.array(test_plain^np.array(test_key)) #平文と鍵のXORがSbox(SubBytes)入力\n",
    "test_sbox_out = np.array([AES_Sbox[i] for i in test_sbox_in])"
   ]
  },
  {
   "cell_type": "code",
   "execution_count": null,
   "id": "bf7cb687-26b6-41b6-85e5-050bd13a6de1",
   "metadata": {},
   "outputs": [],
   "source": [
    "train_sbox_out = train_sbox_out[:,TARGET_BYTE]\n",
    "test_sbox_out = test_sbox_out[:,TARGET_BYTE]"
   ]
  },
  {
   "cell_type": "code",
   "execution_count": null,
   "id": "26d4b405-1370-4a30-8cbd-b7193ece9e63",
   "metadata": {},
   "outputs": [],
   "source": [
    "#波形データの標準化(データを平均で引いて標準偏差で割る)\n",
    "train_trace2 = (train_trace2 -np.mean(train_trace2, axis = 0))/np.std(train_trace2, axis = 0)\n",
    "\n",
    "test_trace2 = (test_trace2 - np.mean(test_trace2, axis = 0))/np.std(test_trace2, axis = 0)\n",
    "\n",
    "attack_trace2 = (attack_trace2 - np.mean(attack_trace2, axis = 0))/np.std(attack_trace2, axis = 0)\n",
    "\n",
    "#DeepLearningできるshapeに変更\n",
    "train_trace2 = train_trace2.reshape(45000,700,1)\n",
    "\n",
    "test_trace2 = test_trace2.reshape(5000,700,1)\n",
    "\n",
    "attack_trace2 = attack_trace2.reshape(10000,700,1)"
   ]
  },
  {
   "cell_type": "code",
   "execution_count": null,
   "id": "9a9a893f-28cd-4602-8788-0118ec5ceb47",
   "metadata": {},
   "outputs": [],
   "source": [
    "def mlp_best(node=200,layer_nb=6,input_dim=700):\n",
    "\tmodel = Sequential()\n",
    "\tmodel.add(Dense(node, input_dim=input_dim, activation='relu'))\n",
    "\tfor i in range(layer_nb-2):\n",
    "\t\tmodel.add(Dense(node, activation='relu'))\n",
    "\tmodel.add(Dense(256))\n",
    "\toptimizer = RMSprop(learning_rate=0.00001)\n",
    "\tloss_fn = tf.keras.losses.SparseCategoricalCrossentropy(from_logits=True)\n",
    "\t# model.compile(loss='categorical_crossentropy', optimizer=optimizer, metrics=['accuracy'])\n",
    "\tmodel.compile(loss=loss_fn, optimizer=optimizer, metrics=['accuracy'])\n",
    "\treturn model"
   ]
  },
  {
   "cell_type": "code",
   "execution_count": null,
   "id": "877e2706-b7e5-4cbd-879e-cf33b6447c74",
   "metadata": {},
   "outputs": [],
   "source": [
    "mlp_best()\n",
    "model=mlp_best(node=200,layer_nb=6,input_dim=700)"
   ]
  },
  {
   "cell_type": "code",
   "execution_count": null,
   "id": "1ad662d9-0784-47d8-9a01-41a714fe713f",
   "metadata": {},
   "outputs": [],
   "source": [
    "rank = []\n",
    "class CustomCallback(tf.keras.callbacks.Callback):\n",
    "    def __init__(self, test_trace2 , label, TARGET_BYTE, rank_save_dir, *args, **kwargs):\n",
    "        super().__init__(*args, **kwargs)\n",
    "        self.data_test = test_trace2\n",
    "        self.label = label.T\n",
    "        self.target_byte = TARGET_BYTE\n",
    "        self.save_dir = rank_save_dir\n",
    "    def on_epoch_end(self, epoch, logs=None):\n",
    "        predicts = model.predict(attack_trace2)\n",
    "        predicts = tf.nn.softmax(predicts)\n",
    "        attack_plain=attack_metadata['plaintext']\n",
    "        attack_sbox_in = []\n",
    "        for estimated_key in range(256): #256通りの推定鍵だけ繰り返す。\n",
    "            attack_sbox_in.append(attack_plain^np.array([estimated_key]*16)) #平文と推定鍵のXORがSbox(SubBytes)入力\n",
    "        attack_sbox_in = np.array(attack_sbox_in)\n",
    "        attack_sbox_out = np.array([AES_Sbox[i] for i in attack_sbox_in])\n",
    "        attack_sbox_out = attack_sbox_out[:,:,TARGET_BYTE]\n",
    "        attack_sbox_out = attack_sbox_out[:,50000:] #全体の内, 最後の10000を攻撃に使用\n",
    "        result = np.ones(256) /256\n",
    "        attack_sbox_out = np.array(attack_sbox_out)\n",
    "        pred = predicts.numpy()\n",
    "\n",
    "        for i in range(len(predicts)):\n",
    "            result *= pred[i, attack_sbox_out[:, i]]\n",
    "            result = result /np.sum(result)\n",
    "            rank.append(list(np.argsort(result)[::-1]).index(attack_key[0][TARGET_BYTE])+1)\n",
    "        \n",
    "        np.save(self.save_dir + f'/rank_result_{epoch+1}', np.array(rank))\n",
    "        print(f'Epoch {epoch+1} - GE:{np.mean(rank)}, SR:{np.sum(np.array(rank)==1)/len(rank)} last trace rank:{rank[-1]}')\n"
   ]
  },
  {
   "cell_type": "code",
   "execution_count": null,
   "id": "e1b1451c-02b5-43eb-b749-436bd3f02363",
   "metadata": {},
   "outputs": [],
   "source": [
    "rank_save_dir = f\"./save_file/fixed2_lr0.001_target_byte_{TARGET_BYTE}/rank_save/\"\n",
    "os.makedirs(rank_save_dir, exist_ok=True)"
   ]
  },
  {
   "cell_type": "code",
   "execution_count": null,
   "id": "a1910515-76fe-4257-890d-eb488ea7376c",
   "metadata": {},
   "outputs": [],
   "source": [
    "result = model.fit(train_trace2,train_sbox_out,  # 波形データとラベルデータ\n",
    "                        batch_size=100,\n",
    "                        epochs=200,     # エポック数の指定\n",
    "                        validation_data=(test_trace2,test_sbox_out),\n",
    "                        callbacks=[CustomCallback(test_trace2, test_sbox_out, TARGET_BYTE, rank_save_dir)],\n",
    "                       verbose = 0\n",
    "                        )"
   ]
  },
  {
   "cell_type": "code",
   "execution_count": null,
   "id": "f8b83ab4-907e-482e-a4d6-d673af6f811e",
   "metadata": {},
   "outputs": [],
   "source": [
    "plt.figure()\n",
    "plt.plot(rank)\n",
    "plt.xlabel('wave')\n",
    "plt.ylabel('rank')\n",
    "plt.title('target_{}byte'.format(TARGET_BYTE))"
   ]
  },
  {
   "cell_type": "code",
   "execution_count": null,
   "id": "fe4ae7c2-ad2d-424a-9ae0-99baeee9203c",
   "metadata": {},
   "outputs": [],
   "source": [
    "plt.plot(result.history['accuracy'])\n",
    "plt.plot(result.history['val_accuracy'])"
   ]
  },
  {
   "cell_type": "code",
   "execution_count": null,
   "id": "82955513-9dc9-4248-b858-912f56de2cd3",
   "metadata": {},
   "outputs": [],
   "source": [
    "predicts = model.predict(attack_trace2)\n",
    "predicts = tf.nn.softmax(predicts)\n",
    "predicts.shape"
   ]
  },
  {
   "cell_type": "code",
   "execution_count": null,
   "id": "4923b636-7b6e-4bb2-940b-ca2bce195e6f",
   "metadata": {},
   "outputs": [],
   "source": [
    "attack_plain=attack_metadata['plaintext']"
   ]
  },
  {
   "cell_type": "code",
   "execution_count": null,
   "id": "d66915b1-ff1f-4e1d-aa3e-6793f4381ec9",
   "metadata": {},
   "outputs": [],
   "source": [
    "attack_sbox_in = []\n",
    "for estimated_key in range(256): #256通りの推定鍵だけ繰り返す。\n",
    "    attack_sbox_in.append(attack_plain^np.array([estimated_key]*16)) #平文と推定鍵のXORがSbox(SubBytes)入力\n",
    "attack_sbox_in = np.array(attack_sbox_in)\n",
    "attack_sbox_out = np.array([AES_Sbox[i] for i in attack_sbox_in])\n",
    "attack_sbox_out = attack_sbox_out[:,:,TARGET_BYTE]"
   ]
  },
  {
   "cell_type": "code",
   "execution_count": null,
   "id": "14a75b5a-11b6-4647-bb7e-ea0784b435dc",
   "metadata": {},
   "outputs": [],
   "source": [
    "attack_sbox_out = attack_sbox_out[:,50000:] #全体の内, 最後の10000を攻撃に使用"
   ]
  },
  {
   "cell_type": "code",
   "execution_count": null,
   "id": "b7b0fda6-e952-4791-a608-8faa9052cce4",
   "metadata": {},
   "outputs": [],
   "source": [
    "result2 = np.ones(256) /256\n",
    "rank = []\n",
    "attack_sbox_out = np.array(attack_sbox_out)\n",
    "pred = predicts.numpy()\n",
    "\n",
    "for i in range(len(predicts)):\n",
    "    result2 *= pred[i, attack_sbox_out[:, i]]\n",
    "    result2 = result2 /np.sum(result2)\n",
    "    rank.append(list(np.argsort(result2)[::-1]).index(attack_key[0][TARGET_BYTE])+1)\n",
    "    "
   ]
  },
  {
   "cell_type": "code",
   "execution_count": null,
   "id": "2f89830f-22a4-4510-858c-dcc882da7333",
   "metadata": {},
   "outputs": [],
   "source": [
    "rank_lim = rank[0:10000]\n",
    "plt.figure()\n",
    "plt.plot(rank_lim)\n",
    "plt.xlabel('wave')\n",
    "plt.ylabel('rank')\n",
    "plt.title('target_{}byte'.format(TARGET_BYTE))"
   ]
  },
  {
   "cell_type": "code",
   "execution_count": null,
   "id": "9a2d5141-5a61-41ed-b5f8-5bf98689fc45",
   "metadata": {},
   "outputs": [],
   "source": [
    "TARGET_BYTE = 13 #何バイト目を攻撃するか決める"
   ]
  },
  {
   "cell_type": "code",
   "execution_count": null,
   "id": "c769c2c1-f576-4813-bf25-4cf6149b16d2",
   "metadata": {},
   "outputs": [],
   "source": [
    "AES_Sbox = np.array([\n",
    "\t\t\t0x63, 0x7C, 0x77, 0x7B, 0xF2, 0x6B, 0x6F, 0xC5, 0x30, 0x01, 0x67, 0x2B, 0xFE, 0xD7, 0xAB, 0x76,\n",
    "\t\t\t0xCA, 0x82, 0xC9, 0x7D, 0xFA, 0x59, 0x47, 0xF0, 0xAD, 0xD4, 0xA2, 0xAF, 0x9C, 0xA4, 0x72, 0xC0,\n",
    "\t\t\t0xB7, 0xFD, 0x93, 0x26, 0x36, 0x3F, 0xF7, 0xCC, 0x34, 0xA5, 0xE5, 0xF1, 0x71, 0xD8, 0x31, 0x15,\n",
    "\t\t\t0x04, 0xC7, 0x23, 0xC3, 0x18, 0x96, 0x05, 0x9A, 0x07, 0x12, 0x80, 0xE2, 0xEB, 0x27, 0xB2, 0x75,\n",
    "\t\t\t0x09, 0x83, 0x2C, 0x1A, 0x1B, 0x6E, 0x5A, 0xA0, 0x52, 0x3B, 0xD6, 0xB3, 0x29, 0xE3, 0x2F, 0x84,\n",
    "\t\t\t0x53, 0xD1, 0x00, 0xED, 0x20, 0xFC, 0xB1, 0x5B, 0x6A, 0xCB, 0xBE, 0x39, 0x4A, 0x4C, 0x58, 0xCF,\n",
    "\t\t\t0xD0, 0xEF, 0xAA, 0xFB, 0x43, 0x4D, 0x33, 0x85, 0x45, 0xF9, 0x02, 0x7F, 0x50, 0x3C, 0x9F, 0xA8,\n",
    "\t\t\t0x51, 0xA3, 0x40, 0x8F, 0x92, 0x9D, 0x38, 0xF5, 0xBC, 0xB6, 0xDA, 0x21, 0x10, 0xFF, 0xF3, 0xD2,\n",
    "\t\t\t0xCD, 0x0C, 0x13, 0xEC, 0x5F, 0x97, 0x44, 0x17, 0xC4, 0xA7, 0x7E, 0x3D, 0x64, 0x5D, 0x19, 0x73,\n",
    "\t\t\t0x60, 0x81, 0x4F, 0xDC, 0x22, 0x2A, 0x90, 0x88, 0x46, 0xEE, 0xB8, 0x14, 0xDE, 0x5E, 0x0B, 0xDB,\n",
    "\t\t\t0xE0, 0x32, 0x3A, 0x0A, 0x49, 0x06, 0x24, 0x5C, 0xC2, 0xD3, 0xAC, 0x62, 0x91, 0x95, 0xE4, 0x79,\n",
    "\t\t\t0xE7, 0xC8, 0x37, 0x6D, 0x8D, 0xD5, 0x4E, 0xA9, 0x6C, 0x56, 0xF4, 0xEA, 0x65, 0x7A, 0xAE, 0x08,\n",
    "\t\t\t0xBA, 0x78, 0x25, 0x2E, 0x1C, 0xA6, 0xB4, 0xC6, 0xE8, 0xDD, 0x74, 0x1F, 0x4B, 0xBD, 0x8B, 0x8A,\n",
    "\t\t\t0x70, 0x3E, 0xB5, 0x66, 0x48, 0x03, 0xF6, 0x0E, 0x61, 0x35, 0x57, 0xB9, 0x86, 0xC1, 0x1D, 0x9E,\n",
    "\t\t\t0xE1, 0xF8, 0x98, 0x11, 0x69, 0xD9, 0x8E, 0x94, 0x9B, 0x1E, 0x87, 0xE9, 0xCE, 0x55, 0x28, 0xDF,\n",
    "\t\t\t0x8C, 0xA1, 0x89, 0x0D, 0xBF, 0xE6, 0x42, 0x68, 0x41, 0x99, 0x2D, 0x0F, 0xB0, 0x54, 0xBB, 0x16\n",
    "\t\t\t])"
   ]
  },
  {
   "cell_type": "code",
   "execution_count": null,
   "id": "10dd56d7-9ae1-45f6-9d6f-64c7889356ae",
   "metadata": {},
   "outputs": [],
   "source": [
    "data_train = h5py.File('ATMega8515_raw_traces.h5', 'r')\n",
    "data_test = h5py.File('ATMega8515_raw_traces.h5', 'r')\n",
    "data_attack = h5py.File('ATMega8515_raw_traces.h5', 'r')"
   ]
  },
  {
   "cell_type": "code",
   "execution_count": null,
   "id": "6a9a2309-edeb-4b40-9b89-569784c0a2aa",
   "metadata": {},
   "outputs": [],
   "source": [
    "train_metadata=data_train['metadata']\n",
    "train_plain = train_metadata['plaintext']\n",
    "train_cipher = train_metadata['ciphertext']\n",
    "train_key = train_metadata['key']\n",
    "train_mask = train_metadata['masks']\n",
    "train_trace = data_train['traces']\n",
    "\n",
    "test_metadata=data_test['metadata']\n",
    "test_plain = test_metadata['plaintext']\n",
    "test_cipher = test_metadata['ciphertext']\n",
    "test_key = test_metadata['key']\n",
    "test_mask = test_metadata['masks']\n",
    "test_trace = data_train['traces']\n",
    "\n",
    "attack_metadata=data_attack['metadata']\n",
    "attack_plain = attack_metadata['plaintext']\n",
    "attack_cipher = attack_metadata['ciphertext']\n",
    "attack_key = attack_metadata['key']\n",
    "attack_mask = attack_metadata['masks']\n",
    "attack_trace = data_train['traces']"
   ]
  },
  {
   "cell_type": "code",
   "execution_count": null,
   "id": "60ca2b42-4489-4eee-96db-22f6d7dc4b00",
   "metadata": {},
   "outputs": [],
   "source": [
    "print(train_metadata.shape, train_trace.shape, train_plain.shape, train_cipher.shape, train_key.shape, train_mask.shape)"
   ]
  },
  {
   "cell_type": "code",
   "execution_count": null,
   "id": "ba7b0e5a-5773-4dfe-9ebb-118030ff685f",
   "metadata": {},
   "outputs": [],
   "source": [
    "keys=np.array([0x4D,0xFB,0xE0,0xF2,0x72,0x21,0xFE,0x10,0xA7,0x8D,0x4A,0xDC,0x8E,0x49,0x04,0x69])"
   ]
  },
  {
   "cell_type": "code",
   "execution_count": null,
   "id": "8a9570e4-0377-4588-8325-761458b5c868",
   "metadata": {},
   "outputs": [],
   "source": [
    "train_trace = train_trace[0:45000, 22495:23195]\n",
    "test_trace = test_trace[45000:50000, 22495:23195]\n",
    "attack_trace = attack_trace[50000:60000, 22495:23195]\n",
    "train_plain = train_plain[0:45000, :]\n",
    "test_plain = test_plain[45000:50000, :]\n",
    "train_trace2 = train_trace\n",
    "test_trace2 = test_trace\n",
    "attack_trace2 = attack_trace\n",
    "train_trace.shape"
   ]
  },
  {
   "cell_type": "code",
   "execution_count": null,
   "id": "821f1dfb-e3da-489d-b655-bb8044306a74",
   "metadata": {},
   "outputs": [],
   "source": [
    "train_key = train_key[0:45000,:]\n",
    "train_sbox_in = []\n",
    "train_sbox_in = np.array(train_plain^train_key) #平文と鍵のXORがSbox(SubBytes)入力\n",
    "train_sbox_out = np.array([AES_Sbox[i] for i in train_sbox_in])"
   ]
  },
  {
   "cell_type": "code",
   "execution_count": null,
   "id": "29d05afc-b4c2-45f7-876c-8500aba2aa3b",
   "metadata": {},
   "outputs": [],
   "source": [
    "test_key = test_key[0:5000,:]\n",
    "test_sbox_in = []\n",
    "test_sbox_in = np.array(test_plain^np.array(test_key)) #平文と鍵のXORがSbox(SubBytes)入力\n",
    "test_sbox_out = np.array([AES_Sbox[i] for i in test_sbox_in])"
   ]
  },
  {
   "cell_type": "code",
   "execution_count": null,
   "id": "2616fa9c-60ee-4509-977c-2f6159fdd9af",
   "metadata": {},
   "outputs": [],
   "source": [
    "train_sbox_out = train_sbox_out[:,TARGET_BYTE]\n",
    "test_sbox_out = test_sbox_out[:,TARGET_BYTE]"
   ]
  },
  {
   "cell_type": "code",
   "execution_count": null,
   "id": "1b769da8-dac8-4ad6-b0cb-9cd15134b06f",
   "metadata": {},
   "outputs": [],
   "source": [
    "#波形データの標準化(データを平均で引いて標準偏差で割る)\n",
    "train_trace2 = (train_trace2 -np.mean(train_trace2, axis = 0))/np.std(train_trace2, axis = 0)\n",
    "\n",
    "test_trace2 = (test_trace2 - np.mean(test_trace2, axis = 0))/np.std(test_trace2, axis = 0)\n",
    "\n",
    "attack_trace2 = (attack_trace2 - np.mean(attack_trace2, axis = 0))/np.std(attack_trace2, axis = 0)\n",
    "\n",
    "#DeepLearningできるshapeに変更\n",
    "train_trace2 = train_trace2.reshape(45000,700,1)\n",
    "\n",
    "test_trace2 = test_trace2.reshape(5000,700,1)\n",
    "\n",
    "attack_trace2 = attack_trace2.reshape(10000,700,1)"
   ]
  },
  {
   "cell_type": "code",
   "execution_count": null,
   "id": "8173212e-8e40-4b25-bc0a-06829d7e8be4",
   "metadata": {},
   "outputs": [],
   "source": [
    "def mlp_best(node=200,layer_nb=6,input_dim=700):\n",
    "\tmodel = Sequential()\n",
    "\tmodel.add(Dense(node, input_dim=input_dim, activation='relu'))\n",
    "\tfor i in range(layer_nb-2):\n",
    "\t\tmodel.add(Dense(node, activation='relu'))\n",
    "\tmodel.add(Dense(256))\n",
    "\toptimizer = RMSprop(learning_rate=0.00001)\n",
    "\tloss_fn = tf.keras.losses.SparseCategoricalCrossentropy(from_logits=True)\n",
    "\t# model.compile(loss='categorical_crossentropy', optimizer=optimizer, metrics=['accuracy'])\n",
    "\tmodel.compile(loss=loss_fn, optimizer=optimizer, metrics=['accuracy'])\n",
    "\treturn model"
   ]
  },
  {
   "cell_type": "code",
   "execution_count": null,
   "id": "e8fdbcd3-24e7-47f9-b555-411b056632da",
   "metadata": {},
   "outputs": [],
   "source": [
    "mlp_best()\n",
    "model=mlp_best(node=200,layer_nb=6,input_dim=700)"
   ]
  },
  {
   "cell_type": "code",
   "execution_count": null,
   "id": "7d869f73-5b5b-4297-9685-53302aa4d586",
   "metadata": {},
   "outputs": [],
   "source": [
    "rank = []\n",
    "class CustomCallback(tf.keras.callbacks.Callback):\n",
    "    def __init__(self, test_trace2 , label, TARGET_BYTE, rank_save_dir, *args, **kwargs):\n",
    "        super().__init__(*args, **kwargs)\n",
    "        self.data_test = test_trace2\n",
    "        self.label = label.T\n",
    "        self.target_byte = TARGET_BYTE\n",
    "        self.save_dir = rank_save_dir\n",
    "    def on_epoch_end(self, epoch, logs=None):\n",
    "        predicts = model.predict(attack_trace2)\n",
    "        predicts = tf.nn.softmax(predicts)\n",
    "        attack_plain=attack_metadata['plaintext']\n",
    "        attack_sbox_in = []\n",
    "        for estimated_key in range(256): #256通りの推定鍵だけ繰り返す。\n",
    "            attack_sbox_in.append(attack_plain^np.array([estimated_key]*16)) #平文と推定鍵のXORがSbox(SubBytes)入力\n",
    "        attack_sbox_in = np.array(attack_sbox_in)\n",
    "        attack_sbox_out = np.array([AES_Sbox[i] for i in attack_sbox_in])\n",
    "        attack_sbox_out = attack_sbox_out[:,:,TARGET_BYTE]\n",
    "        attack_sbox_out = attack_sbox_out[:,50000:] #全体の内, 最後の10000を攻撃に使用\n",
    "        result = np.ones(256) /256\n",
    "        attack_sbox_out = np.array(attack_sbox_out)\n",
    "        pred = predicts.numpy()\n",
    "\n",
    "        for i in range(len(predicts)):\n",
    "            result *= pred[i, attack_sbox_out[:, i]]\n",
    "            result = result /np.sum(result)\n",
    "            rank.append(list(np.argsort(result)[::-1]).index(attack_key[0][TARGET_BYTE])+1)\n",
    "        \n",
    "        np.save(self.save_dir + f'/rank_result_{epoch+1}', np.array(rank))\n",
    "        print(f'Epoch {epoch+1} - GE:{np.mean(rank)}, SR:{np.sum(np.array(rank)==1)/len(rank)} last trace rank:{rank[-1]}')\n"
   ]
  },
  {
   "cell_type": "code",
   "execution_count": null,
   "id": "c8734902-0141-4d9e-b08d-d9c9ca4999f2",
   "metadata": {},
   "outputs": [],
   "source": [
    "rank_save_dir = f\"./save_file/fixed2_lr0.001_target_byte_{TARGET_BYTE}/rank_save/\"\n",
    "os.makedirs(rank_save_dir, exist_ok=True)"
   ]
  },
  {
   "cell_type": "code",
   "execution_count": null,
   "id": "ba7d4570-3a31-4bdb-bdf5-c5d2e28728c4",
   "metadata": {},
   "outputs": [],
   "source": [
    "result = model.fit(train_trace2,train_sbox_out,  # 波形データとラベルデータ\n",
    "                        batch_size=100,\n",
    "                        epochs=200,     # エポック数の指定\n",
    "                        validation_data=(test_trace2,test_sbox_out),\n",
    "                        callbacks=[CustomCallback(test_trace2, test_sbox_out, TARGET_BYTE, rank_save_dir)],\n",
    "                       verbose = 0\n",
    "                        )"
   ]
  },
  {
   "cell_type": "code",
   "execution_count": null,
   "id": "2457ff59-bd0f-4748-bf1d-21d22de8a3d9",
   "metadata": {},
   "outputs": [],
   "source": [
    "plt.figure()\n",
    "plt.plot(rank)\n",
    "plt.xlabel('wave')\n",
    "plt.ylabel('rank')\n",
    "plt.title('target_{}byte'.format(TARGET_BYTE))"
   ]
  },
  {
   "cell_type": "code",
   "execution_count": null,
   "id": "71bad7a3-d491-473c-b5cd-9273c837ae4a",
   "metadata": {},
   "outputs": [],
   "source": [
    "plt.plot(result.history['accuracy'])\n",
    "plt.plot(result.history['val_accuracy'])"
   ]
  },
  {
   "cell_type": "code",
   "execution_count": null,
   "id": "5b989867-a567-4347-8491-c2b53bbdcffa",
   "metadata": {},
   "outputs": [],
   "source": [
    "predicts = model.predict(attack_trace2)\n",
    "predicts = tf.nn.softmax(predicts)\n",
    "predicts.shape"
   ]
  },
  {
   "cell_type": "code",
   "execution_count": null,
   "id": "33c8a59b-174c-4673-96f6-a82305915dde",
   "metadata": {},
   "outputs": [],
   "source": [
    "attack_plain=attack_metadata['plaintext']"
   ]
  },
  {
   "cell_type": "code",
   "execution_count": null,
   "id": "7cedb7db-b604-4867-bd7f-d67b07efdaef",
   "metadata": {},
   "outputs": [],
   "source": [
    "attack_sbox_in = []\n",
    "for estimated_key in range(256): #256通りの推定鍵だけ繰り返す。\n",
    "    attack_sbox_in.append(attack_plain^np.array([estimated_key]*16)) #平文と推定鍵のXORがSbox(SubBytes)入力\n",
    "attack_sbox_in = np.array(attack_sbox_in)\n",
    "attack_sbox_out = np.array([AES_Sbox[i] for i in attack_sbox_in])\n",
    "attack_sbox_out = attack_sbox_out[:,:,TARGET_BYTE]"
   ]
  },
  {
   "cell_type": "code",
   "execution_count": null,
   "id": "f0242fbc-703a-4c46-8051-0d4101bfd06b",
   "metadata": {},
   "outputs": [],
   "source": [
    "attack_sbox_out = attack_sbox_out[:,50000:] #全体の内, 最後の10000を攻撃に使用"
   ]
  },
  {
   "cell_type": "code",
   "execution_count": null,
   "id": "a8d579c9-8064-4b02-9ce1-68f8439ef1be",
   "metadata": {},
   "outputs": [],
   "source": [
    "result2 = np.ones(256) /256\n",
    "rank = []\n",
    "attack_sbox_out = np.array(attack_sbox_out)\n",
    "pred = predicts.numpy()\n",
    "\n",
    "for i in range(len(predicts)):\n",
    "    result2 *= pred[i, attack_sbox_out[:, i]]\n",
    "    result2 = result2 /np.sum(result2)\n",
    "    rank.append(list(np.argsort(result2)[::-1]).index(attack_key[0][TARGET_BYTE])+1)\n",
    "    "
   ]
  },
  {
   "cell_type": "code",
   "execution_count": null,
   "id": "05b5eb79-9986-4e06-afa8-c657cb003ff9",
   "metadata": {},
   "outputs": [],
   "source": [
    "rank_lim = rank[0:10000]\n",
    "plt.figure()\n",
    "plt.plot(rank_lim)\n",
    "plt.xlabel('wave')\n",
    "plt.ylabel('rank')\n",
    "plt.title('target_{}byte'.format(TARGET_BYTE))"
   ]
  },
  {
   "cell_type": "code",
   "execution_count": null,
   "id": "618344ce-858f-45f2-b1bd-735eeef4a709",
   "metadata": {},
   "outputs": [],
   "source": [
    "TARGET_BYTE = 14 #何バイト目を攻撃するか決める"
   ]
  },
  {
   "cell_type": "code",
   "execution_count": null,
   "id": "73949b17-b3ae-4909-8e98-213f38742a40",
   "metadata": {},
   "outputs": [],
   "source": [
    "AES_Sbox = np.array([\n",
    "\t\t\t0x63, 0x7C, 0x77, 0x7B, 0xF2, 0x6B, 0x6F, 0xC5, 0x30, 0x01, 0x67, 0x2B, 0xFE, 0xD7, 0xAB, 0x76,\n",
    "\t\t\t0xCA, 0x82, 0xC9, 0x7D, 0xFA, 0x59, 0x47, 0xF0, 0xAD, 0xD4, 0xA2, 0xAF, 0x9C, 0xA4, 0x72, 0xC0,\n",
    "\t\t\t0xB7, 0xFD, 0x93, 0x26, 0x36, 0x3F, 0xF7, 0xCC, 0x34, 0xA5, 0xE5, 0xF1, 0x71, 0xD8, 0x31, 0x15,\n",
    "\t\t\t0x04, 0xC7, 0x23, 0xC3, 0x18, 0x96, 0x05, 0x9A, 0x07, 0x12, 0x80, 0xE2, 0xEB, 0x27, 0xB2, 0x75,\n",
    "\t\t\t0x09, 0x83, 0x2C, 0x1A, 0x1B, 0x6E, 0x5A, 0xA0, 0x52, 0x3B, 0xD6, 0xB3, 0x29, 0xE3, 0x2F, 0x84,\n",
    "\t\t\t0x53, 0xD1, 0x00, 0xED, 0x20, 0xFC, 0xB1, 0x5B, 0x6A, 0xCB, 0xBE, 0x39, 0x4A, 0x4C, 0x58, 0xCF,\n",
    "\t\t\t0xD0, 0xEF, 0xAA, 0xFB, 0x43, 0x4D, 0x33, 0x85, 0x45, 0xF9, 0x02, 0x7F, 0x50, 0x3C, 0x9F, 0xA8,\n",
    "\t\t\t0x51, 0xA3, 0x40, 0x8F, 0x92, 0x9D, 0x38, 0xF5, 0xBC, 0xB6, 0xDA, 0x21, 0x10, 0xFF, 0xF3, 0xD2,\n",
    "\t\t\t0xCD, 0x0C, 0x13, 0xEC, 0x5F, 0x97, 0x44, 0x17, 0xC4, 0xA7, 0x7E, 0x3D, 0x64, 0x5D, 0x19, 0x73,\n",
    "\t\t\t0x60, 0x81, 0x4F, 0xDC, 0x22, 0x2A, 0x90, 0x88, 0x46, 0xEE, 0xB8, 0x14, 0xDE, 0x5E, 0x0B, 0xDB,\n",
    "\t\t\t0xE0, 0x32, 0x3A, 0x0A, 0x49, 0x06, 0x24, 0x5C, 0xC2, 0xD3, 0xAC, 0x62, 0x91, 0x95, 0xE4, 0x79,\n",
    "\t\t\t0xE7, 0xC8, 0x37, 0x6D, 0x8D, 0xD5, 0x4E, 0xA9, 0x6C, 0x56, 0xF4, 0xEA, 0x65, 0x7A, 0xAE, 0x08,\n",
    "\t\t\t0xBA, 0x78, 0x25, 0x2E, 0x1C, 0xA6, 0xB4, 0xC6, 0xE8, 0xDD, 0x74, 0x1F, 0x4B, 0xBD, 0x8B, 0x8A,\n",
    "\t\t\t0x70, 0x3E, 0xB5, 0x66, 0x48, 0x03, 0xF6, 0x0E, 0x61, 0x35, 0x57, 0xB9, 0x86, 0xC1, 0x1D, 0x9E,\n",
    "\t\t\t0xE1, 0xF8, 0x98, 0x11, 0x69, 0xD9, 0x8E, 0x94, 0x9B, 0x1E, 0x87, 0xE9, 0xCE, 0x55, 0x28, 0xDF,\n",
    "\t\t\t0x8C, 0xA1, 0x89, 0x0D, 0xBF, 0xE6, 0x42, 0x68, 0x41, 0x99, 0x2D, 0x0F, 0xB0, 0x54, 0xBB, 0x16\n",
    "\t\t\t])"
   ]
  },
  {
   "cell_type": "code",
   "execution_count": null,
   "id": "81675470-52b8-41e4-b694-57f8fa8291d0",
   "metadata": {},
   "outputs": [],
   "source": [
    "data_train = h5py.File('ATMega8515_raw_traces.h5', 'r')\n",
    "data_test = h5py.File('ATMega8515_raw_traces.h5', 'r')\n",
    "data_attack = h5py.File('ATMega8515_raw_traces.h5', 'r')"
   ]
  },
  {
   "cell_type": "code",
   "execution_count": null,
   "id": "51ad9e13-8f55-4838-b132-e4c700427725",
   "metadata": {},
   "outputs": [],
   "source": [
    "train_metadata=data_train['metadata']\n",
    "train_plain = train_metadata['plaintext']\n",
    "train_cipher = train_metadata['ciphertext']\n",
    "train_key = train_metadata['key']\n",
    "train_mask = train_metadata['masks']\n",
    "train_trace = data_train['traces']\n",
    "\n",
    "test_metadata=data_test['metadata']\n",
    "test_plain = test_metadata['plaintext']\n",
    "test_cipher = test_metadata['ciphertext']\n",
    "test_key = test_metadata['key']\n",
    "test_mask = test_metadata['masks']\n",
    "test_trace = data_train['traces']\n",
    "\n",
    "attack_metadata=data_attack['metadata']\n",
    "attack_plain = attack_metadata['plaintext']\n",
    "attack_cipher = attack_metadata['ciphertext']\n",
    "attack_key = attack_metadata['key']\n",
    "attack_mask = attack_metadata['masks']\n",
    "attack_trace = data_train['traces']"
   ]
  },
  {
   "cell_type": "code",
   "execution_count": null,
   "id": "77a14d1e-df6f-4777-8e31-8d1dc64511ce",
   "metadata": {},
   "outputs": [],
   "source": [
    "print(train_metadata.shape, train_trace.shape, train_plain.shape, train_cipher.shape, train_key.shape, train_mask.shape)"
   ]
  },
  {
   "cell_type": "code",
   "execution_count": null,
   "id": "7498aaf5-52cb-4db3-98fa-4a9e21e4eec0",
   "metadata": {},
   "outputs": [],
   "source": [
    "keys=np.array([0x4D,0xFB,0xE0,0xF2,0x72,0x21,0xFE,0x10,0xA7,0x8D,0x4A,0xDC,0x8E,0x49,0x04,0x69])"
   ]
  },
  {
   "cell_type": "code",
   "execution_count": null,
   "id": "0f52357b-e6d3-4569-b61e-e77bec7d7f74",
   "metadata": {},
   "outputs": [],
   "source": [
    "train_trace = train_trace[0:45000, 49565:50265]\n",
    "test_trace = test_trace[45000:50000, 49565:50265]\n",
    "attack_trace = attack_trace[50000:60000, 49565:50265]\n",
    "train_plain = train_plain[0:45000, :]\n",
    "test_plain = test_plain[45000:50000, :]\n",
    "train_trace2 = train_trace\n",
    "test_trace2 = test_trace\n",
    "attack_trace2 = attack_trace\n",
    "train_trace.shape"
   ]
  },
  {
   "cell_type": "code",
   "execution_count": null,
   "id": "811c1e8a-8b11-48ff-a288-8a4920d9d83a",
   "metadata": {},
   "outputs": [],
   "source": [
    "train_key = train_key[0:45000,:]\n",
    "train_sbox_in = []\n",
    "train_sbox_in = np.array(train_plain^train_key) #平文と鍵のXORがSbox(SubBytes)入力\n",
    "train_sbox_out = np.array([AES_Sbox[i] for i in train_sbox_in])"
   ]
  },
  {
   "cell_type": "code",
   "execution_count": null,
   "id": "1b06af81-3344-4eb5-ba19-186e17dacabb",
   "metadata": {},
   "outputs": [],
   "source": [
    "test_key = test_key[0:5000,:]\n",
    "test_sbox_in = []\n",
    "test_sbox_in = np.array(test_plain^np.array(test_key)) #平文と鍵のXORがSbox(SubBytes)入力\n",
    "test_sbox_out = np.array([AES_Sbox[i] for i in test_sbox_in])"
   ]
  },
  {
   "cell_type": "code",
   "execution_count": null,
   "id": "b67e6060-3a69-46c9-a740-b9adbf7fd534",
   "metadata": {},
   "outputs": [],
   "source": [
    "train_sbox_out = train_sbox_out[:,TARGET_BYTE]\n",
    "test_sbox_out = test_sbox_out[:,TARGET_BYTE]"
   ]
  },
  {
   "cell_type": "code",
   "execution_count": null,
   "id": "f4da4315-64ec-4d80-b669-42ea88007b3f",
   "metadata": {},
   "outputs": [],
   "source": [
    "#波形データの標準化(データを平均で引いて標準偏差で割る)\n",
    "train_trace2 = (train_trace2 -np.mean(train_trace2, axis = 0))/np.std(train_trace2, axis = 0)\n",
    "\n",
    "test_trace2 = (test_trace2 - np.mean(test_trace2, axis = 0))/np.std(test_trace2, axis = 0)\n",
    "\n",
    "attack_trace2 = (attack_trace2 - np.mean(attack_trace2, axis = 0))/np.std(attack_trace2, axis = 0)\n",
    "\n",
    "#DeepLearningできるshapeに変更\n",
    "train_trace2 = train_trace2.reshape(45000,700,1)\n",
    "\n",
    "test_trace2 = test_trace2.reshape(5000,700,1)\n",
    "\n",
    "attack_trace2 = attack_trace2.reshape(10000,700,1)"
   ]
  },
  {
   "cell_type": "code",
   "execution_count": null,
   "id": "4ca91551-acc4-4836-b85c-fc09e669b27d",
   "metadata": {},
   "outputs": [],
   "source": [
    "def mlp_best(node=200,layer_nb=6,input_dim=700):\n",
    "\tmodel = Sequential()\n",
    "\tmodel.add(Dense(node, input_dim=input_dim, activation='relu'))\n",
    "\tfor i in range(layer_nb-2):\n",
    "\t\tmodel.add(Dense(node, activation='relu'))\n",
    "\tmodel.add(Dense(256))\n",
    "\toptimizer = RMSprop(learning_rate=0.00001)\n",
    "\tloss_fn = tf.keras.losses.SparseCategoricalCrossentropy(from_logits=True)\n",
    "\t# model.compile(loss='categorical_crossentropy', optimizer=optimizer, metrics=['accuracy'])\n",
    "\tmodel.compile(loss=loss_fn, optimizer=optimizer, metrics=['accuracy'])\n",
    "\treturn model"
   ]
  },
  {
   "cell_type": "code",
   "execution_count": null,
   "id": "4c27d769-7ab7-4a6d-9037-2cc26eff8da0",
   "metadata": {},
   "outputs": [],
   "source": [
    "mlp_best()\n",
    "model=mlp_best(node=200,layer_nb=6,input_dim=700)"
   ]
  },
  {
   "cell_type": "code",
   "execution_count": null,
   "id": "3bc8e3ca-80e3-4864-bb1e-4e162aa18aba",
   "metadata": {},
   "outputs": [],
   "source": [
    "rank = []\n",
    "class CustomCallback(tf.keras.callbacks.Callback):\n",
    "    def __init__(self, test_trace2 , label, TARGET_BYTE, rank_save_dir, *args, **kwargs):\n",
    "        super().__init__(*args, **kwargs)\n",
    "        self.data_test = test_trace2\n",
    "        self.label = label.T\n",
    "        self.target_byte = TARGET_BYTE\n",
    "        self.save_dir = rank_save_dir\n",
    "    def on_epoch_end(self, epoch, logs=None):\n",
    "        predicts = model.predict(attack_trace2)\n",
    "        predicts = tf.nn.softmax(predicts)\n",
    "        attack_plain=attack_metadata['plaintext']\n",
    "        attack_sbox_in = []\n",
    "        for estimated_key in range(256): #256通りの推定鍵だけ繰り返す。\n",
    "            attack_sbox_in.append(attack_plain^np.array([estimated_key]*16)) #平文と推定鍵のXORがSbox(SubBytes)入力\n",
    "        attack_sbox_in = np.array(attack_sbox_in)\n",
    "        attack_sbox_out = np.array([AES_Sbox[i] for i in attack_sbox_in])\n",
    "        attack_sbox_out = attack_sbox_out[:,:,TARGET_BYTE]\n",
    "        attack_sbox_out = attack_sbox_out[:,50000:] #全体の内, 最後の10000を攻撃に使用\n",
    "        result = np.ones(256) /256\n",
    "        attack_sbox_out = np.array(attack_sbox_out)\n",
    "        pred = predicts.numpy()\n",
    "\n",
    "        for i in range(len(predicts)):\n",
    "            result *= pred[i, attack_sbox_out[:, i]]\n",
    "            result = result /np.sum(result)\n",
    "            rank.append(list(np.argsort(result)[::-1]).index(attack_key[0][TARGET_BYTE])+1)\n",
    "        \n",
    "        np.save(self.save_dir + f'/rank_result_{epoch+1}', np.array(rank))\n",
    "        print(f'Epoch {epoch+1} - GE:{np.mean(rank)}, SR:{np.sum(np.array(rank)==1)/len(rank)} last trace rank:{rank[-1]}')\n"
   ]
  },
  {
   "cell_type": "code",
   "execution_count": null,
   "id": "3e456166-f4b4-462a-9006-407d14d82aa6",
   "metadata": {},
   "outputs": [],
   "source": [
    "rank_save_dir = f\"./save_file/fixed2_lr0.001_target_byte_{TARGET_BYTE}/rank_save/\"\n",
    "os.makedirs(rank_save_dir, exist_ok=True)"
   ]
  },
  {
   "cell_type": "code",
   "execution_count": null,
   "id": "93040f5f-18b8-4afb-b31d-05c311d45653",
   "metadata": {},
   "outputs": [],
   "source": [
    "result = model.fit(train_trace2,train_sbox_out,  # 波形データとラベルデータ\n",
    "                        batch_size=100,\n",
    "                        epochs=200,     # エポック数の指定\n",
    "                        validation_data=(test_trace2,test_sbox_out),\n",
    "                        callbacks=[CustomCallback(test_trace2, test_sbox_out, TARGET_BYTE, rank_save_dir)],\n",
    "                       verbose = 0\n",
    "                        )"
   ]
  },
  {
   "cell_type": "code",
   "execution_count": null,
   "id": "6291027c-5fa3-4832-bc47-54199fefb1b5",
   "metadata": {},
   "outputs": [],
   "source": [
    "plt.figure()\n",
    "plt.plot(rank)\n",
    "plt.xlabel('wave')\n",
    "plt.ylabel('rank')\n",
    "plt.title('target_{}byte'.format(TARGET_BYTE))"
   ]
  },
  {
   "cell_type": "code",
   "execution_count": null,
   "id": "27784aad-da4a-43b7-92b4-9755f117f9be",
   "metadata": {},
   "outputs": [],
   "source": [
    "plt.plot(result.history['accuracy'])\n",
    "plt.plot(result.history['val_accuracy'])"
   ]
  },
  {
   "cell_type": "code",
   "execution_count": null,
   "id": "834840ec-6cca-4e25-b433-c8389359cf1f",
   "metadata": {},
   "outputs": [],
   "source": [
    "predicts = model.predict(attack_trace2)\n",
    "predicts = tf.nn.softmax(predicts)\n",
    "predicts.shape"
   ]
  },
  {
   "cell_type": "code",
   "execution_count": null,
   "id": "a1f7c984-5e54-45f9-9595-fab527e78eea",
   "metadata": {},
   "outputs": [],
   "source": [
    "attack_plain=attack_metadata['plaintext']"
   ]
  },
  {
   "cell_type": "code",
   "execution_count": null,
   "id": "59776e3f-6703-457c-962d-8b2d5dfc50d8",
   "metadata": {},
   "outputs": [],
   "source": [
    "attack_sbox_in = []\n",
    "for estimated_key in range(256): #256通りの推定鍵だけ繰り返す。\n",
    "    attack_sbox_in.append(attack_plain^np.array([estimated_key]*16)) #平文と推定鍵のXORがSbox(SubBytes)入力\n",
    "attack_sbox_in = np.array(attack_sbox_in)\n",
    "attack_sbox_out = np.array([AES_Sbox[i] for i in attack_sbox_in])\n",
    "attack_sbox_out = attack_sbox_out[:,:,TARGET_BYTE]"
   ]
  },
  {
   "cell_type": "code",
   "execution_count": null,
   "id": "63944381-856d-42d1-810d-8e53cad9d620",
   "metadata": {},
   "outputs": [],
   "source": [
    "attack_sbox_out = attack_sbox_out[:,50000:] #全体の内, 最後の10000を攻撃に使用"
   ]
  },
  {
   "cell_type": "code",
   "execution_count": null,
   "id": "f3845bcd-9114-4eea-a3d6-15b3bdaa6fdf",
   "metadata": {},
   "outputs": [],
   "source": [
    "result2 = np.ones(256) /256\n",
    "rank = []\n",
    "attack_sbox_out = np.array(attack_sbox_out)\n",
    "pred = predicts.numpy()\n",
    "\n",
    "for i in range(len(predicts)):\n",
    "    result2 *= pred[i, attack_sbox_out[:, i]]\n",
    "    result2 = result2 /np.sum(result2)\n",
    "    rank.append(list(np.argsort(result2)[::-1]).index(attack_key[0][TARGET_BYTE])+1)\n",
    "    "
   ]
  },
  {
   "cell_type": "code",
   "execution_count": null,
   "id": "4317e8df-7fc0-4270-a782-87b803b17e2e",
   "metadata": {},
   "outputs": [],
   "source": [
    "rank_lim = rank[0:10000]\n",
    "plt.figure()\n",
    "plt.plot(rank_lim)\n",
    "plt.xlabel('wave')\n",
    "plt.ylabel('rank')\n",
    "plt.title('target_{}byte'.format(TARGET_BYTE))"
   ]
  },
  {
   "cell_type": "code",
   "execution_count": null,
   "id": "4cfe4ae5-4bf2-4857-911f-73e9d9db2547",
   "metadata": {},
   "outputs": [],
   "source": [
    "TARGET_BYTE = 15 #何バイト目を攻撃するか決める"
   ]
  },
  {
   "cell_type": "code",
   "execution_count": null,
   "id": "9499937a-070f-4b47-91e3-9acf1f7edd64",
   "metadata": {},
   "outputs": [],
   "source": [
    "AES_Sbox = np.array([\n",
    "\t\t\t0x63, 0x7C, 0x77, 0x7B, 0xF2, 0x6B, 0x6F, 0xC5, 0x30, 0x01, 0x67, 0x2B, 0xFE, 0xD7, 0xAB, 0x76,\n",
    "\t\t\t0xCA, 0x82, 0xC9, 0x7D, 0xFA, 0x59, 0x47, 0xF0, 0xAD, 0xD4, 0xA2, 0xAF, 0x9C, 0xA4, 0x72, 0xC0,\n",
    "\t\t\t0xB7, 0xFD, 0x93, 0x26, 0x36, 0x3F, 0xF7, 0xCC, 0x34, 0xA5, 0xE5, 0xF1, 0x71, 0xD8, 0x31, 0x15,\n",
    "\t\t\t0x04, 0xC7, 0x23, 0xC3, 0x18, 0x96, 0x05, 0x9A, 0x07, 0x12, 0x80, 0xE2, 0xEB, 0x27, 0xB2, 0x75,\n",
    "\t\t\t0x09, 0x83, 0x2C, 0x1A, 0x1B, 0x6E, 0x5A, 0xA0, 0x52, 0x3B, 0xD6, 0xB3, 0x29, 0xE3, 0x2F, 0x84,\n",
    "\t\t\t0x53, 0xD1, 0x00, 0xED, 0x20, 0xFC, 0xB1, 0x5B, 0x6A, 0xCB, 0xBE, 0x39, 0x4A, 0x4C, 0x58, 0xCF,\n",
    "\t\t\t0xD0, 0xEF, 0xAA, 0xFB, 0x43, 0x4D, 0x33, 0x85, 0x45, 0xF9, 0x02, 0x7F, 0x50, 0x3C, 0x9F, 0xA8,\n",
    "\t\t\t0x51, 0xA3, 0x40, 0x8F, 0x92, 0x9D, 0x38, 0xF5, 0xBC, 0xB6, 0xDA, 0x21, 0x10, 0xFF, 0xF3, 0xD2,\n",
    "\t\t\t0xCD, 0x0C, 0x13, 0xEC, 0x5F, 0x97, 0x44, 0x17, 0xC4, 0xA7, 0x7E, 0x3D, 0x64, 0x5D, 0x19, 0x73,\n",
    "\t\t\t0x60, 0x81, 0x4F, 0xDC, 0x22, 0x2A, 0x90, 0x88, 0x46, 0xEE, 0xB8, 0x14, 0xDE, 0x5E, 0x0B, 0xDB,\n",
    "\t\t\t0xE0, 0x32, 0x3A, 0x0A, 0x49, 0x06, 0x24, 0x5C, 0xC2, 0xD3, 0xAC, 0x62, 0x91, 0x95, 0xE4, 0x79,\n",
    "\t\t\t0xE7, 0xC8, 0x37, 0x6D, 0x8D, 0xD5, 0x4E, 0xA9, 0x6C, 0x56, 0xF4, 0xEA, 0x65, 0x7A, 0xAE, 0x08,\n",
    "\t\t\t0xBA, 0x78, 0x25, 0x2E, 0x1C, 0xA6, 0xB4, 0xC6, 0xE8, 0xDD, 0x74, 0x1F, 0x4B, 0xBD, 0x8B, 0x8A,\n",
    "\t\t\t0x70, 0x3E, 0xB5, 0x66, 0x48, 0x03, 0xF6, 0x0E, 0x61, 0x35, 0x57, 0xB9, 0x86, 0xC1, 0x1D, 0x9E,\n",
    "\t\t\t0xE1, 0xF8, 0x98, 0x11, 0x69, 0xD9, 0x8E, 0x94, 0x9B, 0x1E, 0x87, 0xE9, 0xCE, 0x55, 0x28, 0xDF,\n",
    "\t\t\t0x8C, 0xA1, 0x89, 0x0D, 0xBF, 0xE6, 0x42, 0x68, 0x41, 0x99, 0x2D, 0x0F, 0xB0, 0x54, 0xBB, 0x16\n",
    "\t\t\t])"
   ]
  },
  {
   "cell_type": "code",
   "execution_count": null,
   "id": "e8c6fa3b-ed2e-474c-b1fb-860873643f81",
   "metadata": {},
   "outputs": [],
   "source": [
    "data_train = h5py.File('ATMega8515_raw_traces.h5', 'r')\n",
    "data_test = h5py.File('ATMega8515_raw_traces.h5', 'r')\n",
    "data_attack = h5py.File('ATMega8515_raw_traces.h5', 'r')"
   ]
  },
  {
   "cell_type": "code",
   "execution_count": null,
   "id": "2f3e8f48-4cec-40e4-905b-04eb988eccbc",
   "metadata": {},
   "outputs": [],
   "source": [
    "train_metadata=data_train['metadata']\n",
    "train_plain = train_metadata['plaintext']\n",
    "train_cipher = train_metadata['ciphertext']\n",
    "train_key = train_metadata['key']\n",
    "train_mask = train_metadata['masks']\n",
    "train_trace = data_train['traces']\n",
    "\n",
    "test_metadata=data_test['metadata']\n",
    "test_plain = test_metadata['plaintext']\n",
    "test_cipher = test_metadata['ciphertext']\n",
    "test_key = test_metadata['key']\n",
    "test_mask = test_metadata['masks']\n",
    "test_trace = data_train['traces']\n",
    "\n",
    "attack_metadata=data_attack['metadata']\n",
    "attack_plain = attack_metadata['plaintext']\n",
    "attack_cipher = attack_metadata['ciphertext']\n",
    "attack_key = attack_metadata['key']\n",
    "attack_mask = attack_metadata['masks']\n",
    "attack_trace = data_train['traces']"
   ]
  },
  {
   "cell_type": "code",
   "execution_count": null,
   "id": "be07e684-09a8-498a-9ac4-ce00db6409b1",
   "metadata": {},
   "outputs": [],
   "source": [
    "print(train_metadata.shape, train_trace.shape, train_plain.shape, train_cipher.shape, train_key.shape, train_mask.shape)"
   ]
  },
  {
   "cell_type": "code",
   "execution_count": null,
   "id": "ff375fc3-bfd0-433e-9bf5-4a6a7a56f9ad",
   "metadata": {},
   "outputs": [],
   "source": [
    "keys=np.array([0x4D,0xFB,0xE0,0xF2,0x72,0x21,0xFE,0x10,0xA7,0x8D,0x4A,0xDC,0x8E,0x49,0x04,0x69])"
   ]
  },
  {
   "cell_type": "code",
   "execution_count": null,
   "id": "f41f862b-e56d-4f8f-8dd3-3f8fdc3e3fea",
   "metadata": {},
   "outputs": [],
   "source": [
    "train_trace = train_trace[0:45000, 18330:19030]\n",
    "test_trace = test_trace[45000:50000, 18330:19030]\n",
    "attack_trace = attack_trace[50000:60000, 18330:19030]\n",
    "train_plain = train_plain[0:45000, :]\n",
    "test_plain = test_plain[45000:50000, :]\n",
    "train_trace2 = train_trace\n",
    "test_trace2 = test_trace\n",
    "attack_trace2 = attack_trace\n",
    "train_trace.shape"
   ]
  },
  {
   "cell_type": "code",
   "execution_count": null,
   "id": "7f0df52e-4807-4688-8d9b-76ee49709b57",
   "metadata": {},
   "outputs": [],
   "source": [
    "train_key = train_key[0:45000,:]\n",
    "train_sbox_in = []\n",
    "train_sbox_in = np.array(train_plain^train_key) #平文と鍵のXORがSbox(SubBytes)入力\n",
    "train_sbox_out = np.array([AES_Sbox[i] for i in train_sbox_in])"
   ]
  },
  {
   "cell_type": "code",
   "execution_count": null,
   "id": "f502d6d3-2644-45d5-a17a-5879896a7b56",
   "metadata": {},
   "outputs": [],
   "source": [
    "test_key = test_key[0:5000,:]\n",
    "test_sbox_in = []\n",
    "test_sbox_in = np.array(test_plain^np.array(test_key)) #平文と鍵のXORがSbox(SubBytes)入力\n",
    "test_sbox_out = np.array([AES_Sbox[i] for i in test_sbox_in])"
   ]
  },
  {
   "cell_type": "code",
   "execution_count": null,
   "id": "99364bef-6b79-4544-8600-1bf90297a701",
   "metadata": {},
   "outputs": [],
   "source": [
    "train_sbox_out = train_sbox_out[:,TARGET_BYTE]\n",
    "test_sbox_out = test_sbox_out[:,TARGET_BYTE]"
   ]
  },
  {
   "cell_type": "code",
   "execution_count": null,
   "id": "463497f8-90e2-45cc-b4d2-8d9cdb06dc31",
   "metadata": {},
   "outputs": [],
   "source": [
    "#波形データの標準化(データを平均で引いて標準偏差で割る)\n",
    "train_trace2 = (train_trace2 -np.mean(train_trace2, axis = 0))/np.std(train_trace2, axis = 0)\n",
    "\n",
    "test_trace2 = (test_trace2 - np.mean(test_trace2, axis = 0))/np.std(test_trace2, axis = 0)\n",
    "\n",
    "attack_trace2 = (attack_trace2 - np.mean(attack_trace2, axis = 0))/np.std(attack_trace2, axis = 0)\n",
    "\n",
    "#DeepLearningできるshapeに変更\n",
    "train_trace2 = train_trace2.reshape(45000,700,1)\n",
    "\n",
    "test_trace2 = test_trace2.reshape(5000,700,1)\n",
    "\n",
    "attack_trace2 = attack_trace2.reshape(10000,700,1)"
   ]
  },
  {
   "cell_type": "code",
   "execution_count": null,
   "id": "51dbe999-5262-417a-99a7-9e03aa938968",
   "metadata": {},
   "outputs": [],
   "source": [
    "def mlp_best(node=200,layer_nb=6,input_dim=700):\n",
    "\tmodel = Sequential()\n",
    "\tmodel.add(Dense(node, input_dim=input_dim, activation='relu'))\n",
    "\tfor i in range(layer_nb-2):\n",
    "\t\tmodel.add(Dense(node, activation='relu'))\n",
    "\tmodel.add(Dense(256))\n",
    "\toptimizer = RMSprop(learning_rate=0.00001)\n",
    "\tloss_fn = tf.keras.losses.SparseCategoricalCrossentropy(from_logits=True)\n",
    "\t# model.compile(loss='categorical_crossentropy', optimizer=optimizer, metrics=['accuracy'])\n",
    "\tmodel.compile(loss=loss_fn, optimizer=optimizer, metrics=['accuracy'])\n",
    "\treturn model"
   ]
  },
  {
   "cell_type": "code",
   "execution_count": null,
   "id": "bbbfa041-5943-4fc7-a697-a225703c97a2",
   "metadata": {},
   "outputs": [],
   "source": [
    "mlp_best()\n",
    "model=mlp_best(node=200,layer_nb=6,input_dim=700)"
   ]
  },
  {
   "cell_type": "code",
   "execution_count": null,
   "id": "9a4ab070-bc3e-4def-9cdf-0f333ff41646",
   "metadata": {},
   "outputs": [],
   "source": [
    "rank = []\n",
    "class CustomCallback(tf.keras.callbacks.Callback):\n",
    "    def __init__(self, test_trace2 , label, TARGET_BYTE, rank_save_dir, *args, **kwargs):\n",
    "        super().__init__(*args, **kwargs)\n",
    "        self.data_test = test_trace2\n",
    "        self.label = label.T\n",
    "        self.target_byte = TARGET_BYTE\n",
    "        self.save_dir = rank_save_dir\n",
    "    def on_epoch_end(self, epoch, logs=None):\n",
    "        predicts = model.predict(attack_trace2)\n",
    "        predicts = tf.nn.softmax(predicts)\n",
    "        attack_plain=attack_metadata['plaintext']\n",
    "        attack_sbox_in = []\n",
    "        for estimated_key in range(256): #256通りの推定鍵だけ繰り返す。\n",
    "            attack_sbox_in.append(attack_plain^np.array([estimated_key]*16)) #平文と推定鍵のXORがSbox(SubBytes)入力\n",
    "        attack_sbox_in = np.array(attack_sbox_in)\n",
    "        attack_sbox_out = np.array([AES_Sbox[i] for i in attack_sbox_in])\n",
    "        attack_sbox_out = attack_sbox_out[:,:,TARGET_BYTE]\n",
    "        attack_sbox_out = attack_sbox_out[:,50000:] #全体の内, 最後の10000を攻撃に使用\n",
    "        result = np.ones(256) /256\n",
    "        attack_sbox_out = np.array(attack_sbox_out)\n",
    "        pred = predicts.numpy()\n",
    "\n",
    "        for i in range(len(predicts)):\n",
    "            result *= pred[i, attack_sbox_out[:, i]]\n",
    "            result = result /np.sum(result)\n",
    "            rank.append(list(np.argsort(result)[::-1]).index(attack_key[0][TARGET_BYTE])+1)\n",
    "        \n",
    "        np.save(self.save_dir + f'/rank_result_{epoch+1}', np.array(rank))\n",
    "        print(f'Epoch {epoch+1} - GE:{np.mean(rank)}, SR:{np.sum(np.array(rank)==1)/len(rank)} last trace rank:{rank[-1]}')\n"
   ]
  },
  {
   "cell_type": "code",
   "execution_count": null,
   "id": "d2dbf5d1-3f18-4fea-8657-c646baba4a2b",
   "metadata": {},
   "outputs": [],
   "source": [
    "rank_save_dir = f\"./save_file/fixed2_lr0.001_target_byte_{TARGET_BYTE}/rank_save/\"\n",
    "os.makedirs(rank_save_dir, exist_ok=True)"
   ]
  },
  {
   "cell_type": "code",
   "execution_count": null,
   "id": "5485bb63-29bd-45ea-8779-6f4485701371",
   "metadata": {},
   "outputs": [],
   "source": [
    "result = model.fit(train_trace2,train_sbox_out,  # 波形データとラベルデータ\n",
    "                        batch_size=100,\n",
    "                        epochs=200,     # エポック数の指定\n",
    "                        validation_data=(test_trace2,test_sbox_out),\n",
    "                        callbacks=[CustomCallback(test_trace2, test_sbox_out, TARGET_BYTE, rank_save_dir)],\n",
    "                       verbose = 0\n",
    "                        )"
   ]
  },
  {
   "cell_type": "code",
   "execution_count": null,
   "id": "4fa84457-eb18-412b-8e79-6a09b6ce8354",
   "metadata": {},
   "outputs": [],
   "source": [
    "plt.figure()\n",
    "plt.plot(rank)\n",
    "plt.xlabel('wave')\n",
    "plt.ylabel('rank')\n",
    "plt.title('target_{}byte'.format(TARGET_BYTE))"
   ]
  },
  {
   "cell_type": "code",
   "execution_count": null,
   "id": "c197415e-40e7-446c-a224-d6444f4d517c",
   "metadata": {},
   "outputs": [],
   "source": [
    "plt.plot(result.history['accuracy'])\n",
    "plt.plot(result.history['val_accuracy'])"
   ]
  },
  {
   "cell_type": "code",
   "execution_count": null,
   "id": "ceb5ddde-4ce3-49eb-9a5e-7bd60bda13ea",
   "metadata": {},
   "outputs": [],
   "source": [
    "predicts = model.predict(attack_trace2)\n",
    "predicts = tf.nn.softmax(predicts)\n",
    "predicts.shape"
   ]
  },
  {
   "cell_type": "code",
   "execution_count": null,
   "id": "66f9c0ed-af0b-429c-91d0-eccba1411007",
   "metadata": {},
   "outputs": [],
   "source": [
    "attack_plain=attack_metadata['plaintext']"
   ]
  },
  {
   "cell_type": "code",
   "execution_count": null,
   "id": "1e0914ee-44a9-4e9b-a1f2-73cfd103cb56",
   "metadata": {},
   "outputs": [],
   "source": [
    "attack_sbox_in = []\n",
    "for estimated_key in range(256): #256通りの推定鍵だけ繰り返す。\n",
    "    attack_sbox_in.append(attack_plain^np.array([estimated_key]*16)) #平文と推定鍵のXORがSbox(SubBytes)入力\n",
    "attack_sbox_in = np.array(attack_sbox_in)\n",
    "attack_sbox_out = np.array([AES_Sbox[i] for i in attack_sbox_in])\n",
    "attack_sbox_out = attack_sbox_out[:,:,TARGET_BYTE]"
   ]
  },
  {
   "cell_type": "code",
   "execution_count": null,
   "id": "2cdf54fd-ed6a-49ce-862d-a56768d8ffec",
   "metadata": {},
   "outputs": [],
   "source": [
    "attack_sbox_out = attack_sbox_out[:,50000:] #全体の内, 最後の10000を攻撃に使用"
   ]
  },
  {
   "cell_type": "code",
   "execution_count": null,
   "id": "08a53e26-d296-4b38-b7de-0be1e0ce231a",
   "metadata": {},
   "outputs": [],
   "source": [
    "result2 = np.ones(256) /256\n",
    "rank = []\n",
    "attack_sbox_out = np.array(attack_sbox_out)\n",
    "pred = predicts.numpy()\n",
    "\n",
    "for i in range(len(predicts)):\n",
    "    result2 *= pred[i, attack_sbox_out[:, i]]\n",
    "    result2 = result2 /np.sum(result2)\n",
    "    rank.append(list(np.argsort(result2)[::-1]).index(attack_key[0][TARGET_BYTE])+1)\n",
    "    "
   ]
  },
  {
   "cell_type": "code",
   "execution_count": null,
   "id": "5e64b04f-b211-4998-b7f2-f6384b0888f9",
   "metadata": {},
   "outputs": [],
   "source": [
    "rank_lim = rank[0:10000]\n",
    "plt.figure()\n",
    "plt.plot(rank_lim)\n",
    "plt.xlabel('wave')\n",
    "plt.ylabel('rank')\n",
    "plt.title('target_{}byte'.format(TARGET_BYTE))"
   ]
  }
 ],
 "metadata": {
  "kernelspec": {
   "display_name": "Python 3 (ipykernel)",
   "language": "python",
   "name": "python3"
  },
  "language_info": {
   "codemirror_mode": {
    "name": "ipython",
    "version": 3
   },
   "file_extension": ".py",
   "mimetype": "text/x-python",
   "name": "python",
   "nbconvert_exporter": "python",
   "pygments_lexer": "ipython3",
   "version": "3.8.10"
  }
 },
 "nbformat": 4,
 "nbformat_minor": 5
}
